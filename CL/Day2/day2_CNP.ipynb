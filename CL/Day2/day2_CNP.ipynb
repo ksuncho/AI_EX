{
 "cells": [
  {
   "cell_type": "code",
   "execution_count": 1,
   "metadata": {},
   "outputs": [],
   "source": [
    "%load_ext autoreload\n",
    "%autoreload 2"
   ]
  },
  {
   "cell_type": "code",
   "execution_count": 2,
   "metadata": {},
   "outputs": [],
   "source": [
    "import  torch, os\n",
    "from    torch import nn\n",
    "from    torch import optim\n",
    "import  numpy as np\n",
    "import data_handler\n",
    "import trainer\n",
    "from trainer.cnp import CNP_Trainer\n",
    "import networks\n",
    "from copy import deepcopy\n",
    "\n",
    "# Setting random seeds\n",
    "torch.manual_seed(0)\n",
    "torch.cuda.manual_seed_all(0)\n",
    "np.random.seed(0)\n",
    "\n",
    "# Setting training configuration\n",
    "args = {}\n",
    "args['dataset'] = 'sine'\n",
    "args['inner_lr'] = 0.01 # We don't use inner_lr in CNP\n",
    "args['meta_lr'] = 0.001\n",
    "args['n_way'] = 1 # number of classes or outputs. In sinewave case, n_way is 1\n",
    "args['k_spt'] = 10 # number of training samples\n",
    "args['k_qry'] = 10 # number of test samples\n",
    "args['device'] = torch.device('cpu')\n",
    "args['tasknum'] = 50\n",
    "args['epochs'] = 5000\n",
    "#### IMPORTANT####\n",
    "args['inner_steps'] = 1 # We don't use inner_steps in CNP"
   ]
  },
  {
   "cell_type": "markdown",
   "metadata": {},
   "source": [
    "# Dataset (Sine-wave)"
   ]
  },
  {
   "cell_type": "code",
   "execution_count": 3,
   "metadata": {},
   "outputs": [],
   "source": [
    "dataloader = data_handler.get_dataset(args)"
   ]
  },
  {
   "cell_type": "markdown",
   "metadata": {},
   "source": [
    "# CNP encoder-decoder network"
   ]
  },
  {
   "cell_type": "code",
   "execution_count": 52,
   "metadata": {},
   "outputs": [],
   "source": [
    "class EncoderDecoder(nn.Module):\n",
    "    def __init__(self, ninput=1, noutput=1):\n",
    "        super(EncoderDecoder, self).__init__()\n",
    "        \n",
    "        ##########################################################################################\n",
    "        \n",
    "        # Write your code here\n",
    "        ntotal = ninput + noutput # ntotla=2\n",
    "\n",
    "        self.fc_enc_1 = nn.Linear(ntotal, 128)\n",
    "        self.fc_enc_2 = nn.Linear(128, 128)\n",
    "        self.fc_enc_3 = nn.Linear(128, 128)\n",
    "        self.fc_enc_4 = nn.Linear(128, 128)\n",
    "\n",
    "        self.fc_dec_1 = nn.Linear(128+ninput, 128)\n",
    "        self.fc_dec_2 = nn.Linear(128, 128)\n",
    "        self.fc_dec_3 = nn.Linear(128, noutput)\n",
    "\n",
    "        self.relu = nn.ReLU()\n",
    "        ##########################################################################################\n",
    "        \n",
    "        \n",
    "        \n",
    "    def forward(self, x_spt, y_spt, x_qry):\n",
    "        \"\"\"\n",
    "        :param x_spt: [tasknum, num_spt, 1]\n",
    "        :param y_spt: [tasknum, num_spt, 1]\n",
    "        :param x_qry: [tasknum, num_qry, 1]\n",
    "        :return: output(encoder==False), representation(encoder==True)\n",
    "        \"\"\"\n",
    "        \n",
    "        ##########################################################################################\n",
    "        \n",
    "        # Write your code here\n",
    "        input = torch.concat((x_spt, y_spt), dim=-1)\n",
    "        out = self.relu(self.fc_enc_1(input))\n",
    "        out = self.relu(self.fc_enc_2(out))\n",
    "        out = self.relu(self.fc_enc_3(out))\n",
    "        out = self.fc_enc_4(out)\n",
    "\n",
    "        representation = out.mean(dim=1, keepdim=True)\n",
    "\n",
    "        num_qry = x_qry.size()[1]\n",
    "        tasksum, _, dim = representation.size()\n",
    "        representation = representation.expand(tasksum, num_qry, dim)\n",
    "\n",
    "        input = torch.cat((x_qry, representation), dim=-1)\n",
    "        out = self.relu(self.fc_dec_1(input))\n",
    "        out = self.relu(self.fc_dec_2(out))\n",
    "        out = self.fc_dec_3(out)\n",
    "\n",
    "        return out\n",
    "        ##########################################################################################\n",
    "        \n",
    "        \n"
   ]
  },
  {
   "cell_type": "code",
   "execution_count": 53,
   "metadata": {},
   "outputs": [],
   "source": [
    "# Initialize network\n",
    "myModel = EncoderDecoder(1,1).to(args['device'])"
   ]
  },
  {
   "cell_type": "markdown",
   "metadata": {},
   "source": [
    "# Train CNP"
   ]
  },
  {
   "cell_type": "code",
   "execution_count": 54,
   "metadata": {},
   "outputs": [
    {
     "name": "stdout",
     "output_type": "stream",
     "text": [
      "step: 0 \ttraining loss: [3.6413280963897705]\n",
      "Test loss: [4.22]\n",
      "step: 50 \ttraining loss: [3.313624620437622]\n",
      "step: 100 \ttraining loss: [2.1759297847747803]\n",
      "step: 150 \ttraining loss: [0.702741801738739]\n",
      "step: 200 \ttraining loss: [0.8347388505935669]\n",
      "step: 250 \ttraining loss: [0.6952389478683472]\n",
      "step: 300 \ttraining loss: [0.5623589158058167]\n",
      "step: 350 \ttraining loss: [0.43699273467063904]\n",
      "step: 400 \ttraining loss: [0.4333374500274658]\n",
      "step: 450 \ttraining loss: [0.44833073019981384]\n",
      "step: 500 \ttraining loss: [0.42888879776000977]\n",
      "Test loss: [0.3657]\n",
      "step: 550 \ttraining loss: [0.2586631774902344]\n",
      "step: 600 \ttraining loss: [0.31789183616638184]\n",
      "step: 650 \ttraining loss: [0.27794149518013]\n",
      "step: 700 \ttraining loss: [0.24103181064128876]\n",
      "step: 750 \ttraining loss: [0.27495038509368896]\n",
      "step: 800 \ttraining loss: [0.23126238584518433]\n",
      "step: 850 \ttraining loss: [0.2611790597438812]\n",
      "step: 900 \ttraining loss: [0.2454393357038498]\n",
      "step: 950 \ttraining loss: [0.19738255441188812]\n",
      "step: 1000 \ttraining loss: [0.20654183626174927]\n",
      "Test loss: [0.253]\n",
      "step: 1050 \ttraining loss: [0.36485397815704346]\n",
      "step: 1100 \ttraining loss: [0.2354966700077057]\n",
      "step: 1150 \ttraining loss: [0.21876099705696106]\n",
      "step: 1200 \ttraining loss: [0.3270803689956665]\n",
      "step: 1250 \ttraining loss: [0.2290627807378769]\n",
      "step: 1300 \ttraining loss: [0.2858636677265167]\n",
      "step: 1350 \ttraining loss: [0.26024970412254333]\n",
      "step: 1400 \ttraining loss: [0.20133157074451447]\n",
      "step: 1450 \ttraining loss: [0.21337653696537018]\n",
      "step: 1500 \ttraining loss: [0.18458347022533417]\n",
      "Test loss: [0.1685]\n",
      "step: 1550 \ttraining loss: [0.22180050611495972]\n",
      "step: 1600 \ttraining loss: [0.18228919804096222]\n",
      "step: 1650 \ttraining loss: [0.1381685882806778]\n",
      "step: 1700 \ttraining loss: [0.23319111764431]\n",
      "step: 1750 \ttraining loss: [0.1263994574546814]\n",
      "step: 1800 \ttraining loss: [0.13181249797344208]\n",
      "step: 1850 \ttraining loss: [0.1333884447813034]\n",
      "step: 1900 \ttraining loss: [0.17042338848114014]\n",
      "step: 1950 \ttraining loss: [0.1235911175608635]\n",
      "step: 2000 \ttraining loss: [0.1493462473154068]\n",
      "Test loss: [0.1309]\n",
      "step: 2050 \ttraining loss: [0.16655601561069489]\n",
      "step: 2100 \ttraining loss: [0.11342216283082962]\n",
      "step: 2150 \ttraining loss: [0.10787060856819153]\n",
      "step: 2200 \ttraining loss: [0.10262830555438995]\n",
      "step: 2250 \ttraining loss: [0.09438348561525345]\n",
      "step: 2300 \ttraining loss: [0.1139836385846138]\n",
      "step: 2350 \ttraining loss: [0.13096781075000763]\n",
      "step: 2400 \ttraining loss: [0.14538513123989105]\n",
      "step: 2450 \ttraining loss: [0.10120294243097305]\n",
      "step: 2500 \ttraining loss: [0.12725670635700226]\n",
      "Test loss: [0.1064]\n",
      "step: 2550 \ttraining loss: [0.12784576416015625]\n",
      "step: 2600 \ttraining loss: [0.08646286278963089]\n",
      "step: 2650 \ttraining loss: [0.12233438342809677]\n",
      "step: 2700 \ttraining loss: [0.09732521325349808]\n",
      "step: 2750 \ttraining loss: [0.09202556312084198]\n",
      "step: 2800 \ttraining loss: [0.07628564536571503]\n",
      "step: 2850 \ttraining loss: [0.067398801445961]\n",
      "step: 2900 \ttraining loss: [0.08405721932649612]\n",
      "step: 2950 \ttraining loss: [0.08524205535650253]\n",
      "step: 3000 \ttraining loss: [0.062352728098630905]\n",
      "Test loss: [0.0815]\n",
      "step: 3050 \ttraining loss: [0.06644181907176971]\n",
      "step: 3100 \ttraining loss: [0.08830437809228897]\n",
      "step: 3150 \ttraining loss: [0.0675506666302681]\n",
      "step: 3200 \ttraining loss: [0.11565642803907394]\n",
      "step: 3250 \ttraining loss: [0.060715485364198685]\n",
      "step: 3300 \ttraining loss: [0.08366326987743378]\n",
      "step: 3350 \ttraining loss: [0.06486812233924866]\n",
      "step: 3400 \ttraining loss: [0.051360223442316055]\n",
      "step: 3450 \ttraining loss: [0.1148054227232933]\n",
      "step: 3500 \ttraining loss: [0.09860058128833771]\n",
      "Test loss: [0.0721]\n",
      "step: 3550 \ttraining loss: [0.05596526339650154]\n",
      "step: 3600 \ttraining loss: [0.054803911596536636]\n",
      "step: 3650 \ttraining loss: [0.063809834420681]\n",
      "step: 3700 \ttraining loss: [0.059211596846580505]\n",
      "step: 3750 \ttraining loss: [0.05066964030265808]\n",
      "step: 3800 \ttraining loss: [0.056025367230176926]\n",
      "step: 3850 \ttraining loss: [0.046658121049404144]\n",
      "step: 3900 \ttraining loss: [0.05362281948328018]\n",
      "step: 3950 \ttraining loss: [0.05723277106881142]\n",
      "step: 4000 \ttraining loss: [0.060982596129179]\n",
      "Test loss: [0.05582]\n",
      "step: 4050 \ttraining loss: [0.05539507418870926]\n",
      "step: 4100 \ttraining loss: [0.04998710751533508]\n",
      "step: 4150 \ttraining loss: [0.12780286371707916]\n",
      "step: 4200 \ttraining loss: [0.041167113929986954]\n",
      "step: 4250 \ttraining loss: [0.05134556442499161]\n",
      "step: 4300 \ttraining loss: [0.04433875158429146]\n",
      "step: 4350 \ttraining loss: [0.04577568545937538]\n",
      "step: 4400 \ttraining loss: [0.045740921050310135]\n",
      "step: 4450 \ttraining loss: [0.04433361813426018]\n",
      "step: 4500 \ttraining loss: [0.04260171949863434]\n",
      "Test loss: [0.05582]\n",
      "step: 4550 \ttraining loss: [0.05287495255470276]\n",
      "step: 4600 \ttraining loss: [0.11694391071796417]\n",
      "step: 4650 \ttraining loss: [0.05349059775471687]\n",
      "step: 4700 \ttraining loss: [0.09370765835046768]\n",
      "step: 4750 \ttraining loss: [0.041944023221731186]\n",
      "step: 4800 \ttraining loss: [0.040561433881521225]\n",
      "step: 4850 \ttraining loss: [0.05550195649266243]\n",
      "step: 4900 \ttraining loss: [0.04906759783625603]\n",
      "step: 4950 \ttraining loss: [0.036566197872161865]\n"
     ]
    }
   ],
   "source": [
    "CNP = CNP_Trainer(myModel, args)\n",
    "CNP.train(dataloader, args['epochs'])"
   ]
  },
  {
   "cell_type": "markdown",
   "metadata": {},
   "source": [
    "# Evaluate the performance\n",
    "## 1. Plot ground truth function & support set"
   ]
  },
  {
   "cell_type": "code",
   "execution_count": 55,
   "metadata": {},
   "outputs": [
    {
     "data": {
      "text/plain": [
       "<matplotlib.legend.Legend at 0x18fc025d8e0>"
      ]
     },
     "execution_count": 55,
     "metadata": {},
     "output_type": "execute_result"
    },
    {
     "data": {
      "image/png": "[encoded data removed]",
      "text/plain": [
       "<Figure size 432x288 with 1 Axes>"
      ]
     },
     "metadata": {
      "needs_background": "light"
     },
     "output_type": "display_data"
    }
   ],
   "source": [
    "%matplotlib inline\n",
    "import matplotlib.pyplot as plt\n",
    "\n",
    "amplitude = np.random.uniform(0.1, 5)\n",
    "phase = np.random.uniform(0, np.pi)\n",
    "\n",
    "x = np.arange(1000) / 1000 * (10) - 5\n",
    "y = np.sin(x + phase) * amplitude\n",
    "\n",
    "x_qry = np.random.rand(10) * 10 - 5\n",
    "y_qry = np.sin(x_qry + phase) * amplitude\n",
    "\n",
    "plt.plot(x, y, color='red', linestyle='-', label='Ground truth', linewidth=1)\n",
    "plt.scatter(x_qry, y_qry, color='purple', linestyle='-', label='Training data', linewidth=3, marker = '*')\n",
    "\n",
    "plt.legend()"
   ]
  },
  {
   "cell_type": "markdown",
   "metadata": {},
   "source": [
    "## 2. Plot adapted function"
   ]
  },
  {
   "cell_type": "code",
   "execution_count": 56,
   "metadata": {},
   "outputs": [
    {
     "data": {
      "text/plain": [
       "<matplotlib.legend.Legend at 0x18fb9f3b4c0>"
      ]
     },
     "execution_count": 56,
     "metadata": {},
     "output_type": "execute_result"
    },
    {
     "data": {
      "image/png": "[encoded data removed]",
      "text/plain": [
       "<Figure size 432x288 with 1 Axes>"
      ]
     },
     "metadata": {
      "needs_background": "light"
     },
     "output_type": "display_data"
    }
   ],
   "source": [
    "x_reshape = np.array(x).astype(np.float32).reshape(1, 1000, 1)\n",
    "y_reshape = np.array(y).astype(np.float32).reshape(1, 1000, 1)\n",
    "\n",
    "x_tensor = torch.from_numpy(x_reshape).to(args['device'])\n",
    "y_tensor = torch.from_numpy(y_reshape).to(args['device'])\n",
    "\n",
    "x_qry_reshape = np.array(x_qry).astype(np.float32).reshape(1, 10, 1)\n",
    "y_qry_reshape = np.array(y_qry).astype(np.float32).reshape(1, 10, 1)\n",
    "\n",
    "x_qry_tensor = torch.from_numpy(x_qry_reshape).to(args['device'])\n",
    "y_qry_tensor = torch.from_numpy(y_qry_reshape).to(args['device'])\n",
    "\n",
    "# Fast adaptation\n",
    "y_pred_after = myModel(x_qry_tensor, y_qry_tensor, x_tensor).squeeze()\n",
    "\n",
    "plt.plot(x, y, color='red', linestyle='-', label='Ground truth', linewidth=1)\n",
    "plt.scatter(x_qry, y_qry, color='purple', linestyle='-', label='Training data', linewidth=3, marker = '*')\n",
    "plt.plot(x, y_pred_after.detach().cpu().numpy(), color='blue', linestyle='-.', label='CNP', linewidth=1)\n",
    "\n",
    "plt.legend()"
   ]
  }
 ],
 "metadata": {
  "kernelspec": {
   "display_name": "Python 3.8.10 64-bit",
   "language": "python",
   "name": "python3"
  },
  "language_info": {
   "codemirror_mode": {
    "name": "ipython",
    "version": 3
   },
   "file_extension": ".py",
   "mimetype": "text/x-python",
   "name": "python",
   "nbconvert_exporter": "python",
   "pygments_lexer": "ipython3",
   "version": "3.8.10"
  },
  "vscode": {
   "interpreter": {
    "hash": "bf789d3fe2e48003609d2b27099c8c5750f1d9c6ed54a4f20100144dcd5707b9"
   }
  }
 },
 "nbformat": 4,
 "nbformat_minor": 4
}
