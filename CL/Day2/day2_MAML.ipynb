{
 "cells": [
  {
   "cell_type": "code",
   "execution_count": 1,
   "metadata": {},
   "outputs": [],
   "source": [
    "%load_ext autoreload\n",
    "%autoreload 2"
   ]
  },
  {
   "cell_type": "code",
   "execution_count": 2,
   "metadata": {},
   "outputs": [],
   "source": [
    "import  torch, os\n",
    "from    torch import nn\n",
    "from    torch import optim\n",
    "import  numpy as np\n",
    "import data_handler\n",
    "from trainer.trainer_factory import GenericTrainer\n",
    "import networks\n",
    "from copy import deepcopy\n",
    "\n",
    "# Setting random seeds\n",
    "torch.manual_seed(0)\n",
    "torch.cuda.manual_seed_all(0)\n",
    "np.random.seed(0)\n",
    "\n",
    "# Setting training configuration\n",
    "args = {}\n",
    "args['dataset'] = 'sine'\n",
    "args['inner_lr'] = 0.001\n",
    "args['meta_lr'] = 0.001\n",
    "args['n_way'] = 1 # number of classes or outputs. In sinewave case, n_way is 1\n",
    "args['k_spt'] = 10 # number of training samples\n",
    "args['k_qry'] = 10 # number of test samples\n",
    "args['device'] = torch.device('cpu')\n",
    "args['tasknum'] = 50\n",
    "args['epochs'] = 5000\n",
    "# We don't use args['inner_steps']\n",
    "args['inner_steps'] = 1 # number of steps in inner loop. We only consider this as 1"
   ]
  },
  {
   "cell_type": "markdown",
   "metadata": {},
   "source": [
    "# Dataset (Sine-wave)"
   ]
  },
  {
   "cell_type": "code",
   "execution_count": 3,
   "metadata": {},
   "outputs": [],
   "source": [
    "dataloader = data_handler.get_dataset(args)"
   ]
  },
  {
   "cell_type": "markdown",
   "metadata": {},
   "source": [
    "# Model"
   ]
  },
  {
   "cell_type": "code",
   "execution_count": 4,
   "metadata": {},
   "outputs": [
    {
     "name": "stderr",
     "output_type": "stream",
     "text": [
      "c:\\Users\\AI_15\\momo\\python_prj\\2022_AI_Expert\\CL\\Day2\\Day2\\networks\\optimization_based.py:24: SyntaxWarning: \"is\" with a literal. Did you mean \"==\"?\n",
      "  if name is 'linear':\n",
      "c:\\Users\\AI_15\\momo\\python_prj\\2022_AI_Expert\\CL\\Day2\\Day2\\networks\\optimization_based.py:43: SyntaxWarning: \"is\" with a literal. Did you mean \"==\"?\n",
      "  if name is 'linear':\n",
      "c:\\Users\\AI_15\\momo\\python_prj\\2022_AI_Expert\\CL\\Day2\\Day2\\networks\\optimization_based.py:70: SyntaxWarning: \"is\" with a literal. Did you mean \"==\"?\n",
      "  if name is 'linear':\n",
      "c:\\Users\\AI_15\\momo\\python_prj\\2022_AI_Expert\\CL\\Day2\\Day2\\networks\\optimization_based.py:75: SyntaxWarning: \"is\" with a literal. Did you mean \"==\"?\n",
      "  elif name is 'relu':\n"
     ]
    }
   ],
   "source": [
    "# Initialize network\n",
    "myModel = networks.ModelFactory.get_model('maml', args['n_way']).to(args['device'])"
   ]
  },
  {
   "cell_type": "markdown",
   "metadata": {},
   "source": [
    "# MAML"
   ]
  },
  {
   "cell_type": "code",
   "execution_count": 5,
   "metadata": {},
   "outputs": [],
   "source": [
    "class MAML_Trainer(GenericTrainer):\n",
    "    \"\"\"\n",
    "    Meta Learner\n",
    "    \"\"\"\n",
    "    def __init__(self, model, args):\n",
    "        \"\"\"\n",
    "        :param args:\n",
    "        \"\"\"\n",
    "        super(MAML_Trainer, self).__init__(model, args)\n",
    "\n",
    "        self.meta_optim = optim.Adam(self.net.parameters(), lr=args['meta_lr'])\n",
    "        self.loss = nn.MSELoss()\n",
    "    \n",
    "    def inner_loop(self, x_spt, y_spt, model, alpha):\n",
    "        # the inner_step is 1. Therefore, you don't have to use for loops for the inner-loop\n",
    "        \n",
    "        ##########################################################################################\n",
    "        \n",
    "        # Write your code here\n",
    "        \n",
    "        logit = model(x_spt)\n",
    "        loss = self.loss(logit, y_spt)\n",
    "        # Compute gradient\n",
    "        grad = torch.autograd.grad(loss, model.parameters(), create_graph=True, retain_graph=True)\n",
    "        # Gradient descent on 0\n",
    "        # simple way\n",
    "        fast_weights = list(map(lambda p: p[1] - alpha * p[0], zip(grad, model.parameters())))\n",
    "        return fast_weights\n",
    "        # 2nd way\n",
    "        '''\n",
    "        fast_weights = []\n",
    "        for grad, p in zip(grad, model.parameters()):\n",
    "            fast_weights.append(p - alpha * grad)\n",
    "        retrun fast_weights\n",
    "        '''\n",
    "        ##########################################################################################\n",
    "        \n",
    "    \n",
    "    def Meta_Train(self, x_spt, y_spt, x_qry, y_qry, train=True):\n",
    "        \"\"\"\n",
    "        :param x_spt:   [tasknum, setsz, 1]\n",
    "         - Training input data\n",
    "        :param y_spt:   [tasknum, setsz, 1]\n",
    "         - Training target data\n",
    "        :param x_qry:   [tasknum, querysz, 1]\n",
    "         - Test input data\n",
    "        :param y_qry:   [tasknum, querysz, 1]\n",
    "         - Test target data\n",
    "        :return: 'losses_q' (a list)\n",
    "        \"\"\"\n",
    "        \n",
    "        tasknum = x_qry.size(0)\n",
    "        losses_q = [0 for _ in range(self.inner_step + 1)]\n",
    "        \n",
    "        # results for meta-training\n",
    "        # Sine wave: MSE loss for all tasks\n",
    "        # In a list 'losses_q', it should contain MSE loss computed using pre and post updated parameters\n",
    "        # The components in 'losses_q' are as follows:\n",
    "        # losses_q[0]: results for pre-update model\n",
    "        # losses_q[1]: results for post-update model\n",
    "        \n",
    "        for i in range(tasknum):\n",
    "            # 1. Compute loss using initial parameter\n",
    "            \n",
    "            logits_q = self.net(x_qry[i], vars=None)\n",
    "            loss_q = self.loss(logits_q, y_qry[i])\n",
    "            losses_q[0] += loss_q\n",
    "            \n",
    "            # Inner-loop\n",
    "            fast_weights = self.inner_loop(x_spt[i], y_spt[i], self.net, self.inner_lr)\n",
    "            \n",
    "            # 2. Compute loss using adapted parameter\n",
    "            logits_q = self.net(x_qry[i], fast_weights)\n",
    "            loss_q = self.loss(logits_q, y_qry[i])\n",
    "            losses_q[1] += loss_q\n",
    "        \n",
    "        \n",
    "        \n",
    "        if train:\n",
    "            # Outer-loop\n",
    "            \n",
    "            ##########################################################################################\n",
    "        \n",
    "            # Write your code here\n",
    "\n",
    "            loss_q = losses_q[-1]\n",
    "            self.meta_optim.zero_grad()\n",
    "            loss_q.backward()\n",
    "            self.meta_optim.step() #theta update\n",
    "\n",
    "            ##########################################################################################\n",
    "        \n",
    "        losses_q = np.array([loss.item() for loss in losses_q])\n",
    "        return losses_q / tasknum\n"
   ]
  },
  {
   "cell_type": "markdown",
   "metadata": {},
   "source": [
    "# Train MAML"
   ]
  },
  {
   "cell_type": "code",
   "execution_count": 6,
   "metadata": {},
   "outputs": [
    {
     "name": "stdout",
     "output_type": "stream",
     "text": [
      "step: 0 \ttraining loss: [8.90975891 5.36615784]\n",
      "Test loss: [8.44 4.76]\n",
      "step: 50 \ttraining loss: [4.33448486 4.22524933]\n",
      "step: 100 \ttraining loss: [3.18619446 3.16318848]\n",
      "step: 150 \ttraining loss: [4.01066681 3.85922943]\n",
      "step: 200 \ttraining loss: [4.05742462 3.66310883]\n",
      "step: 250 \ttraining loss: [3.92084473 3.83348846]\n",
      "step: 300 \ttraining loss: [3.755896   3.41664093]\n",
      "step: 350 \ttraining loss: [3.4031601  3.03974548]\n",
      "step: 400 \ttraining loss: [3.31888641 2.92276917]\n",
      "step: 450 \ttraining loss: [2.89392853 2.57187897]\n",
      "step: 500 \ttraining loss: [3.3452774  3.09833038]\n",
      "Test loss: [3.238 2.912]\n",
      "step: 550 \ttraining loss: [3.46914581 3.02768616]\n",
      "step: 600 \ttraining loss: [3.80841064 3.39065399]\n",
      "step: 650 \ttraining loss: [2.97076691 2.554823  ]\n",
      "step: 700 \ttraining loss: [3.59206299 3.04393433]\n",
      "step: 750 \ttraining loss: [3.05342072 2.58625   ]\n",
      "step: 800 \ttraining loss: [3.0978006  2.23180832]\n",
      "step: 850 \ttraining loss: [3.46828552 2.53796814]\n",
      "step: 900 \ttraining loss: [3.35657867 2.35875504]\n",
      "step: 950 \ttraining loss: [3.79114288 2.61259735]\n",
      "step: 1000 \ttraining loss: [3.45092407 2.64397766]\n",
      "Test loss: [3.148 2.17 ]\n",
      "step: 1050 \ttraining loss: [3.48993713 2.00019974]\n",
      "step: 1100 \ttraining loss: [2.44502411 1.55709244]\n",
      "step: 1150 \ttraining loss: [3.27730743 1.83309341]\n",
      "step: 1200 \ttraining loss: [3.8150354  2.26480606]\n",
      "step: 1250 \ttraining loss: [2.80642975 1.69394043]\n",
      "step: 1300 \ttraining loss: [3.12241058 1.89144302]\n",
      "step: 1350 \ttraining loss: [3.83203247 1.87853226]\n",
      "step: 1400 \ttraining loss: [2.45530243 1.42232147]\n",
      "step: 1450 \ttraining loss: [3.36284607 1.81419556]\n",
      "step: 1500 \ttraining loss: [3.34718689 1.67235245]\n",
      "Test loss: [3.053 1.497]\n",
      "step: 1550 \ttraining loss: [3.16274414 1.70687851]\n",
      "step: 1600 \ttraining loss: [2.88564667 1.44086426]\n",
      "step: 1650 \ttraining loss: [3.00362396 1.38921753]\n",
      "step: 1700 \ttraining loss: [3.94488647 1.57484619]\n",
      "step: 1750 \ttraining loss: [3.50510803 1.36946976]\n",
      "step: 1800 \ttraining loss: [3.845271   1.35073914]\n",
      "step: 1850 \ttraining loss: [3.18461426 1.22600891]\n",
      "step: 1900 \ttraining loss: [2.76069519 1.03756859]\n",
      "step: 1950 \ttraining loss: [3.41452728 1.31982529]\n",
      "step: 2000 \ttraining loss: [3.800354   1.11852089]\n",
      "Test loss: [3.111 1.167]\n",
      "step: 2050 \ttraining loss: [3.6751651  1.08203171]\n",
      "step: 2100 \ttraining loss: [2.87431641 1.0738488 ]\n",
      "step: 2150 \ttraining loss: [2.91126068 0.87721985]\n",
      "step: 2200 \ttraining loss: [3.34770294 1.08937469]\n",
      "step: 2250 \ttraining loss: [3.20686005 0.82554642]\n",
      "step: 2300 \ttraining loss: [3.24783752 1.02817688]\n",
      "step: 2350 \ttraining loss: [2.86495758 1.05742432]\n",
      "step: 2400 \ttraining loss: [2.68065887 0.70506409]\n",
      "step: 2450 \ttraining loss: [2.34898102 0.77867752]\n",
      "step: 2500 \ttraining loss: [2.90340942 0.83301292]\n",
      "Test loss: [2.99  0.964]\n",
      "step: 2550 \ttraining loss: [3.11289124 1.09484528]\n",
      "step: 2600 \ttraining loss: [3.04116241 0.7443219 ]\n",
      "step: 2650 \ttraining loss: [2.48863281 0.87540787]\n",
      "step: 2700 \ttraining loss: [3.19317444 0.91141533]\n",
      "step: 2750 \ttraining loss: [2.66946869 0.55720486]\n",
      "step: 2800 \ttraining loss: [3.97371094 1.04779793]\n",
      "step: 2850 \ttraining loss: [3.10459808 0.82915543]\n",
      "step: 2900 \ttraining loss: [2.99057465 0.8862027 ]\n",
      "step: 2950 \ttraining loss: [2.74133392 0.70308853]\n",
      "step: 3000 \ttraining loss: [3.08062347 0.92036766]\n",
      "Test loss: [3.115 0.885]\n",
      "step: 3050 \ttraining loss: [2.40683716 0.72006416]\n",
      "step: 3100 \ttraining loss: [2.66993347 1.00347137]\n",
      "step: 3150 \ttraining loss: [3.09160431 0.80996826]\n",
      "step: 3200 \ttraining loss: [3.27477661 0.85359711]\n",
      "step: 3250 \ttraining loss: [2.36055603 0.710513  ]\n",
      "step: 3300 \ttraining loss: [3.49252899 0.90206017]\n",
      "step: 3350 \ttraining loss: [3.71805359 1.07127464]\n",
      "step: 3400 \ttraining loss: [2.86019836 0.63845528]\n",
      "step: 3450 \ttraining loss: [2.80328125 0.99184685]\n",
      "step: 3500 \ttraining loss: [3.06179504 0.82634636]\n",
      "Test loss: [3.156 0.852]\n",
      "step: 3550 \ttraining loss: [2.93623077 0.76543922]\n",
      "step: 3600 \ttraining loss: [2.67174713 0.6616333 ]\n",
      "step: 3650 \ttraining loss: [2.96891052 0.85585587]\n",
      "step: 3700 \ttraining loss: [3.64111389 0.80194817]\n",
      "step: 3750 \ttraining loss: [2.76376801 0.85592751]\n",
      "step: 3800 \ttraining loss: [3.19300201 0.7900248 ]\n",
      "step: 3850 \ttraining loss: [2.84553955 0.955756  ]\n",
      "step: 3900 \ttraining loss: [2.29424362 0.67066452]\n",
      "step: 3950 \ttraining loss: [2.55225845 0.80562408]\n",
      "step: 4000 \ttraining loss: [3.21984619 0.76681541]\n",
      "Test loss: [3.264 0.85 ]\n",
      "step: 4050 \ttraining loss: [2.03736343 0.63685051]\n",
      "step: 4100 \ttraining loss: [3.82831573 0.7611116 ]\n",
      "step: 4150 \ttraining loss: [2.44433014 0.83598442]\n",
      "step: 4200 \ttraining loss: [2.18514938 0.70486526]\n",
      "step: 4250 \ttraining loss: [2.7582135  0.67594666]\n",
      "step: 4300 \ttraining loss: [2.55420105 0.72030388]\n",
      "step: 4350 \ttraining loss: [3.13257507 0.84004402]\n",
      "step: 4400 \ttraining loss: [3.19519928 1.03015297]\n",
      "step: 4450 \ttraining loss: [3.28836792 0.91753609]\n",
      "step: 4500 \ttraining loss: [3.35127106 0.88226112]\n",
      "Test loss: [3.076 0.765]\n",
      "step: 4550 \ttraining loss: [2.86941833 0.60253517]\n",
      "step: 4600 \ttraining loss: [3.28639618 0.80053986]\n",
      "step: 4650 \ttraining loss: [2.53228882 0.64984634]\n",
      "step: 4700 \ttraining loss: [2.55260925 0.82996048]\n",
      "step: 4750 \ttraining loss: [2.81379089 0.74784363]\n",
      "step: 4800 \ttraining loss: [3.20912231 0.8309816 ]\n",
      "step: 4850 \ttraining loss: [3.27293701 0.78982178]\n",
      "step: 4900 \ttraining loss: [2.68482941 0.64261147]\n",
      "step: 4950 \ttraining loss: [3.00388367 0.72743752]\n"
     ]
    }
   ],
   "source": [
    "MAML = MAML_Trainer(myModel, args)\n",
    "MAML.train(dataloader, args['epochs'])"
   ]
  },
  {
   "cell_type": "markdown",
   "metadata": {},
   "source": [
    "# Evaluate the performance\n",
    "## 1. Plot ground truth function & support set"
   ]
  },
  {
   "cell_type": "code",
   "execution_count": 7,
   "metadata": {},
   "outputs": [
    {
     "data": {
      "text/plain": [
       "<matplotlib.legend.Legend at 0x1c8d2158580>"
      ]
     },
     "execution_count": 7,
     "metadata": {},
     "output_type": "execute_result"
    },
    {
     "data": {
      "image/png": "[encoded data removed]",
      "text/plain": [
       "<Figure size 432x288 with 1 Axes>"
      ]
     },
     "metadata": {
      "needs_background": "light"
     },
     "output_type": "display_data"
    }
   ],
   "source": [
    "%matplotlib inline\n",
    "import matplotlib.pyplot as plt\n",
    "\n",
    "amplitude = np.random.uniform(0.1, 5)\n",
    "phase = np.random.uniform(0, np.pi)\n",
    "\n",
    "x = np.arange(1000) / 1000 * (10) - 5\n",
    "y = np.sin(x + phase) * amplitude\n",
    "\n",
    "x_qry = np.random.rand(10) * 10 - 5\n",
    "y_qry = np.sin(x_qry + phase) * amplitude\n",
    "\n",
    "plt.plot(x, y, color='red', linestyle='-', label='Ground truth', linewidth=1)\n",
    "plt.scatter(x_qry, y_qry, color='purple', linestyle='-', label='Training data', linewidth=3, marker = '*')\n",
    "\n",
    "plt.legend()"
   ]
  },
  {
   "cell_type": "markdown",
   "metadata": {},
   "source": [
    "# Load pre-trained MAML model for visualization\n",
    "### If you already finished training a model, you can skip this step"
   ]
  },
  {
   "cell_type": "code",
   "execution_count": 8,
   "metadata": {},
   "outputs": [],
   "source": [
    "myModel_answer = networks.ModelFactory.get_model('maml', args['n_way']).to(args['device'])\n",
    "myModel_answer_state_dict = torch.load('maml_sine_model.pt', map_location=torch.device(args['device']))\n",
    "\n",
    "for key1, key2 in zip(myModel_answer.state_dict().keys(), myModel_answer_state_dict.keys()):\n",
    "    \n",
    "    if myModel_answer.state_dict()[key1].shape == torch.tensor(1).shape:\n",
    "        myModel_answer.state_dict()[key1] = myModel_answer_state_dict[key2]\n",
    "    else:\n",
    "        myModel_answer.state_dict()[key1][:] = myModel_answer_state_dict[key2][:]"
   ]
  },
  {
   "cell_type": "markdown",
   "metadata": {},
   "source": [
    "## 2. Plot pre-update function"
   ]
  },
  {
   "cell_type": "code",
   "execution_count": 9,
   "metadata": {},
   "outputs": [
    {
     "data": {
      "text/plain": [
       "<matplotlib.legend.Legend at 0x1c8d20fbb20>"
      ]
     },
     "execution_count": 9,
     "metadata": {},
     "output_type": "execute_result"
    },
    {
     "data": {
      "image/png": "[encoded data removed]",
      "text/plain": [
       "<Figure size 432x288 with 1 Axes>"
      ]
     },
     "metadata": {
      "needs_background": "light"
     },
     "output_type": "display_data"
    }
   ],
   "source": [
    "x_reshape = np.array(x).astype(np.float32).reshape(1, 1000, 1)\n",
    "y_reshape = np.array(y).astype(np.float32).reshape(1, 1000, 1)\n",
    "\n",
    "x_tensor = torch.from_numpy(x_reshape).to(args['device'])\n",
    "y_tensor = torch.from_numpy(y_reshape).to(args['device'])\n",
    "\n",
    "# Before adaptation\n",
    "\n",
    "# Answer\n",
    "model = myModel_answer\n",
    "\n",
    "# A model that you trained\n",
    "# model = myModel\n",
    "\n",
    "y_pred = model(x_tensor).squeeze()\n",
    "\n",
    "plt.plot(x, y, color='red', linestyle='-', label='Ground truth', linewidth=1)\n",
    "plt.scatter(x_qry, y_qry, color='purple', linestyle='-', label='Training data', linewidth=3, marker = '*')\n",
    "plt.plot(x, y_pred.detach().numpy(), color='green', linestyle='-.', label='pre-update', linewidth=1)\n",
    "\n",
    "plt.legend()"
   ]
  },
  {
   "cell_type": "markdown",
   "metadata": {},
   "source": [
    "# 3. Plot post-update function"
   ]
  },
  {
   "cell_type": "code",
   "execution_count": 10,
   "metadata": {},
   "outputs": [
    {
     "data": {
      "text/plain": [
       "<matplotlib.legend.Legend at 0x1c8d431b8e0>"
      ]
     },
     "execution_count": 10,
     "metadata": {},
     "output_type": "execute_result"
    },
    {
     "data": {
      "image/png": "[encoded data removed]",
      "text/plain": [
       "<Figure size 432x288 with 1 Axes>"
      ]
     },
     "metadata": {
      "needs_background": "light"
     },
     "output_type": "display_data"
    }
   ],
   "source": [
    "x_qry_reshape = np.array(x_qry).astype(np.float32).reshape(1, 10, 1)\n",
    "y_qry_reshape = np.array(y_qry).astype(np.float32).reshape(1, 10, 1)\n",
    "\n",
    "x_qry_tensor = torch.from_numpy(x_qry_reshape).to(args['device'])\n",
    "y_qry_tensor = torch.from_numpy(y_qry_reshape).to(args['device'])\n",
    "\n",
    "# Fast adaptation\n",
    "\n",
    "# Answer\n",
    "model = myModel_answer\n",
    "\n",
    "# A model that you trained\n",
    "# model = myModel\n",
    "\n",
    "fast_weights = MAML.inner_loop(x_qry_tensor, y_qry_tensor, model, args['inner_lr'])\n",
    "y_pred_after = model(x_tensor, fast_weights).squeeze()\n",
    "\n",
    "plt.plot(x, y, color='red', linestyle='-', label='Ground truth', linewidth=1)\n",
    "plt.scatter(x_qry, y_qry, color='purple', linestyle='-', label='Training data', linewidth=3, marker = '*')\n",
    "plt.plot(x, y_pred.detach().numpy(), color='green', linestyle='-.', label='Pre-update', linewidth=1)\n",
    "plt.plot(x, y_pred_after.detach().numpy(), color='blue', linestyle='-.', label='Post-update', linewidth=1)\n",
    "\n",
    "plt.legend()"
   ]
  }
 ],
 "metadata": {
  "kernelspec": {
   "display_name": "Python 3.8.10 64-bit",
   "language": "python",
   "name": "python3"
  },
  "language_info": {
   "codemirror_mode": {
    "name": "ipython",
    "version": 3
   },
   "file_extension": ".py",
   "mimetype": "text/x-python",
   "name": "python",
   "nbconvert_exporter": "python",
   "pygments_lexer": "ipython3",
   "version": "3.8.10"
  },
  "vscode": {
   "interpreter": {
    "hash": "bf789d3fe2e48003609d2b27099c8c5750f1d9c6ed54a4f20100144dcd5707b9"
   }
  }
 },
 "nbformat": 4,
 "nbformat_minor": 4
}
