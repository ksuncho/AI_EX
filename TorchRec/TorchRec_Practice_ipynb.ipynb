{
  "cells": [
    {
      "cell_type": "markdown",
      "id": "3861c0fe-b808-4b0c-81c2-0083f65cc771",
      "metadata": {
        "id": "3861c0fe-b808-4b0c-81c2-0083f65cc771"
      },
      "source": [
        "## TorchRec Practice\n",
        "Sung Min Cho (tjdals4565@gmail.com)"
      ]
    },
    {
      "cell_type": "markdown",
      "id": "718f4e11-f3cd-4347-8923-20584e3e92b0",
      "metadata": {
        "id": "718f4e11-f3cd-4347-8923-20584e3e92b0"
      },
      "source": [
        "## Goals\n",
        "\n",
        "- To understand realistic recommendation systems and their workloads\n",
        "- To understand industrial solutions for large-scale recommendation systems\n"
      ]
    },
    {
      "cell_type": "markdown",
      "id": "0beba554-5846-4769-b018-d2b76204a85f",
      "metadata": {
        "id": "0beba554-5846-4769-b018-d2b76204a85f"
      },
      "source": [
        "## Setups"
      ]
    },
    {
      "cell_type": "code",
      "execution_count": 1,
      "id": "aMLmB2j-RuDe",
      "metadata": {
        "colab": {
          "base_uri": "https://localhost:8080/"
        },
        "id": "aMLmB2j-RuDe",
        "outputId": "e11b3131-6eff-40fd-8ae9-384bf605772f"
      },
      "outputs": [
        {
          "name": "stdout",
          "output_type": "stream",
          "text": [
            "Wed Aug 10 15:43:21 2022       \n",
            "+-----------------------------------------------------------------------------+\n",
            "| NVIDIA-SMI 451.67       Driver Version: 451.67       CUDA Version: 11.0     |\n",
            "|-------------------------------+----------------------+----------------------+\n",
            "| GPU  Name            TCC/WDDM | Bus-Id        Disp.A | Volatile Uncorr. ECC |\n",
            "| Fan  Temp  Perf  Pwr:Usage/Cap|         Memory-Usage | GPU-Util  Compute M. |\n",
            "|===============================+======================+======================|\n",
            "|   0  GeForce RTX 207... WDDM  | 00000000:01:00.0  On |                  N/A |\n",
            "| N/A   50C    P8    15W /  N/A |   1545MiB /  8192MiB |     21%      Default |\n",
            "+-------------------------------+----------------------+----------------------+\n",
            "                                                                               \n",
            "+-----------------------------------------------------------------------------+\n",
            "| Processes:                                                                  |\n",
            "|  GPU   GI   CI        PID   Type   Process name                  GPU Memory |\n",
            "|        ID   ID                                                   Usage      |\n",
            "|=============================================================================|\n",
            "|    0   N/A  N/A      1820    C+G   ...ice\\Office16\\POWERPNT.EXE    N/A      |\n",
            "|    0   N/A  N/A      1960    C+G   Insufficient Permissions        N/A      |\n",
            "|    0   N/A  N/A      2228    C+G   ...8wekyb3d8bbwe\\Cortana.exe    N/A      |\n",
            "|    0   N/A  N/A      3848    C+G   ...lPanel\\SystemSettings.exe    N/A      |\n",
            "|    0   N/A  N/A      3988    C+G   ...5n1h2txyewy\\SearchApp.exe    N/A      |\n",
            "|    0   N/A  N/A      6768    C+G   ...ice\\Office16\\POWERPNT.EXE    N/A      |\n",
            "|    0   N/A  N/A      6828    C+G   ...5n1h2txyewy\\SearchApp.exe    N/A      |\n",
            "|    0   N/A  N/A      6900    C+G   ...wekyb3d8bbwe\\Video.UI.exe    N/A      |\n",
            "|    0   N/A  N/A      7032    C+G   C:\\Windows\\explorer.exe         N/A      |\n",
            "|    0   N/A  N/A      8496    C+G   ...cw5n1h2txyewy\\LockApp.exe    N/A      |\n",
            "|    0   N/A  N/A      8868    C+G   ...y\\ShellExperienceHost.exe    N/A      |\n",
            "|    0   N/A  N/A      9560    C+G   ...5n1h2txyewy\\SearchApp.exe    N/A      |\n",
            "|    0   N/A  N/A      9796    C+G   ...ekyb3d8bbwe\\YourPhone.exe    N/A      |\n",
            "|    0   N/A  N/A     10084    C+G   ...2txyewy\\TextInputHost.exe    N/A      |\n",
            "|    0   N/A  N/A     12888    C+G   ...ge\\Application\\msedge.exe    N/A      |\n",
            "|    0   N/A  N/A     16624    C+G   ...kyb3d8bbwe\\Calculator.exe    N/A      |\n",
            "|    0   N/A  N/A     19816    C+G   ...icrosoft VS Code\\Code.exe    N/A      |\n",
            "+-----------------------------------------------------------------------------+\n"
          ]
        }
      ],
      "source": [
        "# make sure to change the runtime type to gpu\n",
        "!nvidia-smi"
      ]
    },
    {
      "cell_type": "code",
      "execution_count": 2,
      "id": "SgaEaTykqNR8",
      "metadata": {
        "colab": {
          "base_uri": "https://localhost:8080/"
        },
        "id": "SgaEaTykqNR8",
        "outputId": "655ca89b-f7d4-4a0e-e541-2337c386164a"
      },
      "outputs": [
        {
          "name": "stdout",
          "output_type": "stream",
          "text": [
            "Collecting torchrec\n",
            "  Downloading torchrec-0.2.0-py37-none-any.whl (293 kB)\n",
            "     -------------------------------------- 293.4/293.4 kB 9.1 MB/s eta 0:00:00\n",
            "Requirement already satisfied: certifi in c:\\users\\ai_15\\.conda\\envs\\samsung_ai\\lib\\site-packages (from torchrec) (2022.6.15)\n",
            "Requirement already satisfied: pytz in c:\\users\\ai_15\\.conda\\envs\\samsung_ai\\lib\\site-packages (from torchrec) (2022.1)\n",
            "Requirement already satisfied: numpy in c:\\users\\ai_15\\.conda\\envs\\samsung_ai\\lib\\site-packages (from torchrec) (1.21.6)\n",
            "Collecting docker\n",
            "  Using cached docker-5.0.3-py2.py3-none-any.whl (146 kB)\n",
            "Collecting fsspec\n",
            "  Downloading fsspec-2022.7.1-py3-none-any.whl (141 kB)\n",
            "     ---------------------------------------- 141.2/141.2 kB ? eta 0:00:00\n",
            "Collecting cmake\n",
            "  Using cached cmake-3.24.0-py2.py3-none-win_amd64.whl (39.7 MB)\n",
            "Collecting pyDeprecate\n",
            "  Using cached pyDeprecate-0.3.2-py3-none-any.whl (10 kB)\n",
            "Requirement already satisfied: requests in c:\\users\\ai_15\\.conda\\envs\\samsung_ai\\lib\\site-packages (from torchrec) (2.28.1)\n",
            "Requirement already satisfied: urllib3 in c:\\users\\ai_15\\.conda\\envs\\samsung_ai\\lib\\site-packages (from torchrec) (1.26.10)\n",
            "Collecting MarkupSafe\n",
            "  Downloading MarkupSafe-2.1.1-cp37-cp37m-win_amd64.whl (17 kB)\n",
            "Collecting scikit-build\n",
            "  Using cached scikit_build-0.15.0-py2.py3-none-any.whl (77 kB)\n",
            "Requirement already satisfied: charset-normalizer in c:\\users\\ai_15\\.conda\\envs\\samsung_ai\\lib\\site-packages (from torchrec) (2.1.0)\n",
            "Requirement already satisfied: six in c:\\users\\ai_15\\.conda\\envs\\samsung_ai\\lib\\site-packages (from torchrec) (1.16.0)\n",
            "Collecting Jinja2\n",
            "  Using cached Jinja2-3.1.2-py3-none-any.whl (133 kB)\n",
            "Collecting docstring-parser\n",
            "  Using cached docstring_parser-0.14.1-py3-none-any.whl (33 kB)\n",
            "Collecting typing-inspect\n",
            "  Using cached typing_inspect-0.7.1-py3-none-any.whl (8.4 kB)\n",
            "Collecting usort\n",
            "  Downloading usort-1.0.4-py3-none-any.whl (23 kB)\n",
            "Requirement already satisfied: idna in c:\\users\\ai_15\\.conda\\envs\\samsung_ai\\lib\\site-packages (from torchrec) (3.3)\n",
            "Collecting pyarrow\n",
            "  Downloading pyarrow-9.0.0-cp37-cp37m-win_amd64.whl (19.5 MB)\n",
            "     --------------------------------------- 19.5/19.5 MB 18.7 MB/s eta 0:00:00\n",
            "Collecting mypy-extensions\n",
            "  Using cached mypy_extensions-0.4.3-py2.py3-none-any.whl (4.5 kB)\n",
            "Requirement already satisfied: python-dateutil in c:\\users\\ai_15\\.conda\\envs\\samsung_ai\\lib\\site-packages (from torchrec) (2.8.2)\n",
            "Collecting iopath\n",
            "  Downloading iopath-0.1.10.tar.gz (42 kB)\n",
            "     ---------------------------------------- 42.2/42.2 kB ? eta 0:00:00\n",
            "  Preparing metadata (setup.py): started\n",
            "  Preparing metadata (setup.py): finished with status 'done'\n",
            "Collecting tabulate\n",
            "  Using cached tabulate-0.8.10-py3-none-any.whl (29 kB)\n",
            "Requirement already satisfied: packaging in c:\\users\\ai_15\\.conda\\envs\\samsung_ai\\lib\\site-packages (from torchrec) (21.3)\n",
            "Collecting torchrec\n",
            "  Downloading torchrec-0.1.0-py37-none-any.whl (80.1 MB)\n",
            "     --------------------------------------- 80.1/80.1 MB 14.5 MB/s eta 0:00:00\n",
            "Collecting hypothesis\n",
            "  Using cached hypothesis-6.54.2-py3-none-any.whl (389 kB)\n",
            "Collecting torchx-nightly\n",
            "  Using cached torchx_nightly-2022.8.9-py3-none-any.whl (181 kB)\n",
            "Collecting PyYAML\n",
            "  Downloading PyYAML-6.0-cp37-cp37m-win_amd64.whl (153 kB)\n",
            "     -------------------------------------- 153.2/153.2 kB 8.9 MB/s eta 0:00:00\n",
            "Collecting sortedcontainers\n",
            "  Using cached sortedcontainers-2.4.0-py2.py3-none-any.whl (29 kB)\n",
            "Collecting portalocker\n",
            "  Downloading portalocker-2.5.1-py2.py3-none-any.whl (15 kB)\n",
            "Collecting arrow\n",
            "  Using cached arrow-1.2.2-py3-none-any.whl (64 kB)\n",
            "Requirement already satisfied: pyparsing in c:\\users\\ai_15\\.conda\\envs\\samsung_ai\\lib\\site-packages (from torchrec) (3.0.9)\n",
            "Collecting Cython\n",
            "  Downloading Cython-0.29.32-py2.py3-none-any.whl (986 kB)\n",
            "     ------------------------------------- 986.3/986.3 kB 21.2 MB/s eta 0:00:00\n",
            "Collecting typing\n",
            "  Using cached typing-3.7.4.3.tar.gz (78 kB)\n",
            "  Preparing metadata (setup.py): started\n",
            "  Preparing metadata (setup.py): finished with status 'done'\n",
            "Collecting filelock\n",
            "  Using cached filelock-3.7.1-py3-none-any.whl (10 kB)\n",
            "Collecting websocket-client\n",
            "  Using cached websocket_client-1.3.3-py3-none-any.whl (54 kB)\n",
            "Requirement already satisfied: typing-extensions in c:\\users\\ai_15\\.conda\\envs\\samsung_ai\\lib\\site-packages (from torchrec) (4.3.0)\n",
            "Collecting attrs\n",
            "  Downloading attrs-22.1.0-py2.py3-none-any.whl (58 kB)\n",
            "     ---------------------------------------- 58.8/58.8 kB ? eta 0:00:00\n",
            "Collecting pyre-extensions\n",
            "  Using cached pyre_extensions-0.0.29-py3-none-any.whl (12 kB)\n",
            "Collecting ninja\n",
            "  Using cached ninja-1.10.2.3-py2.py3-none-win_amd64.whl (292 kB)\n",
            "Collecting torchmetrics\n",
            "  Using cached torchmetrics-0.9.3-py3-none-any.whl (419 kB)\n",
            "Requirement already satisfied: pandas in c:\\users\\ai_15\\.conda\\envs\\samsung_ai\\lib\\site-packages (from torchrec) (1.3.5)\n",
            "Requirement already satisfied: tqdm in c:\\users\\ai_15\\.conda\\envs\\samsung_ai\\lib\\site-packages (from torchrec) (4.64.0)\n",
            "Collecting distro\n",
            "  Using cached distro-1.7.0-py3-none-any.whl (20 kB)\n",
            "Collecting pywin32==227\n",
            "  Downloading pywin32-227-cp37-cp37m-win_amd64.whl (9.1 MB)\n",
            "     ---------------------------------------- 9.1/9.1 MB 19.4 MB/s eta 0:00:00\n",
            "Collecting exceptiongroup>=1.0.0rc8\n",
            "  Using cached exceptiongroup-1.0.0rc8-py3-none-any.whl (11 kB)\n",
            "Requirement already satisfied: setuptools>=28.0.0 in c:\\users\\ai_15\\.conda\\envs\\samsung_ai\\lib\\site-packages (from scikit-build->torchrec) (61.2.0)\n",
            "Requirement already satisfied: wheel>=0.29.0 in c:\\users\\ai_15\\.conda\\envs\\samsung_ai\\lib\\site-packages (from scikit-build->torchrec) (0.37.1)\n",
            "Requirement already satisfied: torch>=1.3.1 in c:\\users\\ai_15\\.conda\\envs\\samsung_ai\\lib\\site-packages (from torchmetrics->torchrec) (1.12.0)\n",
            "Collecting importlib-metadata\n",
            "  Using cached importlib_metadata-4.12.0-py3-none-any.whl (21 kB)\n",
            "Collecting docstring-parser\n",
            "  Using cached docstring_parser-0.8.1.tar.gz (14 kB)\n",
            "  Installing build dependencies: started\n",
            "  Installing build dependencies: finished with status 'done'\n",
            "  Getting requirements to build wheel: started\n",
            "  Getting requirements to build wheel: finished with status 'done'\n",
            "  Preparing metadata (pyproject.toml): started\n",
            "  Preparing metadata (pyproject.toml): finished with status 'done'\n",
            "Requirement already satisfied: colorama in c:\\users\\ai_15\\.conda\\envs\\samsung_ai\\lib\\site-packages (from tqdm->torchrec) (0.4.5)\n",
            "Collecting zipp>=0.5\n",
            "  Downloading zipp-3.8.1-py3-none-any.whl (5.6 kB)\n",
            "Building wheels for collected packages: iopath, docstring-parser, typing\n",
            "  Building wheel for iopath (setup.py): started\n",
            "  Building wheel for iopath (setup.py): finished with status 'done'\n",
            "  Created wheel for iopath: filename=iopath-0.1.10-py3-none-any.whl size=31549 sha256=4d72bc04375e92242e150e4c05998c35dae7f834f06f453357dc34e2b672f3df\n",
            "  Stored in directory: c:\\users\\ai_15\\appdata\\local\\pip\\cache\\wheels\\aa\\cc\\ed\\ca4e88beef656b01c84b9185196513ef2faf74a5a379b043a7\n",
            "  Building wheel for docstring-parser (pyproject.toml): started\n",
            "  Building wheel for docstring-parser (pyproject.toml): finished with status 'done'\n",
            "  Created wheel for docstring-parser: filename=docstring_parser-0.8.1-py3-none-any.whl size=19662 sha256=86ae29570fe7af26d84be6054a91149790bcf662a49343b95c9cce2f9d888fb0\n",
            "  Stored in directory: c:\\users\\ai_15\\appdata\\local\\pip\\cache\\wheels\\64\\11\\a5\\143eba02bbc268191378c202be131d94b59ca40270bd49dd43\n",
            "  Building wheel for typing (setup.py): started\n",
            "  Building wheel for typing (setup.py): finished with status 'done'\n",
            "  Created wheel for typing: filename=typing-3.7.4.3-py3-none-any.whl size=26325 sha256=6b51a637f3fb03022fa79c91c4d70424a7eb90be98a5528aa77da6e315adb09d\n",
            "  Stored in directory: c:\\users\\ai_15\\appdata\\local\\pip\\cache\\wheels\\35\\f3\\15\\01aa6571f0a72ee6ae7b827c1491c37a1f72d686fd22b43b0e\n",
            "Successfully built iopath docstring-parser typing\n",
            "Installing collected packages: sortedcontainers, pywin32, ninja, mypy-extensions, cmake, zipp, websocket-client, typing-inspect, typing, tabulate, PyYAML, pyDeprecate, pyarrow, portalocker, MarkupSafe, fsspec, filelock, exceptiongroup, docstring-parser, distro, Cython, attrs, torchmetrics, scikit-build, pyre-extensions, Jinja2, iopath, importlib-metadata, hypothesis, docker, arrow, torchx-nightly, torchrec\n",
            "  Attempting uninstall: pywin32\n",
            "    Found existing installation: pywin32 303\n",
            "    Uninstalling pywin32-303:\n",
            "      Successfully uninstalled pywin32-303\n",
            "  Rolling back uninstall of pywin32\n",
            "  Moving to c:\\users\\ai_15\\.conda\\envs\\samsung_ai\\lib\\site-packages\\__pycache__\\pythoncom.cpython-37.pyc\n",
            "   from C:\\Users\\AI_15\\AppData\\Local\\Temp\\pip-uninstall-3e2ukwep\\pythoncom.cpython-37.pyc\n",
            "  Moving to c:\\users\\ai_15\\.conda\\envs\\samsung_ai\\lib\\site-packages\\adodbapi\n",
            "   from c:\\users\\ai_15\\.conda\\envs\\samsung_ai\\lib\\site-packages\\~dodbapi\n",
            "  Moving to c:\\users\\ai_15\\.conda\\envs\\samsung_ai\\lib\\site-packages\\isapi\n",
            "   from c:\\users\\ai_15\\.conda\\envs\\samsung_ai\\lib\\site-packages\\~sapi\n",
            "  Moving to c:\\users\\ai_15\\.conda\\envs\\samsung_ai\\lib\\site-packages\\pythoncom.py\n",
            "   from C:\\Users\\AI_15\\AppData\\Local\\Temp\\pip-uninstall-u9t24dax\\pythoncom.py\n",
            "  Moving to c:\\users\\ai_15\\.conda\\envs\\samsung_ai\\lib\\site-packages\\pythonwin\n",
            "   from c:\\users\\ai_15\\.conda\\envs\\samsung_ai\\lib\\site-packages\\~ythonwin\n",
            "  Moving to c:\\users\\ai_15\\.conda\\envs\\samsung_ai\\lib\\site-packages\\pywin32-303-py3.7.egg-info\n",
            "   from c:\\users\\ai_15\\.conda\\envs\\samsung_ai\\lib\\site-packages\\~ywin32-303-py3.7.egg-info\n",
            "  Moving to c:\\users\\ai_15\\.conda\\envs\\samsung_ai\\lib\\site-packages\\win32\\lib\\\n",
            "   from c:\\users\\ai_15\\.conda\\envs\\samsung_ai\\lib\\site-packages\\win32\\~ib\n",
            "  Moving to c:\\users\\ai_15\\.conda\\envs\\samsung_ai\\lib\\site-packages\\win32com\n",
            "   from c:\\users\\ai_15\\.conda\\envs\\samsung_ai\\lib\\site-packages\\~in32com\n",
            "  Moving to c:\\users\\ai_15\\.conda\\envs\\samsung_ai\\lib\\site-packages\\win32comext\n",
            "   from c:\\users\\ai_15\\.conda\\envs\\samsung_ai\\lib\\site-packages\\~in32comext\n"
          ]
        },
        {
          "name": "stderr",
          "output_type": "stream",
          "text": [
            "  WARNING: No metadata found in c:\\users\\ai_15\\.conda\\envs\\samsung_ai\\lib\\site-packages\n",
            "ERROR: Could not install packages due to an OSError: [WinError 5] 액세스가 거부되었습니다: 'C:\\\\Users\\\\AI_15\\\\.conda\\\\envs\\\\samsung_ai\\\\Lib\\\\site-packages\\\\win32\\\\_win32sysloader.pyd'\n",
            "Consider using the `--user` option or check the permissions.\n",
            "\n"
          ]
        }
      ],
      "source": [
        "!pip install torchrec"
      ]
    },
    {
      "cell_type": "code",
      "execution_count": 3,
      "id": "dc53a463-63b5-4fb9-8fa8-cb004ef86abf",
      "metadata": {
        "id": "dc53a463-63b5-4fb9-8fa8-cb004ef86abf"
      },
      "outputs": [],
      "source": [
        "#!apt-get install unzip"
      ]
    },
    {
      "cell_type": "code",
      "execution_count": 4,
      "id": "c02203c9-8b76-4812-abc0-81d6ed5ba1af",
      "metadata": {
        "colab": {
          "base_uri": "https://localhost:8080/"
        },
        "id": "c02203c9-8b76-4812-abc0-81d6ed5ba1af",
        "outputId": "39e33436-2984-4d4a-ffe1-2a13305fde98"
      },
      "outputs": [
        {
          "name": "stdout",
          "output_type": "stream",
          "text": [
            "Collecting git+https://github.com/mlperf/logging.git\n",
            "  Cloning https://github.com/mlperf/logging.git to c:\\users\\ai_15\\appdata\\local\\temp\\pip-req-build-n8ptqbkf\n",
            "  Resolved https://github.com/mlperf/logging.git to commit bebd46b899c13cc0aec5ea5da2fd4ed3ec1deded\n",
            "  Preparing metadata (setup.py): started\n",
            "  Preparing metadata (setup.py): finished with status 'done'\n",
            "Requirement already satisfied: pandas in c:\\users\\ai_15\\.conda\\envs\\samsung_ai\\lib\\site-packages (1.3.5)\n",
            "Collecting implicit\n",
            "  Downloading implicit-0.6.0-cp37-cp37m-win_amd64.whl (630 kB)\n",
            "     ------------------------------------- 630.1/630.1 kB 13.2 MB/s eta 0:00:00\n",
            "Collecting sklearn\n",
            "  Using cached sklearn-0.0.tar.gz (1.1 kB)\n",
            "  Preparing metadata (setup.py): started\n",
            "  Preparing metadata (setup.py): finished with status 'done'\n",
            "Collecting onnx\n",
            "  Downloading onnx-1.12.0-cp37-cp37m-win_amd64.whl (11.5 MB)\n",
            "     --------------------------------------- 11.5/11.5 MB 18.2 MB/s eta 0:00:00\n",
            "Collecting surgeon-pytorch\n",
            "  Using cached surgeon_pytorch-0.0.4-py3-none-any.whl (6.1 kB)\n",
            "Requirement already satisfied: scipy in c:\\users\\ai_15\\.conda\\envs\\samsung_ai\\lib\\site-packages (1.7.3)\n",
            "Requirement already satisfied: pytz>=2017.3 in c:\\users\\ai_15\\.conda\\envs\\samsung_ai\\lib\\site-packages (from pandas) (2022.1)\n",
            "Requirement already satisfied: python-dateutil>=2.7.3 in c:\\users\\ai_15\\.conda\\envs\\samsung_ai\\lib\\site-packages (from pandas) (2.8.2)\n",
            "Requirement already satisfied: numpy>=1.17.3 in c:\\users\\ai_15\\.conda\\envs\\samsung_ai\\lib\\site-packages (from pandas) (1.21.6)\n",
            "Requirement already satisfied: tqdm>=4.27 in c:\\users\\ai_15\\.conda\\envs\\samsung_ai\\lib\\site-packages (from implicit) (4.64.0)\n",
            "Collecting scikit-learn\n",
            "  Downloading scikit_learn-1.0.2-cp37-cp37m-win_amd64.whl (7.1 MB)\n",
            "     ---------------------------------------- 7.1/7.1 MB 18.9 MB/s eta 0:00:00\n",
            "Requirement already satisfied: typing-extensions>=3.6.2.1 in c:\\users\\ai_15\\.conda\\envs\\samsung_ai\\lib\\site-packages (from onnx) (4.3.0)\n",
            "Collecting protobuf<=3.20.1,>=3.12.2\n",
            "  Downloading protobuf-3.20.1-cp37-cp37m-win_amd64.whl (905 kB)\n",
            "     ------------------------------------- 905.1/905.1 kB 19.0 MB/s eta 0:00:00\n",
            "Collecting pyyaml>=5.4.1\n",
            "  Using cached PyYAML-6.0-cp37-cp37m-win_amd64.whl (153 kB)\n",
            "Collecting data-science-types>=0.2\n",
            "  Using cached data_science_types-0.2.23-py3-none-any.whl (42 kB)\n",
            "Requirement already satisfied: torch>=1.6 in c:\\users\\ai_15\\.conda\\envs\\samsung_ai\\lib\\site-packages (from surgeon-pytorch) (1.12.0)\n",
            "Requirement already satisfied: six>=1.5 in c:\\users\\ai_15\\.conda\\envs\\samsung_ai\\lib\\site-packages (from python-dateutil>=2.7.3->pandas) (1.16.0)\n",
            "Requirement already satisfied: colorama in c:\\users\\ai_15\\.conda\\envs\\samsung_ai\\lib\\site-packages (from tqdm>=4.27->implicit) (0.4.5)\n",
            "Collecting joblib>=0.11\n",
            "  Using cached joblib-1.1.0-py2.py3-none-any.whl (306 kB)\n",
            "Collecting threadpoolctl>=2.0.0\n",
            "  Using cached threadpoolctl-3.1.0-py3-none-any.whl (14 kB)\n",
            "Building wheels for collected packages: sklearn, mlperf-logging\n",
            "  Building wheel for sklearn (setup.py): started\n",
            "  Building wheel for sklearn (setup.py): finished with status 'done'\n",
            "  Created wheel for sklearn: filename=sklearn-0.0-py2.py3-none-any.whl size=1310 sha256=9cbcac4e0e1bcc627588e40c9166b60914a75ab08c7bf773a4c5bea9cd59fda0\n",
            "  Stored in directory: c:\\users\\ai_15\\appdata\\local\\pip\\cache\\wheels\\46\\ef\\c3\\157e41f5ee1372d1be90b09f74f82b10e391eaacca8f22d33e\n",
            "  Building wheel for mlperf-logging (setup.py): started\n",
            "  Building wheel for mlperf-logging (setup.py): finished with status 'done'\n",
            "  Created wheel for mlperf-logging: filename=mlperf_logging-2.0.0rc3-py3-none-any.whl size=144509 sha256=16f6c7441e0821bc812aadfed17a1893a44516175fe3f36c7728371d5e352d02\n",
            "  Stored in directory: C:\\Users\\AI_15\\AppData\\Local\\Temp\\pip-ephem-wheel-cache-5lh7dd2j\\wheels\\f9\\97\\f4\\74948f8a139b5297946ff6fd145b4fb6dd2223bef36b50ca8d\n",
            "Successfully built sklearn mlperf-logging\n",
            "Installing collected packages: threadpoolctl, pyyaml, protobuf, joblib, data-science-types, surgeon-pytorch, scikit-learn, onnx, implicit, sklearn, mlperf-logging\n",
            "Successfully installed data-science-types-0.2.23 implicit-0.6.0 joblib-1.1.0 mlperf-logging-2.0.0rc3 onnx-1.12.0 protobuf-3.20.1 pyyaml-6.0 scikit-learn-1.0.2 sklearn-0.0 surgeon-pytorch-0.0.4 threadpoolctl-3.1.0\n"
          ]
        },
        {
          "name": "stderr",
          "output_type": "stream",
          "text": [
            "  Running command git clone --filter=blob:none --quiet https://github.com/mlperf/logging.git 'C:\\Users\\AI_15\\AppData\\Local\\Temp\\pip-req-build-n8ptqbkf'\n"
          ]
        }
      ],
      "source": [
        "!pip3 install pandas implicit sklearn onnx \"git+https://github.com/mlperf/logging.git\" surgeon-pytorch pandas scipy"
      ]
    },
    {
      "cell_type": "code",
      "execution_count": 5,
      "id": "shpMRPRQrr8b",
      "metadata": {
        "colab": {
          "base_uri": "https://localhost:8080/"
        },
        "id": "shpMRPRQrr8b",
        "outputId": "6e23e6b6-f876-4996-8e7f-77d71180757a"
      },
      "outputs": [
        {
          "ename": "ModuleNotFoundError",
          "evalue": "No module named 'multiprocess'",
          "output_type": "error",
          "traceback": [
            "\u001b[1;31m---------------------------------------------------------------------------\u001b[0m",
            "\u001b[1;31mModuleNotFoundError\u001b[0m                       Traceback (most recent call last)",
            "\u001b[1;32m~\\AppData\\Local\\Temp\\ipykernel_9780\\2499735369.py\u001b[0m in \u001b[0;36m<module>\u001b[1;34m\u001b[0m\n\u001b[1;32m----> 1\u001b[1;33m \u001b[1;32mimport\u001b[0m \u001b[0mmultiprocess\u001b[0m\u001b[1;33m\u001b[0m\u001b[1;33m\u001b[0m\u001b[0m\n\u001b[0m\u001b[0;32m      2\u001b[0m \u001b[1;32mimport\u001b[0m \u001b[0mos\u001b[0m\u001b[1;33m\u001b[0m\u001b[1;33m\u001b[0m\u001b[0m\n\u001b[0;32m      3\u001b[0m \u001b[1;32mimport\u001b[0m \u001b[0mpickle\u001b[0m\u001b[1;33m\u001b[0m\u001b[1;33m\u001b[0m\u001b[0m\n\u001b[0;32m      4\u001b[0m \u001b[1;32mimport\u001b[0m \u001b[0mrandom\u001b[0m\u001b[1;33m\u001b[0m\u001b[1;33m\u001b[0m\u001b[0m\n\u001b[0;32m      5\u001b[0m \u001b[1;32mfrom\u001b[0m \u001b[0mpathlib\u001b[0m \u001b[1;32mimport\u001b[0m \u001b[0mPath\u001b[0m\u001b[1;33m\u001b[0m\u001b[1;33m\u001b[0m\u001b[0m\n",
            "\u001b[1;31mModuleNotFoundError\u001b[0m: No module named 'multiprocess'"
          ]
        }
      ],
      "source": [
        "import multiprocess\n",
        "import os\n",
        "import pickle\n",
        "import random\n",
        "from pathlib import Path\n",
        "from typing import *\n",
        "\n",
        "import torchrec\n",
        "import fbgemm_gpu\n",
        "import torch\n",
        "import torch.nn as nn\n",
        "import surgeon_pytorch\n",
        "import numpy as np\n",
        "import math\n",
        "import scipy.sparse as sparse\n",
        "import implicit\n",
        "import pandas as pd\n",
        "from torch.utils.data import DataLoader, Dataset\n",
        "from torch.optim import Adam\n",
        "from tqdm.auto import tqdm, trange\n",
        "from scipy.sparse import csr_matrix, save_npz, load_npz"
      ]
    },
    {
      "cell_type": "markdown",
      "id": "CjdHIA2Qpf3q",
      "metadata": {
        "id": "CjdHIA2Qpf3q"
      },
      "source": [
        "## (1) Model Authoring"
      ]
    },
    {
      "cell_type": "markdown",
      "id": "82ae393f-91ea-47c9-b281-544729541d07",
      "metadata": {
        "id": "82ae393f-91ea-47c9-b281-544729541d07"
      },
      "source": [
        "### DLRM"
      ]
    },
    {
      "cell_type": "markdown",
      "id": "Pxgf10yNsS1G",
      "metadata": {
        "id": "Pxgf10yNsS1G"
      },
      "source": [
        "#### DLRM in conventional PyTorch code"
      ]
    },
    {
      "cell_type": "code",
      "execution_count": null,
      "id": "8d3a15c8-7790-4720-93d6-c7c88ee631a3",
      "metadata": {
        "colab": {
          "base_uri": "https://localhost:8080/"
        },
        "id": "8d3a15c8-7790-4720-93d6-c7c88ee631a3",
        "outputId": "f07d9305-f7ee-471a-bfa7-d2fb4582e280"
      },
      "outputs": [
        {
          "name": "stdout",
          "output_type": "stream",
          "text": [
            "Cloning into 'dlrm'...\n",
            "remote: Enumerating objects: 638, done.\u001b[K\n",
            "remote: Counting objects: 100% (60/60), done.\u001b[K\n",
            "remote: Compressing objects: 100% (30/30), done.\u001b[K\n",
            "remote: Total 638 (delta 37), reused 50 (delta 29), pack-reused 578\u001b[K\n",
            "Receiving objects: 100% (638/638), 1.34 MiB | 8.03 MiB/s, done.\n",
            "Resolving deltas: 100% (378/378), done.\n"
          ]
        }
      ],
      "source": [
        "!git clone https://github.com/facebookresearch/dlrm"
      ]
    },
    {
      "cell_type": "code",
      "execution_count": null,
      "id": "17046f28-2094-4ec5-bba4-e92670654da9",
      "metadata": {
        "colab": {
          "base_uri": "https://localhost:8080/"
        },
        "id": "17046f28-2094-4ec5-bba4-e92670654da9",
        "outputId": "4176ffe9-4c8b-402d-a28b-a402eab9ebfa"
      },
      "outputs": [
        {
          "name": "stdout",
          "output_type": "stream",
          "text": [
            "/content/dlrm\n"
          ]
        }
      ],
      "source": [
        "cd dlrm"
      ]
    },
    {
      "cell_type": "code",
      "execution_count": null,
      "id": "3b03372d-6786-4d8a-8d2a-c7ba96f91b3d",
      "metadata": {
        "id": "3b03372d-6786-4d8a-8d2a-c7ba96f91b3d"
      },
      "outputs": [],
      "source": [
        "import dlrm_s_pytorch as s"
      ]
    },
    {
      "cell_type": "markdown",
      "id": "f4f2562c-b27d-4c73-95c0-282a9adf0da1",
      "metadata": {
        "id": "f4f2562c-b27d-4c73-95c0-282a9adf0da1"
      },
      "source": [
        "<img src=\"https://user-images.githubusercontent.com/8216334/166137804-dba9f58a-fb9f-403b-b46c-efff9a8266ef.png\" width=500>"
      ]
    },
    {
      "cell_type": "code",
      "execution_count": null,
      "id": "e8443e50-85d9-417c-b7c0-634a812cce3c",
      "metadata": {
        "id": "e8443e50-85d9-417c-b7c0-634a812cce3c"
      },
      "outputs": [],
      "source": [
        "dlrm = s.DLRM_Net(\n",
        "    m_spa=16,\n",
        "    ln_emb=np.array([100,100]),\n",
        "    ln_bot=np.array([13,64,16]),\n",
        "    ln_top=np.array([19,16,8,4,1]),\n",
        "    arch_interaction_op=\"dot\",\n",
        "    arch_interaction_itself=False,\n",
        "    qr_flag=False,\n",
        "    md_flag=False,\n",
        ")"
      ]
    },
    {
      "cell_type": "code",
      "execution_count": null,
      "id": "f330cdfa-477c-40c7-94c0-8e189bae97c3",
      "metadata": {
        "colab": {
          "base_uri": "https://localhost:8080/"
        },
        "id": "f330cdfa-477c-40c7-94c0-8e189bae97c3",
        "outputId": "e873b877-1784-492f-a448-15798002411b"
      },
      "outputs": [
        {
          "data": {
            "text/plain": [
              "DLRM_Net(\n",
              "  (emb_l): ModuleList(\n",
              "    (0): EmbeddingBag(100, 16, mode=sum)\n",
              "    (1): EmbeddingBag(100, 16, mode=sum)\n",
              "  )\n",
              "  (bot_l): Sequential(\n",
              "    (0): Linear(in_features=13, out_features=64, bias=True)\n",
              "    (1): ReLU()\n",
              "    (2): Linear(in_features=64, out_features=16, bias=True)\n",
              "    (3): ReLU()\n",
              "  )\n",
              "  (top_l): Sequential(\n",
              "    (0): Linear(in_features=19, out_features=16, bias=True)\n",
              "    (1): ReLU()\n",
              "    (2): Linear(in_features=16, out_features=8, bias=True)\n",
              "    (3): ReLU()\n",
              "    (4): Linear(in_features=8, out_features=4, bias=True)\n",
              "    (5): ReLU()\n",
              "    (6): Linear(in_features=4, out_features=1, bias=True)\n",
              "    (7): ReLU()\n",
              "  )\n",
              "  (loss_fn): BCELoss()\n",
              ")"
            ]
          },
          "execution_count": 10,
          "metadata": {},
          "output_type": "execute_result"
        }
      ],
      "source": [
        "dlrm"
      ]
    },
    {
      "cell_type": "code",
      "execution_count": null,
      "id": "G40HFO4VWlQ5",
      "metadata": {
        "colab": {
          "base_uri": "https://localhost:8080/"
        },
        "id": "G40HFO4VWlQ5",
        "outputId": "f81ff20c-113f-42de-87a9-f53f18f7e93a"
      },
      "outputs": [
        {
          "name": "stdout",
          "output_type": "stream",
          "text": [
            "world size: 1, current rank: 0, local rank: 0\n",
            "Using 1 GPU(s)...\n",
            "time/loss/accuracy (if enabled):\n",
            "Finished training it 1/5 of epoch 0, -1.00 ms/it, loss 0.207687\n",
            "Finished training it 2/5 of epoch 0, -1.00 ms/it, loss 0.091614\n",
            "Finished training it 3/5 of epoch 0, -1.00 ms/it, loss 0.073226\n",
            "Finished training it 4/5 of epoch 0, -1.00 ms/it, loss 0.039275\n",
            "Finished training it 5/5 of epoch 0, -1.00 ms/it, loss 0.009234\n"
          ]
        }
      ],
      "source": [
        "# run training\n",
        "!python dlrm_s_pytorch.py --arch-sparse-feature-size=16 --arch-embedding-size=\"100-100\" --arch-mlp-bot=\"13-64-16\" --arch-mlp-top=\"16-8-4-1\" \\\n",
        "                          --data-generation random --mini-batch-size=2 --data-size=10 \\\n",
        "                          --use-gpu \\"
      ]
    },
    {
      "cell_type": "markdown",
      "id": "C-En19ghsci2",
      "metadata": {
        "id": "C-En19ghsci2"
      },
      "source": [
        "#### Let's try authoring DLRM in TorchRec style"
      ]
    },
    {
      "cell_type": "code",
      "execution_count": null,
      "id": "bCWYTl_QLZSG",
      "metadata": {
        "id": "bCWYTl_QLZSG"
      },
      "outputs": [],
      "source": [
        "from torchrec.models.dlrm import DLRM, DLRMTrain"
      ]
    },
    {
      "cell_type": "markdown",
      "id": "xujwGOsENJHg",
      "metadata": {
        "id": "xujwGOsENJHg"
      },
      "source": [
        "#### Most notable difference is the need to use EmbeddingBagCollection module. This enables sharding of embedding tabels and hence model parallelism."
      ]
    },
    {
      "cell_type": "code",
      "execution_count": null,
      "id": "63669QiVLIHy",
      "metadata": {
        "id": "63669QiVLIHy"
      },
      "outputs": [],
      "source": [
        "eb1_config = torchrec.EmbeddingBagConfig(\n",
        "    name=\"t1\", embedding_dim=16, num_embeddings=100, feature_names=[\"f1\"],\n",
        ")\n",
        "eb2_config = torchrec.EmbeddingBagConfig(\n",
        "    name=\"t2\", embedding_dim=16, num_embeddings=100, feature_names=[\"f2\"],\n",
        ")\n",
        "\n",
        "ebc = torchrec.EmbeddingBagCollection(tables=[eb1_config, eb2_config])"
      ]
    },
    {
      "cell_type": "code",
      "execution_count": null,
      "id": "kTpED42iBmkR",
      "metadata": {
        "id": "kTpED42iBmkR"
      },
      "outputs": [],
      "source": [
        "sparse_features = torchrec.KeyedJaggedTensor.from_offsets_sync(\n",
        "    keys=[\"f1\", \"f2\"],\n",
        "    values=torch.tensor([1, 2, 4, 5, 4, 3, 2, 9, 1]),\n",
        "    offsets=torch.tensor([0, 2, 4, 6, 9]),\n",
        ")"
      ]
    },
    {
      "cell_type": "code",
      "execution_count": null,
      "id": "aTyLdq9FCdNK",
      "metadata": {
        "colab": {
          "base_uri": "https://localhost:8080/"
        },
        "id": "aTyLdq9FCdNK",
        "outputId": "46aec802-c095-4fc1-ea16-75436aa67872"
      },
      "outputs": [
        {
          "data": {
            "text/plain": [
              "{'f1': <torchrec.sparse.jagged_tensor.JaggedTensor at 0x7f39965dbb50>,\n",
              " 'f2': <torchrec.sparse.jagged_tensor.JaggedTensor at 0x7f39960b2590>}"
            ]
          },
          "execution_count": 15,
          "metadata": {},
          "output_type": "execute_result"
        }
      ],
      "source": [
        "sparse_features.to_dict()"
      ]
    },
    {
      "cell_type": "code",
      "execution_count": null,
      "id": "K0nLZ251EFqM",
      "metadata": {
        "colab": {
          "base_uri": "https://localhost:8080/"
        },
        "id": "K0nLZ251EFqM",
        "outputId": "1ced49f2-bac6-449a-a3c9-261c07000242"
      },
      "outputs": [
        {
          "data": {
            "text/plain": [
              "([tensor([1, 2]), tensor([4, 5])], [tensor([4, 3]), tensor([2, 9, 1])])"
            ]
          },
          "execution_count": 16,
          "metadata": {},
          "output_type": "execute_result"
        }
      ],
      "source": [
        "sparse_features.to_dict()[\"f1\"].to_dense(), sparse_features.to_dict()[\"f2\"].to_dense()"
      ]
    },
    {
      "cell_type": "code",
      "execution_count": null,
      "id": "ZL2Ki2n-Bntf",
      "metadata": {
        "colab": {
          "base_uri": "https://localhost:8080/"
        },
        "id": "ZL2Ki2n-Bntf",
        "outputId": "a1174467-1f92-413b-eb8e-18bc05a26add"
      },
      "outputs": [
        {
          "data": {
            "text/plain": [
              "<torchrec.sparse.jagged_tensor.KeyedTensor at 0x7f3996116210>"
            ]
          },
          "execution_count": 17,
          "metadata": {},
          "output_type": "execute_result"
        }
      ],
      "source": [
        "output = ebc(sparse_features)\n",
        "output"
      ]
    },
    {
      "cell_type": "code",
      "execution_count": null,
      "id": "piQfE8XSBqAA",
      "metadata": {
        "colab": {
          "base_uri": "https://localhost:8080/"
        },
        "id": "piQfE8XSBqAA",
        "outputId": "f95cb2e6-5f7d-48b4-f3b8-41e49f2a5198"
      },
      "outputs": [
        {
          "data": {
            "text/plain": [
              "{'f1': tensor([[-0.1160,  0.1060,  0.8272, -2.1446,  2.3160,  1.0256,  1.7288, -3.2980,\n",
              "          -0.4459,  0.8593,  0.7738, -0.3486, -1.2623, -0.9619, -1.9817, -1.0836],\n",
              "         [-0.4917,  0.7469,  0.9562,  2.1484, -0.9013,  0.0701,  1.8020, -1.0975,\n",
              "          -1.0246,  0.2084, -1.6990, -0.9272, -0.1179, -1.9237, -0.0484,  1.3282]],\n",
              "        grad_fn=<SplitWithSizesBackward0>),\n",
              " 'f2': tensor([[ 9.0085e-01,  1.4912e-01,  3.6390e+00, -3.3108e+00, -2.6895e-01,\n",
              "           1.6424e+00,  3.3362e+00, -1.3634e+00, -1.5322e+00, -2.9653e-01,\n",
              "           2.9401e-01, -1.1245e+00, -4.6298e-01, -4.8086e-01,  3.3310e-01,\n",
              "           6.4788e-01],\n",
              "         [-1.7936e+00, -3.0238e+00, -1.6895e+00, -3.2404e-01, -3.2737e-03,\n",
              "          -3.7352e+00, -3.1803e-01, -1.9177e+00, -1.0937e+00, -3.6570e+00,\n",
              "           3.5623e+00, -1.5626e-01, -8.2635e-01,  1.5135e+00, -4.0056e-01,\n",
              "           7.4349e-01]], grad_fn=<SplitWithSizesBackward0>)}"
            ]
          },
          "execution_count": 18,
          "metadata": {},
          "output_type": "execute_result"
        }
      ],
      "source": [
        "output.to_dict()"
      ]
    },
    {
      "cell_type": "code",
      "execution_count": null,
      "id": "mpb9tLk6LADh",
      "metadata": {
        "id": "mpb9tLk6LADh"
      },
      "outputs": [],
      "source": [
        "torchrec_dlrm = DLRM(\n",
        "    embedding_bag_collection = ebc,\n",
        "    dense_in_features = 13,\n",
        "    dense_arch_layer_sizes=[64,16],\n",
        "    over_arch_layer_sizes=[16,8,4,1],\n",
        ")"
      ]
    },
    {
      "cell_type": "code",
      "execution_count": null,
      "id": "qO8E53_gsfsS",
      "metadata": {
        "colab": {
          "base_uri": "https://localhost:8080/"
        },
        "id": "qO8E53_gsfsS",
        "outputId": "846e52b0-50ae-4275-adc0-ef523f785e40"
      },
      "outputs": [
        {
          "data": {
            "text/plain": [
              "DLRM(\n",
              "  (sparse_arch): SparseArch(\n",
              "    (embedding_bag_collection): EmbeddingBagCollection(\n",
              "      (embedding_bags): ModuleDict(\n",
              "        (t1): EmbeddingBag(100, 16, mode=sum)\n",
              "        (t2): EmbeddingBag(100, 16, mode=sum)\n",
              "      )\n",
              "    )\n",
              "  )\n",
              "  (dense_arch): DenseArch(\n",
              "    (model): MLP(\n",
              "      (_mlp): Sequential(\n",
              "        (0): Perceptron(\n",
              "          (_linear): Linear(in_features=13, out_features=64, bias=True)\n",
              "        )\n",
              "        (1): Perceptron(\n",
              "          (_linear): Linear(in_features=64, out_features=16, bias=True)\n",
              "        )\n",
              "      )\n",
              "    )\n",
              "  )\n",
              "  (inter_arch): InteractionArch()\n",
              "  (over_arch): OverArch(\n",
              "    (model): Sequential(\n",
              "      (0): MLP(\n",
              "        (_mlp): Sequential(\n",
              "          (0): Perceptron(\n",
              "            (_linear): Linear(in_features=19, out_features=16, bias=True)\n",
              "          )\n",
              "          (1): Perceptron(\n",
              "            (_linear): Linear(in_features=16, out_features=8, bias=True)\n",
              "          )\n",
              "          (2): Perceptron(\n",
              "            (_linear): Linear(in_features=8, out_features=4, bias=True)\n",
              "          )\n",
              "        )\n",
              "      )\n",
              "      (1): Linear(in_features=4, out_features=1, bias=True)\n",
              "    )\n",
              "  )\n",
              ")"
            ]
          },
          "execution_count": 20,
          "metadata": {},
          "output_type": "execute_result"
        }
      ],
      "source": [
        "torchrec_dlrm"
      ]
    },
    {
      "cell_type": "code",
      "execution_count": null,
      "id": "G9Tn5QnWJwsq",
      "metadata": {
        "colab": {
          "base_uri": "https://localhost:8080/",
          "height": 346
        },
        "id": "G9Tn5QnWJwsq",
        "outputId": "18c938e8-ae42-4dc8-ace8-a7e9145d5a72"
      },
      "outputs": [
        {
          "ename": "TypeError",
          "evalue": "ignored",
          "output_type": "error",
          "traceback": [
            "\u001b[0;31m---------------------------------------------------------------------------\u001b[0m",
            "\u001b[0;31mTypeError\u001b[0m                                 Traceback (most recent call last)",
            "\u001b[0;32m<ipython-input-21-0972269dee28>\u001b[0m in \u001b[0;36m<module>\u001b[0;34m()\u001b[0m\n\u001b[1;32m      9\u001b[0m )\n\u001b[1;32m     10\u001b[0m \u001b[0;34m\u001b[0m\u001b[0m\n\u001b[0;32m---> 11\u001b[0;31m \u001b[0mtorchrec_dlrm\u001b[0m\u001b[0;34m(\u001b[0m\u001b[0mdense_features\u001b[0m\u001b[0;34m,\u001b[0m \u001b[0msparse_features\u001b[0m\u001b[0;34m)\u001b[0m\u001b[0;34m\u001b[0m\u001b[0;34m\u001b[0m\u001b[0m\n\u001b[0m",
            "\u001b[0;32m/usr/local/lib/python3.7/dist-packages/torch/nn/modules/module.py\u001b[0m in \u001b[0;36m_call_impl\u001b[0;34m(self, *input, **kwargs)\u001b[0m\n\u001b[1;32m   1128\u001b[0m         if not (self._backward_hooks or self._forward_hooks or self._forward_pre_hooks or _global_backward_hooks\n\u001b[1;32m   1129\u001b[0m                 or _global_forward_hooks or _global_forward_pre_hooks):\n\u001b[0;32m-> 1130\u001b[0;31m             \u001b[0;32mreturn\u001b[0m \u001b[0mforward_call\u001b[0m\u001b[0;34m(\u001b[0m\u001b[0;34m*\u001b[0m\u001b[0minput\u001b[0m\u001b[0;34m,\u001b[0m \u001b[0;34m**\u001b[0m\u001b[0mkwargs\u001b[0m\u001b[0;34m)\u001b[0m\u001b[0;34m\u001b[0m\u001b[0;34m\u001b[0m\u001b[0m\n\u001b[0m\u001b[1;32m   1131\u001b[0m         \u001b[0;31m# Do not call functions when jit is used\u001b[0m\u001b[0;34m\u001b[0m\u001b[0;34m\u001b[0m\u001b[0;34m\u001b[0m\u001b[0m\n\u001b[1;32m   1132\u001b[0m         \u001b[0mfull_backward_hooks\u001b[0m\u001b[0;34m,\u001b[0m \u001b[0mnon_full_backward_hooks\u001b[0m \u001b[0;34m=\u001b[0m \u001b[0;34m[\u001b[0m\u001b[0;34m]\u001b[0m\u001b[0;34m,\u001b[0m \u001b[0;34m[\u001b[0m\u001b[0;34m]\u001b[0m\u001b[0;34m\u001b[0m\u001b[0;34m\u001b[0m\u001b[0m\n",
            "\u001b[0;32m/usr/local/lib/python3.7/dist-packages/torchrec/models/dlrm.py\u001b[0m in \u001b[0;36mforward\u001b[0;34m(self, dense_features, sparse_features)\u001b[0m\n\u001b[1;32m    501\u001b[0m             \u001b[0mtorch\u001b[0m\u001b[0;34m.\u001b[0m\u001b[0mTensor\u001b[0m\u001b[0;34m:\u001b[0m \u001b[0mlogits\u001b[0m\u001b[0;34m.\u001b[0m\u001b[0;34m\u001b[0m\u001b[0;34m\u001b[0m\u001b[0m\n\u001b[1;32m    502\u001b[0m         \"\"\"\n\u001b[0;32m--> 503\u001b[0;31m         \u001b[0membedded_dense\u001b[0m \u001b[0;34m=\u001b[0m \u001b[0mself\u001b[0m\u001b[0;34m.\u001b[0m\u001b[0mdense_arch\u001b[0m\u001b[0;34m(\u001b[0m\u001b[0mdense_features\u001b[0m\u001b[0;34m)\u001b[0m\u001b[0;34m\u001b[0m\u001b[0;34m\u001b[0m\u001b[0m\n\u001b[0m\u001b[1;32m    504\u001b[0m         \u001b[0membedded_sparse\u001b[0m \u001b[0;34m=\u001b[0m \u001b[0mself\u001b[0m\u001b[0;34m.\u001b[0m\u001b[0msparse_arch\u001b[0m\u001b[0;34m(\u001b[0m\u001b[0msparse_features\u001b[0m\u001b[0;34m)\u001b[0m\u001b[0;34m\u001b[0m\u001b[0;34m\u001b[0m\u001b[0m\n\u001b[1;32m    505\u001b[0m         concatenated_dense = self.inter_arch(\n",
            "\u001b[0;32m/usr/local/lib/python3.7/dist-packages/torch/nn/modules/module.py\u001b[0m in \u001b[0;36m_call_impl\u001b[0;34m(self, *input, **kwargs)\u001b[0m\n\u001b[1;32m   1128\u001b[0m         if not (self._backward_hooks or self._forward_hooks or self._forward_pre_hooks or _global_backward_hooks\n\u001b[1;32m   1129\u001b[0m                 or _global_forward_hooks or _global_forward_pre_hooks):\n\u001b[0;32m-> 1130\u001b[0;31m             \u001b[0;32mreturn\u001b[0m \u001b[0mforward_call\u001b[0m\u001b[0;34m(\u001b[0m\u001b[0;34m*\u001b[0m\u001b[0minput\u001b[0m\u001b[0;34m,\u001b[0m \u001b[0;34m**\u001b[0m\u001b[0mkwargs\u001b[0m\u001b[0;34m)\u001b[0m\u001b[0;34m\u001b[0m\u001b[0;34m\u001b[0m\u001b[0m\n\u001b[0m\u001b[1;32m   1131\u001b[0m         \u001b[0;31m# Do not call functions when jit is used\u001b[0m\u001b[0;34m\u001b[0m\u001b[0;34m\u001b[0m\u001b[0;34m\u001b[0m\u001b[0m\n\u001b[1;32m   1132\u001b[0m         \u001b[0mfull_backward_hooks\u001b[0m\u001b[0;34m,\u001b[0m \u001b[0mnon_full_backward_hooks\u001b[0m \u001b[0;34m=\u001b[0m \u001b[0;34m[\u001b[0m\u001b[0;34m]\u001b[0m\u001b[0;34m,\u001b[0m \u001b[0;34m[\u001b[0m\u001b[0;34m]\u001b[0m\u001b[0;34m\u001b[0m\u001b[0;34m\u001b[0m\u001b[0m\n",
            "\u001b[0;32m/usr/local/lib/python3.7/dist-packages/torchrec/models/dlrm.py\u001b[0m in \u001b[0;36mforward\u001b[0;34m(self, features)\u001b[0m\n\u001b[1;32m    148\u001b[0m             \u001b[0mtorch\u001b[0m\u001b[0;34m.\u001b[0m\u001b[0mTensor\u001b[0m\u001b[0;34m:\u001b[0m \u001b[0man\u001b[0m \u001b[0moutput\u001b[0m \u001b[0mtensor\u001b[0m \u001b[0mof\u001b[0m \u001b[0msize\u001b[0m \u001b[0mB\u001b[0m \u001b[0mX\u001b[0m \u001b[0mD\u001b[0m\u001b[0;34m.\u001b[0m\u001b[0;34m\u001b[0m\u001b[0;34m\u001b[0m\u001b[0m\n\u001b[1;32m    149\u001b[0m         \"\"\"\n\u001b[0;32m--> 150\u001b[0;31m         \u001b[0;32mreturn\u001b[0m \u001b[0mself\u001b[0m\u001b[0;34m.\u001b[0m\u001b[0mmodel\u001b[0m\u001b[0;34m(\u001b[0m\u001b[0mfeatures\u001b[0m\u001b[0;34m)\u001b[0m\u001b[0;34m\u001b[0m\u001b[0;34m\u001b[0m\u001b[0m\n\u001b[0m\u001b[1;32m    151\u001b[0m \u001b[0;34m\u001b[0m\u001b[0m\n\u001b[1;32m    152\u001b[0m \u001b[0;34m\u001b[0m\u001b[0m\n",
            "\u001b[0;32m/usr/local/lib/python3.7/dist-packages/torch/nn/modules/module.py\u001b[0m in \u001b[0;36m_call_impl\u001b[0;34m(self, *input, **kwargs)\u001b[0m\n\u001b[1;32m   1128\u001b[0m         if not (self._backward_hooks or self._forward_hooks or self._forward_pre_hooks or _global_backward_hooks\n\u001b[1;32m   1129\u001b[0m                 or _global_forward_hooks or _global_forward_pre_hooks):\n\u001b[0;32m-> 1130\u001b[0;31m             \u001b[0;32mreturn\u001b[0m \u001b[0mforward_call\u001b[0m\u001b[0;34m(\u001b[0m\u001b[0;34m*\u001b[0m\u001b[0minput\u001b[0m\u001b[0;34m,\u001b[0m \u001b[0;34m**\u001b[0m\u001b[0mkwargs\u001b[0m\u001b[0;34m)\u001b[0m\u001b[0;34m\u001b[0m\u001b[0;34m\u001b[0m\u001b[0m\n\u001b[0m\u001b[1;32m   1131\u001b[0m         \u001b[0;31m# Do not call functions when jit is used\u001b[0m\u001b[0;34m\u001b[0m\u001b[0;34m\u001b[0m\u001b[0;34m\u001b[0m\u001b[0m\n\u001b[1;32m   1132\u001b[0m         \u001b[0mfull_backward_hooks\u001b[0m\u001b[0;34m,\u001b[0m \u001b[0mnon_full_backward_hooks\u001b[0m \u001b[0;34m=\u001b[0m \u001b[0;34m[\u001b[0m\u001b[0;34m]\u001b[0m\u001b[0;34m,\u001b[0m \u001b[0;34m[\u001b[0m\u001b[0;34m]\u001b[0m\u001b[0;34m\u001b[0m\u001b[0;34m\u001b[0m\u001b[0m\n",
            "\u001b[0;32m/usr/local/lib/python3.7/dist-packages/torchrec/modules/mlp.py\u001b[0m in \u001b[0;36mforward\u001b[0;34m(self, input)\u001b[0m\n\u001b[1;32m    170\u001b[0m             \u001b[0mtorch\u001b[0m\u001b[0;34m.\u001b[0m\u001b[0mTensor\u001b[0m\u001b[0;34m:\u001b[0m \u001b[0mtensor\u001b[0m \u001b[0mof\u001b[0m \u001b[0mshape\u001b[0m \u001b[0;34m(\u001b[0m\u001b[0mB\u001b[0m\u001b[0;34m,\u001b[0m \u001b[0mO\u001b[0m\u001b[0;34m)\u001b[0m \u001b[0mwhere\u001b[0m \u001b[0mO\u001b[0m \u001b[0;32mis\u001b[0m\u001b[0;31m \u001b[0m\u001b[0;31m`\u001b[0m\u001b[0mout_size\u001b[0m\u001b[0;31m`\u001b[0m \u001b[0mof\u001b[0m \u001b[0mthe\u001b[0m \u001b[0mlast\u001b[0m \u001b[0mPerceptron\u001b[0m \u001b[0mmodule\u001b[0m\u001b[0;34m.\u001b[0m\u001b[0;34m\u001b[0m\u001b[0;34m\u001b[0m\u001b[0m\n\u001b[1;32m    171\u001b[0m         \"\"\"\n\u001b[0;32m--> 172\u001b[0;31m         \u001b[0;32mreturn\u001b[0m \u001b[0mself\u001b[0m\u001b[0;34m.\u001b[0m\u001b[0m_mlp\u001b[0m\u001b[0;34m(\u001b[0m\u001b[0minput\u001b[0m\u001b[0;34m)\u001b[0m\u001b[0;34m\u001b[0m\u001b[0;34m\u001b[0m\u001b[0m\n\u001b[0m",
            "\u001b[0;32m/usr/local/lib/python3.7/dist-packages/torch/nn/modules/module.py\u001b[0m in \u001b[0;36m_call_impl\u001b[0;34m(self, *input, **kwargs)\u001b[0m\n\u001b[1;32m   1128\u001b[0m         if not (self._backward_hooks or self._forward_hooks or self._forward_pre_hooks or _global_backward_hooks\n\u001b[1;32m   1129\u001b[0m                 or _global_forward_hooks or _global_forward_pre_hooks):\n\u001b[0;32m-> 1130\u001b[0;31m             \u001b[0;32mreturn\u001b[0m \u001b[0mforward_call\u001b[0m\u001b[0;34m(\u001b[0m\u001b[0;34m*\u001b[0m\u001b[0minput\u001b[0m\u001b[0;34m,\u001b[0m \u001b[0;34m**\u001b[0m\u001b[0mkwargs\u001b[0m\u001b[0;34m)\u001b[0m\u001b[0;34m\u001b[0m\u001b[0;34m\u001b[0m\u001b[0m\n\u001b[0m\u001b[1;32m   1131\u001b[0m         \u001b[0;31m# Do not call functions when jit is used\u001b[0m\u001b[0;34m\u001b[0m\u001b[0;34m\u001b[0m\u001b[0;34m\u001b[0m\u001b[0m\n\u001b[1;32m   1132\u001b[0m         \u001b[0mfull_backward_hooks\u001b[0m\u001b[0;34m,\u001b[0m \u001b[0mnon_full_backward_hooks\u001b[0m \u001b[0;34m=\u001b[0m \u001b[0;34m[\u001b[0m\u001b[0;34m]\u001b[0m\u001b[0;34m,\u001b[0m \u001b[0;34m[\u001b[0m\u001b[0;34m]\u001b[0m\u001b[0;34m\u001b[0m\u001b[0;34m\u001b[0m\u001b[0m\n",
            "\u001b[0;32m/usr/local/lib/python3.7/dist-packages/torch/nn/modules/container.py\u001b[0m in \u001b[0;36mforward\u001b[0;34m(self, input)\u001b[0m\n\u001b[1;32m    137\u001b[0m     \u001b[0;32mdef\u001b[0m \u001b[0mforward\u001b[0m\u001b[0;34m(\u001b[0m\u001b[0mself\u001b[0m\u001b[0;34m,\u001b[0m \u001b[0minput\u001b[0m\u001b[0;34m)\u001b[0m\u001b[0;34m:\u001b[0m\u001b[0;34m\u001b[0m\u001b[0;34m\u001b[0m\u001b[0m\n\u001b[1;32m    138\u001b[0m         \u001b[0;32mfor\u001b[0m \u001b[0mmodule\u001b[0m \u001b[0;32min\u001b[0m \u001b[0mself\u001b[0m\u001b[0;34m:\u001b[0m\u001b[0;34m\u001b[0m\u001b[0;34m\u001b[0m\u001b[0m\n\u001b[0;32m--> 139\u001b[0;31m             \u001b[0minput\u001b[0m \u001b[0;34m=\u001b[0m \u001b[0mmodule\u001b[0m\u001b[0;34m(\u001b[0m\u001b[0minput\u001b[0m\u001b[0;34m)\u001b[0m\u001b[0;34m\u001b[0m\u001b[0;34m\u001b[0m\u001b[0m\n\u001b[0m\u001b[1;32m    140\u001b[0m         \u001b[0;32mreturn\u001b[0m \u001b[0minput\u001b[0m\u001b[0;34m\u001b[0m\u001b[0;34m\u001b[0m\u001b[0m\n\u001b[1;32m    141\u001b[0m \u001b[0;34m\u001b[0m\u001b[0m\n",
            "\u001b[0;32m/usr/local/lib/python3.7/dist-packages/torch/nn/modules/module.py\u001b[0m in \u001b[0;36m_call_impl\u001b[0;34m(self, *input, **kwargs)\u001b[0m\n\u001b[1;32m   1128\u001b[0m         if not (self._backward_hooks or self._forward_hooks or self._forward_pre_hooks or _global_backward_hooks\n\u001b[1;32m   1129\u001b[0m                 or _global_forward_hooks or _global_forward_pre_hooks):\n\u001b[0;32m-> 1130\u001b[0;31m             \u001b[0;32mreturn\u001b[0m \u001b[0mforward_call\u001b[0m\u001b[0;34m(\u001b[0m\u001b[0;34m*\u001b[0m\u001b[0minput\u001b[0m\u001b[0;34m,\u001b[0m \u001b[0;34m**\u001b[0m\u001b[0mkwargs\u001b[0m\u001b[0;34m)\u001b[0m\u001b[0;34m\u001b[0m\u001b[0;34m\u001b[0m\u001b[0m\n\u001b[0m\u001b[1;32m   1131\u001b[0m         \u001b[0;31m# Do not call functions when jit is used\u001b[0m\u001b[0;34m\u001b[0m\u001b[0;34m\u001b[0m\u001b[0;34m\u001b[0m\u001b[0m\n\u001b[1;32m   1132\u001b[0m         \u001b[0mfull_backward_hooks\u001b[0m\u001b[0;34m,\u001b[0m \u001b[0mnon_full_backward_hooks\u001b[0m \u001b[0;34m=\u001b[0m \u001b[0;34m[\u001b[0m\u001b[0;34m]\u001b[0m\u001b[0;34m,\u001b[0m \u001b[0;34m[\u001b[0m\u001b[0;34m]\u001b[0m\u001b[0;34m\u001b[0m\u001b[0;34m\u001b[0m\u001b[0m\n",
            "\u001b[0;32m/usr/local/lib/python3.7/dist-packages/torchrec/modules/mlp.py\u001b[0m in \u001b[0;36mforward\u001b[0;34m(self, input)\u001b[0m\n\u001b[1;32m     71\u001b[0m                 \u001b[0mchannel\u001b[0m \u001b[0;32min\u001b[0m \u001b[0meach\u001b[0m \u001b[0moutput\u001b[0m \u001b[0msample\u001b[0m \u001b[0;34m(\u001b[0m\u001b[0mi\u001b[0m\u001b[0;34m.\u001b[0m\u001b[0me\u001b[0m\u001b[0;34m.\u001b[0m\u001b[0;31m \u001b[0m\u001b[0;31m`\u001b[0m\u001b[0mout_size\u001b[0m\u001b[0;31m`\u001b[0m\u001b[0;34m)\u001b[0m\u001b[0;34m.\u001b[0m\u001b[0;34m\u001b[0m\u001b[0;34m\u001b[0m\u001b[0m\n\u001b[1;32m     72\u001b[0m         \"\"\"\n\u001b[0;32m---> 73\u001b[0;31m         \u001b[0;32mreturn\u001b[0m \u001b[0mself\u001b[0m\u001b[0;34m.\u001b[0m\u001b[0m_activation_fn\u001b[0m\u001b[0;34m(\u001b[0m\u001b[0mself\u001b[0m\u001b[0;34m.\u001b[0m\u001b[0m_linear\u001b[0m\u001b[0;34m(\u001b[0m\u001b[0minput\u001b[0m\u001b[0;34m)\u001b[0m\u001b[0;34m)\u001b[0m\u001b[0;34m\u001b[0m\u001b[0;34m\u001b[0m\u001b[0m\n\u001b[0m\u001b[1;32m     74\u001b[0m \u001b[0;34m\u001b[0m\u001b[0m\n\u001b[1;32m     75\u001b[0m \u001b[0;34m\u001b[0m\u001b[0m\n",
            "\u001b[0;32m/usr/local/lib/python3.7/dist-packages/torch/nn/modules/module.py\u001b[0m in \u001b[0;36m_call_impl\u001b[0;34m(self, *input, **kwargs)\u001b[0m\n\u001b[1;32m   1128\u001b[0m         if not (self._backward_hooks or self._forward_hooks or self._forward_pre_hooks or _global_backward_hooks\n\u001b[1;32m   1129\u001b[0m                 or _global_forward_hooks or _global_forward_pre_hooks):\n\u001b[0;32m-> 1130\u001b[0;31m             \u001b[0;32mreturn\u001b[0m \u001b[0mforward_call\u001b[0m\u001b[0;34m(\u001b[0m\u001b[0;34m*\u001b[0m\u001b[0minput\u001b[0m\u001b[0;34m,\u001b[0m \u001b[0;34m**\u001b[0m\u001b[0mkwargs\u001b[0m\u001b[0;34m)\u001b[0m\u001b[0;34m\u001b[0m\u001b[0;34m\u001b[0m\u001b[0m\n\u001b[0m\u001b[1;32m   1131\u001b[0m         \u001b[0;31m# Do not call functions when jit is used\u001b[0m\u001b[0;34m\u001b[0m\u001b[0;34m\u001b[0m\u001b[0;34m\u001b[0m\u001b[0m\n\u001b[1;32m   1132\u001b[0m         \u001b[0mfull_backward_hooks\u001b[0m\u001b[0;34m,\u001b[0m \u001b[0mnon_full_backward_hooks\u001b[0m \u001b[0;34m=\u001b[0m \u001b[0;34m[\u001b[0m\u001b[0;34m]\u001b[0m\u001b[0;34m,\u001b[0m \u001b[0;34m[\u001b[0m\u001b[0;34m]\u001b[0m\u001b[0;34m\u001b[0m\u001b[0;34m\u001b[0m\u001b[0m\n",
            "\u001b[0;32m/usr/local/lib/python3.7/dist-packages/torch/nn/modules/linear.py\u001b[0m in \u001b[0;36mforward\u001b[0;34m(self, input)\u001b[0m\n\u001b[1;32m    112\u001b[0m \u001b[0;34m\u001b[0m\u001b[0m\n\u001b[1;32m    113\u001b[0m     \u001b[0;32mdef\u001b[0m \u001b[0mforward\u001b[0m\u001b[0;34m(\u001b[0m\u001b[0mself\u001b[0m\u001b[0;34m,\u001b[0m \u001b[0minput\u001b[0m\u001b[0;34m:\u001b[0m \u001b[0mTensor\u001b[0m\u001b[0;34m)\u001b[0m \u001b[0;34m->\u001b[0m \u001b[0mTensor\u001b[0m\u001b[0;34m:\u001b[0m\u001b[0;34m\u001b[0m\u001b[0;34m\u001b[0m\u001b[0m\n\u001b[0;32m--> 114\u001b[0;31m         \u001b[0;32mreturn\u001b[0m \u001b[0mF\u001b[0m\u001b[0;34m.\u001b[0m\u001b[0mlinear\u001b[0m\u001b[0;34m(\u001b[0m\u001b[0minput\u001b[0m\u001b[0;34m,\u001b[0m \u001b[0mself\u001b[0m\u001b[0;34m.\u001b[0m\u001b[0mweight\u001b[0m\u001b[0;34m,\u001b[0m \u001b[0mself\u001b[0m\u001b[0;34m.\u001b[0m\u001b[0mbias\u001b[0m\u001b[0;34m)\u001b[0m\u001b[0;34m\u001b[0m\u001b[0;34m\u001b[0m\u001b[0m\n\u001b[0m\u001b[1;32m    115\u001b[0m \u001b[0;34m\u001b[0m\u001b[0m\n\u001b[1;32m    116\u001b[0m     \u001b[0;32mdef\u001b[0m \u001b[0mextra_repr\u001b[0m\u001b[0;34m(\u001b[0m\u001b[0mself\u001b[0m\u001b[0;34m)\u001b[0m \u001b[0;34m->\u001b[0m \u001b[0mstr\u001b[0m\u001b[0;34m:\u001b[0m\u001b[0;34m\u001b[0m\u001b[0;34m\u001b[0m\u001b[0m\n",
            "\u001b[0;31mTypeError\u001b[0m: linear(): argument 'input' (position 1) must be Tensor, not NoneType"
          ]
        }
      ],
      "source": [
        "# a little exercise: fix the dense features so that the forward call works!\n",
        "# hint: dense features should be the shape of Batch Size x Dense Feature Dim\n",
        "\n",
        "dense_features = None\n",
        "sparse_features = torchrec.KeyedJaggedTensor.from_offsets_sync(\n",
        "    keys=[\"f1\", \"f2\"],\n",
        "    values=torch.tensor([1, 2, 4, 5, 4, 3, 2, 9]),\n",
        "    offsets=torch.tensor([0, 2, 4, 6, 8]),\n",
        ")\n",
        "\n",
        "torchrec_dlrm(dense_features, sparse_features)"
      ]
    },
    {
      "cell_type": "markdown",
      "id": "HOSdOCq3UwLS",
      "metadata": {
        "id": "HOSdOCq3UwLS"
      },
      "source": [
        "## (2) Sharding"
      ]
    },
    {
      "cell_type": "markdown",
      "id": "SYLvgomEU5WR",
      "metadata": {
        "id": "SYLvgomEU5WR"
      },
      "source": [
        "### Sharding in traditional DLRM code"
      ]
    },
    {
      "cell_type": "markdown",
      "id": "20e743bb-9fb7-4dc6-88df-be1e75ff8142",
      "metadata": {
        "id": "20e743bb-9fb7-4dc6-88df-be1e75ff8142"
      },
      "source": [
        "<img src=\"https://user-images.githubusercontent.com/8216334/166138023-316065aa-c7e0-481e-a12a-0ebb6ac06549.png\" width=500>"
      ]
    },
    {
      "cell_type": "code",
      "execution_count": null,
      "id": "vOBYAKN5JwvG",
      "metadata": {
        "id": "vOBYAKN5JwvG"
      },
      "outputs": [],
      "source": [
        "def forward(self, dense_x, lS_o, lS_i):\n",
        "    if ext_dist.my_size > 1:\n",
        "        # multi-node multi-device run\n",
        "        return self.distributed_forward(dense_x, lS_o, lS_i)\n",
        "    elif self.ndevices <= 1:\n",
        "        # single device run\n",
        "        return self.sequential_forward(dense_x, lS_o, lS_i)\n",
        "    else:\n",
        "        # single-node multi-device run\n",
        "        return self.parallel_forward(dense_x, lS_o, lS_i)"
      ]
    },
    {
      "cell_type": "markdown",
      "id": "e7zj7-BfVpcw",
      "metadata": {
        "id": "e7zj7-BfVpcw"
      },
      "source": [
        "**For example, look how distributed_forward is implemented manually below**"
      ]
    },
    {
      "cell_type": "code",
      "execution_count": null,
      "id": "euovGTqxJwxY",
      "metadata": {
        "id": "euovGTqxJwxY"
      },
      "outputs": [],
      "source": [
        "def distributed_forward(self, dense_x, lS_o, lS_i):\n",
        "        batch_size = dense_x.size()[0]\n",
        "        # WARNING: # of ranks must be <= batch size in distributed_forward call\n",
        "        if batch_size < ext_dist.my_size:\n",
        "            sys.exit(\n",
        "                \"ERROR: batch_size (%d) must be larger than number of ranks (%d)\"\n",
        "                % (batch_size, ext_dist.my_size)\n",
        "            )\n",
        "        if batch_size % ext_dist.my_size != 0:\n",
        "            sys.exit(\n",
        "                \"ERROR: batch_size %d can not split across %d ranks evenly\"\n",
        "                % (batch_size, ext_dist.my_size)\n",
        "            )\n",
        "\n",
        "        dense_x = dense_x[ext_dist.get_my_slice(batch_size)]\n",
        "        lS_o = lS_o[self.local_emb_slice]\n",
        "        lS_i = lS_i[self.local_emb_slice]\n",
        "\n",
        "        if (len(self.emb_l) != len(lS_o)) or (len(self.emb_l) != len(lS_i)):\n",
        "            sys.exit(\n",
        "                \"ERROR: corrupted model input detected in distributed_forward call\"\n",
        "            )\n",
        "\n",
        "        # embeddings\n",
        "        with record_function(\"DLRM embedding forward\"):\n",
        "            ly = self.apply_emb(lS_o, lS_i, self.emb_l, self.v_W_l)\n",
        "\n",
        "        # WARNING: Note that at this point we have the result of the embedding lookup\n",
        "        # for the entire batch on each rank. We would like to obtain partial results\n",
        "        # corresponding to all embedding lookups, but part of the batch on each rank.\n",
        "        # Therefore, matching the distribution of output of bottom mlp, so that both\n",
        "        # could be used for subsequent interactions on each device.\n",
        "        if len(self.emb_l) != len(ly):\n",
        "            sys.exit(\"ERROR: corrupted intermediate result in distributed_forward call\")\n",
        "\n",
        "        a2a_req = ext_dist.alltoall(ly, self.n_emb_per_rank)\n",
        "\n",
        "        with record_function(\"DLRM bottom nlp forward\"):\n",
        "            x = self.apply_mlp(dense_x, self.bot_l)\n",
        "\n",
        "        ly = a2a_req.wait()\n",
        "        ly = list(ly)\n",
        "\n",
        "        # interactions\n",
        "        with record_function(\"DLRM interaction forward\"):\n",
        "            z = self.interact_features(x, ly)\n",
        "\n",
        "        # top mlp\n",
        "        with record_function(\"DLRM top nlp forward\"):\n",
        "            p = self.apply_mlp(z, self.top_l)\n",
        "\n",
        "        # clamp output if needed\n",
        "        if 0.0 < self.loss_threshold and self.loss_threshold < 1.0:\n",
        "            z = torch.clamp(p, min=self.loss_threshold, max=(1.0 - self.loss_threshold))\n",
        "        else:\n",
        "            z = p\n",
        "\n",
        "        return z"
      ]
    },
    {
      "cell_type": "markdown",
      "id": "c7e2acf8-b5d6-4fd9-a826-c9c009ef93dd",
      "metadata": {
        "id": "c7e2acf8-b5d6-4fd9-a826-c9c009ef93dd"
      },
      "source": [
        "#### (Optional) Embedding Table Compression Techniques"
      ]
    },
    {
      "cell_type": "code",
      "execution_count": null,
      "id": "1838cc00-565e-45e3-a798-9ee87ca27a95",
      "metadata": {
        "colab": {
          "base_uri": "https://localhost:8080/"
        },
        "id": "1838cc00-565e-45e3-a798-9ee87ca27a95",
        "outputId": "dae914ab-8828-449e-c033-017514bcfbd2"
      },
      "outputs": [
        {
          "data": {
            "text/plain": [
              "(torch.Size([34, 16]), torch.Size([3, 16]))"
            ]
          },
          "execution_count": 24,
          "metadata": {},
          "output_type": "execute_result"
        }
      ],
      "source": [
        "import tricks.qr_embedding_bag as qr\n",
        "qr_emb = qr.QREmbeddingBag(num_categories=100, embedding_dim=16, num_collisions=3)\n",
        "\n",
        "# 100*16 => 34*16 + 3*16\n",
        "qr_emb.weight_q.shape, qr_emb.weight_r.shape"
      ]
    },
    {
      "cell_type": "code",
      "execution_count": null,
      "id": "A2mbZg2tXM8H",
      "metadata": {
        "id": "A2mbZg2tXM8H"
      },
      "outputs": [],
      "source": [
        "sparse_offsets = [torch.LongTensor([0,4]), torch.LongTensor([0,3])]\n",
        "sparse_indices = [torch.LongTensor([10,20,30,40,50,60,70]), torch.LongTensor([11,21,31,41,51,61,71])]"
      ]
    },
    {
      "cell_type": "code",
      "execution_count": null,
      "id": "16bd5f67-254a-42ca-899a-b0f7cdcb185a",
      "metadata": {
        "colab": {
          "base_uri": "https://localhost:8080/"
        },
        "id": "16bd5f67-254a-42ca-899a-b0f7cdcb185a",
        "outputId": "aaec3c27-0caa-42b0-e084-eee25462548f"
      },
      "outputs": [
        {
          "data": {
            "text/plain": [
              "torch.Size([2, 16])"
            ]
          },
          "execution_count": 26,
          "metadata": {},
          "output_type": "execute_result"
        }
      ],
      "source": [
        "qr_emb(sparse_indices[0], sparse_offsets[0]).shape"
      ]
    },
    {
      "cell_type": "code",
      "execution_count": null,
      "id": "58c0bb8d-8258-4852-bb4d-5b2dde1038c7",
      "metadata": {
        "colab": {
          "base_uri": "https://localhost:8080/"
        },
        "id": "58c0bb8d-8258-4852-bb4d-5b2dde1038c7",
        "outputId": "f699394d-5b06-45b7-9301-ac3781e6e7fa"
      },
      "outputs": [
        {
          "name": "stdout",
          "output_type": "stream",
          "text": [
            "world size: 1, current rank: 0, local rank: 0\n",
            "Using 1 GPU(s)...\n",
            "time/loss/accuracy (if enabled):\n",
            "Finished training it 1/5 of epoch 0, -1.00 ms/it, loss 0.095611\n",
            "Finished training it 2/5 of epoch 0, -1.00 ms/it, loss 0.227742\n",
            "Finished training it 3/5 of epoch 0, -1.00 ms/it, loss 0.080723\n",
            "Finished training it 4/5 of epoch 0, -1.00 ms/it, loss 0.199807\n",
            "Finished training it 5/5 of epoch 0, -1.00 ms/it, loss 0.693947\n"
          ]
        }
      ],
      "source": [
        "!python dlrm_s_pytorch.py --arch-sparse-feature-size=16 --arch-embedding-size=\"100-100\" --arch-mlp-bot=\"13-64-16\" --arch-mlp-top=\"16-8-4-1\" \\\n",
        "                          --data-generation random --mini-batch-size=2 --data-size=10 \\\n",
        "                          --use-gpu \\\n",
        "                          --qr-flag --qr-threshold 50 --qr-operation mult --qr-collisions 3"
      ]
    },
    {
      "cell_type": "code",
      "execution_count": null,
      "id": "4ec27a5b-60d8-4008-bdce-a2e909be846c",
      "metadata": {
        "colab": {
          "base_uri": "https://localhost:8080/"
        },
        "id": "4ec27a5b-60d8-4008-bdce-a2e909be846c",
        "outputId": "944bee0d-3c4f-488c-d2a1-d9ab89c41e91"
      },
      "outputs": [
        {
          "data": {
            "text/plain": [
              "PrEmbeddingBag(\n",
              "  (embs): EmbeddingBag(100, 16, mode=sum)\n",
              "  (proj): Identity()\n",
              ")"
            ]
          },
          "execution_count": 28,
          "metadata": {},
          "output_type": "execute_result"
        }
      ],
      "source": [
        "import tricks.md_embedding_bag as md\n",
        "ud_emb = md.PrEmbeddingBag(num_embeddings=100, embedding_dim=16, base_dim=16)\n",
        "ud_emb"
      ]
    },
    {
      "cell_type": "code",
      "execution_count": null,
      "id": "841522ff-342c-42c0-b577-825866b86345",
      "metadata": {
        "colab": {
          "base_uri": "https://localhost:8080/"
        },
        "id": "841522ff-342c-42c0-b577-825866b86345",
        "outputId": "703af9e1-328c-492c-95e0-2c7e38282762"
      },
      "outputs": [
        {
          "data": {
            "text/plain": [
              "PrEmbeddingBag(\n",
              "  (embs): EmbeddingBag(100, 8, mode=sum)\n",
              "  (proj): Linear(in_features=8, out_features=16, bias=False)\n",
              ")"
            ]
          },
          "execution_count": 29,
          "metadata": {},
          "output_type": "execute_result"
        }
      ],
      "source": [
        "md_emb = md.PrEmbeddingBag(num_embeddings=100, embedding_dim=8, base_dim=16)\n",
        "md_emb"
      ]
    },
    {
      "cell_type": "code",
      "execution_count": null,
      "id": "01af0519-c140-43bd-a570-33d146793406",
      "metadata": {
        "colab": {
          "base_uri": "https://localhost:8080/"
        },
        "id": "01af0519-c140-43bd-a570-33d146793406",
        "outputId": "63b23871-7ccc-4615-e842-fcdfb30e7a32"
      },
      "outputs": [
        {
          "data": {
            "text/plain": [
              "torch.Size([2, 16])"
            ]
          },
          "execution_count": 30,
          "metadata": {},
          "output_type": "execute_result"
        }
      ],
      "source": [
        "md_emb(sparse_indices[0], sparse_offsets[0]).shape"
      ]
    },
    {
      "cell_type": "code",
      "execution_count": null,
      "id": "c1a2952a-e2e2-4271-8150-f6b8011ea1dd",
      "metadata": {
        "colab": {
          "base_uri": "https://localhost:8080/"
        },
        "id": "c1a2952a-e2e2-4271-8150-f6b8011ea1dd",
        "outputId": "69902ea4-ac74-4641-97e9-0a5492b75764"
      },
      "outputs": [
        {
          "data": {
            "text/plain": [
              "tensor([128, 104,  92,  84])"
            ]
          },
          "execution_count": 31,
          "metadata": {},
          "output_type": "execute_result"
        }
      ],
      "source": [
        "md.md_solver(\n",
        "    torch.Tensor([100,200,300,400]),\n",
        "    alpha=0.3,\n",
        "    d0=128,\n",
        "    round_dim=False,\n",
        ")"
      ]
    },
    {
      "cell_type": "code",
      "execution_count": null,
      "id": "2c4ece5b-fafd-43c7-bf9a-c76391804589",
      "metadata": {
        "colab": {
          "base_uri": "https://localhost:8080/"
        },
        "id": "2c4ece5b-fafd-43c7-bf9a-c76391804589",
        "outputId": "b32fb1b0-90aa-4c84-ed56-37eb403fa048"
      },
      "outputs": [
        {
          "data": {
            "text/plain": [
              "tensor([172, 140, 124, 114])"
            ]
          },
          "execution_count": 32,
          "metadata": {},
          "output_type": "execute_result"
        }
      ],
      "source": [
        "md.md_solver(\n",
        "    torch.Tensor([100,200,300,400]),\n",
        "    alpha=0.3,\n",
        "    B=128000,\n",
        "    round_dim=False,\n",
        ")"
      ]
    },
    {
      "cell_type": "code",
      "execution_count": null,
      "id": "8a07b33d-6ada-4732-9d5a-542002c41248",
      "metadata": {
        "colab": {
          "base_uri": "https://localhost:8080/"
        },
        "id": "8a07b33d-6ada-4732-9d5a-542002c41248",
        "outputId": "d7e845fe-5fe1-411b-a9de-684025dd2362"
      },
      "outputs": [
        {
          "data": {
            "text/plain": [
              "128000"
            ]
          },
          "execution_count": 33,
          "metadata": {},
          "output_type": "execute_result"
        }
      ],
      "source": [
        "172 * 100 + 140 * 200 + 124 * 300 + 114 * 400"
      ]
    },
    {
      "cell_type": "code",
      "execution_count": null,
      "id": "50d57c9c-b719-4ffc-ade1-dacf1f5b2cf9",
      "metadata": {
        "colab": {
          "base_uri": "https://localhost:8080/"
        },
        "id": "50d57c9c-b719-4ffc-ade1-dacf1f5b2cf9",
        "outputId": "9bfac16d-7490-43ad-98c3-d0d17ddb4a84"
      },
      "outputs": [
        {
          "name": "stdout",
          "output_type": "stream",
          "text": [
            "world size: 1, current rank: 0, local rank: 0\n",
            "Using 1 GPU(s)...\n",
            "time/loss/accuracy (if enabled):\n",
            "Finished training it 1/5 of epoch 0, -1.00 ms/it, loss 0.207687\n",
            "Finished training it 2/5 of epoch 0, -1.00 ms/it, loss 0.091614\n",
            "Finished training it 3/5 of epoch 0, -1.00 ms/it, loss 0.073226\n",
            "Finished training it 4/5 of epoch 0, -1.00 ms/it, loss 0.039275\n",
            "Finished training it 5/5 of epoch 0, -1.00 ms/it, loss 0.009234\n"
          ]
        }
      ],
      "source": [
        "!python dlrm_s_pytorch.py --arch-sparse-feature-size=16 --arch-embedding-size=\"100-100\" --arch-mlp-bot=\"13-64-16\" --arch-mlp-top=\"16-8-4-1\" \\\n",
        "                          --data-generation random --mini-batch-size=2 --data-size=10 \\\n",
        "                          --use-gpu \\\n",
        "                          --md-flag --md-threshold 50 --md-temperature 0.3"
      ]
    },
    {
      "cell_type": "markdown",
      "id": "XgFw5D60WUob",
      "metadata": {
        "id": "XgFw5D60WUob"
      },
      "source": [
        "### Sharding in TorchRec"
      ]
    },
    {
      "cell_type": "code",
      "execution_count": null,
      "id": "DYIiqxkWW73D",
      "metadata": {
        "id": "DYIiqxkWW73D"
      },
      "outputs": [],
      "source": [
        "from torchrec.datasets.criteo import DEFAULT_CAT_NAMES, DEFAULT_INT_NAMES"
      ]
    },
    {
      "cell_type": "code",
      "execution_count": null,
      "id": "6DqJi9KHW70W",
      "metadata": {
        "colab": {
          "base_uri": "https://localhost:8080/"
        },
        "id": "6DqJi9KHW70W",
        "outputId": "ff16331c-9e03-4c84-e115-f08ff048f2a8"
      },
      "outputs": [
        {
          "data": {
            "text/plain": [
              "[1000000,\n",
              " 2000000,\n",
              " 3000000,\n",
              " 4000000,\n",
              " 5000000,\n",
              " 6000000,\n",
              " 7000000,\n",
              " 8000000,\n",
              " 9000000,\n",
              " 10000000,\n",
              " 11000000,\n",
              " 12000000,\n",
              " 13000000,\n",
              " 14000000,\n",
              " 15000000,\n",
              " 16000000,\n",
              " 17000000,\n",
              " 18000000,\n",
              " 19000000,\n",
              " 20000000,\n",
              " 21000000,\n",
              " 22000000,\n",
              " 23000000,\n",
              " 24000000,\n",
              " 25000000,\n",
              " 26000000]"
            ]
          },
          "execution_count": 36,
          "metadata": {},
          "output_type": "execute_result"
        }
      ],
      "source": [
        "num_embeddings_per_feature = [1000000*i for i in range(1, 27)]\n",
        "num_embeddings_per_feature"
      ]
    },
    {
      "cell_type": "code",
      "execution_count": null,
      "id": "8tQPH4aOW7xs",
      "metadata": {
        "id": "8tQPH4aOW7xs"
      },
      "outputs": [],
      "source": [
        "eb_configs = [\n",
        "    torchrec.EmbeddingBagConfig(\n",
        "        name=f\"t_{feature_name}\",\n",
        "        embedding_dim=64,\n",
        "        num_embeddings=num_embeddings_per_feature[feature_idx],\n",
        "        feature_names=[feature_name],\n",
        "    )\n",
        "    for feature_idx, feature_name in enumerate(DEFAULT_CAT_NAMES)\n",
        "]"
      ]
    },
    {
      "cell_type": "code",
      "execution_count": null,
      "id": "WIQu67eTW7uz",
      "metadata": {
        "colab": {
          "base_uri": "https://localhost:8080/"
        },
        "id": "WIQu67eTW7uz",
        "outputId": "63e4e885-5848-4687-c898-ad44adbad1db"
      },
      "outputs": [
        {
          "data": {
            "text/plain": [
              "[EmbeddingBagConfig(num_embeddings=1000000, embedding_dim=64, name='t_cat_0', data_type=<DataType.FP32: 'FP32'>, feature_names=['cat_0'], weight_init_max=None, weight_init_min=None, pooling=<PoolingType.SUM: 'SUM'>),\n",
              " EmbeddingBagConfig(num_embeddings=2000000, embedding_dim=64, name='t_cat_1', data_type=<DataType.FP32: 'FP32'>, feature_names=['cat_1'], weight_init_max=None, weight_init_min=None, pooling=<PoolingType.SUM: 'SUM'>),\n",
              " EmbeddingBagConfig(num_embeddings=3000000, embedding_dim=64, name='t_cat_2', data_type=<DataType.FP32: 'FP32'>, feature_names=['cat_2'], weight_init_max=None, weight_init_min=None, pooling=<PoolingType.SUM: 'SUM'>),\n",
              " EmbeddingBagConfig(num_embeddings=4000000, embedding_dim=64, name='t_cat_3', data_type=<DataType.FP32: 'FP32'>, feature_names=['cat_3'], weight_init_max=None, weight_init_min=None, pooling=<PoolingType.SUM: 'SUM'>),\n",
              " EmbeddingBagConfig(num_embeddings=5000000, embedding_dim=64, name='t_cat_4', data_type=<DataType.FP32: 'FP32'>, feature_names=['cat_4'], weight_init_max=None, weight_init_min=None, pooling=<PoolingType.SUM: 'SUM'>),\n",
              " EmbeddingBagConfig(num_embeddings=6000000, embedding_dim=64, name='t_cat_5', data_type=<DataType.FP32: 'FP32'>, feature_names=['cat_5'], weight_init_max=None, weight_init_min=None, pooling=<PoolingType.SUM: 'SUM'>),\n",
              " EmbeddingBagConfig(num_embeddings=7000000, embedding_dim=64, name='t_cat_6', data_type=<DataType.FP32: 'FP32'>, feature_names=['cat_6'], weight_init_max=None, weight_init_min=None, pooling=<PoolingType.SUM: 'SUM'>),\n",
              " EmbeddingBagConfig(num_embeddings=8000000, embedding_dim=64, name='t_cat_7', data_type=<DataType.FP32: 'FP32'>, feature_names=['cat_7'], weight_init_max=None, weight_init_min=None, pooling=<PoolingType.SUM: 'SUM'>),\n",
              " EmbeddingBagConfig(num_embeddings=9000000, embedding_dim=64, name='t_cat_8', data_type=<DataType.FP32: 'FP32'>, feature_names=['cat_8'], weight_init_max=None, weight_init_min=None, pooling=<PoolingType.SUM: 'SUM'>),\n",
              " EmbeddingBagConfig(num_embeddings=10000000, embedding_dim=64, name='t_cat_9', data_type=<DataType.FP32: 'FP32'>, feature_names=['cat_9'], weight_init_max=None, weight_init_min=None, pooling=<PoolingType.SUM: 'SUM'>),\n",
              " EmbeddingBagConfig(num_embeddings=11000000, embedding_dim=64, name='t_cat_10', data_type=<DataType.FP32: 'FP32'>, feature_names=['cat_10'], weight_init_max=None, weight_init_min=None, pooling=<PoolingType.SUM: 'SUM'>),\n",
              " EmbeddingBagConfig(num_embeddings=12000000, embedding_dim=64, name='t_cat_11', data_type=<DataType.FP32: 'FP32'>, feature_names=['cat_11'], weight_init_max=None, weight_init_min=None, pooling=<PoolingType.SUM: 'SUM'>),\n",
              " EmbeddingBagConfig(num_embeddings=13000000, embedding_dim=64, name='t_cat_12', data_type=<DataType.FP32: 'FP32'>, feature_names=['cat_12'], weight_init_max=None, weight_init_min=None, pooling=<PoolingType.SUM: 'SUM'>),\n",
              " EmbeddingBagConfig(num_embeddings=14000000, embedding_dim=64, name='t_cat_13', data_type=<DataType.FP32: 'FP32'>, feature_names=['cat_13'], weight_init_max=None, weight_init_min=None, pooling=<PoolingType.SUM: 'SUM'>),\n",
              " EmbeddingBagConfig(num_embeddings=15000000, embedding_dim=64, name='t_cat_14', data_type=<DataType.FP32: 'FP32'>, feature_names=['cat_14'], weight_init_max=None, weight_init_min=None, pooling=<PoolingType.SUM: 'SUM'>),\n",
              " EmbeddingBagConfig(num_embeddings=16000000, embedding_dim=64, name='t_cat_15', data_type=<DataType.FP32: 'FP32'>, feature_names=['cat_15'], weight_init_max=None, weight_init_min=None, pooling=<PoolingType.SUM: 'SUM'>),\n",
              " EmbeddingBagConfig(num_embeddings=17000000, embedding_dim=64, name='t_cat_16', data_type=<DataType.FP32: 'FP32'>, feature_names=['cat_16'], weight_init_max=None, weight_init_min=None, pooling=<PoolingType.SUM: 'SUM'>),\n",
              " EmbeddingBagConfig(num_embeddings=18000000, embedding_dim=64, name='t_cat_17', data_type=<DataType.FP32: 'FP32'>, feature_names=['cat_17'], weight_init_max=None, weight_init_min=None, pooling=<PoolingType.SUM: 'SUM'>),\n",
              " EmbeddingBagConfig(num_embeddings=19000000, embedding_dim=64, name='t_cat_18', data_type=<DataType.FP32: 'FP32'>, feature_names=['cat_18'], weight_init_max=None, weight_init_min=None, pooling=<PoolingType.SUM: 'SUM'>),\n",
              " EmbeddingBagConfig(num_embeddings=20000000, embedding_dim=64, name='t_cat_19', data_type=<DataType.FP32: 'FP32'>, feature_names=['cat_19'], weight_init_max=None, weight_init_min=None, pooling=<PoolingType.SUM: 'SUM'>),\n",
              " EmbeddingBagConfig(num_embeddings=21000000, embedding_dim=64, name='t_cat_20', data_type=<DataType.FP32: 'FP32'>, feature_names=['cat_20'], weight_init_max=None, weight_init_min=None, pooling=<PoolingType.SUM: 'SUM'>),\n",
              " EmbeddingBagConfig(num_embeddings=22000000, embedding_dim=64, name='t_cat_21', data_type=<DataType.FP32: 'FP32'>, feature_names=['cat_21'], weight_init_max=None, weight_init_min=None, pooling=<PoolingType.SUM: 'SUM'>),\n",
              " EmbeddingBagConfig(num_embeddings=23000000, embedding_dim=64, name='t_cat_22', data_type=<DataType.FP32: 'FP32'>, feature_names=['cat_22'], weight_init_max=None, weight_init_min=None, pooling=<PoolingType.SUM: 'SUM'>),\n",
              " EmbeddingBagConfig(num_embeddings=24000000, embedding_dim=64, name='t_cat_23', data_type=<DataType.FP32: 'FP32'>, feature_names=['cat_23'], weight_init_max=None, weight_init_min=None, pooling=<PoolingType.SUM: 'SUM'>),\n",
              " EmbeddingBagConfig(num_embeddings=25000000, embedding_dim=64, name='t_cat_24', data_type=<DataType.FP32: 'FP32'>, feature_names=['cat_24'], weight_init_max=None, weight_init_min=None, pooling=<PoolingType.SUM: 'SUM'>),\n",
              " EmbeddingBagConfig(num_embeddings=26000000, embedding_dim=64, name='t_cat_25', data_type=<DataType.FP32: 'FP32'>, feature_names=['cat_25'], weight_init_max=None, weight_init_min=None, pooling=<PoolingType.SUM: 'SUM'>)]"
            ]
          },
          "execution_count": 38,
          "metadata": {},
          "output_type": "execute_result"
        }
      ],
      "source": [
        "eb_configs"
      ]
    },
    {
      "cell_type": "code",
      "execution_count": null,
      "id": "ic7peQ3UW7r8",
      "metadata": {
        "id": "ic7peQ3UW7r8"
      },
      "outputs": [],
      "source": [
        "train_model = DLRMTrain(\n",
        "    DLRM(\n",
        "        embedding_bag_collection=torchrec.EmbeddingBagCollection(\n",
        "            tables=eb_configs, device=torch.device(\"meta\")\n",
        "        ),\n",
        "        dense_in_features=len(DEFAULT_INT_NAMES),\n",
        "        dense_arch_layer_sizes=[512,256,64],\n",
        "        over_arch_layer_sizes=[512,512,256,1],\n",
        "        dense_device=\"cuda:0\",\n",
        "    )\n",
        ")"
      ]
    },
    {
      "cell_type": "code",
      "execution_count": null,
      "id": "ooLZO1baW7Af",
      "metadata": {
        "id": "ooLZO1baW7Af"
      },
      "outputs": [],
      "source": [
        "from torchrec.distributed.model_parallel import *\n",
        "from torchrec.distributed.types import *\n",
        "from torchrec.distributed.planner.types import *"
      ]
    },
    {
      "cell_type": "code",
      "execution_count": null,
      "id": "dAZe5eDAYoyL",
      "metadata": {
        "id": "dAZe5eDAYoyL"
      },
      "outputs": [],
      "source": [
        "# This colab notebook only provides one gpu so let's feed it fake topology\n",
        "\n",
        "topology=Topology(\n",
        "    world_size=4,\n",
        "    compute_device=\"cuda\", \n",
        "    hbm_cap = 34359738368,  # 32GB\n",
        "    ddr_cap = 137438953472, # 128GB\n",
        ")"
      ]
    },
    {
      "cell_type": "code",
      "execution_count": null,
      "id": "RIl8NKmzYo3I",
      "metadata": {
        "colab": {
          "base_uri": "https://localhost:8080/"
        },
        "id": "RIl8NKmzYo3I",
        "outputId": "eb026d31-b9fd-4f9c-9e9f-23f86b7f9da8"
      },
      "outputs": [
        {
          "data": {
            "text/plain": [
              "world_size=4 \n",
              "compute_device=cuda\n",
              "devices=\n",
              "\tdevice 0 DeviceHardware(rank=0, storage=Storage(hbm=34359738368, ddr=137438953472), perf=0)\n",
              "\tdevice 1 DeviceHardware(rank=1, storage=Storage(hbm=34359738368, ddr=137438953472), perf=0)\n",
              "\tdevice 2 DeviceHardware(rank=2, storage=Storage(hbm=34359738368, ddr=137438953472), perf=0)\n",
              "\tdevice 3 DeviceHardware(rank=3, storage=Storage(hbm=34359738368, ddr=137438953472), perf=0)\n",
              "local_world_size=4 \n",
              "intra_host_bw=644245094.4 \n",
              "inter_host_bw=13421772.8 "
            ]
          },
          "execution_count": 42,
          "metadata": {},
          "output_type": "execute_result"
        }
      ],
      "source": [
        "topology"
      ]
    },
    {
      "cell_type": "code",
      "execution_count": null,
      "id": "p2Xn4ayDYo6Q",
      "metadata": {
        "id": "p2Xn4ayDYo6Q"
      },
      "outputs": [],
      "source": [
        "planner = EmbeddingShardingPlanner(\n",
        "    topology=topology,\n",
        ")"
      ]
    },
    {
      "cell_type": "code",
      "execution_count": null,
      "id": "UUNJW5bUZKmW",
      "metadata": {
        "id": "UUNJW5bUZKmW"
      },
      "outputs": [],
      "source": [
        "sharders = get_default_sharders()"
      ]
    },
    {
      "cell_type": "code",
      "execution_count": null,
      "id": "ee4bPa4pYo9B",
      "metadata": {
        "id": "ee4bPa4pYo9B"
      },
      "outputs": [],
      "source": [
        "plan = planner.plan(train_model, sharders)"
      ]
    },
    {
      "cell_type": "code",
      "execution_count": null,
      "id": "ksEtEtE3Yo_G",
      "metadata": {
        "id": "ksEtEtE3Yo_G"
      },
      "outputs": [],
      "source": [
        "# let's pretty print plan\n",
        "\n",
        "def parameter_sharding_to_str(sharding: ParameterSharding) -> str:\n",
        "    lines = []\n",
        "    lines.append(f\"  sharding_type {sharding.sharding_type}\")\n",
        "    lines.append(f\"  compute_kernel {sharding.compute_kernel}\")\n",
        "    lines.append(f\"  ranks {sharding.ranks}\")\n",
        "    sharding_spec = sharding.sharding_spec\n",
        "    if sharding_spec is not None and isinstance(sharding_spec, EnumerableShardingSpec):\n",
        "        shards: List[ShardMetadata] = sharding_spec.shards\n",
        "        for shard in shards:\n",
        "            lines.append(f\"    shard_offsets {shard.shard_offsets}\")\n",
        "            lines.append(f\"    shard_sizes {shard.shard_sizes}\")\n",
        "            lines.append(f\"    placement {shard.placement}\")\n",
        "    lines.append(f\"    \")\n",
        "    return '\\n'.join(lines)\n",
        "\n",
        "def sharding_plan_to_str(plan: ShardingPlan) -> str:\n",
        "    lines = []\n",
        "    for fqn, d in plan.plan.items():\n",
        "        lines.append(f\"fqn={fqn}\")\n",
        "        for param_name, param_sharding in d.items():\n",
        "            lines.append(f\"param_name={param_name}\")\n",
        "            lines.append(parameter_sharding_to_str(param_sharding))\n",
        "    return '\\n'.join(lines)"
      ]
    },
    {
      "cell_type": "code",
      "execution_count": null,
      "id": "EJlK-JVhZyTT",
      "metadata": {
        "colab": {
          "base_uri": "https://localhost:8080/"
        },
        "id": "EJlK-JVhZyTT",
        "outputId": "ecf91e12-f669-45f4-d8e4-8215999d65e9"
      },
      "outputs": [
        {
          "name": "stdout",
          "output_type": "stream",
          "text": [
            "fqn=model.sparse_arch.embedding_bag_collection\n",
            "param_name=t_cat_0\n",
            "  sharding_type table_wise\n",
            "  compute_kernel fused\n",
            "  ranks [1]\n",
            "    shard_offsets [0, 0]\n",
            "    shard_sizes [1000000, 64]\n",
            "    placement rank:1/cuda:1\n",
            "    \n",
            "param_name=t_cat_1\n",
            "  sharding_type table_wise\n",
            "  compute_kernel fused\n",
            "  ranks [0]\n",
            "    shard_offsets [0, 0]\n",
            "    shard_sizes [2000000, 64]\n",
            "    placement rank:0/cuda:0\n",
            "    \n",
            "param_name=t_cat_2\n",
            "  sharding_type table_wise\n",
            "  compute_kernel fused\n",
            "  ranks [3]\n",
            "    shard_offsets [0, 0]\n",
            "    shard_sizes [3000000, 64]\n",
            "    placement rank:3/cuda:3\n",
            "    \n",
            "param_name=t_cat_3\n",
            "  sharding_type table_wise\n",
            "  compute_kernel fused\n",
            "  ranks [2]\n",
            "    shard_offsets [0, 0]\n",
            "    shard_sizes [4000000, 64]\n",
            "    placement rank:2/cuda:2\n",
            "    \n",
            "param_name=t_cat_4\n",
            "  sharding_type table_wise\n",
            "  compute_kernel fused\n",
            "  ranks [1]\n",
            "    shard_offsets [0, 0]\n",
            "    shard_sizes [5000000, 64]\n",
            "    placement rank:1/cuda:1\n",
            "    \n",
            "param_name=t_cat_5\n",
            "  sharding_type table_wise\n",
            "  compute_kernel fused\n",
            "  ranks [0]\n",
            "    shard_offsets [0, 0]\n",
            "    shard_sizes [6000000, 64]\n",
            "    placement rank:0/cuda:0\n",
            "    \n",
            "param_name=t_cat_6\n",
            "  sharding_type table_wise\n",
            "  compute_kernel fused\n",
            "  ranks [3]\n",
            "    shard_offsets [0, 0]\n",
            "    shard_sizes [7000000, 64]\n",
            "    placement rank:3/cuda:3\n",
            "    \n",
            "param_name=t_cat_7\n",
            "  sharding_type table_wise\n",
            "  compute_kernel fused\n",
            "  ranks [2]\n",
            "    shard_offsets [0, 0]\n",
            "    shard_sizes [8000000, 64]\n",
            "    placement rank:2/cuda:2\n",
            "    \n",
            "param_name=t_cat_8\n",
            "  sharding_type table_wise\n",
            "  compute_kernel fused\n",
            "  ranks [1]\n",
            "    shard_offsets [0, 0]\n",
            "    shard_sizes [9000000, 64]\n",
            "    placement rank:1/cuda:1\n",
            "    \n",
            "param_name=t_cat_9\n",
            "  sharding_type table_wise\n",
            "  compute_kernel fused\n",
            "  ranks [0]\n",
            "    shard_offsets [0, 0]\n",
            "    shard_sizes [10000000, 64]\n",
            "    placement rank:0/cuda:0\n",
            "    \n",
            "param_name=t_cat_10\n",
            "  sharding_type table_wise\n",
            "  compute_kernel fused\n",
            "  ranks [3]\n",
            "    shard_offsets [0, 0]\n",
            "    shard_sizes [11000000, 64]\n",
            "    placement rank:3/cuda:3\n",
            "    \n",
            "param_name=t_cat_11\n",
            "  sharding_type table_wise\n",
            "  compute_kernel fused\n",
            "  ranks [2]\n",
            "    shard_offsets [0, 0]\n",
            "    shard_sizes [12000000, 64]\n",
            "    placement rank:2/cuda:2\n",
            "    \n",
            "param_name=t_cat_12\n",
            "  sharding_type table_wise\n",
            "  compute_kernel fused\n",
            "  ranks [1]\n",
            "    shard_offsets [0, 0]\n",
            "    shard_sizes [13000000, 64]\n",
            "    placement rank:1/cuda:1\n",
            "    \n",
            "param_name=t_cat_13\n",
            "  sharding_type table_wise\n",
            "  compute_kernel fused\n",
            "  ranks [0]\n",
            "    shard_offsets [0, 0]\n",
            "    shard_sizes [14000000, 64]\n",
            "    placement rank:0/cuda:0\n",
            "    \n",
            "param_name=t_cat_14\n",
            "  sharding_type table_wise\n",
            "  compute_kernel fused\n",
            "  ranks [3]\n",
            "    shard_offsets [0, 0]\n",
            "    shard_sizes [15000000, 64]\n",
            "    placement rank:3/cuda:3\n",
            "    \n",
            "param_name=t_cat_15\n",
            "  sharding_type table_wise\n",
            "  compute_kernel fused\n",
            "  ranks [2]\n",
            "    shard_offsets [0, 0]\n",
            "    shard_sizes [16000000, 64]\n",
            "    placement rank:2/cuda:2\n",
            "    \n",
            "param_name=t_cat_16\n",
            "  sharding_type table_wise\n",
            "  compute_kernel fused\n",
            "  ranks [1]\n",
            "    shard_offsets [0, 0]\n",
            "    shard_sizes [17000000, 64]\n",
            "    placement rank:1/cuda:1\n",
            "    \n",
            "param_name=t_cat_17\n",
            "  sharding_type table_wise\n",
            "  compute_kernel fused\n",
            "  ranks [0]\n",
            "    shard_offsets [0, 0]\n",
            "    shard_sizes [18000000, 64]\n",
            "    placement rank:0/cuda:0\n",
            "    \n",
            "param_name=t_cat_18\n",
            "  sharding_type table_wise\n",
            "  compute_kernel fused\n",
            "  ranks [3]\n",
            "    shard_offsets [0, 0]\n",
            "    shard_sizes [19000000, 64]\n",
            "    placement rank:3/cuda:3\n",
            "    \n",
            "param_name=t_cat_19\n",
            "  sharding_type table_wise\n",
            "  compute_kernel fused\n",
            "  ranks [2]\n",
            "    shard_offsets [0, 0]\n",
            "    shard_sizes [20000000, 64]\n",
            "    placement rank:2/cuda:2\n",
            "    \n",
            "param_name=t_cat_20\n",
            "  sharding_type table_wise\n",
            "  compute_kernel fused\n",
            "  ranks [1]\n",
            "    shard_offsets [0, 0]\n",
            "    shard_sizes [21000000, 64]\n",
            "    placement rank:1/cuda:1\n",
            "    \n",
            "param_name=t_cat_21\n",
            "  sharding_type table_wise\n",
            "  compute_kernel fused\n",
            "  ranks [0]\n",
            "    shard_offsets [0, 0]\n",
            "    shard_sizes [22000000, 64]\n",
            "    placement rank:0/cuda:0\n",
            "    \n",
            "param_name=t_cat_22\n",
            "  sharding_type table_wise\n",
            "  compute_kernel fused\n",
            "  ranks [3]\n",
            "    shard_offsets [0, 0]\n",
            "    shard_sizes [23000000, 64]\n",
            "    placement rank:3/cuda:3\n",
            "    \n",
            "param_name=t_cat_23\n",
            "  sharding_type table_wise\n",
            "  compute_kernel fused\n",
            "  ranks [2]\n",
            "    shard_offsets [0, 0]\n",
            "    shard_sizes [24000000, 64]\n",
            "    placement rank:2/cuda:2\n",
            "    \n",
            "param_name=t_cat_24\n",
            "  sharding_type table_wise\n",
            "  compute_kernel fused\n",
            "  ranks [1]\n",
            "    shard_offsets [0, 0]\n",
            "    shard_sizes [25000000, 64]\n",
            "    placement rank:1/cuda:1\n",
            "    \n",
            "param_name=t_cat_25\n",
            "  sharding_type table_wise\n",
            "  compute_kernel fused\n",
            "  ranks [0]\n",
            "    shard_offsets [0, 0]\n",
            "    shard_sizes [26000000, 64]\n",
            "    placement rank:0/cuda:0\n",
            "    \n"
          ]
        }
      ],
      "source": [
        "print(sharding_plan_to_str(plan))"
      ]
    },
    {
      "cell_type": "code",
      "execution_count": null,
      "id": "LXLeyvzfZyyw",
      "metadata": {
        "id": "LXLeyvzfZyyw"
      },
      "outputs": [],
      "source": [
        "# let's make it too large to fit on 1 GPU\n",
        "num_embeddings_per_feature[-1] *= 5"
      ]
    },
    {
      "cell_type": "code",
      "execution_count": null,
      "id": "sVHYGBYNZzPu",
      "metadata": {
        "id": "sVHYGBYNZzPu"
      },
      "outputs": [],
      "source": [
        "eb_configs = [\n",
        "    torchrec.EmbeddingBagConfig(\n",
        "        name=f\"t_{feature_name}\",\n",
        "        embedding_dim=64,\n",
        "        num_embeddings=num_embeddings_per_feature[feature_idx],\n",
        "        feature_names=[feature_name],\n",
        "    )\n",
        "    for feature_idx, feature_name in enumerate(DEFAULT_CAT_NAMES)\n",
        "]"
      ]
    },
    {
      "cell_type": "code",
      "execution_count": null,
      "id": "pGUst06lZzSm",
      "metadata": {
        "id": "pGUst06lZzSm"
      },
      "outputs": [],
      "source": [
        "train_model = DLRMTrain(\n",
        "    DLRM(\n",
        "        embedding_bag_collection=torchrec.EmbeddingBagCollection(\n",
        "            tables=eb_configs, device=torch.device(\"meta\")\n",
        "        ),\n",
        "        dense_in_features=len(DEFAULT_INT_NAMES),\n",
        "        dense_arch_layer_sizes=[512,256,64],\n",
        "        over_arch_layer_sizes=[512,512,256,1],\n",
        "        dense_device=\"cuda:0\",\n",
        "    )\n",
        ")"
      ]
    },
    {
      "cell_type": "code",
      "execution_count": null,
      "id": "4KhNfJFCZzU-",
      "metadata": {
        "id": "4KhNfJFCZzU-"
      },
      "outputs": [],
      "source": [
        "planner = EmbeddingShardingPlanner(\n",
        "    topology=topology,\n",
        ")"
      ]
    },
    {
      "cell_type": "code",
      "execution_count": null,
      "id": "50pQpsNdZzXm",
      "metadata": {
        "id": "50pQpsNdZzXm"
      },
      "outputs": [],
      "source": [
        "plan = planner.plan(train_model, sharders)"
      ]
    },
    {
      "cell_type": "code",
      "execution_count": null,
      "id": "FW1IhAKnYpBU",
      "metadata": {
        "colab": {
          "base_uri": "https://localhost:8080/"
        },
        "id": "FW1IhAKnYpBU",
        "outputId": "b614223d-ab3e-45f6-b9b6-bb1ef025995d"
      },
      "outputs": [
        {
          "name": "stdout",
          "output_type": "stream",
          "text": [
            "fqn=model.sparse_arch.embedding_bag_collection\n",
            "param_name=t_cat_0\n",
            "  sharding_type row_wise\n",
            "  compute_kernel fused\n",
            "  ranks [0, 1, 2, 3]\n",
            "    shard_offsets [0, 0]\n",
            "    shard_sizes [250000, 64]\n",
            "    placement rank:0/cuda:0\n",
            "    shard_offsets [250000, 0]\n",
            "    shard_sizes [250000, 64]\n",
            "    placement rank:1/cuda:1\n",
            "    shard_offsets [500000, 0]\n",
            "    shard_sizes [250000, 64]\n",
            "    placement rank:2/cuda:2\n",
            "    shard_offsets [750000, 0]\n",
            "    shard_sizes [250000, 64]\n",
            "    placement rank:3/cuda:3\n",
            "    \n",
            "param_name=t_cat_1\n",
            "  sharding_type row_wise\n",
            "  compute_kernel fused\n",
            "  ranks [0, 1, 2, 3]\n",
            "    shard_offsets [0, 0]\n",
            "    shard_sizes [500000, 64]\n",
            "    placement rank:0/cuda:0\n",
            "    shard_offsets [500000, 0]\n",
            "    shard_sizes [500000, 64]\n",
            "    placement rank:1/cuda:1\n",
            "    shard_offsets [1000000, 0]\n",
            "    shard_sizes [500000, 64]\n",
            "    placement rank:2/cuda:2\n",
            "    shard_offsets [1500000, 0]\n",
            "    shard_sizes [500000, 64]\n",
            "    placement rank:3/cuda:3\n",
            "    \n",
            "param_name=t_cat_2\n",
            "  sharding_type row_wise\n",
            "  compute_kernel fused\n",
            "  ranks [0, 1, 2, 3]\n",
            "    shard_offsets [0, 0]\n",
            "    shard_sizes [750000, 64]\n",
            "    placement rank:0/cuda:0\n",
            "    shard_offsets [750000, 0]\n",
            "    shard_sizes [750000, 64]\n",
            "    placement rank:1/cuda:1\n",
            "    shard_offsets [1500000, 0]\n",
            "    shard_sizes [750000, 64]\n",
            "    placement rank:2/cuda:2\n",
            "    shard_offsets [2250000, 0]\n",
            "    shard_sizes [750000, 64]\n",
            "    placement rank:3/cuda:3\n",
            "    \n",
            "param_name=t_cat_3\n",
            "  sharding_type row_wise\n",
            "  compute_kernel fused\n",
            "  ranks [0, 1, 2, 3]\n",
            "    shard_offsets [0, 0]\n",
            "    shard_sizes [1000000, 64]\n",
            "    placement rank:0/cuda:0\n",
            "    shard_offsets [1000000, 0]\n",
            "    shard_sizes [1000000, 64]\n",
            "    placement rank:1/cuda:1\n",
            "    shard_offsets [2000000, 0]\n",
            "    shard_sizes [1000000, 64]\n",
            "    placement rank:2/cuda:2\n",
            "    shard_offsets [3000000, 0]\n",
            "    shard_sizes [1000000, 64]\n",
            "    placement rank:3/cuda:3\n",
            "    \n",
            "param_name=t_cat_4\n",
            "  sharding_type row_wise\n",
            "  compute_kernel fused\n",
            "  ranks [0, 1, 2, 3]\n",
            "    shard_offsets [0, 0]\n",
            "    shard_sizes [1250000, 64]\n",
            "    placement rank:0/cuda:0\n",
            "    shard_offsets [1250000, 0]\n",
            "    shard_sizes [1250000, 64]\n",
            "    placement rank:1/cuda:1\n",
            "    shard_offsets [2500000, 0]\n",
            "    shard_sizes [1250000, 64]\n",
            "    placement rank:2/cuda:2\n",
            "    shard_offsets [3750000, 0]\n",
            "    shard_sizes [1250000, 64]\n",
            "    placement rank:3/cuda:3\n",
            "    \n",
            "param_name=t_cat_5\n",
            "  sharding_type row_wise\n",
            "  compute_kernel fused\n",
            "  ranks [0, 1, 2, 3]\n",
            "    shard_offsets [0, 0]\n",
            "    shard_sizes [1500000, 64]\n",
            "    placement rank:0/cuda:0\n",
            "    shard_offsets [1500000, 0]\n",
            "    shard_sizes [1500000, 64]\n",
            "    placement rank:1/cuda:1\n",
            "    shard_offsets [3000000, 0]\n",
            "    shard_sizes [1500000, 64]\n",
            "    placement rank:2/cuda:2\n",
            "    shard_offsets [4500000, 0]\n",
            "    shard_sizes [1500000, 64]\n",
            "    placement rank:3/cuda:3\n",
            "    \n",
            "param_name=t_cat_6\n",
            "  sharding_type row_wise\n",
            "  compute_kernel fused\n",
            "  ranks [0, 1, 2, 3]\n",
            "    shard_offsets [0, 0]\n",
            "    shard_sizes [1750000, 64]\n",
            "    placement rank:0/cuda:0\n",
            "    shard_offsets [1750000, 0]\n",
            "    shard_sizes [1750000, 64]\n",
            "    placement rank:1/cuda:1\n",
            "    shard_offsets [3500000, 0]\n",
            "    shard_sizes [1750000, 64]\n",
            "    placement rank:2/cuda:2\n",
            "    shard_offsets [5250000, 0]\n",
            "    shard_sizes [1750000, 64]\n",
            "    placement rank:3/cuda:3\n",
            "    \n",
            "param_name=t_cat_7\n",
            "  sharding_type row_wise\n",
            "  compute_kernel fused\n",
            "  ranks [0, 1, 2, 3]\n",
            "    shard_offsets [0, 0]\n",
            "    shard_sizes [2000000, 64]\n",
            "    placement rank:0/cuda:0\n",
            "    shard_offsets [2000000, 0]\n",
            "    shard_sizes [2000000, 64]\n",
            "    placement rank:1/cuda:1\n",
            "    shard_offsets [4000000, 0]\n",
            "    shard_sizes [2000000, 64]\n",
            "    placement rank:2/cuda:2\n",
            "    shard_offsets [6000000, 0]\n",
            "    shard_sizes [2000000, 64]\n",
            "    placement rank:3/cuda:3\n",
            "    \n",
            "param_name=t_cat_8\n",
            "  sharding_type row_wise\n",
            "  compute_kernel fused\n",
            "  ranks [0, 1, 2, 3]\n",
            "    shard_offsets [0, 0]\n",
            "    shard_sizes [2250000, 64]\n",
            "    placement rank:0/cuda:0\n",
            "    shard_offsets [2250000, 0]\n",
            "    shard_sizes [2250000, 64]\n",
            "    placement rank:1/cuda:1\n",
            "    shard_offsets [4500000, 0]\n",
            "    shard_sizes [2250000, 64]\n",
            "    placement rank:2/cuda:2\n",
            "    shard_offsets [6750000, 0]\n",
            "    shard_sizes [2250000, 64]\n",
            "    placement rank:3/cuda:3\n",
            "    \n",
            "param_name=t_cat_9\n",
            "  sharding_type row_wise\n",
            "  compute_kernel fused\n",
            "  ranks [0, 1, 2, 3]\n",
            "    shard_offsets [0, 0]\n",
            "    shard_sizes [2500000, 64]\n",
            "    placement rank:0/cuda:0\n",
            "    shard_offsets [2500000, 0]\n",
            "    shard_sizes [2500000, 64]\n",
            "    placement rank:1/cuda:1\n",
            "    shard_offsets [5000000, 0]\n",
            "    shard_sizes [2500000, 64]\n",
            "    placement rank:2/cuda:2\n",
            "    shard_offsets [7500000, 0]\n",
            "    shard_sizes [2500000, 64]\n",
            "    placement rank:3/cuda:3\n",
            "    \n",
            "param_name=t_cat_10\n",
            "  sharding_type row_wise\n",
            "  compute_kernel fused\n",
            "  ranks [0, 1, 2, 3]\n",
            "    shard_offsets [0, 0]\n",
            "    shard_sizes [2750000, 64]\n",
            "    placement rank:0/cuda:0\n",
            "    shard_offsets [2750000, 0]\n",
            "    shard_sizes [2750000, 64]\n",
            "    placement rank:1/cuda:1\n",
            "    shard_offsets [5500000, 0]\n",
            "    shard_sizes [2750000, 64]\n",
            "    placement rank:2/cuda:2\n",
            "    shard_offsets [8250000, 0]\n",
            "    shard_sizes [2750000, 64]\n",
            "    placement rank:3/cuda:3\n",
            "    \n",
            "param_name=t_cat_11\n",
            "  sharding_type row_wise\n",
            "  compute_kernel fused\n",
            "  ranks [0, 1, 2, 3]\n",
            "    shard_offsets [0, 0]\n",
            "    shard_sizes [3000000, 64]\n",
            "    placement rank:0/cuda:0\n",
            "    shard_offsets [3000000, 0]\n",
            "    shard_sizes [3000000, 64]\n",
            "    placement rank:1/cuda:1\n",
            "    shard_offsets [6000000, 0]\n",
            "    shard_sizes [3000000, 64]\n",
            "    placement rank:2/cuda:2\n",
            "    shard_offsets [9000000, 0]\n",
            "    shard_sizes [3000000, 64]\n",
            "    placement rank:3/cuda:3\n",
            "    \n",
            "param_name=t_cat_12\n",
            "  sharding_type row_wise\n",
            "  compute_kernel fused\n",
            "  ranks [0, 1, 2, 3]\n",
            "    shard_offsets [0, 0]\n",
            "    shard_sizes [3250000, 64]\n",
            "    placement rank:0/cuda:0\n",
            "    shard_offsets [3250000, 0]\n",
            "    shard_sizes [3250000, 64]\n",
            "    placement rank:1/cuda:1\n",
            "    shard_offsets [6500000, 0]\n",
            "    shard_sizes [3250000, 64]\n",
            "    placement rank:2/cuda:2\n",
            "    shard_offsets [9750000, 0]\n",
            "    shard_sizes [3250000, 64]\n",
            "    placement rank:3/cuda:3\n",
            "    \n",
            "param_name=t_cat_13\n",
            "  sharding_type row_wise\n",
            "  compute_kernel fused\n",
            "  ranks [0, 1, 2, 3]\n",
            "    shard_offsets [0, 0]\n",
            "    shard_sizes [3500000, 64]\n",
            "    placement rank:0/cuda:0\n",
            "    shard_offsets [3500000, 0]\n",
            "    shard_sizes [3500000, 64]\n",
            "    placement rank:1/cuda:1\n",
            "    shard_offsets [7000000, 0]\n",
            "    shard_sizes [3500000, 64]\n",
            "    placement rank:2/cuda:2\n",
            "    shard_offsets [10500000, 0]\n",
            "    shard_sizes [3500000, 64]\n",
            "    placement rank:3/cuda:3\n",
            "    \n",
            "param_name=t_cat_14\n",
            "  sharding_type row_wise\n",
            "  compute_kernel fused\n",
            "  ranks [0, 1, 2, 3]\n",
            "    shard_offsets [0, 0]\n",
            "    shard_sizes [3750000, 64]\n",
            "    placement rank:0/cuda:0\n",
            "    shard_offsets [3750000, 0]\n",
            "    shard_sizes [3750000, 64]\n",
            "    placement rank:1/cuda:1\n",
            "    shard_offsets [7500000, 0]\n",
            "    shard_sizes [3750000, 64]\n",
            "    placement rank:2/cuda:2\n",
            "    shard_offsets [11250000, 0]\n",
            "    shard_sizes [3750000, 64]\n",
            "    placement rank:3/cuda:3\n",
            "    \n",
            "param_name=t_cat_15\n",
            "  sharding_type row_wise\n",
            "  compute_kernel fused\n",
            "  ranks [0, 1, 2, 3]\n",
            "    shard_offsets [0, 0]\n",
            "    shard_sizes [4000000, 64]\n",
            "    placement rank:0/cuda:0\n",
            "    shard_offsets [4000000, 0]\n",
            "    shard_sizes [4000000, 64]\n",
            "    placement rank:1/cuda:1\n",
            "    shard_offsets [8000000, 0]\n",
            "    shard_sizes [4000000, 64]\n",
            "    placement rank:2/cuda:2\n",
            "    shard_offsets [12000000, 0]\n",
            "    shard_sizes [4000000, 64]\n",
            "    placement rank:3/cuda:3\n",
            "    \n",
            "param_name=t_cat_16\n",
            "  sharding_type row_wise\n",
            "  compute_kernel fused\n",
            "  ranks [0, 1, 2, 3]\n",
            "    shard_offsets [0, 0]\n",
            "    shard_sizes [4250000, 64]\n",
            "    placement rank:0/cuda:0\n",
            "    shard_offsets [4250000, 0]\n",
            "    shard_sizes [4250000, 64]\n",
            "    placement rank:1/cuda:1\n",
            "    shard_offsets [8500000, 0]\n",
            "    shard_sizes [4250000, 64]\n",
            "    placement rank:2/cuda:2\n",
            "    shard_offsets [12750000, 0]\n",
            "    shard_sizes [4250000, 64]\n",
            "    placement rank:3/cuda:3\n",
            "    \n",
            "param_name=t_cat_17\n",
            "  sharding_type row_wise\n",
            "  compute_kernel fused\n",
            "  ranks [0, 1, 2, 3]\n",
            "    shard_offsets [0, 0]\n",
            "    shard_sizes [4500000, 64]\n",
            "    placement rank:0/cuda:0\n",
            "    shard_offsets [4500000, 0]\n",
            "    shard_sizes [4500000, 64]\n",
            "    placement rank:1/cuda:1\n",
            "    shard_offsets [9000000, 0]\n",
            "    shard_sizes [4500000, 64]\n",
            "    placement rank:2/cuda:2\n",
            "    shard_offsets [13500000, 0]\n",
            "    shard_sizes [4500000, 64]\n",
            "    placement rank:3/cuda:3\n",
            "    \n",
            "param_name=t_cat_18\n",
            "  sharding_type row_wise\n",
            "  compute_kernel fused\n",
            "  ranks [0, 1, 2, 3]\n",
            "    shard_offsets [0, 0]\n",
            "    shard_sizes [4750000, 64]\n",
            "    placement rank:0/cuda:0\n",
            "    shard_offsets [4750000, 0]\n",
            "    shard_sizes [4750000, 64]\n",
            "    placement rank:1/cuda:1\n",
            "    shard_offsets [9500000, 0]\n",
            "    shard_sizes [4750000, 64]\n",
            "    placement rank:2/cuda:2\n",
            "    shard_offsets [14250000, 0]\n",
            "    shard_sizes [4750000, 64]\n",
            "    placement rank:3/cuda:3\n",
            "    \n",
            "param_name=t_cat_19\n",
            "  sharding_type row_wise\n",
            "  compute_kernel fused\n",
            "  ranks [0, 1, 2, 3]\n",
            "    shard_offsets [0, 0]\n",
            "    shard_sizes [5000000, 64]\n",
            "    placement rank:0/cuda:0\n",
            "    shard_offsets [5000000, 0]\n",
            "    shard_sizes [5000000, 64]\n",
            "    placement rank:1/cuda:1\n",
            "    shard_offsets [10000000, 0]\n",
            "    shard_sizes [5000000, 64]\n",
            "    placement rank:2/cuda:2\n",
            "    shard_offsets [15000000, 0]\n",
            "    shard_sizes [5000000, 64]\n",
            "    placement rank:3/cuda:3\n",
            "    \n",
            "param_name=t_cat_20\n",
            "  sharding_type row_wise\n",
            "  compute_kernel fused\n",
            "  ranks [0, 1, 2, 3]\n",
            "    shard_offsets [0, 0]\n",
            "    shard_sizes [5250000, 64]\n",
            "    placement rank:0/cuda:0\n",
            "    shard_offsets [5250000, 0]\n",
            "    shard_sizes [5250000, 64]\n",
            "    placement rank:1/cuda:1\n",
            "    shard_offsets [10500000, 0]\n",
            "    shard_sizes [5250000, 64]\n",
            "    placement rank:2/cuda:2\n",
            "    shard_offsets [15750000, 0]\n",
            "    shard_sizes [5250000, 64]\n",
            "    placement rank:3/cuda:3\n",
            "    \n",
            "param_name=t_cat_21\n",
            "  sharding_type row_wise\n",
            "  compute_kernel fused\n",
            "  ranks [0, 1, 2, 3]\n",
            "    shard_offsets [0, 0]\n",
            "    shard_sizes [5500000, 64]\n",
            "    placement rank:0/cuda:0\n",
            "    shard_offsets [5500000, 0]\n",
            "    shard_sizes [5500000, 64]\n",
            "    placement rank:1/cuda:1\n",
            "    shard_offsets [11000000, 0]\n",
            "    shard_sizes [5500000, 64]\n",
            "    placement rank:2/cuda:2\n",
            "    shard_offsets [16500000, 0]\n",
            "    shard_sizes [5500000, 64]\n",
            "    placement rank:3/cuda:3\n",
            "    \n",
            "param_name=t_cat_22\n",
            "  sharding_type row_wise\n",
            "  compute_kernel fused\n",
            "  ranks [0, 1, 2, 3]\n",
            "    shard_offsets [0, 0]\n",
            "    shard_sizes [5750000, 64]\n",
            "    placement rank:0/cuda:0\n",
            "    shard_offsets [5750000, 0]\n",
            "    shard_sizes [5750000, 64]\n",
            "    placement rank:1/cuda:1\n",
            "    shard_offsets [11500000, 0]\n",
            "    shard_sizes [5750000, 64]\n",
            "    placement rank:2/cuda:2\n",
            "    shard_offsets [17250000, 0]\n",
            "    shard_sizes [5750000, 64]\n",
            "    placement rank:3/cuda:3\n",
            "    \n",
            "param_name=t_cat_23\n",
            "  sharding_type row_wise\n",
            "  compute_kernel fused\n",
            "  ranks [0, 1, 2, 3]\n",
            "    shard_offsets [0, 0]\n",
            "    shard_sizes [6000000, 64]\n",
            "    placement rank:0/cuda:0\n",
            "    shard_offsets [6000000, 0]\n",
            "    shard_sizes [6000000, 64]\n",
            "    placement rank:1/cuda:1\n",
            "    shard_offsets [12000000, 0]\n",
            "    shard_sizes [6000000, 64]\n",
            "    placement rank:2/cuda:2\n",
            "    shard_offsets [18000000, 0]\n",
            "    shard_sizes [6000000, 64]\n",
            "    placement rank:3/cuda:3\n",
            "    \n",
            "param_name=t_cat_24\n",
            "  sharding_type row_wise\n",
            "  compute_kernel fused\n",
            "  ranks [0, 1, 2, 3]\n",
            "    shard_offsets [0, 0]\n",
            "    shard_sizes [6250000, 64]\n",
            "    placement rank:0/cuda:0\n",
            "    shard_offsets [6250000, 0]\n",
            "    shard_sizes [6250000, 64]\n",
            "    placement rank:1/cuda:1\n",
            "    shard_offsets [12500000, 0]\n",
            "    shard_sizes [6250000, 64]\n",
            "    placement rank:2/cuda:2\n",
            "    shard_offsets [18750000, 0]\n",
            "    shard_sizes [6250000, 64]\n",
            "    placement rank:3/cuda:3\n",
            "    \n",
            "param_name=t_cat_25\n",
            "  sharding_type row_wise\n",
            "  compute_kernel fused\n",
            "  ranks [0, 1, 2, 3]\n",
            "    shard_offsets [0, 0]\n",
            "    shard_sizes [32500000, 64]\n",
            "    placement rank:0/cuda:0\n",
            "    shard_offsets [32500000, 0]\n",
            "    shard_sizes [32500000, 64]\n",
            "    placement rank:1/cuda:1\n",
            "    shard_offsets [65000000, 0]\n",
            "    shard_sizes [32500000, 64]\n",
            "    placement rank:2/cuda:2\n",
            "    shard_offsets [97500000, 0]\n",
            "    shard_sizes [32500000, 64]\n",
            "    placement rank:3/cuda:3\n",
            "    \n"
          ]
        }
      ],
      "source": [
        "print(sharding_plan_to_str(plan))"
      ]
    },
    {
      "cell_type": "code",
      "execution_count": null,
      "id": "juUPGnwJa4A-",
      "metadata": {
        "id": "juUPGnwJa4A-"
      },
      "outputs": [],
      "source": []
    },
    {
      "cell_type": "markdown",
      "id": "PPGiTPZtcUYQ",
      "metadata": {
        "id": "PPGiTPZtcUYQ"
      },
      "source": [
        "## (3) Training"
      ]
    },
    {
      "cell_type": "markdown",
      "id": "nzOpcgf2cUSi",
      "metadata": {
        "id": "nzOpcgf2cUSi"
      },
      "source": [
        "### Please do the following\n",
        "\n",
        "(1) Open chrome and enter chrome://tracing in the address bar.\n",
        "\n",
        "(2) Please load the `A100_4_table_wise_batched_fused_32768_128.json` file provided to you.\n",
        "\n",
        "You should see something like the figure below."
      ]
    },
    {
      "cell_type": "markdown",
      "id": "puG2XvTyHvP3",
      "metadata": {
        "id": "puG2XvTyHvP3"
      },
      "source": [
        "![Screen Shot 2022-07-31 at 12.18.13 AM.png](data:image/png;base64,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)"
      ]
    },
    {
      "cell_type": "code",
      "execution_count": 6,
      "id": "Tlq8lgYLa396",
      "metadata": {
        "id": "Tlq8lgYLa396"
      },
      "outputs": [
        {
          "name": "stderr",
          "output_type": "stream",
          "text": [
            "Cannot open cookies file '/tmp/cookies.txt': No such file or directory\n",
            "--2022-08-10 16:30:04--  https://docs.google.com/uc?export=download&confirm=$(wget%20--quiet%20--save-cookies%20/tmp/cookies.txt%20--keep-session-cookies%20--no-check-certificate%20'https://docs.google.com/uc?export=download&id=1uQ-k6lv86KXK0kRgsJw5qvFQg93s6GeI'%20-O-%20%7C%20sed%20-rn%20's/.*confirm=([0-9A-Za-z_]+).*/%5C1%5Cn/p')&id=1uQ-k6lv86KXK0kRgsJw5qvFQg93s6GeI\n",
            "Resolving docs.google.com (docs.google.com)... 142.250.207.110\n",
            "Connecting to docs.google.com (docs.google.com)|142.250.207.110|:443... connected.\n",
            "HTTP request sent, awaiting response... 404 Not Found\n",
            "2022-08-10 16:30:04 ERROR 404: Not Found.\n",
            "\n"
          ]
        }
      ],
      "source": [
        "!wget --load-cookies /tmp/cookies.txt \"https://docs.google.com/uc?export=download&confirm=$(wget --quiet --save-cookies /tmp/cookies.txt --keep-session-cookies --no-check-certificate 'https://docs.google.com/uc?export=download&id=1uQ-k6lv86KXK0kRgsJw5qvFQg93s6GeI' -O- | sed -rn 's/.*confirm=([0-9A-Za-z_]+).*/\\1\\n/p')&id=1uQ-k6lv86KXK0kRgsJw5qvFQg93s6GeI\" -O wiki_p_embs.pt && rm -rf /tmp/cookies.txt"
      ]
    }
  ],
  "metadata": {
    "accelerator": "GPU",
    "colab": {
      "collapsed_sections": [],
      "name": "TorchRec Practice.ipynb의 사본",
      "provenance": []
    },
    "gpuClass": "standard",
    "kernelspec": {
      "display_name": "Python 3.7.13 ('samsung_ai')",
      "language": "python",
      "name": "python3"
    },
    "language_info": {
      "codemirror_mode": {
        "name": "ipython",
        "version": 3
      },
      "file_extension": ".py",
      "mimetype": "text/x-python",
      "name": "python",
      "nbconvert_exporter": "python",
      "pygments_lexer": "ipython3",
      "version": "3.7.13"
    },
    "vscode": {
      "interpreter": {
        "hash": "b7a88ccba101d5627a87a914a30c229ccd2d0ee8a235abb18b45220b524f9c40"
      }
    }
  },
  "nbformat": 4,
  "nbformat_minor": 5
}
