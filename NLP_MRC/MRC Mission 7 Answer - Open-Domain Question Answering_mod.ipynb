{
 "cells": [
  {
   "cell_type": "markdown",
   "metadata": {
    "id": "Ou0v1BGS_pGk"
   },
   "source": [
    "# 지금까지 배운 내용을 토대로 Open-Domain Question Answering(ODQA) 시스템 구축해보기"
   ]
  },
  {
   "cell_type": "markdown",
   "metadata": {
    "id": "Oe6Vg1o8_xOG"
   },
   "source": [
    "## Requirements"
   ]
  },
  {
   "cell_type": "code",
   "execution_count": 1,
   "metadata": {
    "executionInfo": {
     "elapsed": 26506,
     "status": "ok",
     "timestamp": 1658747026343,
     "user": {
      "displayName": "Hyunji Lee",
      "userId": "07448774681661174344"
     },
     "user_tz": -540
    },
    "id": "fV8Myy5S_Z9l"
   },
   "outputs": [],
   "source": [
    "!pip install datasets==1.4.1 > /dev/null 2>&1 # execute command in silence\n",
    "!pip install transformers==4.20.1 > /dev/null 2>&1\n",
    "!pip install tqdm==4.41.1 > /dev/null 2>&1"
   ]
  },
  {
   "cell_type": "code",
   "execution_count": 2,
   "metadata": {
    "scrolled": true
   },
   "outputs": [
    {
     "name": "stdout",
     "output_type": "stream",
     "text": [
      "Requirement already satisfied: sklearn in /opt/conda/lib/python3.7/site-packages (0.0)\n",
      "Requirement already satisfied: scikit-learn in /opt/conda/lib/python3.7/site-packages (from sklearn) (1.0.2)\n",
      "Requirement already satisfied: joblib>=0.11 in /opt/conda/lib/python3.7/site-packages (from scikit-learn->sklearn) (1.1.0)\n",
      "Requirement already satisfied: numpy>=1.14.6 in /opt/conda/lib/python3.7/site-packages (from scikit-learn->sklearn) (1.21.5)\n",
      "Requirement already satisfied: threadpoolctl>=2.0.0 in /opt/conda/lib/python3.7/site-packages (from scikit-learn->sklearn) (3.1.0)\n",
      "Requirement already satisfied: scipy>=1.1.0 in /opt/conda/lib/python3.7/site-packages (from scikit-learn->sklearn) (1.7.3)\n",
      "\u001b[33mWARNING: Running pip as the 'root' user can result in broken permissions and conflicting behaviour with the system package manager. It is recommended to use a virtual environment instead: https://pip.pypa.io/warnings/venv\u001b[0m\n"
     ]
    }
   ],
   "source": [
    "!pip install sklearn"
   ]
  },
  {
   "cell_type": "code",
   "execution_count": 3,
   "metadata": {
    "executionInfo": {
     "elapsed": 8,
     "status": "ok",
     "timestamp": 1658747026343,
     "user": {
      "displayName": "Hyunji Lee",
      "userId": "07448774681661174344"
     },
     "user_tz": -540
    },
    "id": "FqZuBJ17RQxL"
   },
   "outputs": [],
   "source": [
    "import random\n",
    "import numpy as np\n",
    "from pprint import pprint\n",
    "\n",
    "from datasets import load_dataset, load_metric\n",
    "from sklearn.feature_extraction.text import TfidfVectorizer"
   ]
  },
  {
   "cell_type": "markdown",
   "metadata": {
    "id": "qeBIVz7u_9ZS"
   },
   "source": [
    "## 데이터 및 평가지표 불러오기"
   ]
  },
  {
   "cell_type": "code",
   "execution_count": 4,
   "metadata": {
    "colab": {
     "base_uri": "https://localhost:8080/"
    },
    "executionInfo": {
     "elapsed": 484,
     "status": "ok",
     "timestamp": 1658747026821,
     "user": {
      "displayName": "Hyunji Lee",
      "userId": "07448774681661174344"
     },
     "user_tz": -540
    },
    "id": "OTTSyjQ0__bC",
    "outputId": "9d34f4bb-b2d6-4af9-8739-18935cef17ff"
   },
   "outputs": [
    {
     "name": "stderr",
     "output_type": "stream",
     "text": [
      "Couldn't find file locally at klue/klue.py, or remotely at https://raw.githubusercontent.com/huggingface/datasets/1.4.1/datasets/klue/klue.py.\n",
      "The file was picked from the master branch on github instead at https://raw.githubusercontent.com/huggingface/datasets/master/datasets/klue/klue.py.\n",
      "Reusing dataset klue (/root/.cache/huggingface/datasets/klue/mrc/1.0.0/e0fc3bc3de3eb03be2c92d72fd04a60ecc71903f821619cb28ca0e1e29e4233e)\n"
     ]
    }
   ],
   "source": [
    "# Load KLUE MRC dataset\n",
    "from datasets import load_dataset\n",
    "dataset = load_dataset(\"klue\", 'mrc')"
   ]
  },
  {
   "cell_type": "code",
   "execution_count": 5,
   "metadata": {
    "colab": {
     "base_uri": "https://localhost:8080/"
    },
    "executionInfo": {
     "elapsed": 5,
     "status": "ok",
     "timestamp": 1658747026821,
     "user": {
      "displayName": "Hyunji Lee",
      "userId": "07448774681661174344"
     },
     "user_tz": -540
    },
    "id": "HXiwSc3M2RoY",
    "outputId": "a0e8bd97-bdac-450a-e292-2446077d7d02"
   },
   "outputs": [
    {
     "data": {
      "text/plain": [
       "DatasetDict({\n",
       "    train: Dataset({\n",
       "        features: ['title', 'context', 'news_category', 'source', 'guid', 'is_impossible', 'question_type', 'question', 'answers'],\n",
       "        num_rows: 17554\n",
       "    })\n",
       "    validation: Dataset({\n",
       "        features: ['title', 'context', 'news_category', 'source', 'guid', 'is_impossible', 'question_type', 'question', 'answers'],\n",
       "        num_rows: 5841\n",
       "    })\n",
       "})"
      ]
     },
     "execution_count": 5,
     "metadata": {},
     "output_type": "execute_result"
    }
   ],
   "source": [
    "dataset"
   ]
  },
  {
   "cell_type": "markdown",
   "metadata": {
    "id": "BwCEvozVHJx1"
   },
   "source": [
    "## Sparse retriever 가져오기"
   ]
  },
  {
   "cell_type": "code",
   "execution_count": null,
   "metadata": {},
   "outputs": [],
   "source": []
  },
  {
   "cell_type": "code",
   "execution_count": 6,
   "metadata": {
    "colab": {
     "base_uri": "https://localhost:8080/"
    },
    "executionInfo": {
     "elapsed": 1088,
     "status": "ok",
     "timestamp": 1658747027907,
     "user": {
      "displayName": "Hyunji Lee",
      "userId": "07448774681661174344"
     },
     "user_tz": -540
    },
    "id": "A_ofuxEf2syp",
    "outputId": "81026cd7-8391-440e-e0cc-eddc01a1fae4"
   },
   "outputs": [],
   "source": [
    "# klue data가 포함된 wiki documents 가져오기\n",
    "#!wget --load-cookies /tmp/cookies.txt \"https://docs.google.com/uc?export=download&confirm=$(wget --quiet --save-cookies /tmp/cookies.txt --keep-session-cookies --no-check-certificate 'https://docs.google.com/uc?export=download&id=1wVIgtc0YoQEwXB3JAsUud_86fRzrFCBd' -O- | sed -rn 's/.*confirm=([0-9A-Za-z_]+).*/\\1\\n/p')&id=1wVIgtc0YoQEwXB3JAsUud_86fRzrFCBd\" -O wikipedia_documents.json && rm -rf /tmp/cookies.txt"
   ]
  },
  {
   "cell_type": "code",
   "execution_count": 7,
   "metadata": {
    "executionInfo": {
     "elapsed": 1470,
     "status": "ok",
     "timestamp": 1658747029375,
     "user": {
      "displayName": "Hyunji Lee",
      "userId": "07448774681661174344"
     },
     "user_tz": -540
    },
    "id": "1H7pNYgv212k"
   },
   "outputs": [],
   "source": [
    "# First load wikipedia dump\n",
    "import json\n",
    "\n",
    "dump_path = 'wikipedia_documents.json' \n",
    "with open(dump_path, 'r') as f:\n",
    "    wiki = json.load(f)\n",
    "\n",
    "corpus = [document['text'] for document_id, document in wiki.items()]"
   ]
  },
  {
   "cell_type": "code",
   "execution_count": 8,
   "metadata": {
    "executionInfo": {
     "elapsed": 3,
     "status": "ok",
     "timestamp": 1658747029376,
     "user": {
      "displayName": "Hyunji Lee",
      "userId": "07448774681661174344"
     },
     "user_tz": -540
    },
    "id": "pegv4C2gOqHY"
   },
   "outputs": [],
   "source": [
    "# TODO: Extract & merge corpus from KLUE MRC dataset\n",
    "from typing import List\n",
    "#corpus: List[str] = ..."
   ]
  },
  {
   "cell_type": "code",
   "execution_count": 9,
   "metadata": {
    "executionInfo": {
     "elapsed": 97138,
     "status": "ok",
     "timestamp": 1658747126512,
     "user": {
      "displayName": "Hyunji Lee",
      "userId": "07448774681661174344"
     },
     "user_tz": -540
    },
    "id": "__M_YndwHPZY"
   },
   "outputs": [],
   "source": [
    "tokenizer_func = lambda x: x.split(' ')\n",
    "\n",
    "vectorizer = TfidfVectorizer(tokenizer=tokenizer_func, ngram_range=(1,2))\n",
    "sp_matrix = vectorizer.fit_transform(corpus)"
   ]
  },
  {
   "cell_type": "code",
   "execution_count": 10,
   "metadata": {
    "executionInfo": {
     "elapsed": 24,
     "status": "ok",
     "timestamp": 1658747126514,
     "user": {
      "displayName": "Hyunji Lee",
      "userId": "07448774681661174344"
     },
     "user_tz": -540
    },
    "id": "6ffj46R5IfTi"
   },
   "outputs": [],
   "source": [
    "def get_relevant_doc(vectorizer, query, k=1):\n",
    "    \"\"\"\n",
    "    참고: vocab 에 없는 이상한 단어로 query 하는 경우 assertion 발생 (예) 뙣뙇?\n",
    "    \"\"\"\n",
    "    query_vec = vectorizer.transform([query])\n",
    "    assert np.sum(query_vec) != 0, \"오류가 발생했습니다. 이 오류는 보통 query에 vectorizer의 vocab에 없는 단어만 존재하는 경우 발생합니다.\"\n",
    "    result = query_vec * sp_matrix.T\n",
    "    sorted_result = np.argsort(-result.data)\n",
    "    doc_scores = result.data[sorted_result]\n",
    "    doc_ids = result.indices[sorted_result]\n",
    "    return doc_scores[:k], doc_ids[:k]"
   ]
  },
  {
   "cell_type": "markdown",
   "metadata": {
    "id": "H3bltBt1JAty"
   },
   "source": [
    "테스트해보기 \n",
    "- 사용자 입력해서 어떤 문서가 나오는지 확인\n",
    "- sample_idx 의 경우 4강에서 이미 진행"
   ]
  },
  {
   "cell_type": "code",
   "execution_count": 11,
   "metadata": {
    "colab": {
     "base_uri": "https://localhost:8080/"
    },
    "id": "9hsRe_8XI9fr",
    "outputId": "f76b5f0b-5f80-4e5c-ddb6-a5a724a3b061"
   },
   "outputs": [
    {
     "name": "stdout",
     "output_type": "stream",
     "text": [
      "Enter any question: 김영삼이 단일화를 시도한 평화민주당의 대선 후보 이름은?\"\n",
      "******************** Result ********************\n",
      "[Search query]\n",
      " 김영삼이 단일화를 시도한 평화민주당의 대선 후보 이름은?\" \n",
      "\n",
      "[Relevant Doc ID(Top 1 passage)]: 52892\n",
      "결국 양김씨의 단일화 협상은 국민의 높은 열망에도 불구하고 결렬되었다.  김대중 의장은 민주당을 탈당하고 독자 대선 출마를 위한 신당 창당에 나섰으며, 김영삼 총재 역시 민주당의 대선 후보로 추대되기 위한 작업을 시작하였다.\n",
      "\n",
      "민주당은 1987년 11월 9일 대의원 1,203명이 참석한 가운데 전당대회를 개최하고 김영삼 총재를 제13대 대통령 후보로 추대하였다.\n",
      "\n",
      "김영삼 후보는 평화민주당의 대선 후보로 출마한 김대중 후보와 몇 차례에 걸쳐 단일화를 시도하였으나 실패하였고, 결국 야권은 분열된 채로 대선을 맞이하였다. 선거 결과 김영삼 후보와 김대중 후보는 각각 2위와 3위로 낙선하였으며, 민주정의당의 노태우 후보가 대통령에 당선되었다.\n"
     ]
    }
   ],
   "source": [
    "\"\"\" 원하는 질문을 입력해보기 \"\"\"\n",
    "query = input(\"Enter any question: \") # \"김영삼이 단일화를 시도한 평화민주당의 대선 후보 이름은?\"\n",
    "# query = \"김영삼이 단일화를 시도한 평화민주당의 대선 후보 이름은?\"\n",
    "_, doc_id = get_relevant_doc(vectorizer, query, k=1)\n",
    "\n",
    "\"\"\" 결과 확인 \"\"\"\n",
    "\n",
    "print(\"{} {} {}\".format('*'*20, 'Result','*'*20))\n",
    "print(\"[Search query]\\n\", query, \"\\n\")\n",
    "print(f\"[Relevant Doc ID(Top 1 passage)]: {doc_id.item()}\")\n",
    "print(corpus[doc_id.item()])\n",
    "\n",
    "# print(answer)"
   ]
  },
  {
   "cell_type": "markdown",
   "metadata": {
    "id": "l3FrW6GVHEeg"
   },
   "source": [
    "## 훈련된 MRC 모델 가져오기\n"
   ]
  },
  {
   "cell_type": "code",
   "execution_count": 12,
   "metadata": {
    "id": "QL6aQ9GcyA4z"
   },
   "outputs": [],
   "source": [
    "import torch\n",
    "from transformers import (\n",
    "    AutoConfig,\n",
    "    AutoModelForQuestionAnswering,\n",
    "    AutoTokenizer\n",
    ")"
   ]
  },
  {
   "cell_type": "code",
   "execution_count": 13,
   "metadata": {
    "id": "ZlNS4TDkXL-W"
   },
   "outputs": [
    {
     "data": {
      "application/vnd.jupyter.widget-view+json": {
       "model_id": "5689a87e07714db383148e82246ee993",
       "version_major": 2,
       "version_minor": 0
      },
      "text/plain": [
       "HBox(children=(FloatProgress(value=0.0, description='Downloading', max=803.0, style=ProgressStyle(description_…"
      ]
     },
     "metadata": {},
     "output_type": "display_data"
    },
    {
     "name": "stdout",
     "output_type": "stream",
     "text": [
      "\n"
     ]
    },
    {
     "data": {
      "application/vnd.jupyter.widget-view+json": {
       "model_id": "46ba55e1e69641f3ae9ec86876714588",
       "version_major": 2,
       "version_minor": 0
      },
      "text/plain": [
       "HBox(children=(FloatProgress(value=0.0, description='Downloading', max=709143679.0, style=ProgressStyle(descri…"
      ]
     },
     "metadata": {},
     "output_type": "display_data"
    },
    {
     "name": "stdout",
     "output_type": "stream",
     "text": [
      "\n"
     ]
    },
    {
     "data": {
      "application/vnd.jupyter.widget-view+json": {
       "model_id": "b556e8a3ffa0481397ceb590c41709f3",
       "version_major": 2,
       "version_minor": 0
      },
      "text/plain": [
       "HBox(children=(FloatProgress(value=0.0, description='Downloading', max=367.0, style=ProgressStyle(description_…"
      ]
     },
     "metadata": {},
     "output_type": "display_data"
    },
    {
     "name": "stdout",
     "output_type": "stream",
     "text": [
      "\n"
     ]
    },
    {
     "data": {
      "application/vnd.jupyter.widget-view+json": {
       "model_id": "5ecf40b5eaac4b81be6c3b9bf0d6a1ae",
       "version_major": 2,
       "version_minor": 0
      },
      "text/plain": [
       "HBox(children=(FloatProgress(value=0.0, description='Downloading', max=995526.0, style=ProgressStyle(descripti…"
      ]
     },
     "metadata": {},
     "output_type": "display_data"
    },
    {
     "name": "stdout",
     "output_type": "stream",
     "text": [
      "\n"
     ]
    },
    {
     "data": {
      "application/vnd.jupyter.widget-view+json": {
       "model_id": "8e6066b541ac476f8f5c1c7a1483efef",
       "version_major": 2,
       "version_minor": 0
      },
      "text/plain": [
       "HBox(children=(FloatProgress(value=0.0, description='Downloading', max=112.0, style=ProgressStyle(description_…"
      ]
     },
     "metadata": {},
     "output_type": "display_data"
    },
    {
     "name": "stdout",
     "output_type": "stream",
     "text": [
      "\n"
     ]
    }
   ],
   "source": [
    "model_name = 'sangrimlee/bert-base-multilingual-cased-korquad'\n",
    "mrc_model = AutoModelForQuestionAnswering.from_pretrained(model_name)\n",
    "tokenizer = AutoTokenizer.from_pretrained(\n",
    "    model_name,\n",
    "    use_fast=True\n",
    ")\n",
    "mrc_model = mrc_model.eval()"
   ]
  },
  {
   "cell_type": "code",
   "execution_count": 14,
   "metadata": {
    "id": "0WSEJ5YzyTUM"
   },
   "outputs": [],
   "source": [
    "def get_answer_from_context(context, question, model, tokenizer):\n",
    "    encoded_dict = tokenizer.encode_plus(  \n",
    "        question,\n",
    "        context,\n",
    "        truncation=True,\n",
    "        padding=\"max_length\",\n",
    "        max_length=512,\n",
    "    )\n",
    "    non_padded_ids = encoded_dict[\"input_ids\"][: encoded_dict[\"input_ids\"].index(tokenizer.pad_token_id)]\n",
    "    full_text = tokenizer.decode(non_padded_ids)\n",
    "    inputs = {\n",
    "    'input_ids': torch.tensor([encoded_dict['input_ids']], dtype=torch.long),\n",
    "    'attention_mask': torch.tensor([encoded_dict['attention_mask']], dtype=torch.long),\n",
    "    'token_type_ids': torch.tensor([encoded_dict['token_type_ids']], dtype=torch.long)\n",
    "    }\n",
    "\n",
    "    outputs = model(**inputs)\n",
    "    start, end = torch.max(outputs.start_logits, axis=1).indices.item(), torch.max(outputs.end_logits, axis=1).indices.item()\n",
    "    answer = tokenizer.decode(encoded_dict['input_ids'][start:end+1])\n",
    "    return answer"
   ]
  },
  {
   "cell_type": "code",
   "execution_count": 15,
   "metadata": {
    "id": "ytJW9Ircmini"
   },
   "outputs": [
    {
     "name": "stdout",
     "output_type": "stream",
     "text": [
      "******************** Result ********************\n",
      "[Search query]\n",
      " 김영삼이 단일화를 시도한 평화민주당의 대선 후보 이름은?\" \n",
      "\n",
      "[Relevant Doc ID(Top 1 passage)]: 52892\n",
      "('결국 양김씨의 단일화 협상은 국민의 높은 열망에도 불구하고 결렬되었다.  김대중 의장은 민주당을 탈당하고 독자 대선 출마를 위한 신당 '\n",
      " '창당에 나섰으며, 김영삼 총재 역시 민주당의 대선 후보로 추대되기 위한 작업을 시작하였다.\\n'\n",
      " '\\n'\n",
      " '민주당은 1987년 11월 9일 대의원 1,203명이 참석한 가운데 전당대회를 개최하고 김영삼 총재를 제13대 대통령 후보로 '\n",
      " '추대하였다.\\n'\n",
      " '\\n'\n",
      " '김영삼 후보는 평화민주당의 대선 후보로 출마한 김대중 후보와 몇 차례에 걸쳐 단일화를 시도하였으나 실패하였고, 결국 야권은 분열된 채로 '\n",
      " '대선을 맞이하였다. 선거 결과 김영삼 후보와 김대중 후보는 각각 2위와 3위로 낙선하였으며, 민주정의당의 노태우 후보가 대통령에 '\n",
      " '당선되었다.')\n",
      "[Answer Prediction from the model]: 김대중\n"
     ]
    }
   ],
   "source": [
    "context = corpus[doc_id.item()]\n",
    "answer = get_answer_from_context(context, query, mrc_model, tokenizer)\n",
    "print(\"{} {} {}\".format('*'*20, 'Result','*'*20))\n",
    "print(\"[Search query]\\n\", query, \"\\n\")\n",
    "print(f\"[Relevant Doc ID(Top 1 passage)]: {doc_id.item()}\")\n",
    "pprint(corpus[doc_id.item()], compact=True)\n",
    "print(f\"[Answer Prediction from the model]: {answer}\")"
   ]
  },
  {
   "cell_type": "markdown",
   "metadata": {
    "id": "6xSwlua1SrSE"
   },
   "source": [
    "## 통합해서 ODQA 시스템 구축하기"
   ]
  },
  {
   "cell_type": "code",
   "execution_count": 16,
   "metadata": {
    "id": "fWaNaJcCShmr"
   },
   "outputs": [],
   "source": [
    "def open_domain_qa(query, corpus, vectorizer, model, tokenizer, k=1):\n",
    "    # 1. Retrieve k relevant docs by usign sparse matrix\n",
    "    _, doc_id = get_relevant_doc(vectorizer, query, k=1)\n",
    "    context = corpus[doc_id.item()]\n",
    "\n",
    "    # 2. Predict answer from given doc by using MRC model\n",
    "    answer = get_answer_from_context(context, query, mrc_model, tokenizer)\n",
    "    print(\"{} {} {}\".format('*'*20, 'Result','*'*20))\n",
    "    print(\"[Search query]\\n\", query, \"\\n\")\n",
    "    print(f\"[Relevant Doc ID(Top 1 passage)]: {doc_id.item()}\")\n",
    "    pprint(corpus[doc_id.item()], compact=True)\n",
    "    print(f\"[Answer Prediction from the model]: {answer}\")"
   ]
  },
  {
   "cell_type": "code",
   "execution_count": 17,
   "metadata": {
    "id": "SSApAgEySeH6"
   },
   "outputs": [
    {
     "name": "stdout",
     "output_type": "stream",
     "text": [
      "Enter any question: 김영삼이 단일화를 시도한 평화민주당의 대선 후보 이름은?\n",
      "******************** Result ********************\n",
      "[Search query]\n",
      " 김영삼이 단일화를 시도한 평화민주당의 대선 후보 이름은? \n",
      "\n",
      "[Relevant Doc ID(Top 1 passage)]: 52892\n",
      "('결국 양김씨의 단일화 협상은 국민의 높은 열망에도 불구하고 결렬되었다.  김대중 의장은 민주당을 탈당하고 독자 대선 출마를 위한 신당 '\n",
      " '창당에 나섰으며, 김영삼 총재 역시 민주당의 대선 후보로 추대되기 위한 작업을 시작하였다.\\n'\n",
      " '\\n'\n",
      " '민주당은 1987년 11월 9일 대의원 1,203명이 참석한 가운데 전당대회를 개최하고 김영삼 총재를 제13대 대통령 후보로 '\n",
      " '추대하였다.\\n'\n",
      " '\\n'\n",
      " '김영삼 후보는 평화민주당의 대선 후보로 출마한 김대중 후보와 몇 차례에 걸쳐 단일화를 시도하였으나 실패하였고, 결국 야권은 분열된 채로 '\n",
      " '대선을 맞이하였다. 선거 결과 김영삼 후보와 김대중 후보는 각각 2위와 3위로 낙선하였으며, 민주정의당의 노태우 후보가 대통령에 '\n",
      " '당선되었다.')\n",
      "[Answer Prediction from the model]: 김대중\n"
     ]
    }
   ],
   "source": [
    "query = input(\"Enter any question: \") #\"김영삼이 단일화를 시도한 평화민주당의 대선 후보 이름은?\"\n",
    "open_domain_qa(query, corpus, vectorizer, mrc_model, tokenizer, k=1)"
   ]
  },
  {
   "cell_type": "code",
   "execution_count": null,
   "metadata": {
    "id": "Xai6DmNI7KRD"
   },
   "outputs": [],
   "source": []
  },
  {
   "cell_type": "code",
   "execution_count": null,
   "metadata": {},
   "outputs": [],
   "source": []
  }
 ],
 "metadata": {
  "colab": {
   "collapsed_sections": [],
   "name": "MRC Mission 7 Answer - Open-Domain Question Answering.ipynb",
   "provenance": []
  },
  "kernelspec": {
   "display_name": "Python 3 (ipykernel)",
   "language": "python",
   "name": "python3"
  },
  "language_info": {
   "codemirror_mode": {
    "name": "ipython",
    "version": 3
   },
   "file_extension": ".py",
   "mimetype": "text/x-python",
   "name": "python",
   "nbconvert_exporter": "python",
   "pygments_lexer": "ipython3",
   "version": "3.7.13"
  },
  "vscode": {
   "interpreter": {
    "hash": "b7a88ccba101d5627a87a914a30c229ccd2d0ee8a235abb18b45220b524f9c40"
   }
  }
 },
 "nbformat": 4,
 "nbformat_minor": 1
}
