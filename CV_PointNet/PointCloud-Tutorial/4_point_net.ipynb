{
 "cells": [
  {
   "cell_type": "code",
   "execution_count": 21,
   "metadata": {},
   "outputs": [],
   "source": [
    "import torch\n",
    "import torch.nn as nn\n",
    "import torch.nn.functional as F\n",
    "import torch.utils.data as Data\n",
    "\n",
    "from module.dataset import ModelNet40\n",
    "from module.utils import *\n",
    "\n",
    "import os, sys\n",
    "from collections import OrderedDict\n",
    "\n",
    "device = torch.device('cuda' if torch.cuda.is_available() else 'cpu')"
   ]
  },
  {
   "cell_type": "code",
   "execution_count": 22,
   "metadata": {},
   "outputs": [],
   "source": [
    "class BatchNorm(nn.Module):\n",
    "    '''\n",
    "        Perform batch normalization.\n",
    "        Input: A tensor of size (N, M, feature_dim), or (N, feature_dim, M) (available when feature_dim != M), \n",
    "                or (N, feature_dim)\n",
    "        Output: A tensor of the same size as input.\n",
    "    '''\n",
    "    def __init__(self, feature_dim):\n",
    "        super(BatchNorm, self).__init__()\n",
    "        self.feature_dim = feature_dim\n",
    "        self.batchnorm = nn.BatchNorm1d(feature_dim)\n",
    "        self.permute = Permute((0, 2, 1))\n",
    "\n",
    "    def forward(self, x):\n",
    "        if (len(x.shape) == 3) and (x.shape[-1] == self.feature_dim):\n",
    "            return self.permute(self.batchnorm(self.permute(x)))\n",
    "        else:\n",
    "            return self.batchnorm(x)"
   ]
  },
  {
   "cell_type": "code",
   "execution_count": 23,
   "metadata": {},
   "outputs": [],
   "source": [
    "class Permute(nn.Module):\n",
    "    def __init__(self, param):\n",
    "        super(Permute, self).__init__()\n",
    "        self.param = param\n",
    "\n",
    "    def forward(self, x):\n",
    "        return x.permute(self.param)"
   ]
  },
  {
   "cell_type": "code",
   "execution_count": 24,
   "metadata": {},
   "outputs": [],
   "source": [
    "class MLP(nn.Module):\n",
    "    def __init__(self, hidden_size, batchnorm = True, last_activation = True):\n",
    "        super(MLP, self).__init__()\n",
    "        q = []\n",
    "        for i in range(len(hidden_size)-1):\n",
    "            in_dim = hidden_size[i]\n",
    "            out_dim = hidden_size[i+1]\n",
    "            q.append((\"Linear_%d\" % i, nn.Linear(in_dim, out_dim)))\n",
    "            if (i < len(hidden_size) - 2) or ((i == len(hidden_size) - 2) and (last_activation)):\n",
    "                if (batchnorm):\n",
    "                    q.append((\"Batchnorm_%d\" % i, BatchNorm(out_dim)))\n",
    "                q.append((\"ReLU_%d\" % i, nn.ReLU(inplace=True)))\n",
    "        self.mlp = nn.Sequential(OrderedDict(q))\n",
    "\n",
    "    def forward(self, x):\n",
    "        return self.mlp(x)"
   ]
  },
  {
   "cell_type": "code",
   "execution_count": 25,
   "metadata": {},
   "outputs": [],
   "source": [
    "class MaxPooling(nn.Module):\n",
    "    def __init__(self):\n",
    "        super(MaxPooling, self).__init__()\n",
    "\n",
    "    def forward(self, x, dim=1, keepdim = False):\n",
    "        res, _ = torch.max(x, dim=dim, keepdim = keepdim)\n",
    "        return res"
   ]
  },
  {
   "cell_type": "code",
   "execution_count": 26,
   "metadata": {},
   "outputs": [],
   "source": [
    "class TNet(nn.Module):\n",
    "    def __init__(self, nfeat):\n",
    "        super(TNet, self).__init__()\n",
    "        self.nfeat = nfeat\n",
    "        self.tnet = nn.Sequential(MLP((nfeat, 64, 128, 1024)), MaxPooling(), \n",
    "                                  BatchNorm(1024), MLP((1024, 512, 256, nfeat*nfeat)))\n",
    "        \n",
    "    def forward(self, x):\n",
    "        batch_size = x.shape[0]\n",
    "        return self.tnet(x).view(batch_size, self.nfeat, self.nfeat)"
   ]
  },
  {
   "cell_type": "code",
   "execution_count": 27,
   "metadata": {},
   "outputs": [],
   "source": [
    "class PointNet(nn.Module):\n",
    "    def __init__(self, nfeat, nclass, dropout = 0):\n",
    "        super(PointNet, self).__init__()\n",
    "\n",
    "        self.input_transform = TNet(nfeat)\n",
    "        self.mlp1 = nn.Sequential(BatchNorm(3), MLP((nfeat, 64, 64)))\n",
    "        self.feature_transform = TNet(64)\n",
    "        self.mlp2 = nn.Sequential(BatchNorm(64), MLP((64, 64, 128, 1024)))\n",
    "        self.maxpooling = MaxPooling()\n",
    "        self.mlp3 = nn.Sequential(BatchNorm(1024), MLP((1024, 512, 256)), nn.Dropout(dropout), nn.Linear(256, nclass))\n",
    "        \n",
    "        self.eye64 = torch.eye(64).to(device)\n",
    "\n",
    "    def forward(self, xs):\n",
    "        batch_size = xs.shape[0]\n",
    "        \n",
    "        transform = self.input_transform(xs)\n",
    "        xs = torch.stack([torch.mm(xs[i],transform[i]) for i in range(batch_size)])\n",
    "        xs = self.mlp1(xs)\n",
    "        \n",
    "        transform = self.feature_transform(xs)\n",
    "        xs = torch.stack([torch.mm(xs[i],transform[i]) for i in range(batch_size)])\n",
    "        xs = self.mlp2(xs)\n",
    "        \n",
    "        xs = self.mlp3(self.maxpooling(xs))\n",
    "        \n",
    "        if (self.training):\n",
    "            transform_transpose = transform.transpose(1, 2)\n",
    "            tmp = torch.stack([torch.mm(transform[i], transform_transpose[i]) for i in range(batch_size)])\n",
    "            L_reg = ((tmp - self.eye64) ** 2).sum() / batch_size\n",
    "            \n",
    "        return (F.log_softmax(xs, dim=1), L_reg) if self.training else F.log_softmax(xs, dim=1)"
   ]
  },
  {
   "cell_type": "code",
   "execution_count": 33,
   "metadata": {},
   "outputs": [
    {
     "name": "stdout",
     "output_type": "stream",
     "text": [
      "train data size:  8856\n",
      "valid data size:  984\n",
      "test data size:  2468\n"
     ]
    }
   ],
   "source": [
    "lr = 0.001\n",
    "num_points = 128\n",
    "save_name = \"PointNet.pt\"\n",
    "#batch_size = 512\n",
    "batch_size = 16\n",
    "\n",
    "########### loading data ###########\n",
    "\n",
    "train_data = ModelNet40(num_points)\n",
    "test_data = ModelNet40(num_points, 'test')\n",
    "\n",
    "train_size = int(0.9 * len(train_data))\n",
    "valid_size = len(train_data) - train_size\n",
    "train_data, valid_data = Data.random_split(train_data, [train_size, valid_size])\n",
    "valid_data.partition = 'valid'\n",
    "train_data.partition = 'train'\n",
    "\n",
    "print(\"train data size: \", len(train_data))\n",
    "print(\"valid data size: \", len(valid_data))\n",
    "print(\"test data size: \", len(test_data))\n",
    "\n",
    "def collate_fn(batch):\n",
    "    Xs = torch.stack([X for X, _ in batch])\n",
    "    Ys = torch.tensor([Y for _, Y in batch], dtype = torch.long)\n",
    "    return Xs, Ys\n",
    "\n",
    "train_iter  = Data.DataLoader(train_data, shuffle = True, batch_size = batch_size, collate_fn = collate_fn)\n",
    "valid_iter = Data.DataLoader(valid_data, batch_size = batch_size, collate_fn = collate_fn)\n",
    "test_iter = Data.DataLoader(test_data, batch_size = batch_size, collate_fn = collate_fn)"
   ]
  },
  {
   "cell_type": "code",
   "execution_count": 34,
   "metadata": {},
   "outputs": [
    {
     "name": "stdout",
     "output_type": "stream",
     "text": [
      "PointNet(\n",
      "  (input_transform): TNet(\n",
      "    (tnet): Sequential(\n",
      "      (0): MLP(\n",
      "        (mlp): Sequential(\n",
      "          (Linear_0): Linear(in_features=3, out_features=64, bias=True)\n",
      "          (Batchnorm_0): BatchNorm(\n",
      "            (batchnorm): BatchNorm1d(64, eps=1e-05, momentum=0.1, affine=True, track_running_stats=True)\n",
      "            (permute): Permute()\n",
      "          )\n",
      "          (ReLU_0): ReLU(inplace=True)\n",
      "          (Linear_1): Linear(in_features=64, out_features=128, bias=True)\n",
      "          (Batchnorm_1): BatchNorm(\n",
      "            (batchnorm): BatchNorm1d(128, eps=1e-05, momentum=0.1, affine=True, track_running_stats=True)\n",
      "            (permute): Permute()\n",
      "          )\n",
      "          (ReLU_1): ReLU(inplace=True)\n",
      "          (Linear_2): Linear(in_features=128, out_features=1024, bias=True)\n",
      "          (Batchnorm_2): BatchNorm(\n",
      "            (batchnorm): BatchNorm1d(1024, eps=1e-05, momentum=0.1, affine=True, track_running_stats=True)\n",
      "            (permute): Permute()\n",
      "          )\n",
      "          (ReLU_2): ReLU(inplace=True)\n",
      "        )\n",
      "      )\n",
      "      (1): MaxPooling()\n",
      "      (2): BatchNorm(\n",
      "        (batchnorm): BatchNorm1d(1024, eps=1e-05, momentum=0.1, affine=True, track_running_stats=True)\n",
      "        (permute): Permute()\n",
      "      )\n",
      "      (3): MLP(\n",
      "        (mlp): Sequential(\n",
      "          (Linear_0): Linear(in_features=1024, out_features=512, bias=True)\n",
      "          (Batchnorm_0): BatchNorm(\n",
      "            (batchnorm): BatchNorm1d(512, eps=1e-05, momentum=0.1, affine=True, track_running_stats=True)\n",
      "            (permute): Permute()\n",
      "          )\n",
      "          (ReLU_0): ReLU(inplace=True)\n",
      "          (Linear_1): Linear(in_features=512, out_features=256, bias=True)\n",
      "          (Batchnorm_1): BatchNorm(\n",
      "            (batchnorm): BatchNorm1d(256, eps=1e-05, momentum=0.1, affine=True, track_running_stats=True)\n",
      "            (permute): Permute()\n",
      "          )\n",
      "          (ReLU_1): ReLU(inplace=True)\n",
      "          (Linear_2): Linear(in_features=256, out_features=9, bias=True)\n",
      "          (Batchnorm_2): BatchNorm(\n",
      "            (batchnorm): BatchNorm1d(9, eps=1e-05, momentum=0.1, affine=True, track_running_stats=True)\n",
      "            (permute): Permute()\n",
      "          )\n",
      "          (ReLU_2): ReLU(inplace=True)\n",
      "        )\n",
      "      )\n",
      "    )\n",
      "  )\n",
      "  (mlp1): Sequential(\n",
      "    (0): BatchNorm(\n",
      "      (batchnorm): BatchNorm1d(3, eps=1e-05, momentum=0.1, affine=True, track_running_stats=True)\n",
      "      (permute): Permute()\n",
      "    )\n",
      "    (1): MLP(\n",
      "      (mlp): Sequential(\n",
      "        (Linear_0): Linear(in_features=3, out_features=64, bias=True)\n",
      "        (Batchnorm_0): BatchNorm(\n",
      "          (batchnorm): BatchNorm1d(64, eps=1e-05, momentum=0.1, affine=True, track_running_stats=True)\n",
      "          (permute): Permute()\n",
      "        )\n",
      "        (ReLU_0): ReLU(inplace=True)\n",
      "        (Linear_1): Linear(in_features=64, out_features=64, bias=True)\n",
      "        (Batchnorm_1): BatchNorm(\n",
      "          (batchnorm): BatchNorm1d(64, eps=1e-05, momentum=0.1, affine=True, track_running_stats=True)\n",
      "          (permute): Permute()\n",
      "        )\n",
      "        (ReLU_1): ReLU(inplace=True)\n",
      "      )\n",
      "    )\n",
      "  )\n",
      "  (feature_transform): TNet(\n",
      "    (tnet): Sequential(\n",
      "      (0): MLP(\n",
      "        (mlp): Sequential(\n",
      "          (Linear_0): Linear(in_features=64, out_features=64, bias=True)\n",
      "          (Batchnorm_0): BatchNorm(\n",
      "            (batchnorm): BatchNorm1d(64, eps=1e-05, momentum=0.1, affine=True, track_running_stats=True)\n",
      "            (permute): Permute()\n",
      "          )\n",
      "          (ReLU_0): ReLU(inplace=True)\n",
      "          (Linear_1): Linear(in_features=64, out_features=128, bias=True)\n",
      "          (Batchnorm_1): BatchNorm(\n",
      "            (batchnorm): BatchNorm1d(128, eps=1e-05, momentum=0.1, affine=True, track_running_stats=True)\n",
      "            (permute): Permute()\n",
      "          )\n",
      "          (ReLU_1): ReLU(inplace=True)\n",
      "          (Linear_2): Linear(in_features=128, out_features=1024, bias=True)\n",
      "          (Batchnorm_2): BatchNorm(\n",
      "            (batchnorm): BatchNorm1d(1024, eps=1e-05, momentum=0.1, affine=True, track_running_stats=True)\n",
      "            (permute): Permute()\n",
      "          )\n",
      "          (ReLU_2): ReLU(inplace=True)\n",
      "        )\n",
      "      )\n",
      "      (1): MaxPooling()\n",
      "      (2): BatchNorm(\n",
      "        (batchnorm): BatchNorm1d(1024, eps=1e-05, momentum=0.1, affine=True, track_running_stats=True)\n",
      "        (permute): Permute()\n",
      "      )\n",
      "      (3): MLP(\n",
      "        (mlp): Sequential(\n",
      "          (Linear_0): Linear(in_features=1024, out_features=512, bias=True)\n",
      "          (Batchnorm_0): BatchNorm(\n",
      "            (batchnorm): BatchNorm1d(512, eps=1e-05, momentum=0.1, affine=True, track_running_stats=True)\n",
      "            (permute): Permute()\n",
      "          )\n",
      "          (ReLU_0): ReLU(inplace=True)\n",
      "          (Linear_1): Linear(in_features=512, out_features=256, bias=True)\n",
      "          (Batchnorm_1): BatchNorm(\n",
      "            (batchnorm): BatchNorm1d(256, eps=1e-05, momentum=0.1, affine=True, track_running_stats=True)\n",
      "            (permute): Permute()\n",
      "          )\n",
      "          (ReLU_1): ReLU(inplace=True)\n",
      "          (Linear_2): Linear(in_features=256, out_features=4096, bias=True)\n",
      "          (Batchnorm_2): BatchNorm(\n",
      "            (batchnorm): BatchNorm1d(4096, eps=1e-05, momentum=0.1, affine=True, track_running_stats=True)\n",
      "            (permute): Permute()\n",
      "          )\n",
      "          (ReLU_2): ReLU(inplace=True)\n",
      "        )\n",
      "      )\n",
      "    )\n",
      "  )\n",
      "  (mlp2): Sequential(\n",
      "    (0): BatchNorm(\n",
      "      (batchnorm): BatchNorm1d(64, eps=1e-05, momentum=0.1, affine=True, track_running_stats=True)\n",
      "      (permute): Permute()\n",
      "    )\n",
      "    (1): MLP(\n",
      "      (mlp): Sequential(\n",
      "        (Linear_0): Linear(in_features=64, out_features=64, bias=True)\n",
      "        (Batchnorm_0): BatchNorm(\n",
      "          (batchnorm): BatchNorm1d(64, eps=1e-05, momentum=0.1, affine=True, track_running_stats=True)\n",
      "          (permute): Permute()\n",
      "        )\n",
      "        (ReLU_0): ReLU(inplace=True)\n",
      "        (Linear_1): Linear(in_features=64, out_features=128, bias=True)\n",
      "        (Batchnorm_1): BatchNorm(\n",
      "          (batchnorm): BatchNorm1d(128, eps=1e-05, momentum=0.1, affine=True, track_running_stats=True)\n",
      "          (permute): Permute()\n",
      "        )\n",
      "        (ReLU_1): ReLU(inplace=True)\n",
      "        (Linear_2): Linear(in_features=128, out_features=1024, bias=True)\n",
      "        (Batchnorm_2): BatchNorm(\n",
      "          (batchnorm): BatchNorm1d(1024, eps=1e-05, momentum=0.1, affine=True, track_running_stats=True)\n",
      "          (permute): Permute()\n",
      "        )\n",
      "        (ReLU_2): ReLU(inplace=True)\n",
      "      )\n",
      "    )\n",
      "  )\n",
      "  (maxpooling): MaxPooling()\n",
      "  (mlp3): Sequential(\n",
      "    (0): BatchNorm(\n",
      "      (batchnorm): BatchNorm1d(1024, eps=1e-05, momentum=0.1, affine=True, track_running_stats=True)\n",
      "      (permute): Permute()\n",
      "    )\n",
      "    (1): MLP(\n",
      "      (mlp): Sequential(\n",
      "        (Linear_0): Linear(in_features=1024, out_features=512, bias=True)\n",
      "        (Batchnorm_0): BatchNorm(\n",
      "          (batchnorm): BatchNorm1d(512, eps=1e-05, momentum=0.1, affine=True, track_running_stats=True)\n",
      "          (permute): Permute()\n",
      "        )\n",
      "        (ReLU_0): ReLU(inplace=True)\n",
      "        (Linear_1): Linear(in_features=512, out_features=256, bias=True)\n",
      "        (Batchnorm_1): BatchNorm(\n",
      "          (batchnorm): BatchNorm1d(256, eps=1e-05, momentum=0.1, affine=True, track_running_stats=True)\n",
      "          (permute): Permute()\n",
      "        )\n",
      "        (ReLU_1): ReLU(inplace=True)\n",
      "      )\n",
      "    )\n",
      "    (2): Dropout(p=0.3, inplace=False)\n",
      "    (3): Linear(in_features=256, out_features=40, bias=True)\n",
      "  )\n",
      ")\n"
     ]
    }
   ],
   "source": [
    "############### loading model ####################\n",
    "\n",
    "device = torch.device('cuda' if torch.cuda.is_available() else 'cpu')\n",
    "net = PointNet(nfeat=3, nclass=40, dropout=0.3)\n",
    "net.to(device)\n",
    "print(net)"
   ]
  },
  {
   "cell_type": "code",
   "execution_count": 35,
   "metadata": {},
   "outputs": [
    {
     "name": "stdout",
     "output_type": "stream",
     "text": [
      "training on cuda\n"
     ]
    },
    {
     "name": "stderr",
     "output_type": "stream",
     "text": [
      "100%|██████████| 554/554 [00:15<00:00, 35.30it/s]\n"
     ]
    },
    {
     "name": "stdout",
     "output_type": "stream",
     "text": [
      "epoch 1 / 4000, train loss 3.3343 (acc 0.119015), valid loss 3.2928 (acc 0.166667)\n"
     ]
    },
    {
     "name": "stderr",
     "output_type": "stream",
     "text": [
      "100%|██████████| 554/554 [00:15<00:00, 35.47it/s]\n"
     ]
    },
    {
     "name": "stdout",
     "output_type": "stream",
     "text": [
      "epoch 2 / 4000, train loss 2.9125 (acc 0.219851), valid loss 2.9936 (acc 0.217480)\n"
     ]
    },
    {
     "name": "stderr",
     "output_type": "stream",
     "text": [
      "100%|██████████| 554/554 [00:15<00:00, 35.84it/s]\n"
     ]
    },
    {
     "name": "stdout",
     "output_type": "stream",
     "text": [
      "epoch 3 / 4000, train loss 2.6170 (acc 0.302620), valid loss 2.5957 (acc 0.307927)\n"
     ]
    },
    {
     "name": "stderr",
     "output_type": "stream",
     "text": [
      "100%|██████████| 554/554 [00:15<00:00, 35.92it/s]\n"
     ]
    },
    {
     "name": "stdout",
     "output_type": "stream",
     "text": [
      "epoch 4 / 4000, train loss 2.3930 (acc 0.353546), valid loss 2.7020 (acc 0.365854)\n",
      "EarlyStopping counter: 1 out of 20\n"
     ]
    },
    {
     "name": "stderr",
     "output_type": "stream",
     "text": [
      "100%|██████████| 554/554 [00:15<00:00, 35.87it/s]\n"
     ]
    },
    {
     "name": "stdout",
     "output_type": "stream",
     "text": [
      "epoch 5 / 4000, train loss 2.2952 (acc 0.376242), valid loss 2.1055 (acc 0.426829)\n"
     ]
    },
    {
     "name": "stderr",
     "output_type": "stream",
     "text": [
      "100%|██████████| 554/554 [00:15<00:00, 35.45it/s]\n"
     ]
    },
    {
     "name": "stdout",
     "output_type": "stream",
     "text": [
      "epoch 6 / 4000, train loss 2.0506 (acc 0.436427), valid loss 1.8373 (acc 0.484756)\n"
     ]
    },
    {
     "name": "stderr",
     "output_type": "stream",
     "text": [
      "100%|██████████| 554/554 [00:15<00:00, 35.93it/s]\n"
     ]
    },
    {
     "name": "stdout",
     "output_type": "stream",
     "text": [
      "epoch 7 / 4000, train loss 1.8717 (acc 0.479110), valid loss 1.9249 (acc 0.462398)\n",
      "EarlyStopping counter: 1 out of 20\n"
     ]
    },
    {
     "name": "stderr",
     "output_type": "stream",
     "text": [
      "100%|██████████| 554/554 [00:15<00:00, 35.88it/s]\n"
     ]
    },
    {
     "name": "stdout",
     "output_type": "stream",
     "text": [
      "epoch 8 / 4000, train loss 1.7038 (acc 0.518970), valid loss 1.6760 (acc 0.528455)\n"
     ]
    },
    {
     "name": "stderr",
     "output_type": "stream",
     "text": [
      "100%|██████████| 554/554 [00:15<00:00, 35.87it/s]\n"
     ]
    },
    {
     "name": "stdout",
     "output_type": "stream",
     "text": [
      "epoch 9 / 4000, train loss 1.5752 (acc 0.550587), valid loss 1.4773 (acc 0.559959)\n"
     ]
    },
    {
     "name": "stderr",
     "output_type": "stream",
     "text": [
      "100%|██████████| 554/554 [00:15<00:00, 35.90it/s]\n"
     ]
    },
    {
     "name": "stdout",
     "output_type": "stream",
     "text": [
      "epoch 10 / 4000, train loss 1.4712 (acc 0.572267), valid loss 1.5827 (acc 0.573171)\n",
      "EarlyStopping counter: 1 out of 20\n"
     ]
    },
    {
     "name": "stderr",
     "output_type": "stream",
     "text": [
      "100%|██████████| 554/554 [00:15<00:00, 35.86it/s]\n"
     ]
    },
    {
     "name": "stdout",
     "output_type": "stream",
     "text": [
      "epoch 11 / 4000, train loss 1.3626 (acc 0.602755), valid loss 1.3541 (acc 0.611789)\n"
     ]
    },
    {
     "name": "stderr",
     "output_type": "stream",
     "text": [
      "100%|██████████| 554/554 [00:15<00:00, 35.94it/s]\n"
     ]
    },
    {
     "name": "stdout",
     "output_type": "stream",
     "text": [
      "epoch 12 / 4000, train loss 1.2861 (acc 0.625000), valid loss 1.6044 (acc 0.549797)\n",
      "EarlyStopping counter: 1 out of 20\n"
     ]
    },
    {
     "name": "stderr",
     "output_type": "stream",
     "text": [
      "100%|██████████| 554/554 [00:15<00:00, 35.85it/s]\n"
     ]
    },
    {
     "name": "stdout",
     "output_type": "stream",
     "text": [
      "epoch 13 / 4000, train loss 1.2332 (acc 0.639453), valid loss 1.2955 (acc 0.636179)\n"
     ]
    },
    {
     "name": "stderr",
     "output_type": "stream",
     "text": [
      "100%|██████████| 554/554 [00:15<00:00, 35.95it/s]\n"
     ]
    },
    {
     "name": "stdout",
     "output_type": "stream",
     "text": [
      "epoch 14 / 4000, train loss 1.1598 (acc 0.660117), valid loss 1.2192 (acc 0.646341)\n"
     ]
    },
    {
     "name": "stderr",
     "output_type": "stream",
     "text": [
      "100%|██████████| 554/554 [00:15<00:00, 35.84it/s]\n"
     ]
    },
    {
     "name": "stdout",
     "output_type": "stream",
     "text": [
      "epoch 15 / 4000, train loss 1.0794 (acc 0.681911), valid loss 0.9748 (acc 0.706301)\n"
     ]
    },
    {
     "name": "stderr",
     "output_type": "stream",
     "text": [
      "100%|██████████| 554/554 [00:15<00:00, 35.81it/s]\n"
     ]
    },
    {
     "name": "stdout",
     "output_type": "stream",
     "text": [
      "epoch 16 / 4000, train loss 1.0676 (acc 0.682136), valid loss 1.1875 (acc 0.654472)\n",
      "EarlyStopping counter: 1 out of 20\n"
     ]
    },
    {
     "name": "stderr",
     "output_type": "stream",
     "text": [
      "100%|██████████| 554/554 [00:15<00:00, 35.56it/s]\n"
     ]
    },
    {
     "name": "stdout",
     "output_type": "stream",
     "text": [
      "epoch 17 / 4000, train loss 0.9909 (acc 0.703252), valid loss 1.0210 (acc 0.711382)\n",
      "EarlyStopping counter: 2 out of 20\n"
     ]
    },
    {
     "name": "stderr",
     "output_type": "stream",
     "text": [
      "100%|██████████| 554/554 [00:15<00:00, 35.76it/s]\n"
     ]
    },
    {
     "name": "stdout",
     "output_type": "stream",
     "text": [
      "epoch 18 / 4000, train loss 0.9606 (acc 0.713640), valid loss 1.0199 (acc 0.686992)\n",
      "EarlyStopping counter: 3 out of 20\n"
     ]
    },
    {
     "name": "stderr",
     "output_type": "stream",
     "text": [
      "100%|██████████| 554/554 [00:15<00:00, 35.45it/s]\n"
     ]
    },
    {
     "name": "stdout",
     "output_type": "stream",
     "text": [
      "epoch 19 / 4000, train loss 0.9212 (acc 0.719399), valid loss 0.8778 (acc 0.748984)\n"
     ]
    },
    {
     "name": "stderr",
     "output_type": "stream",
     "text": [
      "100%|██████████| 554/554 [00:15<00:00, 35.88it/s]\n"
     ]
    },
    {
     "name": "stdout",
     "output_type": "stream",
     "text": [
      "epoch 20 / 4000, train loss 0.8549 (acc 0.740176), valid loss 0.8138 (acc 0.758130)\n"
     ]
    },
    {
     "name": "stderr",
     "output_type": "stream",
     "text": [
      "100%|██████████| 554/554 [00:15<00:00, 35.82it/s]\n"
     ]
    },
    {
     "name": "stdout",
     "output_type": "stream",
     "text": [
      "epoch 21 / 4000, train loss 0.8362 (acc 0.744580), valid loss 0.8120 (acc 0.747967)\n"
     ]
    },
    {
     "name": "stderr",
     "output_type": "stream",
     "text": [
      "100%|██████████| 554/554 [00:15<00:00, 35.86it/s]\n"
     ]
    },
    {
     "name": "stdout",
     "output_type": "stream",
     "text": [
      "epoch 22 / 4000, train loss 0.8056 (acc 0.753839), valid loss 0.8527 (acc 0.747967)\n",
      "EarlyStopping counter: 1 out of 20\n"
     ]
    },
    {
     "name": "stderr",
     "output_type": "stream",
     "text": [
      "100%|██████████| 554/554 [00:15<00:00, 35.81it/s]\n"
     ]
    },
    {
     "name": "stdout",
     "output_type": "stream",
     "text": [
      "epoch 23 / 4000, train loss 0.7677 (acc 0.760276), valid loss 0.7835 (acc 0.762195)\n"
     ]
    },
    {
     "name": "stderr",
     "output_type": "stream",
     "text": [
      "100%|██████████| 554/554 [00:15<00:00, 35.79it/s]\n"
     ]
    },
    {
     "name": "stdout",
     "output_type": "stream",
     "text": [
      "epoch 24 / 4000, train loss 0.7493 (acc 0.770890), valid loss 1.0197 (acc 0.739837)\n",
      "EarlyStopping counter: 1 out of 20\n"
     ]
    },
    {
     "name": "stderr",
     "output_type": "stream",
     "text": [
      "100%|██████████| 554/554 [00:15<00:00, 35.86it/s]\n"
     ]
    },
    {
     "name": "stdout",
     "output_type": "stream",
     "text": [
      "epoch 25 / 4000, train loss 0.7429 (acc 0.769196), valid loss 0.7408 (acc 0.777439)\n"
     ]
    },
    {
     "name": "stderr",
     "output_type": "stream",
     "text": [
      "100%|██████████| 554/554 [00:15<00:00, 35.72it/s]\n"
     ]
    },
    {
     "name": "stdout",
     "output_type": "stream",
     "text": [
      "epoch 26 / 4000, train loss 0.7673 (acc 0.762308), valid loss 0.8452 (acc 0.764228)\n",
      "EarlyStopping counter: 1 out of 20\n"
     ]
    },
    {
     "name": "stderr",
     "output_type": "stream",
     "text": [
      "100%|██████████| 554/554 [00:15<00:00, 35.93it/s]\n"
     ]
    },
    {
     "name": "stdout",
     "output_type": "stream",
     "text": [
      "epoch 27 / 4000, train loss 0.7150 (acc 0.782182), valid loss 0.6940 (acc 0.796748)\n"
     ]
    },
    {
     "name": "stderr",
     "output_type": "stream",
     "text": [
      "100%|██████████| 554/554 [00:15<00:00, 35.83it/s]\n"
     ]
    },
    {
     "name": "stdout",
     "output_type": "stream",
     "text": [
      "epoch 28 / 4000, train loss 0.6799 (acc 0.787602), valid loss 0.9908 (acc 0.757114)\n",
      "EarlyStopping counter: 1 out of 20\n"
     ]
    },
    {
     "name": "stderr",
     "output_type": "stream",
     "text": [
      "100%|██████████| 554/554 [00:15<00:00, 35.88it/s]\n"
     ]
    },
    {
     "name": "stdout",
     "output_type": "stream",
     "text": [
      "epoch 29 / 4000, train loss 0.6588 (acc 0.792683), valid loss 0.7288 (acc 0.782520)\n",
      "EarlyStopping counter: 2 out of 20\n"
     ]
    },
    {
     "name": "stderr",
     "output_type": "stream",
     "text": [
      "100%|██████████| 554/554 [00:15<00:00, 35.87it/s]\n"
     ]
    },
    {
     "name": "stdout",
     "output_type": "stream",
     "text": [
      "epoch 30 / 4000, train loss 0.6421 (acc 0.797990), valid loss 1.2145 (acc 0.782520)\n",
      "EarlyStopping counter: 3 out of 20\n"
     ]
    },
    {
     "name": "stderr",
     "output_type": "stream",
     "text": [
      "100%|██████████| 554/554 [00:15<00:00, 35.81it/s]\n"
     ]
    },
    {
     "name": "stdout",
     "output_type": "stream",
     "text": [
      "epoch 31 / 4000, train loss 0.6751 (acc 0.792683), valid loss 0.6787 (acc 0.802846)\n"
     ]
    },
    {
     "name": "stderr",
     "output_type": "stream",
     "text": [
      "100%|██████████| 554/554 [00:15<00:00, 35.91it/s]\n"
     ]
    },
    {
     "name": "stdout",
     "output_type": "stream",
     "text": [
      "epoch 32 / 4000, train loss 0.6356 (acc 0.804313), valid loss 0.6677 (acc 0.808943)\n"
     ]
    },
    {
     "name": "stderr",
     "output_type": "stream",
     "text": [
      "100%|██████████| 554/554 [00:15<00:00, 35.62it/s]\n"
     ]
    },
    {
     "name": "stdout",
     "output_type": "stream",
     "text": [
      "epoch 33 / 4000, train loss 0.6163 (acc 0.803297), valid loss 0.7982 (acc 0.779472)\n",
      "EarlyStopping counter: 1 out of 20\n"
     ]
    },
    {
     "name": "stderr",
     "output_type": "stream",
     "text": [
      "100%|██████████| 554/554 [00:15<00:00, 35.85it/s]\n"
     ]
    },
    {
     "name": "stdout",
     "output_type": "stream",
     "text": [
      "epoch 34 / 4000, train loss 0.6137 (acc 0.806685), valid loss 0.8597 (acc 0.800813)\n",
      "EarlyStopping counter: 2 out of 20\n"
     ]
    },
    {
     "name": "stderr",
     "output_type": "stream",
     "text": [
      "100%|██████████| 554/554 [00:15<00:00, 35.86it/s]\n"
     ]
    },
    {
     "name": "stdout",
     "output_type": "stream",
     "text": [
      "epoch 35 / 4000, train loss 0.5828 (acc 0.817638), valid loss 0.7345 (acc 0.786585)\n",
      "EarlyStopping counter: 3 out of 20\n"
     ]
    },
    {
     "name": "stderr",
     "output_type": "stream",
     "text": [
      "100%|██████████| 554/554 [00:15<00:00, 35.79it/s]\n"
     ]
    },
    {
     "name": "stdout",
     "output_type": "stream",
     "text": [
      "epoch 36 / 4000, train loss 0.5632 (acc 0.821251), valid loss 0.6522 (acc 0.813008)\n"
     ]
    },
    {
     "name": "stderr",
     "output_type": "stream",
     "text": [
      "100%|██████████| 554/554 [00:15<00:00, 35.67it/s]\n"
     ]
    },
    {
     "name": "stdout",
     "output_type": "stream",
     "text": [
      "epoch 37 / 4000, train loss 0.5772 (acc 0.818993), valid loss 0.9810 (acc 0.807927)\n",
      "EarlyStopping counter: 1 out of 20\n"
     ]
    },
    {
     "name": "stderr",
     "output_type": "stream",
     "text": [
      "100%|██████████| 554/554 [00:15<00:00, 35.77it/s]\n"
     ]
    },
    {
     "name": "stdout",
     "output_type": "stream",
     "text": [
      "epoch 38 / 4000, train loss 0.5620 (acc 0.827575), valid loss 1.2125 (acc 0.802846)\n",
      "EarlyStopping counter: 2 out of 20\n"
     ]
    },
    {
     "name": "stderr",
     "output_type": "stream",
     "text": [
      "100%|██████████| 554/554 [00:15<00:00, 35.61it/s]\n"
     ]
    },
    {
     "name": "stdout",
     "output_type": "stream",
     "text": [
      "epoch 39 / 4000, train loss 0.5185 (acc 0.835818), valid loss 0.8656 (acc 0.807927)\n",
      "EarlyStopping counter: 3 out of 20\n"
     ]
    },
    {
     "name": "stderr",
     "output_type": "stream",
     "text": [
      "100%|██████████| 554/554 [00:13<00:00, 40.35it/s]\n"
     ]
    },
    {
     "name": "stdout",
     "output_type": "stream",
     "text": [
      "epoch 40 / 4000, train loss 0.5264 (acc 0.830849), valid loss 2.6010 (acc 0.779472)\n",
      "EarlyStopping counter: 4 out of 20\n"
     ]
    },
    {
     "name": "stderr",
     "output_type": "stream",
     "text": [
      "100%|██████████| 554/554 [00:13<00:00, 40.10it/s]\n"
     ]
    },
    {
     "name": "stdout",
     "output_type": "stream",
     "text": [
      "epoch 41 / 4000, train loss 0.5039 (acc 0.837173), valid loss 1.3872 (acc 0.818089)\n",
      "EarlyStopping counter: 5 out of 20\n"
     ]
    },
    {
     "name": "stderr",
     "output_type": "stream",
     "text": [
      "100%|██████████| 554/554 [00:13<00:00, 40.58it/s]\n"
     ]
    },
    {
     "name": "stdout",
     "output_type": "stream",
     "text": [
      "epoch 42 / 4000, train loss 0.5144 (acc 0.832769), valid loss 0.9311 (acc 0.831301)\n",
      "EarlyStopping counter: 6 out of 20\n"
     ]
    },
    {
     "name": "stderr",
     "output_type": "stream",
     "text": [
      "100%|██████████| 554/554 [00:13<00:00, 40.60it/s]\n"
     ]
    },
    {
     "name": "stdout",
     "output_type": "stream",
     "text": [
      "epoch 43 / 4000, train loss 0.5015 (acc 0.838866), valid loss 0.6936 (acc 0.832317)\n",
      "EarlyStopping counter: 7 out of 20\n"
     ]
    },
    {
     "name": "stderr",
     "output_type": "stream",
     "text": [
      "100%|██████████| 554/554 [00:14<00:00, 39.17it/s]\n"
     ]
    },
    {
     "name": "stdout",
     "output_type": "stream",
     "text": [
      "epoch 44 / 4000, train loss 0.4905 (acc 0.842254), valid loss 1.1147 (acc 0.816057)\n",
      "EarlyStopping counter: 8 out of 20\n"
     ]
    },
    {
     "name": "stderr",
     "output_type": "stream",
     "text": [
      "100%|██████████| 554/554 [00:13<00:00, 40.03it/s]\n"
     ]
    },
    {
     "name": "stdout",
     "output_type": "stream",
     "text": [
      "epoch 45 / 4000, train loss 0.4749 (acc 0.847561), valid loss 8.1201 (acc 0.789634)\n",
      "EarlyStopping counter: 9 out of 20\n"
     ]
    },
    {
     "name": "stderr",
     "output_type": "stream",
     "text": [
      "100%|██████████| 554/554 [00:13<00:00, 40.65it/s]\n"
     ]
    },
    {
     "name": "stdout",
     "output_type": "stream",
     "text": [
      "epoch 46 / 4000, train loss 0.4801 (acc 0.848238), valid loss 1.1451 (acc 0.830285)\n",
      "EarlyStopping counter: 10 out of 20\n"
     ]
    },
    {
     "name": "stderr",
     "output_type": "stream",
     "text": [
      "100%|██████████| 554/554 [00:13<00:00, 40.06it/s]\n"
     ]
    },
    {
     "name": "stdout",
     "output_type": "stream",
     "text": [
      "epoch 47 / 4000, train loss 0.4652 (acc 0.849481), valid loss 2.6186 (acc 0.832317)\n",
      "EarlyStopping counter: 11 out of 20\n"
     ]
    },
    {
     "name": "stderr",
     "output_type": "stream",
     "text": [
      "100%|██████████| 554/554 [00:13<00:00, 40.52it/s]\n"
     ]
    },
    {
     "name": "stdout",
     "output_type": "stream",
     "text": [
      "epoch 48 / 4000, train loss 0.4596 (acc 0.851287), valid loss 4.9415 (acc 0.783537)\n",
      "EarlyStopping counter: 12 out of 20\n"
     ]
    },
    {
     "name": "stderr",
     "output_type": "stream",
     "text": [
      "100%|██████████| 554/554 [00:13<00:00, 40.33it/s]\n"
     ]
    },
    {
     "name": "stdout",
     "output_type": "stream",
     "text": [
      "epoch 49 / 4000, train loss 0.4590 (acc 0.852868), valid loss 7.7225 (acc 0.764228)\n",
      "EarlyStopping counter: 13 out of 20\n"
     ]
    },
    {
     "name": "stderr",
     "output_type": "stream",
     "text": [
      "100%|██████████| 554/554 [00:13<00:00, 40.39it/s]\n"
     ]
    },
    {
     "name": "stdout",
     "output_type": "stream",
     "text": [
      "epoch 50 / 4000, train loss 0.4380 (acc 0.858175), valid loss 2.7887 (acc 0.814024)\n",
      "EarlyStopping counter: 14 out of 20\n"
     ]
    },
    {
     "name": "stderr",
     "output_type": "stream",
     "text": [
      "100%|██████████| 554/554 [00:16<00:00, 32.97it/s]\n"
     ]
    },
    {
     "name": "stdout",
     "output_type": "stream",
     "text": [
      "epoch 51 / 4000, train loss 0.4373 (acc 0.857836), valid loss 2.3674 (acc 0.813008)\n",
      "EarlyStopping counter: 15 out of 20\n"
     ]
    },
    {
     "name": "stderr",
     "output_type": "stream",
     "text": [
      "100%|██████████| 554/554 [00:15<00:00, 35.56it/s]\n"
     ]
    },
    {
     "name": "stdout",
     "output_type": "stream",
     "text": [
      "epoch 52 / 4000, train loss 0.4292 (acc 0.865176), valid loss 7.3395 (acc 0.803862)\n",
      "EarlyStopping counter: 16 out of 20\n"
     ]
    },
    {
     "name": "stderr",
     "output_type": "stream",
     "text": [
      "100%|██████████| 554/554 [00:15<00:00, 35.39it/s]\n"
     ]
    },
    {
     "name": "stdout",
     "output_type": "stream",
     "text": [
      "epoch 53 / 4000, train loss 0.4353 (acc 0.856820), valid loss 3.5521 (acc 0.816057)\n",
      "EarlyStopping counter: 17 out of 20\n"
     ]
    },
    {
     "name": "stderr",
     "output_type": "stream",
     "text": [
      "100%|██████████| 554/554 [00:15<00:00, 34.95it/s]\n"
     ]
    },
    {
     "name": "stdout",
     "output_type": "stream",
     "text": [
      "epoch 54 / 4000, train loss 0.4349 (acc 0.861337), valid loss 1.5773 (acc 0.816057)\n",
      "EarlyStopping counter: 18 out of 20\n"
     ]
    },
    {
     "name": "stderr",
     "output_type": "stream",
     "text": [
      "100%|██████████| 554/554 [00:15<00:00, 35.25it/s]\n"
     ]
    },
    {
     "name": "stdout",
     "output_type": "stream",
     "text": [
      "epoch 55 / 4000, train loss 0.4174 (acc 0.866983), valid loss 18.8756 (acc 0.785569)\n",
      "EarlyStopping counter: 19 out of 20\n"
     ]
    },
    {
     "name": "stderr",
     "output_type": "stream",
     "text": [
      "100%|██████████| 554/554 [00:15<00:00, 35.66it/s]\n"
     ]
    },
    {
     "name": "stdout",
     "output_type": "stream",
     "text": [
      "epoch 56 / 4000, train loss 0.4092 (acc 0.871500), valid loss 1.1155 (acc 0.843496)\n",
      "EarlyStopping counter: 20 out of 20\n",
      "test acc = 0.825770\n"
     ]
    }
   ],
   "source": [
    "############### training #########################\n",
    "\n",
    "optimizer = torch.optim.Adam(filter(lambda p: p.requires_grad, net.parameters()), lr=lr, weight_decay = 0.0001)\n",
    "loss = nn.NLLLoss()\n",
    "\n",
    "def adjust_lr(optimizer, decay_rate=0.95):\n",
    "    for param_group in optimizer.param_groups:\n",
    "        param_group['lr'] *= decay_rate\n",
    "\n",
    "retrain = True\n",
    "if os.path.exists(save_name):\n",
    "    print(\"Model parameters have already been trained before. Retrain ? (y/n)\")\n",
    "    ans = input()\n",
    "    if (ans == 'y'):\n",
    "        checkpoint = torch.load(save_name, map_location = device)\n",
    "        net.load_state_dict(checkpoint[\"net\"])\n",
    "        optimizer.load_state_dict(checkpoint[\"optimizer\"])\n",
    "        for g in optimizer.param_groups:\n",
    "            g['lr'] = lr\n",
    "\n",
    "train_model(train_iter, valid_iter, net, loss, optimizer, device = device, max_epochs = int(1000/(batch_size/64)), \n",
    "            adjust_lr = adjust_lr, early_stop = EarlyStop(patience = 20, save_name = save_name))\n",
    "    \n",
    "\n",
    "############### testing ##########################\n",
    "\n",
    "loss, acc = evaluate_model(test_iter, net, loss)\n",
    "print('test acc = %.6f' % (acc))\n"
   ]
  },
  {
   "cell_type": "code",
   "execution_count": null,
   "metadata": {},
   "outputs": [],
   "source": []
  }
 ],
 "metadata": {
  "kernelspec": {
   "display_name": "Python 3.8.10 64-bit",
   "language": "python",
   "name": "python3"
  },
  "language_info": {
   "codemirror_mode": {
    "name": "ipython",
    "version": 3
   },
   "file_extension": ".py",
   "mimetype": "text/x-python",
   "name": "python",
   "nbconvert_exporter": "python",
   "pygments_lexer": "ipython3",
   "version": "3.8.10"
  },
  "orig_nbformat": 2,
  "vscode": {
   "interpreter": {
    "hash": "bf789d3fe2e48003609d2b27099c8c5750f1d9c6ed54a4f20100144dcd5707b9"
   }
  }
 },
 "nbformat": 4,
 "nbformat_minor": 2
}
