{
  "cells": [
    {
      "cell_type": "markdown",
      "metadata": {
        "id": "PGnlRWvkY-2c"
      },
      "source": [
        "# Sentiment Analysis with BERT\n",
        "\n",
        "This tutorial is adapted from [Sentiment Analysis with BERT and Transformers by Hugging Face using PyTorch and Python](https://curiousily.com/posts/sentiment-analysis-with-bert-and-hugging-face-using-pytorch-and-python/) created by Venelin Valkov, and [Skim AI Fine tuning BERT Tutorial](https://skimai.com/fine-tuning-bert-for-sentiment-analysis/) by Chris Tran.\n",
        "\n",
        "In the previous part, we learned about Transformers and how they can be used for Sentiment Classification.\n",
        "\n",
        "In this part of the tutorial, we will:\n",
        "\n",
        "- Understand what BERT is\n",
        "- Preprocess text data for BERT and build PyTorch Dataset (tokenization, attention masks, and padding)\n",
        "- Transfer Learning to build our own Sentiment Classifier, using the Transformers library by Hugging Face\n",
        "- Evaluate the model on test data\n",
        "- Predict sentiment on raw text"
      ]
    },
    {
      "cell_type": "markdown",
      "metadata": {
        "id": "wmj22-TcZMef"
      },
      "source": [
        "## Setup\n",
        "\n",
        "We'll need several Python libraries which we will install first:"
      ]
    },
    {
      "cell_type": "code",
      "execution_count": 1,
      "metadata": {
        "id": "Kj_7Tz0-pK69"
      },
      "outputs": [],
      "source": [
        "!pip install -q -U watermark"
      ]
    },
    {
      "cell_type": "code",
      "execution_count": 2,
      "metadata": {
        "colab": {
          "base_uri": "https://localhost:8080/"
        },
        "id": "CuididLY1LTO",
        "outputId": "fb41580c-097a-4d94-ab68-50595fbcafef"
      },
      "outputs": [
        {
          "name": "stdout",
          "output_type": "stream",
          "text": [
            "Collecting tqdm==4.43.0\n",
            "  Downloading tqdm-4.43.0-py2.py3-none-any.whl (59 kB)\n",
            "     ---------------------------------------- 59.1/59.1 kB ? eta 0:00:00\n",
            "Installing collected packages: tqdm\n",
            "  Attempting uninstall: tqdm\n",
            "    Found existing installation: tqdm 4.64.0\n",
            "    Uninstalling tqdm-4.64.0:\n",
            "      Successfully uninstalled tqdm-4.64.0\n",
            "Successfully installed tqdm-4.43.0\n",
            "\n",
            "[notice] A new release of pip available: 22.1.2 -> 22.2.1\n",
            "[notice] To update, run: python.exe -m pip install --upgrade pip\n"
          ]
        },
        {
          "name": "stderr",
          "output_type": "stream",
          "text": [
            "ERROR: pip's dependency resolver does not currently take into account all the packages that are installed. This behaviour is the source of the following dependency conflicts.\n",
            "datasets 2.4.0 requires tqdm>=4.62.1, but you have tqdm 4.43.0 which is incompatible.\n"
          ]
        }
      ],
      "source": [
        "!pip install tqdm==4.43.0"
      ]
    },
    {
      "cell_type": "code",
      "execution_count": 3,
      "metadata": {
        "colab": {
          "base_uri": "https://localhost:8080/"
        },
        "id": "Jjsbi1u3QFEM",
        "outputId": "59a29d3b-68a0-4fd3-cd52-0a3eb41a4d90"
      },
      "outputs": [],
      "source": [
        "!pip install -qq transformers"
      ]
    },
    {
      "cell_type": "code",
      "execution_count": 4,
      "metadata": {
        "colab": {
          "base_uri": "https://localhost:8080/"
        },
        "id": "AJqoaFpVpoM8",
        "outputId": "7876c0cb-a43e-4ffe-f7fd-beaea3e10471"
      },
      "outputs": [
        {
          "name": "stdout",
          "output_type": "stream",
          "text": [
            "Python implementation: CPython\n",
            "Python version       : 3.8.10\n",
            "IPython version      : 8.4.0\n",
            "\n",
            "numpy       : 1.23.0\n",
            "pandas      : 1.4.3\n",
            "torch       : 1.12.0+cu113\n",
            "transformers: 4.20.1\n",
            "\n"
          ]
        }
      ],
      "source": [
        "%reload_ext watermark\n",
        "%watermark -v -p numpy,pandas,torch,transformers"
      ]
    },
    {
      "cell_type": "code",
      "execution_count": 5,
      "metadata": {
        "id": "OmGce5Zo4u-h"
      },
      "outputs": [],
      "source": [
        "from pprint import pprint"
      ]
    },
    {
      "cell_type": "code",
      "execution_count": 6,
      "metadata": {
        "colab": {
          "base_uri": "https://localhost:8080/"
        },
        "id": "w68CZpOwFoly",
        "outputId": "094809fe-2423-4770-faaf-f89face7463d"
      },
      "outputs": [
        {
          "data": {
            "text/plain": [
              "device(type='cuda', index=0)"
            ]
          },
          "execution_count": 6,
          "metadata": {},
          "output_type": "execute_result"
        }
      ],
      "source": [
        "#@title Setup & Config\n",
        "import transformers\n",
        "from transformers import BertModel, BertTokenizer, AdamW, get_linear_schedule_with_warmup\n",
        "import torch\n",
        "\n",
        "import numpy as np\n",
        "import pandas as pd\n",
        "import seaborn as sns\n",
        "from pylab import rcParams\n",
        "import matplotlib.pyplot as plt\n",
        "from matplotlib import rc\n",
        "from sklearn.model_selection import train_test_split\n",
        "from sklearn.metrics import confusion_matrix, classification_report\n",
        "from collections import defaultdict\n",
        "from textwrap import wrap\n",
        "\n",
        "from torch import nn, optim\n",
        "from torch.utils.data import Dataset, DataLoader\n",
        "import torch.nn.functional as F\n",
        "\n",
        "import tqdm\n",
        "import pandas as pd\n",
        "pd.set_option('display.max_colwidth', None)\n",
        "\n",
        "%matplotlib inline\n",
        "%config InlineBackend.figure_format='retina'\n",
        "\n",
        "sns.set(style='whitegrid', palette='muted', font_scale=1.2)\n",
        "\n",
        "HAPPY_COLORS_PALETTE = [\"#01BEFE\", \"#FFDD00\", \"#FF7D00\", \"#FF006D\", \"#ADFF02\", \"#8F00FF\"]\n",
        "\n",
        "sns.set_palette(sns.color_palette(HAPPY_COLORS_PALETTE))\n",
        "\n",
        "rcParams['figure.figsize'] = 12, 8\n",
        "\n",
        "RANDOM_SEED = 42\n",
        "np.random.seed(RANDOM_SEED)\n",
        "torch.manual_seed(RANDOM_SEED)\n",
        "\n",
        "device = torch.device(\"cuda:0\" if torch.cuda.is_available() else \"cpu\")\n",
        "device"
      ]
    },
    {
      "cell_type": "code",
      "execution_count": 7,
      "metadata": {
        "colab": {
          "base_uri": "https://localhost:8080/",
          "referenced_widgets": [
            "8a2886820ba1479a82c3ced266e93207",
            "22989eda9dd44116b50240f5c72a48b0",
            "68cd0bc7b7294167a5fd1b8510817ecd",
            "b622d1087b6140a3b525cbe6de2bd745",
            "051c066b708d4ae29abc0cb0c841d363",
            "ef9fe4b4c9f149b0be2be70c8178a7ce",
            "62e453a6219c4a02822cef284ec12f99",
            "58428a3f88d348af8cc999c2a869f7f6",
            "31a387eb977143e09ddd658a06f6ebad",
            "c8ba6ab1793f4a3abafb08ea429b200f",
            "f4b476664ecc4a42bae2bcdb7909cc23",
            "caa7ad5aa13c4301b06aa99828a7b648",
            "bd1c5c79161d4c01abf0d9d8d44826af",
            "748265092952425c9d3dfe7d67bf7cc0",
            "3de876aa96e74591a9c20deb61b35db2",
            "b80ebdc98efb4242b81bc022caf4bd75",
            "a816ce0b98844e16b2c1ee96d405f60b",
            "8741c865ff5c469f9604e262e2ba9e7f",
            "b053fe1c58594d2f9c6c419ba9afd760",
            "1c96b4c5340541d3a75c3bfe332efed3",
            "bb6d4d6816f24b77b11b94b020e51790",
            "ea76f53abd0d484695c181b1ec399337",
            "845ee507c7d44fba94985ad42cf339d7",
            "a29d0843057e407993d04f1bac48cf77",
            "3052215e9465463d8fc9787538cf5531",
            "0d1dc52bb4774b1aa794063da72ef24d",
            "e8ec990751ec496daf1976f0af7306bd",
            "b914b49bc985426896b523d401b16709",
            "2df4c941cd3f44d78e3d5e2ce268d995",
            "76c5e0a1386a42fbbb13ef2266d5e098",
            "a11cccd0760d480e97b68d4c36a19e61",
            "4952bf5ff29549b89df61dadec7f913f",
            "58559cdef477422f8669cba80f295df6",
            "9c8c22c0ff7f42d695959da35398a218",
            "72101a2cc6df4bff91809466e7510642",
            "7cc51c70d93a42bbabfc6ecdb4ef2112",
            "ffb589a937dc4d968e23c6d10e48515f",
            "d3caa184d3d04ef68439a85cd1340e99",
            "1378c40b641a4101a02221ef67486414",
            "103cd81c3cc54b0dbf7e4c49831a7a42",
            "3e2ea59c09b54da1b7cd4a5c7b4a2fd7",
            "ae4dd923bc494dc99f1638f02eb539ec",
            "fec3d4111fe04c67b1009f6684838cfc",
            "4a39f405bd1d45b6a32ffc87e866f0ff",
            "470a05719f274ef79a74ff299d9398ba",
            "42978124ed3e4d489a980910f383e38d",
            "76420769c7d34f7ba7fa721f3739ebf3",
            "eb5ec9c963dd4c21ba8c27906fbadced",
            "4e80076f47ba40459c650e549fb5461e",
            "bb9e9b1591b749df825bd544d1103e17",
            "08175c8150e74893a9283db42fb66181",
            "c944580be68a4d27a31ccc99f32d1180",
            "6c87f3ec078741e5964b8c65597de8e8",
            "e2b576d377bf41418f6c95d5ded76933",
            "c962c9879c4a49e7b845a4f86bbddb56",
            "c8689be449614ec2a0eff7bbf1f4a2b2"
          ]
        },
        "id": "1XvENNsMInP3",
        "outputId": "df0f2145-62d2-45e0-c306-22d070b7a263"
      },
      "outputs": [
        {
          "name": "stdout",
          "output_type": "stream",
          "text": [
            "Requirement already satisfied: datasets in c:\\users\\ai_15\\appdata\\local\\programs\\python\\python38\\lib\\site-packages (2.4.0)\n",
            "Collecting tqdm>=4.62.1\n",
            "  Using cached tqdm-4.64.0-py2.py3-none-any.whl (78 kB)\n",
            "Requirement already satisfied: numpy>=1.17 in c:\\users\\ai_15\\appdata\\local\\programs\\python\\python38\\lib\\site-packages (from datasets) (1.23.0)\n",
            "Requirement already satisfied: pyarrow>=6.0.0 in c:\\users\\ai_15\\appdata\\local\\programs\\python\\python38\\lib\\site-packages (from datasets) (8.0.0)\n",
            "Requirement already satisfied: multiprocess in c:\\users\\ai_15\\appdata\\local\\programs\\python\\python38\\lib\\site-packages (from datasets) (0.70.13)\n",
            "Requirement already satisfied: pandas in c:\\users\\ai_15\\appdata\\local\\programs\\python\\python38\\lib\\site-packages (from datasets) (1.4.3)\n",
            "Requirement already satisfied: dill<0.3.6 in c:\\users\\ai_15\\appdata\\local\\programs\\python\\python38\\lib\\site-packages (from datasets) (0.3.5.1)\n",
            "Requirement already satisfied: huggingface-hub<1.0.0,>=0.1.0 in c:\\users\\ai_15\\appdata\\local\\programs\\python\\python38\\lib\\site-packages (from datasets) (0.8.1)\n",
            "Requirement already satisfied: requests>=2.19.0 in c:\\users\\ai_15\\appdata\\local\\programs\\python\\python38\\lib\\site-packages (from datasets) (2.28.1)\n",
            "Requirement already satisfied: aiohttp in c:\\users\\ai_15\\appdata\\local\\programs\\python\\python38\\lib\\site-packages (from datasets) (3.8.1)\n",
            "Requirement already satisfied: packaging in c:\\users\\ai_15\\appdata\\local\\programs\\python\\python38\\lib\\site-packages (from datasets) (21.3)\n",
            "Requirement already satisfied: responses<0.19 in c:\\users\\ai_15\\appdata\\local\\programs\\python\\python38\\lib\\site-packages (from datasets) (0.18.0)\n",
            "Requirement already satisfied: fsspec[http]>=2021.11.1 in c:\\users\\ai_15\\appdata\\local\\programs\\python\\python38\\lib\\site-packages (from datasets) (2022.5.0)\n",
            "Requirement already satisfied: xxhash in c:\\users\\ai_15\\appdata\\local\\programs\\python\\python38\\lib\\site-packages (from datasets) (3.0.0)\n",
            "Requirement already satisfied: pyyaml>=5.1 in c:\\users\\ai_15\\appdata\\local\\programs\\python\\python38\\lib\\site-packages (from huggingface-hub<1.0.0,>=0.1.0->datasets) (5.1)\n",
            "Requirement already satisfied: typing-extensions>=3.7.4.3 in c:\\users\\ai_15\\appdata\\local\\programs\\python\\python38\\lib\\site-packages (from huggingface-hub<1.0.0,>=0.1.0->datasets) (4.3.0)\n",
            "Requirement already satisfied: filelock in c:\\users\\ai_15\\appdata\\local\\programs\\python\\python38\\lib\\site-packages (from huggingface-hub<1.0.0,>=0.1.0->datasets) (3.7.1)\n",
            "Requirement already satisfied: pyparsing!=3.0.5,>=2.0.2 in c:\\users\\ai_15\\appdata\\local\\programs\\python\\python38\\lib\\site-packages (from packaging->datasets) (3.0.9)\n",
            "Requirement already satisfied: urllib3<1.27,>=1.21.1 in c:\\users\\ai_15\\appdata\\local\\programs\\python\\python38\\lib\\site-packages (from requests>=2.19.0->datasets) (1.26.11)\n",
            "Requirement already satisfied: certifi>=2017.4.17 in c:\\users\\ai_15\\appdata\\local\\programs\\python\\python38\\lib\\site-packages (from requests>=2.19.0->datasets) (2022.6.15)\n",
            "Requirement already satisfied: idna<4,>=2.5 in c:\\users\\ai_15\\appdata\\local\\programs\\python\\python38\\lib\\site-packages (from requests>=2.19.0->datasets) (3.3)\n",
            "Requirement already satisfied: charset-normalizer<3,>=2 in c:\\users\\ai_15\\appdata\\local\\programs\\python\\python38\\lib\\site-packages (from requests>=2.19.0->datasets) (2.1.0)\n",
            "Requirement already satisfied: colorama in c:\\users\\ai_15\\appdata\\local\\programs\\python\\python38\\lib\\site-packages (from tqdm>=4.62.1->datasets) (0.4.5)\n",
            "Requirement already satisfied: multidict<7.0,>=4.5 in c:\\users\\ai_15\\appdata\\local\\programs\\python\\python38\\lib\\site-packages (from aiohttp->datasets) (6.0.2)\n",
            "Requirement already satisfied: aiosignal>=1.1.2 in c:\\users\\ai_15\\appdata\\local\\programs\\python\\python38\\lib\\site-packages (from aiohttp->datasets) (1.2.0)\n",
            "Requirement already satisfied: yarl<2.0,>=1.0 in c:\\users\\ai_15\\appdata\\local\\programs\\python\\python38\\lib\\site-packages (from aiohttp->datasets) (1.7.2)\n",
            "Requirement already satisfied: async-timeout<5.0,>=4.0.0a3 in c:\\users\\ai_15\\appdata\\local\\programs\\python\\python38\\lib\\site-packages (from aiohttp->datasets) (4.0.2)\n",
            "Requirement already satisfied: frozenlist>=1.1.1 in c:\\users\\ai_15\\appdata\\local\\programs\\python\\python38\\lib\\site-packages (from aiohttp->datasets) (1.3.0)\n",
            "Requirement already satisfied: attrs>=17.3.0 in c:\\users\\ai_15\\appdata\\local\\programs\\python\\python38\\lib\\site-packages (from aiohttp->datasets) (21.4.0)\n",
            "Requirement already satisfied: python-dateutil>=2.8.1 in c:\\users\\ai_15\\appdata\\local\\programs\\python\\python38\\lib\\site-packages (from pandas->datasets) (2.8.2)\n",
            "Requirement already satisfied: pytz>=2020.1 in c:\\users\\ai_15\\appdata\\local\\programs\\python\\python38\\lib\\site-packages (from pandas->datasets) (2022.1)\n",
            "Requirement already satisfied: six>=1.5 in c:\\users\\ai_15\\appdata\\local\\programs\\python\\python38\\lib\\site-packages (from python-dateutil>=2.8.1->pandas->datasets) (1.16.0)\n",
            "Installing collected packages: tqdm\n",
            "  Attempting uninstall: tqdm\n",
            "    Found existing installation: tqdm 4.43.0\n",
            "    Uninstalling tqdm-4.43.0:\n",
            "      Successfully uninstalled tqdm-4.43.0\n",
            "Successfully installed tqdm-4.64.0\n",
            "\n",
            "[notice] A new release of pip available: 22.1.2 -> 22.2.1\n",
            "[notice] To update, run: python.exe -m pip install --upgrade pip\n"
          ]
        },
        {
          "name": "stderr",
          "output_type": "stream",
          "text": [
            "Downloading builder script: 28.8kB [00:00, 14.4MB/s]                   \n",
            "Downloading metadata: 28.7kB [00:00, 28.8MB/s]                   \n"
          ]
        },
        {
          "name": "stdout",
          "output_type": "stream",
          "text": [
            "Downloading and preparing dataset glue/sst2 (download: 7.09 MiB, generated: 4.81 MiB, post-processed: Unknown size, total: 11.90 MiB) to C:\\Users\\AI_15\\.cache\\huggingface\\datasets\\glue\\sst2\\1.0.0\\dacbe3125aa31d7f70367a07a8a9e72a5a0bfeb5fc42e75c9db75b96da6053ad...\n"
          ]
        },
        {
          "name": "stderr",
          "output_type": "stream",
          "text": [
            "Downloading data: 100%|██████████| 7.44M/7.44M [00:01<00:00, 5.14MB/s]\n",
            "100%|██████████| 3/3 [00:00<00:00, 94.00it/s]                                          "
          ]
        },
        {
          "name": "stdout",
          "output_type": "stream",
          "text": [
            "Dataset glue downloaded and prepared to C:\\Users\\AI_15\\.cache\\huggingface\\datasets\\glue\\sst2\\1.0.0\\dacbe3125aa31d7f70367a07a8a9e72a5a0bfeb5fc42e75c9db75b96da6053ad. Subsequent calls will reuse this data.\n"
          ]
        },
        {
          "name": "stderr",
          "output_type": "stream",
          "text": [
            "\n"
          ]
        }
      ],
      "source": [
        "!pip install datasets\n",
        "from datasets import load_dataset\n",
        "\n",
        "# Download ood datasets for sentiment classification\n",
        "\n",
        "sst2_dataset = load_dataset(\"glue\", \"sst2\")"
      ]
    },
    {
      "cell_type": "code",
      "execution_count": 8,
      "metadata": {
        "colab": {
          "base_uri": "https://localhost:8080/"
        },
        "id": "YHIZX68E4nOx",
        "outputId": "72a0623c-0c7e-4f19-b06d-092c8eef887f"
      },
      "outputs": [
        {
          "name": "stderr",
          "output_type": "stream",
          "text": [
            "Cloning into 'counterfactually-augmented-data'...\n"
          ]
        }
      ],
      "source": [
        "!git clone https://github.com/acmi-lab/counterfactually-augmented-data"
      ]
    },
    {
      "cell_type": "code",
      "execution_count": 9,
      "metadata": {
        "colab": {
          "base_uri": "https://localhost:8080/"
        },
        "id": "NJ6MhJYYBCwu",
        "outputId": "ded46ba8-26fc-4fc9-9d7c-896c8fb1b833"
      },
      "outputs": [
        {
          "name": "stdout",
          "output_type": "stream",
          "text": [
            "Fri Jul 29 11:40:33 2022       \n",
            "+-----------------------------------------------------------------------------+\n",
            "| NVIDIA-SMI 451.67       Driver Version: 451.67       CUDA Version: 11.0     |\n",
            "|-------------------------------+----------------------+----------------------+\n",
            "| GPU  Name            TCC/WDDM | Bus-Id        Disp.A | Volatile Uncorr. ECC |\n",
            "| Fan  Temp  Perf  Pwr:Usage/Cap|         Memory-Usage | GPU-Util  Compute M. |\n",
            "|===============================+======================+======================|\n",
            "|   0  GeForce RTX 207... WDDM  | 00000000:01:00.0  On |                  N/A |\n",
            "| N/A   51C    P8    15W /  N/A |   1476MiB /  8192MiB |     10%      Default |\n",
            "+-------------------------------+----------------------+----------------------+\n",
            "                                                                               \n",
            "+-----------------------------------------------------------------------------+\n",
            "| Processes:                                                                  |\n",
            "|  GPU   GI   CI        PID   Type   Process name                  GPU Memory |\n",
            "|        ID   ID                                                   Usage      |\n",
            "|=============================================================================|\n",
            "|    0   N/A  N/A      1128    C+G   ...lPanel\\SystemSettings.exe    N/A      |\n",
            "|    0   N/A  N/A      1552    C+G   Insufficient Permissions        N/A      |\n",
            "|    0   N/A  N/A      3152    C+G   ...ice\\Office16\\POWERPNT.EXE    N/A      |\n",
            "|    0   N/A  N/A      3784    C+G   C:\\Windows\\explorer.exe         N/A      |\n",
            "|    0   N/A  N/A      4340    C+G   ...5n1h2txyewy\\SearchApp.exe    N/A      |\n",
            "|    0   N/A  N/A      6044    C+G   ...artMenuExperienceHost.exe    N/A      |\n",
            "|    0   N/A  N/A      6496    C+G   ...y\\ShellExperienceHost.exe    N/A      |\n",
            "|    0   N/A  N/A      6648    C+G   ...cw5n1h2txyewy\\LockApp.exe    N/A      |\n",
            "|    0   N/A  N/A      9972    C+G   ...ekyb3d8bbwe\\YourPhone.exe    N/A      |\n",
            "|    0   N/A  N/A     11272    C+G   ...2txyewy\\TextInputHost.exe    N/A      |\n",
            "|    0   N/A  N/A     12772    C+G   ...ekyb3d8bbwe\\HxOutlook.exe    N/A      |\n",
            "|    0   N/A  N/A     14020    C+G   ...icrosoft VS Code\\Code.exe    N/A      |\n",
            "|    0   N/A  N/A     14048    C+G   ...kyb3d8bbwe\\Calculator.exe    N/A      |\n",
            "|    0   N/A  N/A     15600    C+G   ...ice\\Office16\\POWERPNT.EXE    N/A      |\n",
            "|    0   N/A  N/A     17284    C+G   ...5n1h2txyewy\\SearchApp.exe    N/A      |\n",
            "|    0   N/A  N/A     17300    C+G   ...ge\\Application\\msedge.exe    N/A      |\n",
            "|    0   N/A  N/A     21376    C+G   ...kyb3d8bbwe\\HxAccounts.exe    N/A      |\n",
            "+-----------------------------------------------------------------------------+\n"
          ]
        }
      ],
      "source": [
        "!nvidia-smi"
      ]
    },
    {
      "cell_type": "markdown",
      "metadata": {
        "id": "ufzPdoTtNikq"
      },
      "source": [
        "## Dataset for Sentiment Analysis: IMDB Movie Reviews\n",
        "The original IMDb dataset consists of **50k reviews** divided equally across\n",
        "train and test splits. To keep the task of editing from growing unwieldy, we filter out the longest 20%\n",
        "of reviews, leaving 20k reviews in the train split from which we randomly sample 2.5k reviews,\n",
        "enforcing a **50:50 class balance**.\n",
        "\n",
        "Following revision by the crowd workers, we partition this dataset\n",
        "into train/validation/test splits containing 1707, 245 and 488 examples, respectively."
      ]
    },
    {
      "cell_type": "code",
      "execution_count": 10,
      "metadata": {
        "colab": {
          "base_uri": "https://localhost:8080/",
          "height": 322
        },
        "id": "MwvxeBCE4sYI",
        "outputId": "ad36c69f-e21f-4640-adfa-b6d198c51847"
      },
      "outputs": [
        {
          "name": "stderr",
          "output_type": "stream",
          "text": [
            "'xargs'��(��) ���� �Ǵ� �ܺ� ����, ������ �� �ִ� ���α׷�, �Ǵ�\n",
            "��ġ ������ �ƴմϴ�.\n",
            "'xargs'��(��) ���� �Ǵ� �ܺ� ����, ������ �� �ִ� ���α׷�, �Ǵ�\n",
            "��ġ ������ �ƴմϴ�.\n",
            "'xargs'��(��) ���� �Ǵ� �ܺ� ����, ������ �� �ִ� ���α׷�, �Ǵ�\n",
            "��ġ ������ �ƴմϴ�.\n"
          ]
        }
      ],
      "source": [
        "# Let's see how the data files are organized\n",
        "!find /content/counterfactually-augmented-data/sentiment/orig/ -name '*.tsv' | xargs wc -l\n",
        "!find /content/counterfactually-augmented-data/sentiment/new/ -name '*.tsv' | xargs wc -l\n",
        "!find /content/counterfactually-augmented-data/sentiment/combined/ -name '*.tsv' | xargs wc -l"
      ]
    },
    {
      "cell_type": "code",
      "execution_count": 12,
      "metadata": {
        "id": "NDdGrZNpDSuD"
      },
      "outputs": [],
      "source": [
        "# We'll first use the original data, reading tab separated files into Pandas dataframes\n",
        "orig_train = pd.read_csv('./counterfactually-augmented-data/sentiment/orig/train.tsv', sep='\\t', header=0)\n",
        "orig_dev = pd.read_csv('./counterfactually-augmented-data/sentiment/orig/dev.tsv', sep='\\t', header=0)\n",
        "orig_test = pd.read_csv('./counterfactually-augmented-data/sentiment/orig/test.tsv', sep='\\t', header=0)\n",
        "\n",
        "extra_train = pd.read_csv('./counterfactually-augmented-data/sentiment/orig/eighty_percent/train.tsv', sep='\\t', header=0)"
      ]
    },
    {
      "cell_type": "code",
      "execution_count": 13,
      "metadata": {
        "colab": {
          "base_uri": "https://localhost:8080/"
        },
        "id": "fr5ujPEMKDKN",
        "outputId": "22fad482-695e-4e66-bafa-7eea9bd89713"
      },
      "outputs": [
        {
          "name": "stdout",
          "output_type": "stream",
          "text": [
            "<class 'pandas.core.frame.DataFrame'>\n",
            "Int64Index: 20969 entries, 0 to 19261\n",
            "Data columns (total 3 columns):\n",
            " #   Column     Non-Null Count  Dtype  \n",
            "---  ------     --------------  -----  \n",
            " 0   Sentiment  20969 non-null  object \n",
            " 1   Text       20969 non-null  object \n",
            " 2   Length     19262 non-null  float64\n",
            "dtypes: float64(1), object(2)\n",
            "memory usage: 655.3+ KB\n",
            "<class 'pandas.core.frame.DataFrame'>\n",
            "Int64Index: 20805 entries, 0 to 19261\n",
            "Data columns (total 3 columns):\n",
            " #   Column     Non-Null Count  Dtype  \n",
            "---  ------     --------------  -----  \n",
            " 0   Sentiment  20805 non-null  object \n",
            " 1   Text       20805 non-null  object \n",
            " 2   Length     19098 non-null  float64\n",
            "dtypes: float64(1), object(2)\n",
            "memory usage: 650.2+ KB\n",
            "<class 'pandas.core.frame.DataFrame'>\n",
            "Int64Index: 3292 entries, 0 to 17195\n",
            "Data columns (total 3 columns):\n",
            " #   Column     Non-Null Count  Dtype  \n",
            "---  ------     --------------  -----  \n",
            " 0   Sentiment  3292 non-null   object \n",
            " 1   Text       3292 non-null   object \n",
            " 2   Length     1585 non-null   float64\n",
            "dtypes: float64(1), object(2)\n",
            "memory usage: 102.9+ KB\n"
          ]
        }
      ],
      "source": [
        "# Since the provided training set only uses 1700 training examples, we will add some additional training data\n",
        "\n",
        "# We first combine the two training sets\n",
        "overlap_train = pd.concat([orig_train, extra_train])\n",
        "overlap_train.info()\n",
        "\n",
        "# Get non-overlapping items from the whole\n",
        "nonoverlap_train = overlap_train.drop_duplicates(keep=False)\n",
        "nonoverlap_train.info()\n",
        "\n",
        "# Of the unique items, we will sample ~1700 additional training data\n",
        "to_add = nonoverlap_train.sample(len(orig_train))\n",
        "orig_train = pd.concat([orig_train, to_add])\n",
        "orig_train.drop_duplicates(inplace=True)\n",
        "orig_train.info()"
      ]
    },
    {
      "cell_type": "code",
      "execution_count": 14,
      "metadata": {
        "colab": {
          "base_uri": "https://localhost:8080/"
        },
        "id": "I9FBEl_i_lZg",
        "outputId": "28701b40-6af7-4ea0-a382-a9a1ef7c87e3"
      },
      "outputs": [
        {
          "name": "stdout",
          "output_type": "stream",
          "text": [
            "<class 'pandas.core.frame.DataFrame'>\n",
            "Int64Index: 3292 entries, 0 to 17195\n",
            "Data columns (total 3 columns):\n",
            " #   Column     Non-Null Count  Dtype  \n",
            "---  ------     --------------  -----  \n",
            " 0   Sentiment  3292 non-null   object \n",
            " 1   Text       3292 non-null   object \n",
            " 2   Length     1585 non-null   float64\n",
            "dtypes: float64(1), object(2)\n",
            "memory usage: 102.9+ KB\n",
            "None\n"
          ]
        }
      ],
      "source": [
        "# Let's examine the data\n",
        "print(orig_train.info())\n",
        "#print('\\n')\n"
      ]
    },
    {
      "cell_type": "code",
      "execution_count": 15,
      "metadata": {
        "colab": {
          "base_uri": "https://localhost:8080/"
        },
        "id": "pxpsDGMxhnV7",
        "outputId": "5ca509d3-addb-4b34-ca9a-c64f241bd79d"
      },
      "outputs": [
        {
          "name": "stdout",
          "output_type": "stream",
          "text": [
            "<class 'pandas.core.frame.DataFrame'>\n",
            "RangeIndex: 245 entries, 0 to 244\n",
            "Data columns (total 2 columns):\n",
            " #   Column     Non-Null Count  Dtype \n",
            "---  ------     --------------  ----- \n",
            " 0   Sentiment  245 non-null    object\n",
            " 1   Text       245 non-null    object\n",
            "dtypes: object(2)\n",
            "memory usage: 4.0+ KB\n"
          ]
        }
      ],
      "source": [
        "orig_dev.info()"
      ]
    },
    {
      "cell_type": "code",
      "execution_count": 16,
      "metadata": {
        "colab": {
          "base_uri": "https://localhost:8080/"
        },
        "id": "rnmcQZMLhoef",
        "outputId": "dbc270e0-1582-4e0b-dcee-cc2fcaebcfb6"
      },
      "outputs": [
        {
          "name": "stdout",
          "output_type": "stream",
          "text": [
            "<class 'pandas.core.frame.DataFrame'>\n",
            "RangeIndex: 488 entries, 0 to 487\n",
            "Data columns (total 2 columns):\n",
            " #   Column     Non-Null Count  Dtype \n",
            "---  ------     --------------  ----- \n",
            " 0   Sentiment  488 non-null    object\n",
            " 1   Text       488 non-null    object\n",
            "dtypes: object(2)\n",
            "memory usage: 7.8+ KB\n"
          ]
        }
      ],
      "source": [
        "orig_test.info()"
      ]
    },
    {
      "cell_type": "code",
      "execution_count": 17,
      "metadata": {
        "colab": {
          "base_uri": "https://localhost:8080/"
        },
        "id": "GwxR7syY_7-t",
        "outputId": "e202caf1-8938-455d-ff67-735c3c833b89"
      },
      "outputs": [
        {
          "name": "stdout",
          "output_type": "stream",
          "text": [
            "Positive: 1688, Negative: 1604\n"
          ]
        }
      ],
      "source": [
        "# Class balance is important for preventing our trained model from being biased to any single class. Let's see if there is any imbalance:\n",
        "n_positive = len(orig_train[orig_train.Sentiment == 'Positive'])\n",
        "n_negative = len(orig_train[orig_train.Sentiment == 'Negative'])\n",
        "print(f\"Positive: {n_positive}, Negative: {n_negative}\")\n"
      ]
    },
    {
      "cell_type": "code",
      "execution_count": 18,
      "metadata": {
        "colab": {
          "base_uri": "https://localhost:8080/",
          "height": 424
        },
        "id": "NwgpfNbE_-88",
        "outputId": "e36d9912-3cc5-4c67-a87e-dce211e124b7"
      },
      "outputs": [
        {
          "data": {
            "text/html": [
              "<div>\n",
              "<style scoped>\n",
              "    .dataframe tbody tr th:only-of-type {\n",
              "        vertical-align: middle;\n",
              "    }\n",
              "\n",
              "    .dataframe tbody tr th {\n",
              "        vertical-align: top;\n",
              "    }\n",
              "\n",
              "    .dataframe thead th {\n",
              "        text-align: right;\n",
              "    }\n",
              "</style>\n",
              "<table border=\"1\" class=\"dataframe\">\n",
              "  <thead>\n",
              "    <tr style=\"text-align: right;\">\n",
              "      <th></th>\n",
              "      <th>Sentiment</th>\n",
              "      <th>Text</th>\n",
              "      <th>Length</th>\n",
              "    </tr>\n",
              "  </thead>\n",
              "  <tbody>\n",
              "    <tr>\n",
              "      <th>3873</th>\n",
              "      <td>Positive</td>\n",
              "      <td>I have seen Maslin Beach a couple of times - both on free to air TV in Brisbane. I won't go into whether it is good, bad or otherwise as others have well and truly covered this.&lt;br /&gt;&lt;br /&gt;I will say that it is so Australian. Only in Australia can we have a film about relationships among people spending the day as naked as the day they were born, and to view it on free commercial television.&lt;br /&gt;&lt;br /&gt;I have a friend from the US who is constantly amazed at what we put on our free TV compared to her home country. Sex and the CIty and Huff are just too examples.&lt;br /&gt;&lt;br /&gt;Despite our Government trying to turn us into the 51st US State, it is good to know at least some things remain truly Aussie</td>\n",
              "      <td>137.0</td>\n",
              "    </tr>\n",
              "    <tr>\n",
              "      <th>1391</th>\n",
              "      <td>Positive</td>\n",
              "      <td>What a lovely heart warming television movie. The story tells of a little five year old girl who has lost her daddy and finds it impossible to cope. Her mother is also very distressed ..only a miracle can alleviate their unhappiness.Which all viewers hope will materialise. Samantha Mathis is brilliant as the little girl's mum ,as she was as the nanny in\" Jack and Sarah\",worth watching if you like both Samantha Mathis and happy; year tear jerking movies! Ellen Burstyn is, as, always a delightful grandmother in this tender and magnificently acted movie. Jodelle Ferland (the little five year old) is charming and a most convincing young actress. The film is based on a true story which makes it so touching.\"Mermaid\" is a tribute to the milk of human kindness which is clearly illustrated and clearly is still all around us in this difficult world we live in. \"Mermaid\" gives us all hope ,by realising that there a lot of lovely people in the world with lot's of love to give. James Robson Glasgow Scotland U.K.</td>\n",
              "      <td>NaN</td>\n",
              "    </tr>\n",
              "    <tr>\n",
              "      <th>1920</th>\n",
              "      <td>Positive</td>\n",
              "      <td>Well, this might be one of the funniest movies of all time, and Sandy gives a tour-de-force performance! Alas, her career never quite took off, but - at last - she will always be remembered for her three first-rate pictures: \"The King Of Comedy\", \"Dallas Doll\", and \"Without You I'm Nothing\". She dons into different personas from New York socialite to Diana Ross to create a biting and hilarious critique of popular culture in America. Sexy and fierce, tender and sensual, philosophical and melancholic, she convinces the audience in every scene, and she actually IS \"really pretty\". Watch this one (if you're not from Iowa), you'll certainly enjoy it!!</td>\n",
              "      <td>109.0</td>\n",
              "    </tr>\n",
              "    <tr>\n",
              "      <th>1354</th>\n",
              "      <td>Positive</td>\n",
              "      <td>Cuban Blood is one of those sleeper films that has a lot to say about life in a very traditional way. I actually watched it while sailing around Cuba on a western Caribbean cruise. It details the life of an 11 year old boy in a small town in Cuba in 1958 and 1959 during the revolution. Not much time is spent on the revolution until the very end, when the Socialist regime came and took the property of the boy's father. The majority of the film is the boy's coming of age and the relationships that arise in a small town where everyone knows everyone else. There are some powerful scenes that everyone can relate to. A class A film with fine acting and directing. This is a film that tells a story with no special effects or grand schemes or real twists. It is a film about people and their lives, their mistakes, and their triumphs. A good film worth watching several times annually.</td>\n",
              "      <td>NaN</td>\n",
              "    </tr>\n",
              "    <tr>\n",
              "      <th>4591</th>\n",
              "      <td>Positive</td>\n",
              "      <td>Shot on an impossible schedule and no budget to speak of, the movie turned out a lot better than you would expect, certainly much more true to the Peter O'Donnell books and comic strip than the previous two films. You can read the strip currently in the reprints from Titan Books, or in Comics Revue monthly. It is one of the greatest adventure comic strips of all time. The movie isn't great, but unlike most low budget films it makes the most of what its got, and it holds your interest. On the DVD extras, the interview with Quentin Tarentino, who is obviously stoned, is a gas. Some people have faulted Tarentino for associating his name with the film, but without him it would never have been made. He is a Modesty Blaise fan, and picked a good writer and director. All things considered, worth 8 stars.</td>\n",
              "      <td>147.0</td>\n",
              "    </tr>\n",
              "  </tbody>\n",
              "</table>\n",
              "</div>"
            ],
            "text/plain": [
              "     Sentiment  \\\n",
              "3873  Positive   \n",
              "1391  Positive   \n",
              "1920  Positive   \n",
              "1354  Positive   \n",
              "4591  Positive   \n",
              "\n",
              "                                                                                                                                                                                                                                                                                                                                                                                                                                                                                                                                                                                                                                                                                                                                                                                                                                                                                                                                                                                                                                                         Text  \\\n",
              "3873                                                                                                                                                                                                                                                                                                                          I have seen Maslin Beach a couple of times - both on free to air TV in Brisbane. I won't go into whether it is good, bad or otherwise as others have well and truly covered this.<br /><br />I will say that it is so Australian. Only in Australia can we have a film about relationships among people spending the day as naked as the day they were born, and to view it on free commercial television.<br /><br />I have a friend from the US who is constantly amazed at what we put on our free TV compared to her home country. Sex and the CIty and Huff are just too examples.<br /><br />Despite our Government trying to turn us into the 51st US State, it is good to know at least some things remain truly Aussie   \n",
              "1391  What a lovely heart warming television movie. The story tells of a little five year old girl who has lost her daddy and finds it impossible to cope. Her mother is also very distressed ..only a miracle can alleviate their unhappiness.Which all viewers hope will materialise. Samantha Mathis is brilliant as the little girl's mum ,as she was as the nanny in\" Jack and Sarah\",worth watching if you like both Samantha Mathis and happy; year tear jerking movies! Ellen Burstyn is, as, always a delightful grandmother in this tender and magnificently acted movie. Jodelle Ferland (the little five year old) is charming and a most convincing young actress. The film is based on a true story which makes it so touching.\"Mermaid\" is a tribute to the milk of human kindness which is clearly illustrated and clearly is still all around us in this difficult world we live in. \"Mermaid\" gives us all hope ,by realising that there a lot of lovely people in the world with lot's of love to give. James Robson Glasgow Scotland U.K.   \n",
              "1920                                                                                                                                                                                                                                                                                                                                                                           Well, this might be one of the funniest movies of all time, and Sandy gives a tour-de-force performance! Alas, her career never quite took off, but - at last - she will always be remembered for her three first-rate pictures: \"The King Of Comedy\", \"Dallas Doll\", and \"Without You I'm Nothing\". She dons into different personas from New York socialite to Diana Ross to create a biting and hilarious critique of popular culture in America. Sexy and fierce, tender and sensual, philosophical and melancholic, she convinces the audience in every scene, and she actually IS \"really pretty\". Watch this one (if you're not from Iowa), you'll certainly enjoy it!!   \n",
              "1354                                                                                                                                   Cuban Blood is one of those sleeper films that has a lot to say about life in a very traditional way. I actually watched it while sailing around Cuba on a western Caribbean cruise. It details the life of an 11 year old boy in a small town in Cuba in 1958 and 1959 during the revolution. Not much time is spent on the revolution until the very end, when the Socialist regime came and took the property of the boy's father. The majority of the film is the boy's coming of age and the relationships that arise in a small town where everyone knows everyone else. There are some powerful scenes that everyone can relate to. A class A film with fine acting and directing. This is a film that tells a story with no special effects or grand schemes or real twists. It is a film about people and their lives, their mistakes, and their triumphs. A good film worth watching several times annually.   \n",
              "4591                                                                                                                                                                                                                 Shot on an impossible schedule and no budget to speak of, the movie turned out a lot better than you would expect, certainly much more true to the Peter O'Donnell books and comic strip than the previous two films. You can read the strip currently in the reprints from Titan Books, or in Comics Revue monthly. It is one of the greatest adventure comic strips of all time. The movie isn't great, but unlike most low budget films it makes the most of what its got, and it holds your interest. On the DVD extras, the interview with Quentin Tarentino, who is obviously stoned, is a gas. Some people have faulted Tarentino for associating his name with the film, but without him it would never have been made. He is a Modesty Blaise fan, and picked a good writer and director. All things considered, worth 8 stars.   \n",
              "\n",
              "      Length  \n",
              "3873   137.0  \n",
              "1391     NaN  \n",
              "1920   109.0  \n",
              "1354     NaN  \n",
              "4591   147.0  "
            ]
          },
          "execution_count": 18,
          "metadata": {},
          "output_type": "execute_result"
        }
      ],
      "source": [
        "orig_train[orig_train.Sentiment == 'Positive'].sample(5)"
      ]
    },
    {
      "cell_type": "code",
      "execution_count": 19,
      "metadata": {
        "colab": {
          "base_uri": "https://localhost:8080/",
          "height": 441
        },
        "id": "RuHBwtCx57J3",
        "outputId": "26dbcd64-86fc-482d-e636-2e5ae8565f6b"
      },
      "outputs": [
        {
          "data": {
            "text/html": [
              "<div>\n",
              "<style scoped>\n",
              "    .dataframe tbody tr th:only-of-type {\n",
              "        vertical-align: middle;\n",
              "    }\n",
              "\n",
              "    .dataframe tbody tr th {\n",
              "        vertical-align: top;\n",
              "    }\n",
              "\n",
              "    .dataframe thead th {\n",
              "        text-align: right;\n",
              "    }\n",
              "</style>\n",
              "<table border=\"1\" class=\"dataframe\">\n",
              "  <thead>\n",
              "    <tr style=\"text-align: right;\">\n",
              "      <th></th>\n",
              "      <th>Sentiment</th>\n",
              "      <th>Text</th>\n",
              "      <th>Length</th>\n",
              "    </tr>\n",
              "  </thead>\n",
              "  <tbody>\n",
              "    <tr>\n",
              "      <th>422</th>\n",
              "      <td>Negative</td>\n",
              "      <td>One missed call, another Asian horror based on the cell phone. I recently rented a Korean horror film based on a cell phone called \"Pon\". One Missed Call was just as boring as that one. Maybe phones just aren't scary or something, but this move was dull and drab. No tension or thrills for me, and the final monster was disappointingly cheesy and unscary. The movie dragged quite a bit in different parts, and felt too long. Didn't keep my attention. It seems phones are hard to make frightening, it's kind of like trying to make a pop vending machine eerie. And it is ridiculous to compare this with \"The Ring\", it seems every Asian horror movie is compared to it and so far I haven't seen any that measure up in the least. To horror directors - take the phone off the hook as a horror device.</td>\n",
              "      <td>NaN</td>\n",
              "    </tr>\n",
              "    <tr>\n",
              "      <th>496</th>\n",
              "      <td>Negative</td>\n",
              "      <td>How this movie got made with a supposedly $70 million budget and without being completely retooled is beyond me. The storyline and dialogue are beyond amateurish. Characters say things no real person would ever say and almost never react to things that were said before. No one seems to be grounded in the real world. The acting of the leads is fine given that the writing is such a dud...but several actors in supporting roles really drag the production down. The hero's hair probably should've gotten its own credit, it was so oddly attention- grabbing...not to mention that it gave one of the better performances in the pic. Finally, for a movie about L.A. being besieged by giant reptiles, this film is shockingly boring. What a shame! If you do see this, your mind will be constantly racing, thinking up ways that you could have taken the SFX scenes and built a far better movie around them. Sadly, it wouldn't have taken much.</td>\n",
              "      <td>NaN</td>\n",
              "    </tr>\n",
              "    <tr>\n",
              "      <th>16131</th>\n",
              "      <td>Negative</td>\n",
              "      <td>Probably one of the most boriest slasher movies ever, badly acted and badly written.&lt;br /&gt;&lt;br /&gt;THE PLOT Five students staying behind during the holidays closing down a dorm, but somebody has designs on them and starts killing them off one by one, the main suspect is the creepy groundskeeper John Hemmitt played by Woody Roll, or could it be one of the five characters.&lt;br /&gt;&lt;br /&gt;ACTING Not that bad not that great either apart from Daphne Zungia who dies way too quickly and should have been the main heroine, and the rest well quite dull although Laura Lapinski the main heroine sometimes has her charm and you do feel sorry for her in the end.&lt;br /&gt;&lt;br /&gt;THE KILLS Can't really see why they banned this, the kills look fake mostly, one guy has his hand sliced in half in the beginning which looks really fake, but the others are quite nasty like one girl gets her head run over by a car, one girl gets boiled alive and another gets burned alive.&lt;br /&gt;&lt;br /&gt;OVERALL Not really a great slasher could have been a lot better</td>\n",
              "      <td>185.0</td>\n",
              "    </tr>\n",
              "    <tr>\n",
              "      <th>405</th>\n",
              "      <td>Negative</td>\n",
              "      <td>This starts off bad, what with the three women acting like simpering junior high school wussies sitting around giggling with their gin, endless cigarettes and a caramel chocolate treat for the one who tells the best 'man' story, and then it gets worse -=- spoiler alert =-= what with Andie's character falling for the young organ player who used to be her student when he was 14 (she's the headmistress of an English school, believe it or not), only to have him destroyed thanks to her bitch-from-hell 'girlfriend' . ..and then from there, it's basically unwatchable claptrap: she forgives her 'friend' and has the organ player's love child and the 3 women end up as they started, drinking more gin and smoking more cigarettes blah blah blah. Andie's character throws the caramel chocolates out in the street, in a pathetic attempt to symbolize growth. Have mercy.</td>\n",
              "      <td>NaN</td>\n",
              "    </tr>\n",
              "    <tr>\n",
              "      <th>187</th>\n",
              "      <td>Negative</td>\n",
              "      <td>No plot, crappy acting, and pointless gore....&lt;br /&gt;&lt;br /&gt;This is supposed to be a horror movie? There's no fear, or suspense, just BOOM BANG GORE, then done. Some kinda Marines are in the desert for some weird, crappy reason and they get hunted down by those mutated beasts from the first movie, which was good, and should have been left it at that.&lt;br /&gt;&lt;br /&gt;This is just another excuse for money, and use of pointless violence, just like the \"Saw\" sequels. They know no matter how pointless the plot is, and the more gore they can add, people will see it. I miss good suspenseful horror movies. Come on Hollywood, you can do much, much better.</td>\n",
              "      <td>NaN</td>\n",
              "    </tr>\n",
              "  </tbody>\n",
              "</table>\n",
              "</div>"
            ],
            "text/plain": [
              "      Sentiment  \\\n",
              "422    Negative   \n",
              "496    Negative   \n",
              "16131  Negative   \n",
              "405    Negative   \n",
              "187    Negative   \n",
              "\n",
              "                                                                                                                                                                                                                                                                                                                                                                                                                                                                                                                                                                                                                                                                                                                                                                                                                                                                                                                                                                                                                                                                    Text  \\\n",
              "422                                                                                                                                                                                                                                           One missed call, another Asian horror based on the cell phone. I recently rented a Korean horror film based on a cell phone called \"Pon\". One Missed Call was just as boring as that one. Maybe phones just aren't scary or something, but this move was dull and drab. No tension or thrills for me, and the final monster was disappointingly cheesy and unscary. The movie dragged quite a bit in different parts, and felt too long. Didn't keep my attention. It seems phones are hard to make frightening, it's kind of like trying to make a pop vending machine eerie. And it is ridiculous to compare this with \"The Ring\", it seems every Asian horror movie is compared to it and so far I haven't seen any that measure up in the least. To horror directors - take the phone off the hook as a horror device.   \n",
              "496                                                                                                 How this movie got made with a supposedly $70 million budget and without being completely retooled is beyond me. The storyline and dialogue are beyond amateurish. Characters say things no real person would ever say and almost never react to things that were said before. No one seems to be grounded in the real world. The acting of the leads is fine given that the writing is such a dud...but several actors in supporting roles really drag the production down. The hero's hair probably should've gotten its own credit, it was so oddly attention- grabbing...not to mention that it gave one of the better performances in the pic. Finally, for a movie about L.A. being besieged by giant reptiles, this film is shockingly boring. What a shame! If you do see this, your mind will be constantly racing, thinking up ways that you could have taken the SFX scenes and built a far better movie around them. Sadly, it wouldn't have taken much.   \n",
              "16131  Probably one of the most boriest slasher movies ever, badly acted and badly written.<br /><br />THE PLOT Five students staying behind during the holidays closing down a dorm, but somebody has designs on them and starts killing them off one by one, the main suspect is the creepy groundskeeper John Hemmitt played by Woody Roll, or could it be one of the five characters.<br /><br />ACTING Not that bad not that great either apart from Daphne Zungia who dies way too quickly and should have been the main heroine, and the rest well quite dull although Laura Lapinski the main heroine sometimes has her charm and you do feel sorry for her in the end.<br /><br />THE KILLS Can't really see why they banned this, the kills look fake mostly, one guy has his hand sliced in half in the beginning which looks really fake, but the others are quite nasty like one girl gets her head run over by a car, one girl gets boiled alive and another gets burned alive.<br /><br />OVERALL Not really a great slasher could have been a lot better   \n",
              "405                                                                                                                                                                     This starts off bad, what with the three women acting like simpering junior high school wussies sitting around giggling with their gin, endless cigarettes and a caramel chocolate treat for the one who tells the best 'man' story, and then it gets worse -=- spoiler alert =-= what with Andie's character falling for the young organ player who used to be her student when he was 14 (she's the headmistress of an English school, believe it or not), only to have him destroyed thanks to her bitch-from-hell 'girlfriend' . ..and then from there, it's basically unwatchable claptrap: she forgives her 'friend' and has the organ player's love child and the 3 women end up as they started, drinking more gin and smoking more cigarettes blah blah blah. Andie's character throws the caramel chocolates out in the street, in a pathetic attempt to symbolize growth. Have mercy.   \n",
              "187                                                                                                                                                                                                                                                                                                                                                                                              No plot, crappy acting, and pointless gore....<br /><br />This is supposed to be a horror movie? There's no fear, or suspense, just BOOM BANG GORE, then done. Some kinda Marines are in the desert for some weird, crappy reason and they get hunted down by those mutated beasts from the first movie, which was good, and should have been left it at that.<br /><br />This is just another excuse for money, and use of pointless violence, just like the \"Saw\" sequels. They know no matter how pointless the plot is, and the more gore they can add, people will see it. I miss good suspenseful horror movies. Come on Hollywood, you can do much, much better.   \n",
              "\n",
              "       Length  \n",
              "422       NaN  \n",
              "496       NaN  \n",
              "16131   185.0  \n",
              "405       NaN  \n",
              "187       NaN  "
            ]
          },
          "execution_count": 19,
          "metadata": {},
          "output_type": "execute_result"
        }
      ],
      "source": [
        "orig_train[orig_train.Sentiment == 'Negative'].sample(5)"
      ]
    },
    {
      "cell_type": "markdown",
      "metadata": {
        "id": "9aHyGuTFgyPO"
      },
      "source": [
        "## Data Preprocessing\n",
        "\n",
        "We saw in the previous tutorial that we need to convert text to numbers (of some sort). For BERT, we have some extra requirements: \n",
        "\n",
        "- Add special tokens to separate sentences and do classification\n",
        "- Pass sequences of constant length (introduce padding)\n",
        "- Create array of 0s (pad token) and 1s (real token) called *attention mask*\n",
        "\n",
        "The Transformers library provides (you've guessed it) a wide variety of Transformer models (including BERT). It works with TensorFlow and PyTorch! It also includes prebuild tokenizers that do the heavy lifting for us!\n"
      ]
    },
    {
      "cell_type": "code",
      "execution_count": 20,
      "metadata": {
        "id": "E7Mj-0ne--5t"
      },
      "outputs": [],
      "source": [
        "PRE_TRAINED_MODEL_NAME = 'bert-base-uncased' # 12-layer, 768-hidden, 12-heads, 110M parameters"
      ]
    },
    {
      "cell_type": "markdown",
      "metadata": {
        "id": "NiLb-ltM-ZRz"
      },
      "source": [
        "Huggingface provides easy access to pre-trained BERT models and Tokenizers. Let's load a pre-trained [BertTokenizer](https://huggingface.co/transformers/model_doc/bert.html#berttokenizer):"
      ]
    },
    {
      "cell_type": "code",
      "execution_count": 21,
      "metadata": {
        "colab": {
          "base_uri": "https://localhost:8080/",
          "referenced_widgets": [
            "8f396667780346c2a4ff617566c3ef05",
            "72b3a899044e40b9a0ffabfc388259c4",
            "5af8e8af36a3433fb6838f4af354215b",
            "9872fc660db5415695b495867711b2c7",
            "8566641edf554c419bccddb1939ed927",
            "76700cf2d2e94dd490c85da8dc57fcfb",
            "657d9b7c95c044499ca6584959fdee9c",
            "fad8ab97e20d4288a75421c291011deb",
            "dc06c50ea27b456691bdd0d1f11ae226",
            "308025a2ec48458fa3355e2d16353b54",
            "26995e1d5a004bc2a569886eee4ed119",
            "6e5bb01333d242c9825c643b0c272513",
            "eebba6e960fe4c1181305417535ee60b",
            "796c88b922e94397be1a4bece656945d",
            "ae6c43ab3ccc448987bbdb89c9dc820d",
            "2d03d1a8528d433fbcc0553ca6d24b0e",
            "ab00046aa03a491c80013e524d4154d5",
            "4ba62d9d64514b7cba12a16021531767",
            "01e6e2c0275f4491b3fe7b7e817d2adb",
            "2a84ee7f879040f39b39ef09457ce77e",
            "fc70416eaab744ebae1bc1afa20f44fa",
            "c0b732785c934db8b3ed5c9843452cf2",
            "bd2093374ea64711af5c1732445ea2d1",
            "78f249b059514a0189bbbc5fb42a6266"
          ]
        },
        "id": "H3AfJSZ8NNLF",
        "outputId": "f78caa21-8425-46eb-910a-6cc3237197e1"
      },
      "outputs": [
        {
          "name": "stderr",
          "output_type": "stream",
          "text": [
            "Downloading: 100%|██████████| 226k/226k [00:01<00:00, 149kB/s]  \n",
            "Downloading: 100%|██████████| 28.0/28.0 [00:00<00:00, 28.1kB/s]\n",
            "Downloading: 100%|██████████| 570/570 [00:00<00:00, 570kB/s]\n"
          ]
        }
      ],
      "source": [
        "tokenizer = BertTokenizer.from_pretrained(PRE_TRAINED_MODEL_NAME)"
      ]
    },
    {
      "cell_type": "markdown",
      "metadata": {
        "id": "CfrSbwTQ-wi_"
      },
      "source": [
        "We'll use an example text from the train set to understand the tokenization process:"
      ]
    },
    {
      "cell_type": "code",
      "execution_count": 22,
      "metadata": {
        "colab": {
          "base_uri": "https://localhost:8080/"
        },
        "id": "24A4e-peFNyS",
        "outputId": "ccef71ab-1d9f-4f0a-f873-8f0f006dadd5"
      },
      "outputs": [
        {
          "data": {
            "text/plain": [
              "Sentiment                                                                                                                                                                                                                                                                                                                                                                                                                                                                                                                                                                      Positive\n",
              "Text         I've always been a big Cybill Shepperd fan, ever since I saw her series a few years ago!! This film certainly shows her in her best light yet!! The film was so wonderfully cast and played!! Every now and again she drops little amusing lines, just to make this film one of the best I've ever seen!! Everybody really out does themselves!! Especially Robert Downey Jr and Cybill Shepperd, they really made the film come true!! Also I loved the little bit where Mavis loses her wig and she nearly dies when she falls to the floor!! This is film at its best!!\n",
              "Length                                                                                                                                                                                                                                                                                                                                                                                                                                                                                                                                                                              NaN\n",
              "Name: 1000, dtype: object"
            ]
          },
          "execution_count": 22,
          "metadata": {},
          "output_type": "execute_result"
        }
      ],
      "source": [
        "sample_item = orig_train.iloc[1000]\n",
        "sample_item"
      ]
    },
    {
      "cell_type": "code",
      "execution_count": 23,
      "metadata": {
        "colab": {
          "base_uri": "https://localhost:8080/"
        },
        "id": "m7F0Lz3Q6ZaV",
        "outputId": "12d681b6-9dbb-4b99-ae2e-1f0b2917e949"
      },
      "outputs": [
        {
          "name": "stdout",
          "output_type": "stream",
          "text": [
            "I've always been a big Cybill Shepperd fan, ever since I saw her series a few years ago!! This film certainly shows her in her best light yet!! The film was so wonderfully cast and played!! Every now and again she drops little amusing lines, just to make this film one of the best I've ever seen!! Everybody really out does themselves!! Especially Robert Downey Jr and Cybill Shepperd, they really made the film come true!! Also I loved the little bit where Mavis loses her wig and she nearly dies when she falls to the floor!! This is film at its best!!\n"
          ]
        }
      ],
      "source": [
        "print(sample_item['Text'])"
      ]
    },
    {
      "cell_type": "code",
      "execution_count": 24,
      "metadata": {
        "colab": {
          "base_uri": "https://localhost:8080/"
        },
        "id": "gxO3uxhk6WH6",
        "outputId": "3ca3d093-e8e5-414c-be8a-a56f2550d3a2"
      },
      "outputs": [
        {
          "name": "stdout",
          "output_type": "stream",
          "text": [
            "Positive\n"
          ]
        }
      ],
      "source": [
        "print(sample_item['Sentiment'])"
      ]
    },
    {
      "cell_type": "code",
      "execution_count": 25,
      "metadata": {
        "colab": {
          "base_uri": "https://localhost:8080/"
        },
        "id": "gVyAkpR4z9ZE",
        "outputId": "0545061f-103b-497b-a652-fe0ff6eafade"
      },
      "outputs": [
        {
          "name": "stdout",
          "output_type": "stream",
          "text": [
            "I've always been a big Cybill Shepperd fan, ever since I saw her series a few years ago!! \n"
          ]
        }
      ],
      "source": [
        "# Let's take a snippet of text from the example\n",
        "sample_txt = sample_item['Text'][:90]\n",
        "print(sample_txt)"
      ]
    },
    {
      "cell_type": "markdown",
      "metadata": {
        "id": "yO2qBTVl_KPs"
      },
      "source": [
        "Some basic operations can convert the text to tokens and tokens to unique integers (ids):"
      ]
    },
    {
      "cell_type": "code",
      "execution_count": 26,
      "metadata": {
        "colab": {
          "base_uri": "https://localhost:8080/"
        },
        "id": "iTFhpHpsoWO7",
        "outputId": "ee036b0a-c653-425e-cc3e-a391cab8bd0f"
      },
      "outputs": [
        {
          "name": "stdout",
          "output_type": "stream",
          "text": [
            " Sentence: I've always been a big Cybill Shepperd fan, ever since I saw her series a few years ago!! \n",
            "   Tokens: ['i', \"'\", 've', 'always', 'been', 'a', 'big', 'cy', '##bill', 'she', '##pper', '##d', 'fan', ',', 'ever', 'since', 'i', 'saw', 'her', 'series', 'a', 'few', 'years', 'ago', '!', '!']\n",
            "Token IDs: [1045, 1005, 2310, 2467, 2042, 1037, 2502, 22330, 24457, 2016, 18620, 2094, 5470, 1010, 2412, 2144, 1045, 2387, 2014, 2186, 1037, 2261, 2086, 3283, 999, 999]\n"
          ]
        }
      ],
      "source": [
        "tokens = tokenizer.tokenize(sample_txt)\n",
        "token_ids = tokenizer.convert_tokens_to_ids(tokens)\n",
        "\n",
        "print(f' Sentence: {sample_txt}')\n",
        "print(f'   Tokens: {tokens}')\n",
        "print(f'Token IDs: {token_ids}')"
      ]
    },
    {
      "cell_type": "markdown",
      "metadata": {
        "id": "bzbbKLR8lZbu"
      },
      "source": [
        "### Special Tokens\n",
        "\n",
        "`[SEP]` - marker for ending of a sentence\n"
      ]
    },
    {
      "cell_type": "code",
      "execution_count": 27,
      "metadata": {
        "colab": {
          "base_uri": "https://localhost:8080/"
        },
        "id": "EXwz47bQvCbc",
        "outputId": "7ef981d9-2b25-4853-ddeb-8a5de96b7d10"
      },
      "outputs": [
        {
          "data": {
            "text/plain": [
              "('[SEP]', 102)"
            ]
          },
          "execution_count": 27,
          "metadata": {},
          "output_type": "execute_result"
        }
      ],
      "source": [
        "tokenizer.sep_token, tokenizer.sep_token_id"
      ]
    },
    {
      "cell_type": "markdown",
      "metadata": {
        "id": "Mip_eGeXwLFF"
      },
      "source": [
        "`[CLS]` - we must add this token to the start of each sentence, so BERT knows we're doing classification"
      ]
    },
    {
      "cell_type": "code",
      "execution_count": 28,
      "metadata": {
        "colab": {
          "base_uri": "https://localhost:8080/"
        },
        "id": "_6K4it5HwE6l",
        "outputId": "7a524c89-7c04-4a06-fdd2-626adf483a63"
      },
      "outputs": [
        {
          "data": {
            "text/plain": [
              "('[CLS]', 101)"
            ]
          },
          "execution_count": 28,
          "metadata": {},
          "output_type": "execute_result"
        }
      ],
      "source": [
        "tokenizer.cls_token, tokenizer.cls_token_id"
      ]
    },
    {
      "cell_type": "markdown",
      "metadata": {
        "id": "Qi6O-yEY09gl"
      },
      "source": [
        "There is also a special token for padding:"
      ]
    },
    {
      "cell_type": "code",
      "execution_count": 29,
      "metadata": {
        "colab": {
          "base_uri": "https://localhost:8080/"
        },
        "id": "Vx7gD5xf1AFK",
        "outputId": "b104d0bb-a14a-463f-ae2c-a3a7f3b17190"
      },
      "outputs": [
        {
          "data": {
            "text/plain": [
              "('[PAD]', 0)"
            ]
          },
          "execution_count": 29,
          "metadata": {},
          "output_type": "execute_result"
        }
      ],
      "source": [
        "tokenizer.pad_token, tokenizer.pad_token_id"
      ]
    },
    {
      "cell_type": "markdown",
      "metadata": {
        "id": "6GWCfijM0TWB"
      },
      "source": [
        "BERT understands tokens that were in the training set. Everything else can be encoded using the `[UNK]` (unknown) token:"
      ]
    },
    {
      "cell_type": "code",
      "execution_count": 30,
      "metadata": {
        "colab": {
          "base_uri": "https://localhost:8080/"
        },
        "id": "4cmfFsbEKQDT",
        "outputId": "f48ba117-8a7b-48b0-82fc-c43ff003c653"
      },
      "outputs": [
        {
          "data": {
            "text/plain": [
              "('[UNK]', 100)"
            ]
          },
          "execution_count": 30,
          "metadata": {},
          "output_type": "execute_result"
        }
      ],
      "source": [
        "tokenizer.unk_token, tokenizer.unk_token_id"
      ]
    },
    {
      "cell_type": "markdown",
      "metadata": {
        "id": "W9ap7jdL0LYU"
      },
      "source": [
        "All of that work can be done using the [`encode_plus()`](https://huggingface.co/transformers/main_classes/tokenizer.html#transformers.PreTrainedTokenizer.encode_plus) method:"
      ]
    },
    {
      "cell_type": "code",
      "execution_count": 31,
      "metadata": {
        "colab": {
          "base_uri": "https://localhost:8080/"
        },
        "id": "Vea9edaaxSPO",
        "outputId": "ee5f6846-9bf5-4ef9-cdd1-a75fe0b95ed7"
      },
      "outputs": [
        {
          "name": "stdout",
          "output_type": "stream",
          "text": [
            "{'attention_mask': tensor([[1, 1, 1, 1, 1, 1, 1, 1, 1, 1, 1, 1, 1, 1, 1, 1, 1, 1, 1, 1, 1, 1, 1, 1,\n",
            "         1, 1, 1, 1, 0, 0, 0, 0]]),\n",
            " 'input_ids': tensor([[  101,  1045,  1005,  2310,  2467,  2042,  1037,  2502, 22330, 24457,\n",
            "          2016, 18620,  2094,  5470,  1010,  2412,  2144,  1045,  2387,  2014,\n",
            "          2186,  1037,  2261,  2086,  3283,   999,   999,   102,     0,     0,\n",
            "             0,     0]])}\n"
          ]
        }
      ],
      "source": [
        "encoding = tokenizer.encode_plus(\n",
        "  sample_txt,\n",
        "  max_length=32,\n",
        "  add_special_tokens=True, # Adds '[CLS]' and '[SEP]'\n",
        "  return_token_type_ids=False,\n",
        "  padding='max_length',  \n",
        "  return_attention_mask=True,\n",
        "  return_tensors='pt',  # Return PyTorch tensors\n",
        ")\n",
        "\n",
        "#encoding.keys()\n",
        "pprint(encoding)"
      ]
    },
    {
      "cell_type": "markdown",
      "metadata": {
        "id": "sS69c8WvdOED"
      },
      "source": [
        "The token ids are now stored in a Tensor and padded to a length of 32:"
      ]
    },
    {
      "cell_type": "code",
      "execution_count": 32,
      "metadata": {
        "colab": {
          "base_uri": "https://localhost:8080/"
        },
        "id": "YzBmcOla0yQR",
        "outputId": "055b3118-a097-459f-c8d7-738675a726f5"
      },
      "outputs": [
        {
          "name": "stdout",
          "output_type": "stream",
          "text": [
            "32\n"
          ]
        },
        {
          "data": {
            "text/plain": [
              "tensor([  101,  1045,  1005,  2310,  2467,  2042,  1037,  2502, 22330, 24457,\n",
              "         2016, 18620,  2094,  5470,  1010,  2412,  2144,  1045,  2387,  2014,\n",
              "         2186,  1037,  2261,  2086,  3283,   999,   999,   102,     0,     0,\n",
              "            0,     0])"
            ]
          },
          "execution_count": 32,
          "metadata": {},
          "output_type": "execute_result"
        }
      ],
      "source": [
        "print(len(encoding['input_ids'][0]))\n",
        "encoding['input_ids'][0]"
      ]
    },
    {
      "cell_type": "markdown",
      "metadata": {
        "id": "itAyVPsNdyc1"
      },
      "source": [
        "The attention mask has the same length:"
      ]
    },
    {
      "cell_type": "code",
      "execution_count": 33,
      "metadata": {
        "colab": {
          "base_uri": "https://localhost:8080/"
        },
        "id": "Wiv5LLiw03Ox",
        "outputId": "0f7d06d6-56b8-416e-8740-55f8f039babf"
      },
      "outputs": [
        {
          "name": "stdout",
          "output_type": "stream",
          "text": [
            "32\n"
          ]
        },
        {
          "data": {
            "text/plain": [
              "tensor([[1, 1, 1, 1, 1, 1, 1, 1, 1, 1, 1, 1, 1, 1, 1, 1, 1, 1, 1, 1, 1, 1, 1, 1,\n",
              "         1, 1, 1, 1, 0, 0, 0, 0]])"
            ]
          },
          "execution_count": 33,
          "metadata": {},
          "output_type": "execute_result"
        }
      ],
      "source": [
        "print(len(encoding['attention_mask'][0]))\n",
        "encoding['attention_mask']"
      ]
    },
    {
      "cell_type": "markdown",
      "metadata": {
        "id": "m1RvhC4jNHHy"
      },
      "source": [
        "We can inverse the tokenization to have a look at the special tokens:"
      ]
    },
    {
      "cell_type": "code",
      "execution_count": 34,
      "metadata": {
        "colab": {
          "base_uri": "https://localhost:8080/"
        },
        "id": "IagGoafKLUwW",
        "outputId": "1451d6d4-448b-4c8f-a5c8-6c5495df14a9"
      },
      "outputs": [
        {
          "name": "stdout",
          "output_type": "stream",
          "text": [
            "['[CLS]', 'i', \"'\", 've', 'always', 'been', 'a', 'big', 'cy', '##bill', 'she', '##pper', '##d', 'fan', ',', 'ever', 'since', 'i', 'saw', 'her', 'series', 'a', 'few', 'years', 'ago', '!', '!', '[SEP]', '[PAD]', '[PAD]', '[PAD]', '[PAD]']\n"
          ]
        },
        {
          "data": {
            "text/plain": [
              "32"
            ]
          },
          "execution_count": 34,
          "metadata": {},
          "output_type": "execute_result"
        }
      ],
      "source": [
        "convert_back = tokenizer.convert_ids_to_tokens(encoding['input_ids'][0])\n",
        "print(convert_back, sep=\" \")\n",
        "len(convert_back)"
      ]
    },
    {
      "cell_type": "code",
      "execution_count": 35,
      "metadata": {
        "colab": {
          "base_uri": "https://localhost:8080/"
        },
        "id": "xlufqu0P_arZ",
        "outputId": "43b50a29-2bc7-4837-f920-634b30a1d823"
      },
      "outputs": [
        {
          "data": {
            "text/plain": [
              "\"I've always been a big Cybill Shepperd fan, ever since I saw her series a few years ago!! \""
            ]
          },
          "execution_count": 35,
          "metadata": {},
          "output_type": "execute_result"
        }
      ],
      "source": [
        "sample_txt"
      ]
    },
    {
      "cell_type": "code",
      "execution_count": 36,
      "metadata": {
        "id": "pmCa9zI9_tGz"
      },
      "outputs": [],
      "source": [
        "#text1 -> length 30\n",
        "#text1 -> length 29\n",
        "#text1 -> length 31"
      ]
    },
    {
      "cell_type": "markdown",
      "metadata": {
        "id": "-Acvockx7uDu"
      },
      "source": [
        "## **What is BERT?**\n",
        "\n",
        "BERT (introduced in [this paper](https://arxiv.org/abs/1810.04805)) stands for Bidirectional Encoder Representations from Transformers. \n",
        "\n",
        "BERT is simply a **transformer that is pre-trained by masking 15% of the tokens with the goal to guess them**. An additional objective was to predict the next sentence. Let's look at examples of these tasks:\n",
        "\n",
        "### **Learning from Huge Data**\n",
        "\n",
        "The training corpus was comprised of two entries: [Toronto Book Corpus](https://arxiv.org/abs/1506.06724) (800M words) and English Wikipedia (2,500M words). While the original Transformer has an encoder (for reading the input) and a decoder (that makes the prediction), BERT uses only the decoder.\n",
        "\n",
        "BERT is simply a pre-trained stack of Transformer Encoders. How many Encoders? We have two versions - with 12 (BERT base) and 24 (BERT Large).\n",
        "\n",
        "### **Transfer Learning**\n",
        "\n",
        "The best part is that you can do Transfer Learning (thanks to the ideas from OpenAI Transformer) with BERT for many NLP tasks - Classification, Question Answering, Entity Recognition, etc. You can train with small amounts of data and achieve great performance!"
      ]
    },
    {
      "cell_type": "code",
      "execution_count": 37,
      "metadata": {
        "id": "qc-VXVUQ7uDv"
      },
      "outputs": [],
      "source": [
        "# Let's load the tokenizer as before\n",
        "PRE_TRAINED_MODEL_NAME = 'bert-base-uncased' # 12-layer, 768-hidden, 12-heads, 110M parameters\n",
        "tokenizer = BertTokenizer.from_pretrained(PRE_TRAINED_MODEL_NAME)"
      ]
    },
    {
      "cell_type": "markdown",
      "metadata": {
        "id": "lz0f6m-z7uDv"
      },
      "source": [
        "### Masked Language Modeling (Masked LM)\n",
        "\n",
        "The objective of this task is to guess the masked tokens. Let's look at an example, and try to not make it harder than it has to be:\n",
        "\n",
        "That's `[mask]` she `[mask]` -> That's what she said"
      ]
    },
    {
      "cell_type": "code",
      "execution_count": 38,
      "metadata": {
        "colab": {
          "base_uri": "https://localhost:8080/"
        },
        "id": "2gApxUpg7uDv",
        "outputId": "cc568e39-4d98-4699-de5e-21a11f987c3a"
      },
      "outputs": [
        {
          "name": "stdout",
          "output_type": "stream",
          "text": [
            "['that', \"'\", 's', '[MASK]', 'she', '[MASK]']\n",
            "[2008, 1005, 1055, 103, 2016, 103]\n",
            "['that', \"'\", 's', '[MASK]', 'she', '[MASK]']\n"
          ]
        }
      ],
      "source": [
        "input_text = \"That's [MASK] she [MASK]\"\n",
        "tokens = tokenizer.tokenize(input_text)\n",
        "encoded_ids = tokenizer.encode(input_text, add_special_tokens=False)\n",
        "convert_back = tokenizer.convert_ids_to_tokens(encoded_ids)\n",
        "\n",
        "print(tokens)\n",
        "print(encoded_ids)\n",
        "print(convert_back)"
      ]
    },
    {
      "cell_type": "code",
      "execution_count": 39,
      "metadata": {
        "colab": {
          "base_uri": "https://localhost:8080/"
        },
        "id": "7l17zhj47uDv",
        "outputId": "5a865476-3504-4b67-b984-02b8adb9d4d7"
      },
      "outputs": [
        {
          "name": "stdout",
          "output_type": "stream",
          "text": [
            "['that', \"'\", 's', 'what', 'she', 'said']\n",
            "[2008, 1005, 1055, 2054, 2016, 2056]\n",
            "['that', \"'\", 's', 'what', 'she', 'said']\n"
          ]
        }
      ],
      "source": [
        "target_text = \"That's what she said\"\n",
        "tokens = tokenizer.tokenize(target_text)\n",
        "encoded_ids = tokenizer.encode(target_text, add_special_tokens=False)\n",
        "convert_back = tokenizer.convert_ids_to_tokens(encoded_ids)\n",
        "\n",
        "print(tokens)\n",
        "print(encoded_ids)\n",
        "print(convert_back)"
      ]
    },
    {
      "cell_type": "markdown",
      "metadata": {
        "id": "05vZzRFT7uDv"
      },
      "source": [
        "### Next Sentence Prediction (NSP)\n",
        "\n",
        "Given a pair of two sentences, the task is to say whether or not the second follows the first (binary classification). Let's continue with the example:\n",
        "\n",
        "*Input* = `[CLS]` That's `[mask]` she `[mask]`. [SEP] Hahaha, nice! [SEP]\n",
        "\n",
        "*Label* = *IsNext*\n",
        "\n",
        "*Input* = `[CLS]` That's `[mask]` she `[mask]`. [SEP] Dwight, you ignorant `[mask]`! [SEP]\n",
        "\n",
        "*Label* = *NotNext*"
      ]
    },
    {
      "cell_type": "code",
      "execution_count": 40,
      "metadata": {
        "colab": {
          "base_uri": "https://localhost:8080/"
        },
        "id": "AKqSikAH7uDv",
        "outputId": "9767c90e-0f84-4a36-d0fc-dcad869e68c6"
      },
      "outputs": [
        {
          "name": "stdout",
          "output_type": "stream",
          "text": [
            "{'attention_mask': [1, 1, 1, 1, 1, 1, 1, 1, 1, 1, 1, 1, 1, 1, 1],\n",
            " 'input_ids': [101,\n",
            "               2008,\n",
            "               1005,\n",
            "               1055,\n",
            "               103,\n",
            "               2016,\n",
            "               103,\n",
            "               102,\n",
            "               5292,\n",
            "               3270,\n",
            "               3270,\n",
            "               1010,\n",
            "               3835,\n",
            "               999,\n",
            "               102],\n",
            " 'token_type_ids': [0, 0, 0, 0, 0, 0, 0, 0, 1, 1, 1, 1, 1, 1, 1]}\n"
          ]
        }
      ],
      "source": [
        "sentence1 = \"That's [MASK] she [MASK]\"\n",
        "sentence2 = \"Hahaha, nice!\"\n",
        "\n",
        "pair_tokens = tokenizer(sentence1, sentence2, add_special_tokens=True)\n",
        "pprint(pair_tokens)"
      ]
    },
    {
      "cell_type": "code",
      "execution_count": 41,
      "metadata": {
        "colab": {
          "base_uri": "https://localhost:8080/"
        },
        "id": "m_zRB8qT7uDv",
        "outputId": "e6f5c4bf-8b40-4f8f-8227-8cf55b0e7ca9"
      },
      "outputs": [
        {
          "name": "stdout",
          "output_type": "stream",
          "text": [
            "['[CLS]', 'that', \"'\", 's', '[MASK]', 'she', '[MASK]', '[SEP]', 'ha', '##ha', '##ha', ',', 'nice', '!', '[SEP]']\n"
          ]
        }
      ],
      "source": [
        "convert_back = tokenizer.convert_ids_to_tokens(pair_tokens['input_ids'])\n",
        "print(convert_back, sep=' ')"
      ]
    },
    {
      "cell_type": "code",
      "execution_count": 42,
      "metadata": {
        "colab": {
          "base_uri": "https://localhost:8080/"
        },
        "id": "X_qZKgEA7uDw",
        "outputId": "466ad5b3-c3c6-477b-8f49-7b862003a0aa"
      },
      "outputs": [
        {
          "name": "stdout",
          "output_type": "stream",
          "text": [
            "{'attention_mask': [1, 1, 1, 1, 1, 1, 1, 1, 1, 1, 1, 1],\n",
            " 'input_ids': [2008,\n",
            "               1005,\n",
            "               1055,\n",
            "               103,\n",
            "               2016,\n",
            "               103,\n",
            "               5292,\n",
            "               3270,\n",
            "               3270,\n",
            "               1010,\n",
            "               3835,\n",
            "               999],\n",
            " 'token_type_ids': [0, 0, 0, 0, 0, 0, 0, 0, 0, 0, 0, 0]}\n"
          ]
        }
      ],
      "source": [
        "# What happens if we don't add special tokens?\n",
        "pair_tokens = tokenizer(sentence1, sentence2, add_special_tokens=False)\n",
        "pprint(pair_tokens)"
      ]
    },
    {
      "cell_type": "code",
      "execution_count": 43,
      "metadata": {
        "colab": {
          "base_uri": "https://localhost:8080/"
        },
        "id": "D0sNQuab7uDw",
        "outputId": "3038ac3c-c7fd-4186-c00c-f58b1506d214"
      },
      "outputs": [
        {
          "name": "stdout",
          "output_type": "stream",
          "text": [
            "['that', \"'\", 's', '[MASK]', 'she', '[MASK]', 'ha', '##ha', '##ha', ',', 'nice', '!']\n"
          ]
        }
      ],
      "source": [
        "convert_back = tokenizer.convert_ids_to_tokens(pair_tokens['input_ids'])\n",
        "print(convert_back, sep=' ')"
      ]
    },
    {
      "cell_type": "markdown",
      "metadata": {
        "id": "waKjYxTDuaWt"
      },
      "source": [
        "### Choosing Sequence Length\n",
        "\n",
        "BERT works with fixed-length sequences. We'll use a simple strategy to choose the max length. Let's store the token length of each review:"
      ]
    },
    {
      "cell_type": "code",
      "execution_count": 44,
      "metadata": {
        "colab": {
          "base_uri": "https://localhost:8080/"
        },
        "id": "BUnE5CT9hbeZ",
        "outputId": "7fd50a01-75f3-46a9-f2bd-ce3df4b3b3e1"
      },
      "outputs": [
        {
          "name": "stderr",
          "output_type": "stream",
          "text": [
            "Truncation was not explicitly activated but `max_length` is provided a specific value, please use `truncation=True` to explicitly truncate examples to max length. Defaulting to 'longest_first' truncation strategy. If you encode pairs of sequences (GLUE-style) with the tokenizer you can select this strategy more precisely by providing a specific strategy to `truncation`.\n"
          ]
        }
      ],
      "source": [
        "token_lens = []\n",
        "\n",
        "for txt in orig_train.Text:\n",
        "  tokens = tokenizer.encode(txt, max_length=512)\n",
        "  token_lens.append(len(tokens))"
      ]
    },
    {
      "cell_type": "markdown",
      "metadata": {
        "id": "tI4goUrHf6da"
      },
      "source": [
        "and plot the distribution:"
      ]
    },
    {
      "cell_type": "code",
      "execution_count": 45,
      "metadata": {
        "colab": {
          "base_uri": "https://localhost:8080/",
          "height": 562
        },
        "id": "SzE1j4jxmUtd",
        "outputId": "4c5e3ab2-94ef-4a0b-827f-62f7d6b11e71"
      },
      "outputs": [
        {
          "name": "stderr",
          "output_type": "stream",
          "text": [
            "c:\\Users\\AI_15\\AppData\\Local\\Programs\\Python\\Python38\\lib\\site-packages\\seaborn\\distributions.py:2619: FutureWarning: `distplot` is a deprecated function and will be removed in a future version. Please adapt your code to use either `displot` (a figure-level function with similar flexibility) or `histplot` (an axes-level function for histograms).\n",
            "  warnings.warn(msg, FutureWarning)\n"
          ]
        },
        {
          "data": {
            "image/png": "[encoded data removed]",
            "text/plain": [
              "<Figure size 864x576 with 1 Axes>"
            ]
          },
          "metadata": {
            "image/png": {
              "height": 488,
              "width": 744
            }
          },
          "output_type": "display_data"
        }
      ],
      "source": [
        "sns.distplot(token_lens)\n",
        "plt.xlim([0, 512]);\n",
        "plt.xlabel('Token count');"
      ]
    },
    {
      "cell_type": "markdown",
      "metadata": {
        "id": "oW6ajl30t6du"
      },
      "source": [
        "Most of the reviews seem to contain less than 400 tokens, but we'll be on the safe side and choose a maximum length of 512."
      ]
    },
    {
      "cell_type": "code",
      "execution_count": 46,
      "metadata": {
        "id": "t7xSmJtLuoxW"
      },
      "outputs": [],
      "source": [
        "#MAX_LEN = 512\n",
        "#BATCH_SIZE = 8\n",
        "\n",
        "MAX_LEN = 350\n",
        "BATCH_SIZE = 16\n",
        "\n",
        "#BATCH_SIZE = 4"
      ]
    },
    {
      "cell_type": "markdown",
      "metadata": {
        "id": "XvvcoU6nurHy"
      },
      "source": [
        "### Create a Pytorch Dataset from the Pandas Dataframe\n",
        "\n",
        "torch.utils.data.Dataset is an abstract class representing a dataset. Your custom dataset should inherit Dataset and override the following methods:\n",
        "\n",
        "*   __len__ so that len(dataset) returns the size of the dataset.\n",
        "*   __getitem__ to support the indexing such that dataset[i] can be used to get iith sample.\n",
        "\n"
      ]
    },
    {
      "cell_type": "code",
      "execution_count": 47,
      "metadata": {
        "id": "Nm_J1ITlPXNV"
      },
      "outputs": [],
      "source": [
        "class IMDBDataset(Dataset):\n",
        "  def __init__(self, pandas_dataframe):\n",
        "    self.data_frame = pandas_dataframe\n",
        "\n",
        "\n",
        "  def __len__(self):\n",
        "    return len(self.data_frame)\n",
        "\n",
        "  def __getitem__(self, idx):\n",
        "    item = self.data_frame.iloc[idx]\n",
        "\n",
        "    if item['Sentiment'] == 'Positive':\n",
        "      label = 1\n",
        "    elif item['Sentiment'] == 'Negative':\n",
        "      label = 0\n",
        "\n",
        "    outputs = {'label': label,\n",
        "               'text': item['Text'],\n",
        "               }\n",
        "\n",
        "    return outputs\n"
      ]
    },
    {
      "cell_type": "code",
      "execution_count": 48,
      "metadata": {
        "colab": {
          "base_uri": "https://localhost:8080/"
        },
        "id": "x6KplZLHRMIv",
        "outputId": "4660a5b0-d302-41b5-d968-5e3f0d9bef60"
      },
      "outputs": [
        {
          "name": "stdout",
          "output_type": "stream",
          "text": [
            "{'label': 0, 'text': 'Long, boring, blasphemous. Never have I been so glad to see ending credits roll.'}\n",
            "{'label': 0, 'text': 'Not good! Rent or buy the original! Watch this only if someone has a gun to your head and then....maybe.<br /><br />It is like claiming an Elvis actor is as good as the real King.'}\n",
            "{'label': 0, 'text': 'This movie is so bad, it can only be compared to the all-time worst \"comedy\": Police Academy 7. No laughs throughout the movie. Do something worthwhile, anything really. Just don\\'t waste your time on this garbage.'}\n",
            "{'label': 0, 'text': 'Spanish horrors are not bad at all, some are smart with interesting stories, but is not the case of \"Second Name\". It is badly directed, badly acted and boring...boring...boring, a missed chance for an interesting story.'}\n",
            "{'label': 0, 'text': \"I've seen about 820 movies released between 1931-39, and THE INFORMER is the worst major release I've seen from that time span. Awful, despicable, unpleasant, unhappy, unredeemable saga of a complete Loser. Watch a 1934 B Western instead.\"}\n"
          ]
        }
      ],
      "source": [
        "# Let's test it out!\n",
        "\n",
        "train_dataset = IMDBDataset(orig_train)\n",
        "\n",
        "for idx in range(5):\n",
        "  print(train_dataset[idx])"
      ]
    },
    {
      "cell_type": "code",
      "execution_count": 49,
      "metadata": {
        "colab": {
          "base_uri": "https://localhost:8080/"
        },
        "id": "V-riCgQViQrJ",
        "outputId": "b5fe7e17-eeea-42bd-d9ec-8b2fcc78e3b9"
      },
      "outputs": [
        {
          "name": "stdout",
          "output_type": "stream",
          "text": [
            "{'label': 1, 'text': 'You spend most of this two-hour film wondering \"what\\'s the story regarding the lead character?\" <br /><br />Will Smith, as a low-key \"Ben Thomas\" will keep you guessing. The last 20-25 minutes is when you find out, and it\\'s a shocker....but you knew something dramatic was going to be revealed. Until then, Smith, plays it mysterious, almost stalking people. You know he has a good reason for doing it, but it\\'s never really explained, once again, to keep us guessing until the end.<br /><br />All of it, including a on again/off again but touching romance with Rosario Dawkins (\"Emily Posa\") might make some viewers frustrated or wanting to quit this film.....but don\\'t because the final long segment puts all the pieces of this puzzle together.<br /><br />This is a two-hour film and not the typical action-packed macho Will Smith film. In fact, the most shocking aspect might be seeing the drawn, sad face of Smith throughout this story. It almost doesn\\'t even look like him in a number of shots. He looks like he\\'s lost weight and is sick. Smith does a great job portraying a man carrying around a lot of sadness.<br /><br />Like a good movie will often do, this film will leave you thinking long after the ending credits.'}\n",
            "{'label': 1, 'text': \"The 1960's TV series Bewitched owes it's idea from this movie. This is the movie that Jimmy Stewart & Kim Novak made right after they were cast together in Vertigo by Alfred Hitchcock. This one is not as obsessive as that one but Novak is just as captivating.<br /><br />This was Jack Lemmons 10th movie and he is good in support here as well as Ernie Kovacs. The movie has a lot of good things about it. Hermine Gingold is very good in this movie, almost as good in support here as she was in The Music Man. The cast is very solid.<br /><br />This movie has a late 1950's New York City feel & a cat that is as hexing as any feline in any movie. It is well worth watching as it is a love story with all the emotion of any, & a little magic too boot.<br /><br />It is not Vertigo but I think because it followed that movie, viewers then did not rate it as good as it deserved - sure am glad that William Asher saw it, so that the 1960's series got created. I am not so glad about what Will Ferrell did to it on the big screen, this movie is much better than that.\"}\n",
            "{'label': 1, 'text': 'The Williams family live on a ranch located in the middle of the remote desert. They find themselves in considerable peril when the place is suddenly thrust into a time vortex where the past, present and future collide in a wildly chaotic and unpredictable manner. Director John \"Bud\" Cardos begins the film on a compellingly mysterious note and gradually allows things to get stranger, crazier and more exciting as the loopy story unfolds. Moreover, Cardos fills the screen with plenty of dazzling visuals and does a nice job of creating a genuine sense of awe and wonder. The admirably sincere acting from a game cast qualifies as another major plus: Jim Davis as hearty patriarch Grant Williams, Dorothy Malone as his cheery wife Ana, Christopher Mitchum as the concerned Richard, Marcy Lafferty as his lovely wife Beth, Natasha Ryan as sweet little girl Jenny, and Scott C. Kolden as the gutsy Steve. The funky special effects offer an inspired combo of gnarly miniatures, neat stop-motion animation monsters (said creatures include a tiny spindly hairless guy, a big, lumpy, fanged beast, and a scrawny lizard dude), and nifty matte paintings. Richard Band\\'s rousing full-bore orchestral score really hits the stirring spot. John Arthur Morrill\\'s crisp, sunny cinematography likewise does the trick. A fun flick.'}\n",
            "{'label': 1, 'text': \"I was really surprised with this movie. Going in to the sneak preview, knowing nothing about the movie except for the one trailer I'd seen, I thought it was going to be a Dude Where's My Car kind of crap fest. I was expecting bad sex jokes and farting and a pathetic lead character who will get laid in the end because that's just how movies work. Instead I got a smart, surprisingly original movie about a decent, average guy who just never had sex.<br /><br />Yes, the film is chock full o' sex jokes and vulgarity and the occasional hey-look-a-nipple!, but it's done much in the spirit of Bad Santa rather than Sorority Boys. All the characters are people you probably know in real life, redeemable friends who are just trying to hook a brother up and live their lives.<br /><br />I went in thinking this movie was going to be total crap, and I was very surprised. Yea, it's pretty over the top (c'mon, it's a movie about a 40 year old virgin!), but it's very smartly done.<br /><br />In the end, you're really pulling for this guy to get laid, which says a lot about the movie because honestly, did you really care if Ashton Kutcher found his car or not?\"}\n",
            "{'label': 1, 'text': \"Despite excellent trailers for Vanilla Sky, I was expecting to be disappointed by the film because I'd heard that it did not get great reviews. However, I left the cinema completely in awe of how good Vanilla Sky is.<br /><br />There was no bad acting at all in the whole film, every single character is believable. The romantic moments between Cruise's character, David Aames and Cruz's character, Sophia are tear-jerkingly realistic and intimate (probably due to the fact that they were a soon-to-be real-life couple).<br /><br />The plot of Vanilla Sky will confuse you in the last third of the film and there's very little chance of you guessing the ending. However, ends are tied up towards the end, leaving you with a strange mixture of feelings consisting of sadness, shock and empathy for David Aames.<br /><br />The film is intellectual and you have to pay attention throughout. This isn't that hard because chances are that you'll be completely drawn in to the film and won't take your eyes off the screen for one second.<br /><br />I usually leave cinemas forgetting all about the film I just watch. But Vanilla Sky is still lingering in my mind days after watching it. I recommend it to anyone who wants a change from simple, shallow films.\"}\n"
          ]
        }
      ],
      "source": [
        "for idx in range(1500,1505):\n",
        "  print(train_dataset[idx])"
      ]
    },
    {
      "cell_type": "markdown",
      "metadata": {
        "id": "J4tQ1x-vqNab"
      },
      "source": [
        "### Using a Dataloader to Iterate through the Dataset\n",
        "While we can use a simple for loop to iterate over the data, it is not the most efficient way. \n",
        "\n",
        "In particular, we are missing out on:\n",
        "\n",
        "*   Batching the data\n",
        "*   Shuffling the data\n",
        "*   Load the data in parallel using multiprocessing workers.\n",
        "\n",
        "torch.utils.data.DataLoader is an iterator which provides all these features. Parameters used below should be clear. One parameter of interest is collate_fn. You can specify how exactly the samples need to be batched using collate_fn. However, default collate should work fine for most use cases."
      ]
    },
    {
      "cell_type": "code",
      "execution_count": 50,
      "metadata": {
        "id": "KEGqcvkuOuTX"
      },
      "outputs": [],
      "source": [
        "# We'll create a Dataset for each split of the data:\n",
        "orig_train_dataset = IMDBDataset(orig_train)\n",
        "orig_val_dataset = IMDBDataset(orig_dev)\n",
        "orig_test_dataset = IMDBDataset(orig_test)\n"
      ]
    },
    {
      "cell_type": "code",
      "execution_count": 51,
      "metadata": {
        "colab": {
          "base_uri": "https://localhost:8080/"
        },
        "id": "jsvJbklNUm8_",
        "outputId": "ad585cd5-f082-4f31-f958-d3b50679d16e"
      },
      "outputs": [
        {
          "data": {
            "text/plain": [
              "PreTrainedTokenizer(name_or_path='bert-base-uncased', vocab_size=30522, model_max_len=512, is_fast=False, padding_side='right', truncation_side='right', special_tokens={'unk_token': '[UNK]', 'sep_token': '[SEP]', 'pad_token': '[PAD]', 'cls_token': '[CLS]', 'mask_token': '[MASK]'})"
            ]
          },
          "execution_count": 51,
          "metadata": {},
          "output_type": "execute_result"
        }
      ],
      "source": [
        "# Remember we defined a tokenizer\n",
        "tokenizer"
      ]
    },
    {
      "cell_type": "code",
      "execution_count": 52,
      "metadata": {
        "id": "XX9Wnrf9TWt-"
      },
      "outputs": [],
      "source": [
        "def collate_batch(data):\n",
        "    \"\"\"\n",
        "       data: a list of python dictionaries (with keys 'label' and 'text')\n",
        "             \n",
        "    \"\"\"\n",
        "\n",
        "    label_batch = [item['label'] for item in data]\n",
        "    text_batch = [item['text'] for item in data]\n",
        "    \n",
        "    encoded = tokenizer.batch_encode_plus(text_batch, \n",
        "                                padding=True, \n",
        "                                add_special_tokens=True,\n",
        "                                max_length=MAX_LEN,\n",
        "                                truncation=True,\n",
        "                                return_token_type_ids=False,                                \n",
        "                                return_attention_mask=True,\n",
        "                                return_tensors='pt',)\n",
        "\n",
        "    encoded['targets'] = torch.tensor(label_batch)\n",
        "    encoded['raw_text'] = text_batch\n",
        "\n",
        "    return encoded"
      ]
    },
    {
      "cell_type": "code",
      "execution_count": 53,
      "metadata": {
        "colab": {
          "base_uri": "https://localhost:8080/"
        },
        "id": "o_O0e3tDTus3",
        "outputId": "2c2a612a-d8fe-42ed-eb20-f972bbca7bf8"
      },
      "outputs": [
        {
          "name": "stdout",
          "output_type": "stream",
          "text": [
            "### input_ids ###:\n",
            "\n",
            " tensor([[  101,  2146,  1010, 11771,  1010,  1038,  8523,  8458,  6633,  3560,\n",
            "          1012,  2196,  2031,  1045,  2042,  2061,  5580,  2000,  2156,  4566,\n",
            "          6495,  4897,  1012,   102,     0,     0,     0,     0,     0,     0,\n",
            "             0,     0,     0,     0,     0,     0,     0,     0,     0,     0,\n",
            "             0,     0,     0,     0,     0,     0,     0,     0,     0,     0,\n",
            "             0,     0,     0],\n",
            "        [  101,  2025,  2204,   999,  9278,  2030,  4965,  1996,  2434,   999,\n",
            "          3422,  2023,  2069,  2065,  2619,  2038,  1037,  3282,  2000,  2115,\n",
            "          2132,  1998,  2059,  1012,  1012,  1012,  1012,  2672,  1012,  1026,\n",
            "          7987,  1013,  1028,  1026,  7987,  1013,  1028,  2009,  2003,  2066,\n",
            "          6815,  2019, 12280,  3364,  2003,  2004,  2204,  2004,  1996,  2613,\n",
            "          2332,  1012,   102]]) \n",
            "\n",
            "\n",
            "### attention_mask ###:\n",
            "\n",
            " tensor([[1, 1, 1, 1, 1, 1, 1, 1, 1, 1, 1, 1, 1, 1, 1, 1, 1, 1, 1, 1, 1, 1, 1, 1,\n",
            "         0, 0, 0, 0, 0, 0, 0, 0, 0, 0, 0, 0, 0, 0, 0, 0, 0, 0, 0, 0, 0, 0, 0, 0,\n",
            "         0, 0, 0, 0, 0],\n",
            "        [1, 1, 1, 1, 1, 1, 1, 1, 1, 1, 1, 1, 1, 1, 1, 1, 1, 1, 1, 1, 1, 1, 1, 1,\n",
            "         1, 1, 1, 1, 1, 1, 1, 1, 1, 1, 1, 1, 1, 1, 1, 1, 1, 1, 1, 1, 1, 1, 1, 1,\n",
            "         1, 1, 1, 1, 1]]) \n",
            "\n",
            "\n",
            "### targets ###:\n",
            "\n",
            " tensor([0, 0]) \n",
            "\n",
            "\n",
            "### raw_text ###:\n",
            "\n",
            " ['Long, boring, blasphemous. Never have I been so glad to see ending credits roll.', 'Not good! Rent or buy the original! Watch this only if someone has a gun to your head and then....maybe.<br /><br />It is like claiming an Elvis actor is as good as the real King.'] \n",
            "\n",
            "\n"
          ]
        }
      ],
      "source": [
        "# Let's see the collate function in action\n",
        "ex_inp = collate_batch([train_dataset[0], train_dataset[1]])\n",
        "\n",
        "for key in ex_inp.keys():\n",
        "  print(f\"### {key} ###:\\n\\n\", ex_inp[key], '\\n\\n')\n"
      ]
    },
    {
      "cell_type": "code",
      "execution_count": 54,
      "metadata": {
        "colab": {
          "base_uri": "https://localhost:8080/"
        },
        "id": "Fw3fVZZuOz98",
        "outputId": "68381f7e-024b-4142-de5d-33ad7399d194"
      },
      "outputs": [
        {
          "name": "stdout",
          "output_type": "stream",
          "text": [
            "Batch size: 16\n"
          ]
        }
      ],
      "source": [
        "# We'll create a Dataloader for each split of the data. \n",
        "\n",
        "orig_train_dataloader = DataLoader(\n",
        "        orig_train_dataset, shuffle=True, collate_fn=collate_batch, batch_size=BATCH_SIZE\n",
        "    )\n",
        "\n",
        "orig_val_dataloader = DataLoader(\n",
        "        orig_val_dataset, shuffle=False, collate_fn=collate_batch, batch_size=BATCH_SIZE\n",
        "    )\n",
        "\n",
        "orig_test_dataloader = DataLoader(\n",
        "        orig_test_dataset, shuffle=False, collate_fn=collate_batch, batch_size=BATCH_SIZE\n",
        "    )\n",
        "\n",
        "print(f\"Batch size: {BATCH_SIZE}\")"
      ]
    },
    {
      "cell_type": "markdown",
      "metadata": {
        "id": "A6dlOptwqlhF"
      },
      "source": [
        "Let's see how we can iterate through the Dataloader:"
      ]
    },
    {
      "cell_type": "code",
      "execution_count": 55,
      "metadata": {
        "colab": {
          "base_uri": "https://localhost:8080/"
        },
        "id": "Y93ldSN47FeT",
        "outputId": "4ced50cd-9276-4643-9bd4-59175a596714"
      },
      "outputs": [
        {
          "data": {
            "text/plain": [
              "{'input_ids': tensor([[ 101, 3227, 2009,  ...,    0,    0,    0],\n",
              "        [ 101, 2061, 2017,  ...,    0,    0,    0],\n",
              "        [ 101, 1045, 5136,  ...,    0,    0,    0],\n",
              "        ...,\n",
              "        [ 101, 1045, 4156,  ...,    0,    0,    0],\n",
              "        [ 101, 1045, 2219,  ...,    0,    0,    0],\n",
              "        [ 101, 2023, 2003,  ...,    0,    0,    0]]), 'attention_mask': tensor([[1, 1, 1,  ..., 0, 0, 0],\n",
              "        [1, 1, 1,  ..., 0, 0, 0],\n",
              "        [1, 1, 1,  ..., 0, 0, 0],\n",
              "        ...,\n",
              "        [1, 1, 1,  ..., 0, 0, 0],\n",
              "        [1, 1, 1,  ..., 0, 0, 0],\n",
              "        [1, 1, 1,  ..., 0, 0, 0]]), 'targets': tensor([1, 1, 1, 1, 1, 1, 0, 0, 1, 0, 0, 1, 0, 0, 1, 0]), 'raw_text': [\"Generally it was a good movie with an ideal ending; the acting was spectacular and the characters didn't stray from their persons. I especially liked the plot, although you knew what was going to happen it still gave the element of surprise through out the entire movie. However, I find that coming on to the ending it could have been a little longer (extended maybe)- to me it seemed like it was rushed a bit; as if the writer was trying to take linens off the lines before the rain fell. For instance- What happened to Tristan's brother, Hayden? For all we know he died in the hospital. Maybe he was the one that setup the entire thing?! Who knows! Maybe there will be a sequel? Maybe? If there is.. I cant wait to see it.\", \"So you think a talking parrot is not your cup of tea huh? Well, think again. Paulie is a wonderful film filled with touching moments.The characters are all lovable especially Paulie as he enters the lives of many people on his journey.It is journey worth experiencing. Don't miss it! It is available on home video.\", 'I consider myself a great admirer of David Lynch\\'s works, for he provides the viewers with absolutely unique motion pictures with typical \"Lynch-elements.\" Having seen most of his works, I naively thought I could predict Lynch\\'s next step. I was dead wrong. Dumbland is something I could have never imagined under the name of David Lynch. Still, after my recovery from the first shock, I started to contemplate about this extremely primitive main character, and I drew the conclusion that all the absurdities, cruelty, brutality and disgust presented here are mirroring bits from reality, being emphasized by distorting it. There are things in our lives we hardly ever emphasize, for they are either disgusting or horrible, however, they are surrounding us, so I take the courage to say, Dumbland focuses on these bits and pieces. This is not a movie to enjoy, though you\\'ll sometimes laugh out of a strange, perverted sense of humor, this is an animated reflection of all things we rather reject to observe, with its simplicity, morbidity and absurdity. Take it as it is, you don\\'t have to like it. It just exists. And finally, if you\\'re attentive enough, you\\'ll find elements typical to Lynch as well. I recommend it for tolerant people!!!', \"I totally got drawn into this and couldn't wait for each episode. The acting brought to life how emotional a missing person in the family must be , together with the effects it would have on those closest. The only problem we as a family had was how quickly it was all 'explained' at the end. We couldn't hear clearly what was said and have no idea what Gary's part in the whole thing was? Why did Kyle phone him and why did he go along with it? Having invested in a series for five hours we felt cheated that only five minutes was kept back for the conclusion. I have asked around and none of my friends who watched it were any the wiser either. Very strange but maybe we missed something crucial ????\", \"It's remarkable that for 'Young Mr. Lincoln's' supporting players Ford cast lesser known, other-than-star actors. This not only heightens his film's focus on the central character of Lincoln, but it also affords the audience a refreshing insight into Lincoln as a man of his place and time, a man embroiled, as each one of us inexorably is, in the issues and sentiments of his time and seeking his way to resolving them. It's not so much through Fonda's Lincoln's words and actions but in the faces, the reactions of the supporting players that Ford tells the story of the formation of the young Lincoln's worldview, sense of place in society and polity, and of how the people responded to Mr. Lincoln's words and deeds and placed their trust in this man whom they deemed to have earned their respect and heeding.<br /><br />Give this a try: instead of focusing on Henry Fonda, next time you view 'Young Mr. Lincoln' shift your focus to the supporting characters - you will, I expect, be handsomely rewarded with a more profound appreciation of both Lincoln and Ford. I like to suspect that Ford's storytelling through the supporting characters' reactions to Fonda's Lincoln may have appealed to David Lean when he directed Omar Sharif in 'Doctor Zhivago', in which it's the supporting characters' reactions to Zhivago that actually tell about Zhivago.\", \"A LAUREL & HARDY Comedy Short. The Boys arrive to sweep the chimneys at the home of Professor Noodle, a mad scientist who's just perfected his rejuvenation serum. Stan & Ollie proceed with their DIRTY WORK, spreading destruction inside the house and on the roof. Then the Professor wants to try out his new potion...<br /><br />A very funny little film. The ending is a bit abrupt, but much of the slapstick leading up to it is terrific. Especially good is Stan & Ollie's contest of wills at opposite ends of the chimney. That's Lucien Littlefield as the Professor.\", \"I don't know what this movie is about, really. It's like a student's art school project. They never say why the world is dark, but it is always darkness except for seconds a day. There are long, interrupting shots of insects of all sorts for no reason. What little dialogue there is in the movie is as inane and nonsensical as the images. A black woman enters the main character's apartment. Somehow she becomes pregnant overnight, then gets shot in the head. The main character takes care of the body until it becomes a cocoon after which a white naked woman emerges. I have never been so blown away by how bad and pointless a movie can be. Honestly, I would like someone to watch it so they can tell me what they think it's about. But I wouldn't wish this level of hell on anybody else.\", 'Why every horror director wants to imitate \"The Exorcist\" is a complete riddle to me, as William Friedkin\\'s \"classic\" is a very overrated film and, in my opinion, not all that tense or shocking. And yet here\\'s another clean rip-off, a Spanish one this time, that shamelessly repeats the story of a young girl that gets possessed by pure evil and turns against her own family. Paul Naschy (who I must admit looks quite hot here) plays the honorable priest who gets approached by John Gibson because his sister Leila\\'s behavior changed drastically since she met her new boyfriend. At first the priest doesn\\'t believe it but when John\\'s body is discovered with its neck twisted, Leila\\'s demonic behavior becomes more noticeable... \"Exorcism\" is not only very unoriginal, it\\'s also an insufferably boring film! Here Naschy and director Juan Bosch had an open opportunity to make a religiously themed exploitation flick full of shocks and gore, and yet the result is a tame and overall bloodless drama that\\'ll nearly put you to sleep! The last twenty minutes contain some atmospheric moments, albeit very stupid, and there\\'s quite a lot of stylishly filmed female nudity and sleaze. The absolute lack of budget is no real excuse since Paul Naschy already proved before that he has enough imagination to make up for a shortage in money. This is just an awful film, end of story. Other European \"The Excorcist\" rip-offs are \"The Antichrist\" and \"Beyond the Door\" and they suck as well!', \"First off, I'm not some Justin Timberlake fangirl obsessed with making him look good, in fact I'm not even a huge Justin fan, but I did like this movie.<br /><br />I work at a video store and when I saw this movie with its huge cast that I'd never even heard of I had to see what it was about. I didn't find Justin's acting that bad, it was clearly the worst out of the group, but it's a pretty impressive group, with Cary Elwes and Dylan McDermott being two names that didn't even make the first credits list. The story is basic, a journalist uncovering corrupt cops, but I found it well done. L L Cool J's character was clearly conflicted, but I honestly didn't know what he would do in the end. Morgan Freeman is as always, the wise mentor figure he does so well, and as much as I love Kevin SPacey, he was kind of just there. HIs character didn't have a whole lot of substance, but it's Kevin Spacey, he can do no wrong.<br /><br />Surprisingly I thought Dylan McDermott gave the best performance as a homicidal cop. Truly believable and really in character, he freaked me out a couple of times.<br /><br />I was really expecting a lot of cheesiness to be honest. Horrible catchphrases, unjustified action sequences, stuff like that, but it was surprisingly well done and I didn't find any of that. Every shooting had a point, it wasn't clichéd, pretty solid really.<br /><br />overall, amazing cast, decent story that kept me interested and just enough action to make me jump. I don't know why it didn't appear in theatres, it was better than some garbage I've seen on the big screen. I would say it's worth seeing.\", 'I love the 80s slasher flicks and I remember when \"Silent Night/Deadly Night\" was pulled from our theaters, I was very disappointed, so I was very excited to see some of these on Fear.net. You Better Watch Out was what I\\'ve come to expect of these types of movies. The quality of the special effects were laughable by today\\'s standards, the character development too long, but all in all it was laugh out loud funny! <br /><br />The scenes where he loses it because Santa, aka dad, is feeling up his mom and later when the mob is actually shown lighting torches - not flashlights as you would in the 80s, but real torches! - really tickled my funny bone. However, the scenes where he was checking on the kids in his neighborhood gave me a creepy feeling of a different nature. I also enjoyed trying to figure out who some of these character actors were. It took me awhile to figure out that the main character was the lovable teddy bear on Brothers.', 'This was, so far, the worst movie I have seen in my entire life, and I have seen some REALLY bad movies. I saw this movie at my local video store, and the cover looked like it could be a decent horror movie. Little did I know that the cover would be the best part of the movie. Where to start? The filming of the movie was scattered and boring. At one point, there is a one-minute scene of no one talking, just a car driving to a ranch on a normal sunny day. Nothing happened, they just drove in silence. The whole movie is boring, with annoying, unbelievable dialogue and basically no plot to speak of. If you rent this movie, watch it with some friends and it might make a good comedy. Otherwise, when you see this movie, run.', 'One of my favourite \"domestic\" movies. I don\\'t know if there is any person in our country who hasn\\'t seen this movie! It\\'s funny, and sad at some moments...I don\\'t know how did people around the world (who had opportunity to watch it) accept this movie, because you have to know some moments in our serbian history and character of Serbs in the first half of the 20th century, to be able to understand it! But as I see here, there is somebody from Canada who watched it...and he liked it.<br /><br />I think that I\\'ll try to put all good quotes from the movie on this site, but first to find out how to do that...<br /><br />Cheers.', 'This Paramount version/ripoff of OKLAHOMA!/ANNIE GET YOUR GUN/CALAMITY JANE isn\\'t all that unusual or innovative. The marketing and intro comments may be there to salvage what is really a pretty bad movie musical western shot on a soundstage and like a live TV show. I don\\'t find the use of the background cyclorama, lit in various scenes with yellow, or pink, or red, or....all that innovative. As noted, it looks more to me like a movie that was produced on a TV budget: All soundstage, with minimal sets backed by the lighted cycs! (Compare to NEW FACES (OF 1952). The actors come off reasonably well, though. And this style was much better realized when Paramount shot LI\\'L ABNER in 1959. Of couorse, this movie suggests the often repeated question: \"what were they thinking?\"', \"I purchased this video quite cheaply ex-rental, thinking that the cover looked quite nice. And it was nice, but the movie is trash. I can handle B-grade, I sometimes even enjoy a good B romp (ie. 'Surf Nazis Must Die' is a classic example of how entertaining the genre can be), but this was just bland bland bland. Incredibly dull scenes were broken up too sparsely by good wholesome cheap porn and entertaining dream horror sequences. This movie has very little to offer.\", \"I own this movie and have watched it several times throughout the years since it was released. Prince doesn't stun us with his phenomenal acting style or anything, he's a musician and I feel like that is what he displayed here, he's just the best one to tell this story through influence. Most of this movie is straightforward and teenish but that is the directors/writers fault, still it is a great movie with even better music. The principals and moral convictions in Purple Rain are quite strong and if more movies would rely on the basics we are taught as young children we would have a better all around environment seeing that art reflects life which reflects art.\", \"This is one of the worse cases of film drivel I have seen in a long while. It is so awful, that I am not sure where to begin, or even if it is worth it. The plot is the real problem, and I feel sorry for 'Sly' as he puts in a decent performance for his part. But that plot ... Oh dear oh dear. I particularly love the way near the end he manages to pop from the foot of a mountain to the top, whilst the helicopter is on the way. A climb of a day or two takes him all of five minutes! I could go on: but it isn't worth it. Apart from the grim opening (which even a five year old would be able to predict the outcome of) the rest is drivel. Sorry folks, but this is about as bad as film making gets.\"]}"
            ]
          },
          "execution_count": 55,
          "metadata": {},
          "output_type": "execute_result"
        }
      ],
      "source": [
        "data = next(iter(orig_train_dataloader))\n",
        "data"
      ]
    },
    {
      "cell_type": "code",
      "execution_count": 56,
      "metadata": {
        "colab": {
          "base_uri": "https://localhost:8080/"
        },
        "id": "IdU4YVqb7N8M",
        "outputId": "17a4083a-b25e-4aa4-a163-649a44735cc4"
      },
      "outputs": [
        {
          "name": "stdout",
          "output_type": "stream",
          "text": [
            "torch.Size([16, 350])\n",
            "torch.Size([16, 350])\n",
            "torch.Size([16])\n"
          ]
        }
      ],
      "source": [
        "print(data['input_ids'].shape)\n",
        "print(data['attention_mask'].shape)\n",
        "print(data['targets'].shape)"
      ]
    },
    {
      "cell_type": "markdown",
      "metadata": {
        "id": "H63Y-TjyRC7S"
      },
      "source": [
        "## Sentiment Classification with BERT and Hugging Face"
      ]
    },
    {
      "cell_type": "markdown",
      "metadata": {
        "id": "440Nd31VTHER"
      },
      "source": [
        "There are a lot of helpers that make using BERT easy with the Transformers library. Depending on the task you might want to use [BertForSequenceClassification](https://huggingface.co/transformers/model_doc/bert.html#bertforsequenceclassification), [BertForQuestionAnswering](https://huggingface.co/transformers/model_doc/bert.html#bertforquestionanswering) or something else. \n",
        "\n",
        "In this tutorial, we'll use the basic [BertModel](https://huggingface.co/transformers/model_doc/bert.html#bertmodel) and build our sentiment classifier on top of it. Let's load the model:"
      ]
    },
    {
      "cell_type": "code",
      "execution_count": 57,
      "metadata": {
        "colab": {
          "base_uri": "https://localhost:8080/",
          "height": 141,
          "referenced_widgets": [
            "344017b963084861b4f291011ee92107",
            "ab48be1e486a46a585f124cbaee61c7c",
            "946407313f084e5983d89195745fe24c",
            "b5166720cd5d40c5854fabd3bab1a80e",
            "6b23b47bed164776b08e21c5cf01e8d3",
            "a34484ef4c3d4d25a16cd75d3eedba52",
            "f071e197ebd6485d80805e238972aef3",
            "33aabb277f774ea0a6c831186765cc5d"
          ]
        },
        "id": "LBAlnei7G6bG",
        "outputId": "03981f43-aa3c-44c8-8abb-ab014b91c7cc"
      },
      "outputs": [
        {
          "name": "stderr",
          "output_type": "stream",
          "text": [
            "Downloading: 100%|██████████| 420M/420M [00:22<00:00, 19.8MB/s] \n",
            "Some weights of the model checkpoint at bert-base-uncased were not used when initializing BertModel: ['cls.predictions.transform.LayerNorm.weight', 'cls.predictions.transform.dense.weight', 'cls.predictions.decoder.weight', 'cls.seq_relationship.bias', 'cls.predictions.transform.LayerNorm.bias', 'cls.predictions.bias', 'cls.predictions.transform.dense.bias', 'cls.seq_relationship.weight']\n",
            "- This IS expected if you are initializing BertModel from the checkpoint of a model trained on another task or with another architecture (e.g. initializing a BertForSequenceClassification model from a BertForPreTraining model).\n",
            "- This IS NOT expected if you are initializing BertModel from the checkpoint of a model that you expect to be exactly identical (initializing a BertForSequenceClassification model from a BertForSequenceClassification model).\n"
          ]
        }
      ],
      "source": [
        "example_bert_model = BertModel.from_pretrained(PRE_TRAINED_MODEL_NAME)"
      ]
    },
    {
      "cell_type": "code",
      "execution_count": 58,
      "metadata": {
        "colab": {
          "base_uri": "https://localhost:8080/"
        },
        "id": "9_iY7pDe8Rjc",
        "outputId": "509bbf8a-86f9-4efc-c4e7-d6e80c3677cf"
      },
      "outputs": [
        {
          "data": {
            "text/plain": [
              "BertModel(\n",
              "  (embeddings): BertEmbeddings(\n",
              "    (word_embeddings): Embedding(30522, 768, padding_idx=0)\n",
              "    (position_embeddings): Embedding(512, 768)\n",
              "    (token_type_embeddings): Embedding(2, 768)\n",
              "    (LayerNorm): LayerNorm((768,), eps=1e-12, elementwise_affine=True)\n",
              "    (dropout): Dropout(p=0.1, inplace=False)\n",
              "  )\n",
              "  (encoder): BertEncoder(\n",
              "    (layer): ModuleList(\n",
              "      (0): BertLayer(\n",
              "        (attention): BertAttention(\n",
              "          (self): BertSelfAttention(\n",
              "            (query): Linear(in_features=768, out_features=768, bias=True)\n",
              "            (key): Linear(in_features=768, out_features=768, bias=True)\n",
              "            (value): Linear(in_features=768, out_features=768, bias=True)\n",
              "            (dropout): Dropout(p=0.1, inplace=False)\n",
              "          )\n",
              "          (output): BertSelfOutput(\n",
              "            (dense): Linear(in_features=768, out_features=768, bias=True)\n",
              "            (LayerNorm): LayerNorm((768,), eps=1e-12, elementwise_affine=True)\n",
              "            (dropout): Dropout(p=0.1, inplace=False)\n",
              "          )\n",
              "        )\n",
              "        (intermediate): BertIntermediate(\n",
              "          (dense): Linear(in_features=768, out_features=3072, bias=True)\n",
              "          (intermediate_act_fn): GELUActivation()\n",
              "        )\n",
              "        (output): BertOutput(\n",
              "          (dense): Linear(in_features=3072, out_features=768, bias=True)\n",
              "          (LayerNorm): LayerNorm((768,), eps=1e-12, elementwise_affine=True)\n",
              "          (dropout): Dropout(p=0.1, inplace=False)\n",
              "        )\n",
              "      )\n",
              "      (1): BertLayer(\n",
              "        (attention): BertAttention(\n",
              "          (self): BertSelfAttention(\n",
              "            (query): Linear(in_features=768, out_features=768, bias=True)\n",
              "            (key): Linear(in_features=768, out_features=768, bias=True)\n",
              "            (value): Linear(in_features=768, out_features=768, bias=True)\n",
              "            (dropout): Dropout(p=0.1, inplace=False)\n",
              "          )\n",
              "          (output): BertSelfOutput(\n",
              "            (dense): Linear(in_features=768, out_features=768, bias=True)\n",
              "            (LayerNorm): LayerNorm((768,), eps=1e-12, elementwise_affine=True)\n",
              "            (dropout): Dropout(p=0.1, inplace=False)\n",
              "          )\n",
              "        )\n",
              "        (intermediate): BertIntermediate(\n",
              "          (dense): Linear(in_features=768, out_features=3072, bias=True)\n",
              "          (intermediate_act_fn): GELUActivation()\n",
              "        )\n",
              "        (output): BertOutput(\n",
              "          (dense): Linear(in_features=3072, out_features=768, bias=True)\n",
              "          (LayerNorm): LayerNorm((768,), eps=1e-12, elementwise_affine=True)\n",
              "          (dropout): Dropout(p=0.1, inplace=False)\n",
              "        )\n",
              "      )\n",
              "      (2): BertLayer(\n",
              "        (attention): BertAttention(\n",
              "          (self): BertSelfAttention(\n",
              "            (query): Linear(in_features=768, out_features=768, bias=True)\n",
              "            (key): Linear(in_features=768, out_features=768, bias=True)\n",
              "            (value): Linear(in_features=768, out_features=768, bias=True)\n",
              "            (dropout): Dropout(p=0.1, inplace=False)\n",
              "          )\n",
              "          (output): BertSelfOutput(\n",
              "            (dense): Linear(in_features=768, out_features=768, bias=True)\n",
              "            (LayerNorm): LayerNorm((768,), eps=1e-12, elementwise_affine=True)\n",
              "            (dropout): Dropout(p=0.1, inplace=False)\n",
              "          )\n",
              "        )\n",
              "        (intermediate): BertIntermediate(\n",
              "          (dense): Linear(in_features=768, out_features=3072, bias=True)\n",
              "          (intermediate_act_fn): GELUActivation()\n",
              "        )\n",
              "        (output): BertOutput(\n",
              "          (dense): Linear(in_features=3072, out_features=768, bias=True)\n",
              "          (LayerNorm): LayerNorm((768,), eps=1e-12, elementwise_affine=True)\n",
              "          (dropout): Dropout(p=0.1, inplace=False)\n",
              "        )\n",
              "      )\n",
              "      (3): BertLayer(\n",
              "        (attention): BertAttention(\n",
              "          (self): BertSelfAttention(\n",
              "            (query): Linear(in_features=768, out_features=768, bias=True)\n",
              "            (key): Linear(in_features=768, out_features=768, bias=True)\n",
              "            (value): Linear(in_features=768, out_features=768, bias=True)\n",
              "            (dropout): Dropout(p=0.1, inplace=False)\n",
              "          )\n",
              "          (output): BertSelfOutput(\n",
              "            (dense): Linear(in_features=768, out_features=768, bias=True)\n",
              "            (LayerNorm): LayerNorm((768,), eps=1e-12, elementwise_affine=True)\n",
              "            (dropout): Dropout(p=0.1, inplace=False)\n",
              "          )\n",
              "        )\n",
              "        (intermediate): BertIntermediate(\n",
              "          (dense): Linear(in_features=768, out_features=3072, bias=True)\n",
              "          (intermediate_act_fn): GELUActivation()\n",
              "        )\n",
              "        (output): BertOutput(\n",
              "          (dense): Linear(in_features=3072, out_features=768, bias=True)\n",
              "          (LayerNorm): LayerNorm((768,), eps=1e-12, elementwise_affine=True)\n",
              "          (dropout): Dropout(p=0.1, inplace=False)\n",
              "        )\n",
              "      )\n",
              "      (4): BertLayer(\n",
              "        (attention): BertAttention(\n",
              "          (self): BertSelfAttention(\n",
              "            (query): Linear(in_features=768, out_features=768, bias=True)\n",
              "            (key): Linear(in_features=768, out_features=768, bias=True)\n",
              "            (value): Linear(in_features=768, out_features=768, bias=True)\n",
              "            (dropout): Dropout(p=0.1, inplace=False)\n",
              "          )\n",
              "          (output): BertSelfOutput(\n",
              "            (dense): Linear(in_features=768, out_features=768, bias=True)\n",
              "            (LayerNorm): LayerNorm((768,), eps=1e-12, elementwise_affine=True)\n",
              "            (dropout): Dropout(p=0.1, inplace=False)\n",
              "          )\n",
              "        )\n",
              "        (intermediate): BertIntermediate(\n",
              "          (dense): Linear(in_features=768, out_features=3072, bias=True)\n",
              "          (intermediate_act_fn): GELUActivation()\n",
              "        )\n",
              "        (output): BertOutput(\n",
              "          (dense): Linear(in_features=3072, out_features=768, bias=True)\n",
              "          (LayerNorm): LayerNorm((768,), eps=1e-12, elementwise_affine=True)\n",
              "          (dropout): Dropout(p=0.1, inplace=False)\n",
              "        )\n",
              "      )\n",
              "      (5): BertLayer(\n",
              "        (attention): BertAttention(\n",
              "          (self): BertSelfAttention(\n",
              "            (query): Linear(in_features=768, out_features=768, bias=True)\n",
              "            (key): Linear(in_features=768, out_features=768, bias=True)\n",
              "            (value): Linear(in_features=768, out_features=768, bias=True)\n",
              "            (dropout): Dropout(p=0.1, inplace=False)\n",
              "          )\n",
              "          (output): BertSelfOutput(\n",
              "            (dense): Linear(in_features=768, out_features=768, bias=True)\n",
              "            (LayerNorm): LayerNorm((768,), eps=1e-12, elementwise_affine=True)\n",
              "            (dropout): Dropout(p=0.1, inplace=False)\n",
              "          )\n",
              "        )\n",
              "        (intermediate): BertIntermediate(\n",
              "          (dense): Linear(in_features=768, out_features=3072, bias=True)\n",
              "          (intermediate_act_fn): GELUActivation()\n",
              "        )\n",
              "        (output): BertOutput(\n",
              "          (dense): Linear(in_features=3072, out_features=768, bias=True)\n",
              "          (LayerNorm): LayerNorm((768,), eps=1e-12, elementwise_affine=True)\n",
              "          (dropout): Dropout(p=0.1, inplace=False)\n",
              "        )\n",
              "      )\n",
              "      (6): BertLayer(\n",
              "        (attention): BertAttention(\n",
              "          (self): BertSelfAttention(\n",
              "            (query): Linear(in_features=768, out_features=768, bias=True)\n",
              "            (key): Linear(in_features=768, out_features=768, bias=True)\n",
              "            (value): Linear(in_features=768, out_features=768, bias=True)\n",
              "            (dropout): Dropout(p=0.1, inplace=False)\n",
              "          )\n",
              "          (output): BertSelfOutput(\n",
              "            (dense): Linear(in_features=768, out_features=768, bias=True)\n",
              "            (LayerNorm): LayerNorm((768,), eps=1e-12, elementwise_affine=True)\n",
              "            (dropout): Dropout(p=0.1, inplace=False)\n",
              "          )\n",
              "        )\n",
              "        (intermediate): BertIntermediate(\n",
              "          (dense): Linear(in_features=768, out_features=3072, bias=True)\n",
              "          (intermediate_act_fn): GELUActivation()\n",
              "        )\n",
              "        (output): BertOutput(\n",
              "          (dense): Linear(in_features=3072, out_features=768, bias=True)\n",
              "          (LayerNorm): LayerNorm((768,), eps=1e-12, elementwise_affine=True)\n",
              "          (dropout): Dropout(p=0.1, inplace=False)\n",
              "        )\n",
              "      )\n",
              "      (7): BertLayer(\n",
              "        (attention): BertAttention(\n",
              "          (self): BertSelfAttention(\n",
              "            (query): Linear(in_features=768, out_features=768, bias=True)\n",
              "            (key): Linear(in_features=768, out_features=768, bias=True)\n",
              "            (value): Linear(in_features=768, out_features=768, bias=True)\n",
              "            (dropout): Dropout(p=0.1, inplace=False)\n",
              "          )\n",
              "          (output): BertSelfOutput(\n",
              "            (dense): Linear(in_features=768, out_features=768, bias=True)\n",
              "            (LayerNorm): LayerNorm((768,), eps=1e-12, elementwise_affine=True)\n",
              "            (dropout): Dropout(p=0.1, inplace=False)\n",
              "          )\n",
              "        )\n",
              "        (intermediate): BertIntermediate(\n",
              "          (dense): Linear(in_features=768, out_features=3072, bias=True)\n",
              "          (intermediate_act_fn): GELUActivation()\n",
              "        )\n",
              "        (output): BertOutput(\n",
              "          (dense): Linear(in_features=3072, out_features=768, bias=True)\n",
              "          (LayerNorm): LayerNorm((768,), eps=1e-12, elementwise_affine=True)\n",
              "          (dropout): Dropout(p=0.1, inplace=False)\n",
              "        )\n",
              "      )\n",
              "      (8): BertLayer(\n",
              "        (attention): BertAttention(\n",
              "          (self): BertSelfAttention(\n",
              "            (query): Linear(in_features=768, out_features=768, bias=True)\n",
              "            (key): Linear(in_features=768, out_features=768, bias=True)\n",
              "            (value): Linear(in_features=768, out_features=768, bias=True)\n",
              "            (dropout): Dropout(p=0.1, inplace=False)\n",
              "          )\n",
              "          (output): BertSelfOutput(\n",
              "            (dense): Linear(in_features=768, out_features=768, bias=True)\n",
              "            (LayerNorm): LayerNorm((768,), eps=1e-12, elementwise_affine=True)\n",
              "            (dropout): Dropout(p=0.1, inplace=False)\n",
              "          )\n",
              "        )\n",
              "        (intermediate): BertIntermediate(\n",
              "          (dense): Linear(in_features=768, out_features=3072, bias=True)\n",
              "          (intermediate_act_fn): GELUActivation()\n",
              "        )\n",
              "        (output): BertOutput(\n",
              "          (dense): Linear(in_features=3072, out_features=768, bias=True)\n",
              "          (LayerNorm): LayerNorm((768,), eps=1e-12, elementwise_affine=True)\n",
              "          (dropout): Dropout(p=0.1, inplace=False)\n",
              "        )\n",
              "      )\n",
              "      (9): BertLayer(\n",
              "        (attention): BertAttention(\n",
              "          (self): BertSelfAttention(\n",
              "            (query): Linear(in_features=768, out_features=768, bias=True)\n",
              "            (key): Linear(in_features=768, out_features=768, bias=True)\n",
              "            (value): Linear(in_features=768, out_features=768, bias=True)\n",
              "            (dropout): Dropout(p=0.1, inplace=False)\n",
              "          )\n",
              "          (output): BertSelfOutput(\n",
              "            (dense): Linear(in_features=768, out_features=768, bias=True)\n",
              "            (LayerNorm): LayerNorm((768,), eps=1e-12, elementwise_affine=True)\n",
              "            (dropout): Dropout(p=0.1, inplace=False)\n",
              "          )\n",
              "        )\n",
              "        (intermediate): BertIntermediate(\n",
              "          (dense): Linear(in_features=768, out_features=3072, bias=True)\n",
              "          (intermediate_act_fn): GELUActivation()\n",
              "        )\n",
              "        (output): BertOutput(\n",
              "          (dense): Linear(in_features=3072, out_features=768, bias=True)\n",
              "          (LayerNorm): LayerNorm((768,), eps=1e-12, elementwise_affine=True)\n",
              "          (dropout): Dropout(p=0.1, inplace=False)\n",
              "        )\n",
              "      )\n",
              "      (10): BertLayer(\n",
              "        (attention): BertAttention(\n",
              "          (self): BertSelfAttention(\n",
              "            (query): Linear(in_features=768, out_features=768, bias=True)\n",
              "            (key): Linear(in_features=768, out_features=768, bias=True)\n",
              "            (value): Linear(in_features=768, out_features=768, bias=True)\n",
              "            (dropout): Dropout(p=0.1, inplace=False)\n",
              "          )\n",
              "          (output): BertSelfOutput(\n",
              "            (dense): Linear(in_features=768, out_features=768, bias=True)\n",
              "            (LayerNorm): LayerNorm((768,), eps=1e-12, elementwise_affine=True)\n",
              "            (dropout): Dropout(p=0.1, inplace=False)\n",
              "          )\n",
              "        )\n",
              "        (intermediate): BertIntermediate(\n",
              "          (dense): Linear(in_features=768, out_features=3072, bias=True)\n",
              "          (intermediate_act_fn): GELUActivation()\n",
              "        )\n",
              "        (output): BertOutput(\n",
              "          (dense): Linear(in_features=3072, out_features=768, bias=True)\n",
              "          (LayerNorm): LayerNorm((768,), eps=1e-12, elementwise_affine=True)\n",
              "          (dropout): Dropout(p=0.1, inplace=False)\n",
              "        )\n",
              "      )\n",
              "      (11): BertLayer(\n",
              "        (attention): BertAttention(\n",
              "          (self): BertSelfAttention(\n",
              "            (query): Linear(in_features=768, out_features=768, bias=True)\n",
              "            (key): Linear(in_features=768, out_features=768, bias=True)\n",
              "            (value): Linear(in_features=768, out_features=768, bias=True)\n",
              "            (dropout): Dropout(p=0.1, inplace=False)\n",
              "          )\n",
              "          (output): BertSelfOutput(\n",
              "            (dense): Linear(in_features=768, out_features=768, bias=True)\n",
              "            (LayerNorm): LayerNorm((768,), eps=1e-12, elementwise_affine=True)\n",
              "            (dropout): Dropout(p=0.1, inplace=False)\n",
              "          )\n",
              "        )\n",
              "        (intermediate): BertIntermediate(\n",
              "          (dense): Linear(in_features=768, out_features=3072, bias=True)\n",
              "          (intermediate_act_fn): GELUActivation()\n",
              "        )\n",
              "        (output): BertOutput(\n",
              "          (dense): Linear(in_features=3072, out_features=768, bias=True)\n",
              "          (LayerNorm): LayerNorm((768,), eps=1e-12, elementwise_affine=True)\n",
              "          (dropout): Dropout(p=0.1, inplace=False)\n",
              "        )\n",
              "      )\n",
              "    )\n",
              "  )\n",
              "  (pooler): BertPooler(\n",
              "    (dense): Linear(in_features=768, out_features=768, bias=True)\n",
              "    (activation): Tanh()\n",
              "  )\n",
              ")"
            ]
          },
          "execution_count": 58,
          "metadata": {},
          "output_type": "execute_result"
        }
      ],
      "source": [
        "# BERT is a Transformer, so its architecture is familiar to us:\n",
        "example_bert_model"
      ]
    },
    {
      "cell_type": "code",
      "execution_count": 59,
      "metadata": {
        "colab": {
          "base_uri": "https://localhost:8080/"
        },
        "id": "MhFp86a58avL",
        "outputId": "60a52bf7-d835-48e0-e9d0-8b560d3c5034"
      },
      "outputs": [
        {
          "data": {
            "text/plain": [
              "BertConfig {\n",
              "  \"_name_or_path\": \"bert-base-uncased\",\n",
              "  \"architectures\": [\n",
              "    \"BertForMaskedLM\"\n",
              "  ],\n",
              "  \"attention_probs_dropout_prob\": 0.1,\n",
              "  \"classifier_dropout\": null,\n",
              "  \"gradient_checkpointing\": false,\n",
              "  \"hidden_act\": \"gelu\",\n",
              "  \"hidden_dropout_prob\": 0.1,\n",
              "  \"hidden_size\": 768,\n",
              "  \"initializer_range\": 0.02,\n",
              "  \"intermediate_size\": 3072,\n",
              "  \"layer_norm_eps\": 1e-12,\n",
              "  \"max_position_embeddings\": 512,\n",
              "  \"model_type\": \"bert\",\n",
              "  \"num_attention_heads\": 12,\n",
              "  \"num_hidden_layers\": 12,\n",
              "  \"pad_token_id\": 0,\n",
              "  \"position_embedding_type\": \"absolute\",\n",
              "  \"transformers_version\": \"4.20.1\",\n",
              "  \"type_vocab_size\": 2,\n",
              "  \"use_cache\": true,\n",
              "  \"vocab_size\": 30522\n",
              "}"
            ]
          },
          "execution_count": 59,
          "metadata": {},
          "output_type": "execute_result"
        }
      ],
      "source": [
        "# Huggingface stores the architecture and other settings in a config class\n",
        "example_bert_model.config"
      ]
    },
    {
      "cell_type": "markdown",
      "metadata": {
        "id": "0o_NiS3WgOFf"
      },
      "source": [
        "We can use our knowledge so far to create a classifier that uses the BERT model. Let's review some of the model components:"
      ]
    },
    {
      "cell_type": "code",
      "execution_count": 60,
      "metadata": {
        "colab": {
          "base_uri": "https://localhost:8080/"
        },
        "id": "gCDcHcuglpao",
        "outputId": "d56f75dc-7840-4864-fb77-3f1f4f56b440"
      },
      "outputs": [
        {
          "data": {
            "text/plain": [
              "30522"
            ]
          },
          "execution_count": 60,
          "metadata": {},
          "output_type": "execute_result"
        }
      ],
      "source": [
        "tokenizer.vocab_size"
      ]
    },
    {
      "cell_type": "code",
      "execution_count": 61,
      "metadata": {
        "colab": {
          "base_uri": "https://localhost:8080/"
        },
        "id": "iySaCkqqmJrb",
        "outputId": "322b5d2f-1b60-4593-fd3c-12c6dcd037ec"
      },
      "outputs": [
        {
          "data": {
            "text/plain": [
              "torch.Size([16, 50, 768])"
            ]
          },
          "execution_count": 61,
          "metadata": {},
          "output_type": "execute_result"
        }
      ],
      "source": [
        "# BERT is a Transformer, and works exactly as we saw before!\n",
        "embedding_input = torch.randint(0,30522, size=(16, 50))\n",
        "embedding_output = example_bert_model.embeddings(embedding_input)\n",
        "embedding_output.size()"
      ]
    },
    {
      "cell_type": "code",
      "execution_count": 62,
      "metadata": {
        "colab": {
          "base_uri": "https://localhost:8080/"
        },
        "id": "wK5EppQvmlTz",
        "outputId": "cd332bc0-7bec-4d63-8486-91d7766ba211"
      },
      "outputs": [
        {
          "name": "stdout",
          "output_type": "stream",
          "text": [
            "torch.Size([16, 50, 768])\n",
            "{'last_hidden_state': tensor([[[ 0.2018,  0.0758,  0.2862,  ..., -0.2503,  0.0511, -0.0252],\n",
            "         [ 0.3979,  0.1763,  0.1881,  ..., -0.1085, -0.1050, -0.0009],\n",
            "         [ 0.5487,  0.1845,  0.1699,  ...,  0.0756,  0.1004,  0.4083],\n",
            "         ...,\n",
            "         [ 0.1466,  0.1512,  0.3002,  ..., -0.1918,  0.0109,  0.2423],\n",
            "         [ 0.1931,  0.1471,  0.1697,  ..., -0.3147, -0.0871, -0.0116],\n",
            "         [ 0.2593,  0.1871,  0.1196,  ..., -0.2450,  0.0019,  0.0825]],\n",
            "\n",
            "        [[ 0.4637,  0.1925,  0.1720,  ..., -0.2318,  0.1491,  0.1792],\n",
            "         [ 0.6196,  0.2634,  0.3858,  ..., -0.2496,  0.1483,  0.5022],\n",
            "         [ 0.1651,  0.3080,  0.3968,  ..., -0.4163,  0.0825,  0.4659],\n",
            "         ...,\n",
            "         [ 0.5867,  0.1701,  0.3025,  ..., -0.3176,  0.0979,  0.1637],\n",
            "         [ 0.7716,  0.1607,  0.3498,  ..., -0.1731,  0.0857,  0.2708],\n",
            "         [ 0.6962,  0.1279,  0.1249,  ..., -0.2968,  0.1602,  0.1125]],\n",
            "\n",
            "        [[ 0.2050,  0.2231,  0.3076,  ..., -0.1541,  0.2164,  0.1267],\n",
            "         [ 0.5032,  0.3627,  0.4133,  ..., -0.1909,  0.2472,  0.2352],\n",
            "         [ 0.5260,  0.4693,  0.2731,  ..., -0.3022,  0.1163,  0.2848],\n",
            "         ...,\n",
            "         [ 0.2702,  0.3239,  0.4864,  ...,  0.1100,  0.2676,  0.2276],\n",
            "         [ 0.1185,  0.2432,  0.3251,  ..., -0.0645,  0.3223,  0.3083],\n",
            "         [ 0.1050,  0.2890,  0.2864,  ..., -0.1063,  0.4293,  0.4357]],\n",
            "\n",
            "        ...,\n",
            "\n",
            "        [[ 0.3265,  0.2817,  0.4002,  ..., -0.2598,  0.1230,  0.1261],\n",
            "         [ 0.6450,  0.3331,  0.3096,  ..., -0.3596,  0.0766,  0.2088],\n",
            "         [ 0.2453,  0.1544,  0.5626,  ..., -0.1836,  0.0340,  0.2934],\n",
            "         ...,\n",
            "         [ 0.0129,  0.3078,  0.3613,  ..., -0.1989,  0.2621,  0.6245],\n",
            "         [ 0.3458,  0.1722,  0.4233,  ..., -0.2117,  0.1640,  0.3209],\n",
            "         [ 0.6217,  0.3637,  0.5327,  ..., -0.2207,  0.1060,  0.2032]],\n",
            "\n",
            "        [[ 0.2540,  0.0708,  0.5207,  ..., -0.3650,  0.0256,  0.0827],\n",
            "         [ 0.5354,  0.2656,  0.5984,  ..., -0.3111, -0.1435,  0.0146],\n",
            "         [ 0.3263,  0.2823,  0.5335,  ..., -0.3543, -0.2718,  0.1012],\n",
            "         ...,\n",
            "         [ 0.2330,  0.1608,  0.6330,  ..., -0.4762,  0.0854,  0.2043],\n",
            "         [ 0.1997,  0.0957,  0.4721,  ..., -0.5203,  0.0706,  0.4171],\n",
            "         [ 0.2992,  0.0451,  0.3965,  ..., -0.4835, -0.1107,  0.3911]],\n",
            "\n",
            "        [[ 0.2441,  0.2014,  0.2564,  ..., -0.1551, -0.0317, -0.0226],\n",
            "         [ 0.2482,  0.3397,  0.4033,  ..., -0.2864, -0.0116,  0.0299],\n",
            "         [ 0.2641,  0.3294,  0.2411,  ..., -0.2209, -0.0528, -0.0199],\n",
            "         ...,\n",
            "         [ 0.0149,  0.3782,  0.5694,  ..., -0.1340, -0.1273,  0.1932],\n",
            "         [ 0.2666,  0.2847,  0.2873,  ..., -0.1477, -0.1149,  0.1497],\n",
            "         [ 0.1733,  0.3375,  0.2639,  ..., -0.2380, -0.0689, -0.0281]]],\n",
            "       grad_fn=<NativeLayerNormBackward0>)}\n"
          ]
        }
      ],
      "source": [
        "bert_output = example_bert_model.encoder(embedding_output)\n",
        "print(bert_output.last_hidden_state.size())\n",
        "pprint(bert_output)"
      ]
    },
    {
      "cell_type": "code",
      "execution_count": 63,
      "metadata": {
        "id": "PEL9JOr_nnjC"
      },
      "outputs": [],
      "source": [
        "#bert_output['last_hidden_state'].size()\n",
        "#bert_output[0].size()"
      ]
    },
    {
      "cell_type": "markdown",
      "metadata": {
        "id": "aZJreNYQnBgS"
      },
      "source": [
        "### We build the Sentiment Classification model by attaching a classifier on top of BERT's output"
      ]
    },
    {
      "cell_type": "code",
      "execution_count": 64,
      "metadata": {
        "colab": {
          "base_uri": "https://localhost:8080/"
        },
        "id": "m_mRflxPl32F",
        "outputId": "4e448c6c-d4c7-4ffb-d67c-17b6e69e4522"
      },
      "outputs": [
        {
          "name": "stdout",
          "output_type": "stream",
          "text": [
            "CPU times: total: 93.8 ms\n",
            "Wall time: 3.97 ms\n"
          ]
        }
      ],
      "source": [
        "%%time\n",
        "import torch\n",
        "import torch.nn as nn\n",
        "from transformers import BertModel, DistilBertModel\n",
        "\n",
        "# Create the BertClassfier class\n",
        "class BertClassifier(nn.Module):\n",
        "    \"\"\"Bert Model for Classification Tasks.\n",
        "    \"\"\"\n",
        "    def __init__(self, freeze_bert=False):\n",
        "        \"\"\"\n",
        "        @param    bert: a BertModel object\n",
        "        @param    classifier: a torch.nn.Module classifier\n",
        "        @param    freeze_bert (bool): Set `False` to fine-tune the BERT model\n",
        "        \"\"\"\n",
        "        super(BertClassifier, self).__init__()\n",
        "\n",
        "        # Specify hidden size of BERT, hidden size of our classifier, and number of labels\n",
        "        #D_in, H, D_out = 768, 50, 2 # v1\n",
        "        D_in, H, D_out = 768, 768, 2 # v2\n",
        "\n",
        "        # Instantiate BERT model\n",
        "        self.bert = BertModel.from_pretrained(PRE_TRAINED_MODEL_NAME)\n",
        "        #self.bert = DistilBertModel.from_pretrained(PRE_TRAINED_MODEL_NAME)\n",
        "\n",
        "        # Instantiate an one-layer feed-forward classifier\n",
        "        self.classifier = nn.Sequential(\n",
        "            nn.Linear(D_in, H),\n",
        "            nn.ReLU(),\n",
        "            #nn.Dropout(0.5),\n",
        "            nn.Linear(H, D_out)\n",
        "        )\n",
        "\n",
        "        # Freeze the BERT model\n",
        "        if freeze_bert:\n",
        "            for param in self.bert.parameters():\n",
        "                param.requires_grad = False\n",
        "        \n",
        "    def forward(self, input_ids, attention_mask):\n",
        "        \"\"\"\n",
        "        Feed input to BERT and the classifier to compute logits.\n",
        "        @param    input_ids (torch.Tensor): an input tensor with shape (batch_size,\n",
        "                      max_length)\n",
        "        @param    attention_mask (torch.Tensor): a tensor that hold attention mask\n",
        "                      information with shape (batch_size, max_length)\n",
        "        @return   logits (torch.Tensor): an output tensor with shape (batch_size,\n",
        "                      num_labels)\n",
        "        \"\"\"\n",
        "        # Run the BERT model as before\n",
        "        outputs = self.bert(input_ids=input_ids,\n",
        "                            attention_mask=attention_mask)\n",
        "        \n",
        "        # Extract the last hidden state of the token `[CLS]` for classification task\n",
        "        #last_hidden_state_cls = outputs[0][:, 0, :] #v1\n",
        "        last_hidden_state_cls = outputs['last_hidden_state'][:, 0, :] #v2\n",
        "\n",
        "        # Feed input to classifier to compute logits\n",
        "        logits = self.classifier(last_hidden_state_cls)\n",
        "\n",
        "        return logits"
      ]
    },
    {
      "cell_type": "markdown",
      "metadata": {
        "id": "FwXYOE8z1isY"
      },
      "source": [
        "### The training process for Transformers/BERT is a little more involved than NB.\n",
        "\n",
        "We use an optimization process called **stochastic gradient descent**. Fortunately, the transformers library already implements the optimization algorithm which we can use easily (i.e Adam)!"
      ]
    },
    {
      "cell_type": "markdown",
      "metadata": {
        "id": "76g7FV85H-T8"
      },
      "source": [
        "To reproduce the training procedure from the BERT paper, we'll use the [AdamW](https://huggingface.co/transformers/main_classes/optimizer_schedules.html#adamw) optimizer provided by Hugging Face. It corrects weight decay, so it's similar to the original paper. We'll also use a linear [scheduler](https://huggingface.co/transformers/v3.0.2/main_classes/optimizer_schedules.html#transformers.get_linear_schedule_with_warmup) with no warmup steps:"
      ]
    },
    {
      "cell_type": "markdown",
      "metadata": {
        "id": "A8522g7JIu5J"
      },
      "source": [
        "How do we come up with all hyperparameters? The BERT authors have some recommendations for fine-tuning:\n",
        "\n",
        "- Batch size: 16, 32\n",
        "- Learning rate (Adam): 5e-5, 3e-5, 2e-5\n",
        "- Number of epochs: 2, 3, 4\n",
        "\n",
        "We're going to ignore the number of epochs recommendation but stick with the rest. Note that increasing the batch size reduces the training time significantly, but gives you lower accuracy.\n",
        "\n",
        "Let's continue with writing a helper function for training our model for one epoch:"
      ]
    },
    {
      "cell_type": "code",
      "execution_count": 65,
      "metadata": {
        "id": "yW5YtKjXZAOr"
      },
      "outputs": [],
      "source": [
        "from transformers import AdamW, get_linear_schedule_with_warmup, get_constant_schedule\n",
        "\n",
        "def initialize_model(epochs=4, dataloader=None, freeze_bert=True):\n",
        "    \"\"\"Initialize the Bert Classifier, the optimizer and the learning rate scheduler.\n",
        "    \"\"\"\n",
        "    # Instantiate Bert Classifier\n",
        "    bert_classifier = BertClassifier(freeze_bert=freeze_bert)\n",
        "\n",
        "    # Tell PyTorch to run the model on GPU\n",
        "    bert_classifier.to(device)\n",
        "\n",
        "    # Create the optimizer\n",
        "    optimizer = AdamW(bert_classifier.parameters(),\n",
        "                      lr=5e-5,    # Default learning rate\n",
        "                      #eps=1e-8    # Default epsilon value\n",
        "                      )\n",
        "\n",
        "    # Total number of training steps\n",
        "    total_steps = len(dataloader) * epochs\n",
        "\n",
        "    # Set up the learning rate scheduler\n",
        "    #\"\"\"\n",
        "    scheduler = get_linear_schedule_with_warmup(optimizer,\n",
        "                                                num_warmup_steps=0, # Default value\n",
        "                                                num_training_steps=total_steps)\n",
        "    #\"\"\"\n",
        "    #scheduler = get_constant_schedule(optimizer)\n",
        "\n",
        "    return bert_classifier, optimizer, scheduler"
      ]
    },
    {
      "cell_type": "markdown",
      "metadata": {
        "id": "ECrNk94p2NkF"
      },
      "source": [
        "### The optimization process looks something like this:\n",
        "\n",
        "The mountain-like surface is called the **loss-surface** of the neural network. \n",
        "\n",
        "Gradient descent attempts to find the network weights with the lowest loss, by updating the weights in such a way that we will move **a small step in the direction of steepest descent** at every iteration.\n",
        "\n",
        "![Transformer model](https://miro.medium.com/max/1200/1*STiRp7PW5yIrvYZupZA6nw.gif)"
      ]
    },
    {
      "cell_type": "code",
      "execution_count": 66,
      "metadata": {
        "colab": {
          "base_uri": "https://localhost:8080/"
        },
        "id": "H29lQ-ibISeB",
        "outputId": "26085adf-9bda-492e-910d-913b54e587f2"
      },
      "outputs": [
        {
          "name": "stdout",
          "output_type": "stream",
          "text": [
            "Fri Jul 29 11:43:41 2022       \n",
            "+-----------------------------------------------------------------------------+\n",
            "| NVIDIA-SMI 451.67       Driver Version: 451.67       CUDA Version: 11.0     |\n",
            "|-------------------------------+----------------------+----------------------+\n",
            "| GPU  Name            TCC/WDDM | Bus-Id        Disp.A | Volatile Uncorr. ECC |\n",
            "| Fan  Temp  Perf  Pwr:Usage/Cap|         Memory-Usage | GPU-Util  Compute M. |\n",
            "|===============================+======================+======================|\n",
            "|   0  GeForce RTX 207... WDDM  | 00000000:01:00.0  On |                  N/A |\n",
            "| N/A   48C    P8    14W /  N/A |   1522MiB /  8192MiB |     22%      Default |\n",
            "+-------------------------------+----------------------+----------------------+\n",
            "                                                                               \n",
            "+-----------------------------------------------------------------------------+\n",
            "| Processes:                                                                  |\n",
            "|  GPU   GI   CI        PID   Type   Process name                  GPU Memory |\n",
            "|        ID   ID                                                   Usage      |\n",
            "|=============================================================================|\n",
            "|    0   N/A  N/A      1128    C+G   ...lPanel\\SystemSettings.exe    N/A      |\n",
            "|    0   N/A  N/A      1552    C+G   Insufficient Permissions        N/A      |\n",
            "|    0   N/A  N/A      3152    C+G   ...ice\\Office16\\POWERPNT.EXE    N/A      |\n",
            "|    0   N/A  N/A      3784    C+G   C:\\Windows\\explorer.exe         N/A      |\n",
            "|    0   N/A  N/A      4340    C+G   ...5n1h2txyewy\\SearchApp.exe    N/A      |\n",
            "|    0   N/A  N/A      6044    C+G   ...artMenuExperienceHost.exe    N/A      |\n",
            "|    0   N/A  N/A      6496    C+G   ...y\\ShellExperienceHost.exe    N/A      |\n",
            "|    0   N/A  N/A      6648    C+G   ...cw5n1h2txyewy\\LockApp.exe    N/A      |\n",
            "|    0   N/A  N/A      9972    C+G   ...ekyb3d8bbwe\\YourPhone.exe    N/A      |\n",
            "|    0   N/A  N/A     11272    C+G   ...2txyewy\\TextInputHost.exe    N/A      |\n",
            "|    0   N/A  N/A     12772    C+G   ...ekyb3d8bbwe\\HxOutlook.exe    N/A      |\n",
            "|    0   N/A  N/A     14020    C+G   ...icrosoft VS Code\\Code.exe    N/A      |\n",
            "|    0   N/A  N/A     14048    C+G   ...kyb3d8bbwe\\Calculator.exe    N/A      |\n",
            "|    0   N/A  N/A     15600    C+G   ...ice\\Office16\\POWERPNT.EXE    N/A      |\n",
            "|    0   N/A  N/A     17284    C+G   ...5n1h2txyewy\\SearchApp.exe    N/A      |\n",
            "|    0   N/A  N/A     17300    C+G   ...ge\\Application\\msedge.exe    N/A      |\n",
            "|    0   N/A  N/A     21376    C+G   ...kyb3d8bbwe\\HxAccounts.exe    N/A      |\n",
            "+-----------------------------------------------------------------------------+\n"
          ]
        }
      ],
      "source": [
        "#del model\n",
        "#del input_ids, attention_mask\n",
        "import gc\n",
        "gc.collect()\n",
        "torch.cuda.empty_cache()\n",
        "!nvidia-smi"
      ]
    },
    {
      "cell_type": "markdown",
      "metadata": {
        "id": "g9xikRdtRN1N"
      },
      "source": [
        "### Training"
      ]
    },
    {
      "cell_type": "code",
      "execution_count": 67,
      "metadata": {
        "colab": {
          "base_uri": "https://localhost:8080/"
        },
        "id": "eXjxYSopat_M",
        "outputId": "a46f2dca-f7ef-4045-bf2b-a503991ade7c"
      },
      "outputs": [
        {
          "name": "stdout",
          "output_type": "stream",
          "text": [
            "Batch size: 16\n"
          ]
        }
      ],
      "source": [
        "# This is not necessary but we can run the following lines again\n",
        "orig_train_dataloader = DataLoader(\n",
        "        orig_train_dataset, shuffle=True, collate_fn=collate_batch, batch_size=BATCH_SIZE\n",
        "    )\n",
        "\n",
        "orig_val_dataloader = DataLoader(\n",
        "        orig_val_dataset, shuffle=False, collate_fn=collate_batch, batch_size=BATCH_SIZE\n",
        "    )\n",
        "\n",
        "orig_test_dataloader = DataLoader(\n",
        "        orig_test_dataset, shuffle=False, collate_fn=collate_batch, batch_size=BATCH_SIZE\n",
        "    )\n",
        "\n",
        "print(f\"Batch size: {BATCH_SIZE}\")"
      ]
    },
    {
      "cell_type": "code",
      "execution_count": 68,
      "metadata": {
        "id": "bzl9UhuNx1_Q"
      },
      "outputs": [],
      "source": [
        "import random\n",
        "import time\n",
        "\n",
        "# Specify loss function\n",
        "loss_fn = nn.CrossEntropyLoss()\n",
        "\n",
        "def set_seed(seed_value=42):\n",
        "    \"\"\"Set seed for reproducibility.\n",
        "    \"\"\"\n",
        "    random.seed(seed_value)\n",
        "    np.random.seed(seed_value)\n",
        "    torch.manual_seed(seed_value)\n",
        "    torch.cuda.manual_seed_all(seed_value)\n",
        "\n",
        "def train(model, optimizer, scheduler, train_dataloader, val_dataloader=None, epochs=4, evaluation=False, ckpt_name=\"default\"):\n",
        "    \"\"\"Train the BertClassifier model.\n",
        "    \"\"\"\n",
        "    # Start training loop\n",
        "    history = defaultdict(list)\n",
        "    best_accuracy = 0\n",
        "\n",
        "    print(\"Start training...\\n\")\n",
        "    for epoch_i in range(epochs):\n",
        "        # =======================================\n",
        "        #               Training\n",
        "        # =======================================\n",
        "        # Print the header of the result table\n",
        "        print(f\"{'Epoch':^7} | {'Batch':^7} | {'Train Loss':^12} | {'Val Loss':^10} | {'Val Acc':^9} | {'Elapsed':^9}\")\n",
        "        print(\"-\"*70)\n",
        "\n",
        "        # Measure the elapsed time of each epoch\n",
        "        t0_epoch, t0_batch = time.time(), time.time()\n",
        "\n",
        "        # Reset tracking variables at the beginning of each epoch\n",
        "        total_loss, batch_loss, batch_counts = 0, 0, 0\n",
        "\n",
        "        # Put the model into the training mode\n",
        "        model.train()\n",
        "\n",
        "        # For each batch of training data...\n",
        "        for step, batch in enumerate(train_dataloader):\n",
        "            batch_counts +=1\n",
        "            # Load batch to GPU\n",
        "            #print(batch)\n",
        "            #b_input_ids, b_attn_mask, b_labels = tuple(t.to(device) for t in batch)\n",
        "            b_input_ids = batch['input_ids'].to(device)\n",
        "            b_attn_mask = batch['attention_mask'].to(device)\n",
        "            b_labels = batch['targets'].to(device)\n",
        "            #print(b_input_ids, b_attn_mask)\n",
        "\n",
        "            # Zero out any previously calculated gradients\n",
        "            model.zero_grad()\n",
        "\n",
        "            # Perform a forward pass. This will return logits.\n",
        "            logits = model(b_input_ids, b_attn_mask)\n",
        "\n",
        "            # Compute loss and accumulate the loss values\n",
        "            loss = loss_fn(logits, b_labels)\n",
        "            batch_loss += loss.item()\n",
        "            total_loss += loss.item()\n",
        "\n",
        "            # Perform a backward pass to calculate gradients\n",
        "            loss.backward()\n",
        "\n",
        "            # Clip the norm of the gradients to 1.0 to prevent \"exploding gradients\"\n",
        "            #torch.nn.utils.clip_grad_norm_(model.parameters(), 1.0)\n",
        "\n",
        "            # Update parameters and the learning rate\n",
        "            optimizer.step()\n",
        "            scheduler.step()\n",
        "\n",
        "            # Print the loss values and time elapsed for every 20 batches\n",
        "            if (step % 20 == 0 and step != 0) or (step == len(train_dataloader) - 1):\n",
        "                # Calculate time elapsed for 20 batches\n",
        "                time_elapsed = time.time() - t0_batch\n",
        "\n",
        "                # Print training results\n",
        "                print(f\"{epoch_i + 1:^7} | {step:^7} | {batch_loss / batch_counts:^12.6f} | {'-':^10} | {'-':^9} | {time_elapsed:^9.2f}\")\n",
        "\n",
        "                # Reset batch tracking variables\n",
        "                batch_loss, batch_counts = 0, 0\n",
        "                t0_batch = time.time()\n",
        "\n",
        "        # Calculate the average loss over the entire training data\n",
        "        avg_train_loss = total_loss / len(train_dataloader)\n",
        "\n",
        "        print(\"-\"*70)\n",
        "        # =======================================\n",
        "        #               Evaluation\n",
        "        # =======================================\n",
        "        if evaluation == True:\n",
        "            # After the completion of each training epoch, measure the model's performance\n",
        "            # on our validation set.\n",
        "            val_loss, val_accuracy = evaluate(model, val_dataloader, ckpt_name=None)\n",
        "\n",
        "            #history['train_acc'].append(train_acc)\n",
        "            #history['train_loss'].append(train_loss)\n",
        "            history['val_acc'].append(val_accuracy)\n",
        "            history['val_loss'].append(val_loss)\n",
        "\n",
        "            # Print performance over the entire training data\n",
        "            time_elapsed = time.time() - t0_epoch\n",
        "            \n",
        "            print(f\"{epoch_i + 1:^7} | {'-':^7} | {avg_train_loss:^12.6f} | {val_loss:^10.6f} | {val_accuracy:^9.2f} | {time_elapsed:^9.2f}\")\n",
        "            print(\"-\"*70)\n",
        "\n",
        "            #\"\"\"\n",
        "            if val_accuracy > best_accuracy:\n",
        "              torch.save(model.state_dict(), f\"{ckpt_name}_best_model_state.bin\")\n",
        "              print(f\"New best checkpoint saved at {ckpt_name}_best_model_state.bin\")\n",
        "              best_accuracy = val_accuracy\n",
        "            #\"\"\"\n",
        "        print(\"\\n\")\n",
        "    \n",
        "    print(\"Training complete!\")\n",
        "\n",
        "\n"
      ]
    },
    {
      "cell_type": "markdown",
      "metadata": {
        "id": "E4PniYIte0fr"
      },
      "source": [
        "Let's write another function that helps us evaluate the model on a given data loader:"
      ]
    },
    {
      "cell_type": "code",
      "execution_count": 69,
      "metadata": {
        "id": "CXeRorVGIKre"
      },
      "outputs": [],
      "source": [
        "def evaluate(model, val_dataloader, ckpt_name=None):\n",
        "    \"\"\"After the completion of each training epoch, measure the model's performance\n",
        "    on our validation set.\n",
        "    \"\"\"\n",
        "    # Put the model into the evaluation mode. The dropout layers are disabled during\n",
        "    # the test time.\n",
        "    if not ckpt_name is None:\n",
        "      model.load_state_dict(torch.load(f\"{ckpt_name}_best_model_state.bin\"))\n",
        "      print(f\"Loaded weights from {ckpt_name}_best_model_state.bin\")\n",
        "    model.eval()\n",
        "\n",
        "    # Tracking variables\n",
        "    val_accuracy = []\n",
        "    val_loss = []\n",
        "\n",
        "    # For each batch in our validation set...\n",
        "    for batch in val_dataloader:\n",
        "        # Load batch to GPU\n",
        "        #b_input_ids, b_attn_mask, b_labels = tuple(t.to(device) for t in batch)\n",
        "        b_input_ids = batch['input_ids'].to(device)\n",
        "        b_attn_mask = batch['attention_mask'].to(device)\n",
        "        b_labels = batch['targets'].to(device)\n",
        "\n",
        "        # Compute logits\n",
        "        with torch.no_grad():\n",
        "            logits = model(b_input_ids, b_attn_mask)\n",
        "\n",
        "        # Compute loss\n",
        "        loss = loss_fn(logits, b_labels)\n",
        "        val_loss.append(loss.item())\n",
        "\n",
        "        # Get the predictions\n",
        "        preds = torch.argmax(logits, dim=1).flatten()\n",
        "\n",
        "        # Calculate the accuracy rate\n",
        "        accuracy = (preds == b_labels).cpu().numpy().mean() * 100\n",
        "        val_accuracy.append(accuracy)\n",
        "\n",
        "    # Compute the average accuracy and loss over the validation set.\n",
        "    val_loss = np.mean(val_loss)\n",
        "    val_accuracy = np.mean(val_accuracy)\n",
        "\n",
        "    return val_loss, val_accuracy"
      ]
    },
    {
      "cell_type": "markdown",
      "metadata": {
        "id": "a_rdSDBHhhCh"
      },
      "source": [
        "Using those two, we can write our training loop!"
      ]
    },
    {
      "cell_type": "code",
      "execution_count": 70,
      "metadata": {
        "colab": {
          "base_uri": "https://localhost:8080/"
        },
        "id": "nWg_eOL0fQoM",
        "outputId": "28b898fa-2182-45ca-87b5-698faad39e9e"
      },
      "outputs": [
        {
          "name": "stderr",
          "output_type": "stream",
          "text": [
            "Some weights of the model checkpoint at bert-base-uncased were not used when initializing BertModel: ['cls.predictions.transform.LayerNorm.weight', 'cls.predictions.transform.dense.weight', 'cls.predictions.decoder.weight', 'cls.seq_relationship.bias', 'cls.predictions.transform.LayerNorm.bias', 'cls.predictions.bias', 'cls.predictions.transform.dense.bias', 'cls.seq_relationship.weight']\n",
            "- This IS expected if you are initializing BertModel from the checkpoint of a model trained on another task or with another architecture (e.g. initializing a BertForSequenceClassification model from a BertForPreTraining model).\n",
            "- This IS NOT expected if you are initializing BertModel from the checkpoint of a model that you expect to be exactly identical (initializing a BertForSequenceClassification model from a BertForSequenceClassification model).\n",
            "c:\\Users\\AI_15\\AppData\\Local\\Programs\\Python\\Python38\\lib\\site-packages\\transformers\\optimization.py:306: FutureWarning: This implementation of AdamW is deprecated and will be removed in a future version. Use the PyTorch implementation torch.optim.AdamW instead, or set `no_deprecation_warning=True` to disable this warning\n",
            "  warnings.warn(\n"
          ]
        }
      ],
      "source": [
        "bert_classifier1, optimizer1, scheduler1 = initialize_model(epochs=2, dataloader=orig_train_dataloader, freeze_bert=False)"
      ]
    },
    {
      "cell_type": "code",
      "execution_count": 76,
      "metadata": {
        "colab": {
          "base_uri": "https://localhost:8080/"
        },
        "id": "1zhHoFNsxufs",
        "outputId": "34178de1-e47d-43ff-b3eb-7c70e7115c29"
      },
      "outputs": [
        {
          "name": "stdout",
          "output_type": "stream",
          "text": [
            "Start training...\n",
            "\n",
            " Epoch  |  Batch  |  Train Loss  |  Val Loss  |  Val Acc  |  Elapsed \n",
            "----------------------------------------------------------------------\n"
          ]
        },
        {
          "ename": "RuntimeError",
          "evalue": "CUDA out of memory. Tried to allocate 90.00 MiB (GPU 0; 8.00 GiB total capacity; 6.15 GiB already allocated; 37.60 MiB free; 6.40 GiB reserved in total by PyTorch) If reserved memory is >> allocated memory try setting max_split_size_mb to avoid fragmentation.  See documentation for Memory Management and PYTORCH_CUDA_ALLOC_CONF",
          "output_type": "error",
          "traceback": [
            "\u001b[1;31m---------------------------------------------------------------------------\u001b[0m",
            "\u001b[1;31mRuntimeError\u001b[0m                              Traceback (most recent call last)",
            "\u001b[1;32mc:\\Users\\AI_15\\momo\\python_prj\\2022_AI_Expert\\NLP_bert\\[7_29_22]_BERT_counterfactual.ipynb 셀 105\u001b[0m in \u001b[0;36m<cell line: 1>\u001b[1;34m()\u001b[0m\n\u001b[1;32m----> <a href='vscode-notebook-cell:/c%3A/Users/AI_15/momo/python_prj/2022_AI_Expert/NLP_bert/%5B7_29_22%5D_BERT_counterfactual.ipynb#ch0000104?line=0'>1</a>\u001b[0m train(bert_classifier1, optimizer1, scheduler1, orig_train_dataloader, orig_val_dataloader, epochs\u001b[39m=\u001b[39;49m\u001b[39m2\u001b[39;49m, evaluation\u001b[39m=\u001b[39;49m\u001b[39mTrue\u001b[39;49;00m, ckpt_name\u001b[39m=\u001b[39;49m\u001b[39m'\u001b[39;49m\u001b[39mclassifier1\u001b[39;49m\u001b[39m'\u001b[39;49m)\n",
            "\u001b[1;32mc:\\Users\\AI_15\\momo\\python_prj\\2022_AI_Expert\\NLP_bert\\[7_29_22]_BERT_counterfactual.ipynb 셀 105\u001b[0m in \u001b[0;36mtrain\u001b[1;34m(model, optimizer, scheduler, train_dataloader, val_dataloader, epochs, evaluation, ckpt_name)\u001b[0m\n\u001b[0;32m     <a href='vscode-notebook-cell:/c%3A/Users/AI_15/momo/python_prj/2022_AI_Expert/NLP_bert/%5B7_29_22%5D_BERT_counterfactual.ipynb#ch0000104?line=51'>52</a>\u001b[0m model\u001b[39m.\u001b[39mzero_grad()\n\u001b[0;32m     <a href='vscode-notebook-cell:/c%3A/Users/AI_15/momo/python_prj/2022_AI_Expert/NLP_bert/%5B7_29_22%5D_BERT_counterfactual.ipynb#ch0000104?line=53'>54</a>\u001b[0m \u001b[39m# Perform a forward pass. This will return logits.\u001b[39;00m\n\u001b[1;32m---> <a href='vscode-notebook-cell:/c%3A/Users/AI_15/momo/python_prj/2022_AI_Expert/NLP_bert/%5B7_29_22%5D_BERT_counterfactual.ipynb#ch0000104?line=54'>55</a>\u001b[0m logits \u001b[39m=\u001b[39m model(b_input_ids, b_attn_mask)\n\u001b[0;32m     <a href='vscode-notebook-cell:/c%3A/Users/AI_15/momo/python_prj/2022_AI_Expert/NLP_bert/%5B7_29_22%5D_BERT_counterfactual.ipynb#ch0000104?line=56'>57</a>\u001b[0m \u001b[39m# Compute loss and accumulate the loss values\u001b[39;00m\n\u001b[0;32m     <a href='vscode-notebook-cell:/c%3A/Users/AI_15/momo/python_prj/2022_AI_Expert/NLP_bert/%5B7_29_22%5D_BERT_counterfactual.ipynb#ch0000104?line=57'>58</a>\u001b[0m loss \u001b[39m=\u001b[39m loss_fn(logits, b_labels)\n",
            "File \u001b[1;32mc:\\Users\\AI_15\\AppData\\Local\\Programs\\Python\\Python38\\lib\\site-packages\\torch\\nn\\modules\\module.py:1130\u001b[0m, in \u001b[0;36mModule._call_impl\u001b[1;34m(self, *input, **kwargs)\u001b[0m\n\u001b[0;32m   1126\u001b[0m \u001b[39m# If we don't have any hooks, we want to skip the rest of the logic in\u001b[39;00m\n\u001b[0;32m   1127\u001b[0m \u001b[39m# this function, and just call forward.\u001b[39;00m\n\u001b[0;32m   1128\u001b[0m \u001b[39mif\u001b[39;00m \u001b[39mnot\u001b[39;00m (\u001b[39mself\u001b[39m\u001b[39m.\u001b[39m_backward_hooks \u001b[39mor\u001b[39;00m \u001b[39mself\u001b[39m\u001b[39m.\u001b[39m_forward_hooks \u001b[39mor\u001b[39;00m \u001b[39mself\u001b[39m\u001b[39m.\u001b[39m_forward_pre_hooks \u001b[39mor\u001b[39;00m _global_backward_hooks\n\u001b[0;32m   1129\u001b[0m         \u001b[39mor\u001b[39;00m _global_forward_hooks \u001b[39mor\u001b[39;00m _global_forward_pre_hooks):\n\u001b[1;32m-> 1130\u001b[0m     \u001b[39mreturn\u001b[39;00m forward_call(\u001b[39m*\u001b[39;49m\u001b[39minput\u001b[39;49m, \u001b[39m*\u001b[39;49m\u001b[39m*\u001b[39;49mkwargs)\n\u001b[0;32m   1131\u001b[0m \u001b[39m# Do not call functions when jit is used\u001b[39;00m\n\u001b[0;32m   1132\u001b[0m full_backward_hooks, non_full_backward_hooks \u001b[39m=\u001b[39m [], []\n",
            "File \u001b[1;32m<timed exec>:49\u001b[0m, in \u001b[0;36mforward\u001b[1;34m(self, input_ids, attention_mask)\u001b[0m\n",
            "File \u001b[1;32mc:\\Users\\AI_15\\AppData\\Local\\Programs\\Python\\Python38\\lib\\site-packages\\torch\\nn\\modules\\module.py:1130\u001b[0m, in \u001b[0;36mModule._call_impl\u001b[1;34m(self, *input, **kwargs)\u001b[0m\n\u001b[0;32m   1126\u001b[0m \u001b[39m# If we don't have any hooks, we want to skip the rest of the logic in\u001b[39;00m\n\u001b[0;32m   1127\u001b[0m \u001b[39m# this function, and just call forward.\u001b[39;00m\n\u001b[0;32m   1128\u001b[0m \u001b[39mif\u001b[39;00m \u001b[39mnot\u001b[39;00m (\u001b[39mself\u001b[39m\u001b[39m.\u001b[39m_backward_hooks \u001b[39mor\u001b[39;00m \u001b[39mself\u001b[39m\u001b[39m.\u001b[39m_forward_hooks \u001b[39mor\u001b[39;00m \u001b[39mself\u001b[39m\u001b[39m.\u001b[39m_forward_pre_hooks \u001b[39mor\u001b[39;00m _global_backward_hooks\n\u001b[0;32m   1129\u001b[0m         \u001b[39mor\u001b[39;00m _global_forward_hooks \u001b[39mor\u001b[39;00m _global_forward_pre_hooks):\n\u001b[1;32m-> 1130\u001b[0m     \u001b[39mreturn\u001b[39;00m forward_call(\u001b[39m*\u001b[39;49m\u001b[39minput\u001b[39;49m, \u001b[39m*\u001b[39;49m\u001b[39m*\u001b[39;49mkwargs)\n\u001b[0;32m   1131\u001b[0m \u001b[39m# Do not call functions when jit is used\u001b[39;00m\n\u001b[0;32m   1132\u001b[0m full_backward_hooks, non_full_backward_hooks \u001b[39m=\u001b[39m [], []\n",
            "File \u001b[1;32mc:\\Users\\AI_15\\AppData\\Local\\Programs\\Python\\Python38\\lib\\site-packages\\transformers\\models\\bert\\modeling_bert.py:1018\u001b[0m, in \u001b[0;36mBertModel.forward\u001b[1;34m(self, input_ids, attention_mask, token_type_ids, position_ids, head_mask, inputs_embeds, encoder_hidden_states, encoder_attention_mask, past_key_values, use_cache, output_attentions, output_hidden_states, return_dict)\u001b[0m\n\u001b[0;32m   1009\u001b[0m head_mask \u001b[39m=\u001b[39m \u001b[39mself\u001b[39m\u001b[39m.\u001b[39mget_head_mask(head_mask, \u001b[39mself\u001b[39m\u001b[39m.\u001b[39mconfig\u001b[39m.\u001b[39mnum_hidden_layers)\n\u001b[0;32m   1011\u001b[0m embedding_output \u001b[39m=\u001b[39m \u001b[39mself\u001b[39m\u001b[39m.\u001b[39membeddings(\n\u001b[0;32m   1012\u001b[0m     input_ids\u001b[39m=\u001b[39minput_ids,\n\u001b[0;32m   1013\u001b[0m     position_ids\u001b[39m=\u001b[39mposition_ids,\n\u001b[1;32m   (...)\u001b[0m\n\u001b[0;32m   1016\u001b[0m     past_key_values_length\u001b[39m=\u001b[39mpast_key_values_length,\n\u001b[0;32m   1017\u001b[0m )\n\u001b[1;32m-> 1018\u001b[0m encoder_outputs \u001b[39m=\u001b[39m \u001b[39mself\u001b[39;49m\u001b[39m.\u001b[39;49mencoder(\n\u001b[0;32m   1019\u001b[0m     embedding_output,\n\u001b[0;32m   1020\u001b[0m     attention_mask\u001b[39m=\u001b[39;49mextended_attention_mask,\n\u001b[0;32m   1021\u001b[0m     head_mask\u001b[39m=\u001b[39;49mhead_mask,\n\u001b[0;32m   1022\u001b[0m     encoder_hidden_states\u001b[39m=\u001b[39;49mencoder_hidden_states,\n\u001b[0;32m   1023\u001b[0m     encoder_attention_mask\u001b[39m=\u001b[39;49mencoder_extended_attention_mask,\n\u001b[0;32m   1024\u001b[0m     past_key_values\u001b[39m=\u001b[39;49mpast_key_values,\n\u001b[0;32m   1025\u001b[0m     use_cache\u001b[39m=\u001b[39;49muse_cache,\n\u001b[0;32m   1026\u001b[0m     output_attentions\u001b[39m=\u001b[39;49moutput_attentions,\n\u001b[0;32m   1027\u001b[0m     output_hidden_states\u001b[39m=\u001b[39;49moutput_hidden_states,\n\u001b[0;32m   1028\u001b[0m     return_dict\u001b[39m=\u001b[39;49mreturn_dict,\n\u001b[0;32m   1029\u001b[0m )\n\u001b[0;32m   1030\u001b[0m sequence_output \u001b[39m=\u001b[39m encoder_outputs[\u001b[39m0\u001b[39m]\n\u001b[0;32m   1031\u001b[0m pooled_output \u001b[39m=\u001b[39m \u001b[39mself\u001b[39m\u001b[39m.\u001b[39mpooler(sequence_output) \u001b[39mif\u001b[39;00m \u001b[39mself\u001b[39m\u001b[39m.\u001b[39mpooler \u001b[39mis\u001b[39;00m \u001b[39mnot\u001b[39;00m \u001b[39mNone\u001b[39;00m \u001b[39melse\u001b[39;00m \u001b[39mNone\u001b[39;00m\n",
            "File \u001b[1;32mc:\\Users\\AI_15\\AppData\\Local\\Programs\\Python\\Python38\\lib\\site-packages\\torch\\nn\\modules\\module.py:1130\u001b[0m, in \u001b[0;36mModule._call_impl\u001b[1;34m(self, *input, **kwargs)\u001b[0m\n\u001b[0;32m   1126\u001b[0m \u001b[39m# If we don't have any hooks, we want to skip the rest of the logic in\u001b[39;00m\n\u001b[0;32m   1127\u001b[0m \u001b[39m# this function, and just call forward.\u001b[39;00m\n\u001b[0;32m   1128\u001b[0m \u001b[39mif\u001b[39;00m \u001b[39mnot\u001b[39;00m (\u001b[39mself\u001b[39m\u001b[39m.\u001b[39m_backward_hooks \u001b[39mor\u001b[39;00m \u001b[39mself\u001b[39m\u001b[39m.\u001b[39m_forward_hooks \u001b[39mor\u001b[39;00m \u001b[39mself\u001b[39m\u001b[39m.\u001b[39m_forward_pre_hooks \u001b[39mor\u001b[39;00m _global_backward_hooks\n\u001b[0;32m   1129\u001b[0m         \u001b[39mor\u001b[39;00m _global_forward_hooks \u001b[39mor\u001b[39;00m _global_forward_pre_hooks):\n\u001b[1;32m-> 1130\u001b[0m     \u001b[39mreturn\u001b[39;00m forward_call(\u001b[39m*\u001b[39;49m\u001b[39minput\u001b[39;49m, \u001b[39m*\u001b[39;49m\u001b[39m*\u001b[39;49mkwargs)\n\u001b[0;32m   1131\u001b[0m \u001b[39m# Do not call functions when jit is used\u001b[39;00m\n\u001b[0;32m   1132\u001b[0m full_backward_hooks, non_full_backward_hooks \u001b[39m=\u001b[39m [], []\n",
            "File \u001b[1;32mc:\\Users\\AI_15\\AppData\\Local\\Programs\\Python\\Python38\\lib\\site-packages\\transformers\\models\\bert\\modeling_bert.py:607\u001b[0m, in \u001b[0;36mBertEncoder.forward\u001b[1;34m(self, hidden_states, attention_mask, head_mask, encoder_hidden_states, encoder_attention_mask, past_key_values, use_cache, output_attentions, output_hidden_states, return_dict)\u001b[0m\n\u001b[0;32m    598\u001b[0m     layer_outputs \u001b[39m=\u001b[39m torch\u001b[39m.\u001b[39mutils\u001b[39m.\u001b[39mcheckpoint\u001b[39m.\u001b[39mcheckpoint(\n\u001b[0;32m    599\u001b[0m         create_custom_forward(layer_module),\n\u001b[0;32m    600\u001b[0m         hidden_states,\n\u001b[1;32m   (...)\u001b[0m\n\u001b[0;32m    604\u001b[0m         encoder_attention_mask,\n\u001b[0;32m    605\u001b[0m     )\n\u001b[0;32m    606\u001b[0m \u001b[39melse\u001b[39;00m:\n\u001b[1;32m--> 607\u001b[0m     layer_outputs \u001b[39m=\u001b[39m layer_module(\n\u001b[0;32m    608\u001b[0m         hidden_states,\n\u001b[0;32m    609\u001b[0m         attention_mask,\n\u001b[0;32m    610\u001b[0m         layer_head_mask,\n\u001b[0;32m    611\u001b[0m         encoder_hidden_states,\n\u001b[0;32m    612\u001b[0m         encoder_attention_mask,\n\u001b[0;32m    613\u001b[0m         past_key_value,\n\u001b[0;32m    614\u001b[0m         output_attentions,\n\u001b[0;32m    615\u001b[0m     )\n\u001b[0;32m    617\u001b[0m hidden_states \u001b[39m=\u001b[39m layer_outputs[\u001b[39m0\u001b[39m]\n\u001b[0;32m    618\u001b[0m \u001b[39mif\u001b[39;00m use_cache:\n",
            "File \u001b[1;32mc:\\Users\\AI_15\\AppData\\Local\\Programs\\Python\\Python38\\lib\\site-packages\\torch\\nn\\modules\\module.py:1130\u001b[0m, in \u001b[0;36mModule._call_impl\u001b[1;34m(self, *input, **kwargs)\u001b[0m\n\u001b[0;32m   1126\u001b[0m \u001b[39m# If we don't have any hooks, we want to skip the rest of the logic in\u001b[39;00m\n\u001b[0;32m   1127\u001b[0m \u001b[39m# this function, and just call forward.\u001b[39;00m\n\u001b[0;32m   1128\u001b[0m \u001b[39mif\u001b[39;00m \u001b[39mnot\u001b[39;00m (\u001b[39mself\u001b[39m\u001b[39m.\u001b[39m_backward_hooks \u001b[39mor\u001b[39;00m \u001b[39mself\u001b[39m\u001b[39m.\u001b[39m_forward_hooks \u001b[39mor\u001b[39;00m \u001b[39mself\u001b[39m\u001b[39m.\u001b[39m_forward_pre_hooks \u001b[39mor\u001b[39;00m _global_backward_hooks\n\u001b[0;32m   1129\u001b[0m         \u001b[39mor\u001b[39;00m _global_forward_hooks \u001b[39mor\u001b[39;00m _global_forward_pre_hooks):\n\u001b[1;32m-> 1130\u001b[0m     \u001b[39mreturn\u001b[39;00m forward_call(\u001b[39m*\u001b[39;49m\u001b[39minput\u001b[39;49m, \u001b[39m*\u001b[39;49m\u001b[39m*\u001b[39;49mkwargs)\n\u001b[0;32m   1131\u001b[0m \u001b[39m# Do not call functions when jit is used\u001b[39;00m\n\u001b[0;32m   1132\u001b[0m full_backward_hooks, non_full_backward_hooks \u001b[39m=\u001b[39m [], []\n",
            "File \u001b[1;32mc:\\Users\\AI_15\\AppData\\Local\\Programs\\Python\\Python38\\lib\\site-packages\\transformers\\models\\bert\\modeling_bert.py:493\u001b[0m, in \u001b[0;36mBertLayer.forward\u001b[1;34m(self, hidden_states, attention_mask, head_mask, encoder_hidden_states, encoder_attention_mask, past_key_value, output_attentions)\u001b[0m\n\u001b[0;32m    481\u001b[0m \u001b[39mdef\u001b[39;00m \u001b[39mforward\u001b[39m(\n\u001b[0;32m    482\u001b[0m     \u001b[39mself\u001b[39m,\n\u001b[0;32m    483\u001b[0m     hidden_states: torch\u001b[39m.\u001b[39mTensor,\n\u001b[1;32m   (...)\u001b[0m\n\u001b[0;32m    490\u001b[0m ) \u001b[39m-\u001b[39m\u001b[39m>\u001b[39m Tuple[torch\u001b[39m.\u001b[39mTensor]:\n\u001b[0;32m    491\u001b[0m     \u001b[39m# decoder uni-directional self-attention cached key/values tuple is at positions 1,2\u001b[39;00m\n\u001b[0;32m    492\u001b[0m     self_attn_past_key_value \u001b[39m=\u001b[39m past_key_value[:\u001b[39m2\u001b[39m] \u001b[39mif\u001b[39;00m past_key_value \u001b[39mis\u001b[39;00m \u001b[39mnot\u001b[39;00m \u001b[39mNone\u001b[39;00m \u001b[39melse\u001b[39;00m \u001b[39mNone\u001b[39;00m\n\u001b[1;32m--> 493\u001b[0m     self_attention_outputs \u001b[39m=\u001b[39m \u001b[39mself\u001b[39;49m\u001b[39m.\u001b[39;49mattention(\n\u001b[0;32m    494\u001b[0m         hidden_states,\n\u001b[0;32m    495\u001b[0m         attention_mask,\n\u001b[0;32m    496\u001b[0m         head_mask,\n\u001b[0;32m    497\u001b[0m         output_attentions\u001b[39m=\u001b[39;49moutput_attentions,\n\u001b[0;32m    498\u001b[0m         past_key_value\u001b[39m=\u001b[39;49mself_attn_past_key_value,\n\u001b[0;32m    499\u001b[0m     )\n\u001b[0;32m    500\u001b[0m     attention_output \u001b[39m=\u001b[39m self_attention_outputs[\u001b[39m0\u001b[39m]\n\u001b[0;32m    502\u001b[0m     \u001b[39m# if decoder, the last output is tuple of self-attn cache\u001b[39;00m\n",
            "File \u001b[1;32mc:\\Users\\AI_15\\AppData\\Local\\Programs\\Python\\Python38\\lib\\site-packages\\torch\\nn\\modules\\module.py:1130\u001b[0m, in \u001b[0;36mModule._call_impl\u001b[1;34m(self, *input, **kwargs)\u001b[0m\n\u001b[0;32m   1126\u001b[0m \u001b[39m# If we don't have any hooks, we want to skip the rest of the logic in\u001b[39;00m\n\u001b[0;32m   1127\u001b[0m \u001b[39m# this function, and just call forward.\u001b[39;00m\n\u001b[0;32m   1128\u001b[0m \u001b[39mif\u001b[39;00m \u001b[39mnot\u001b[39;00m (\u001b[39mself\u001b[39m\u001b[39m.\u001b[39m_backward_hooks \u001b[39mor\u001b[39;00m \u001b[39mself\u001b[39m\u001b[39m.\u001b[39m_forward_hooks \u001b[39mor\u001b[39;00m \u001b[39mself\u001b[39m\u001b[39m.\u001b[39m_forward_pre_hooks \u001b[39mor\u001b[39;00m _global_backward_hooks\n\u001b[0;32m   1129\u001b[0m         \u001b[39mor\u001b[39;00m _global_forward_hooks \u001b[39mor\u001b[39;00m _global_forward_pre_hooks):\n\u001b[1;32m-> 1130\u001b[0m     \u001b[39mreturn\u001b[39;00m forward_call(\u001b[39m*\u001b[39;49m\u001b[39minput\u001b[39;49m, \u001b[39m*\u001b[39;49m\u001b[39m*\u001b[39;49mkwargs)\n\u001b[0;32m   1131\u001b[0m \u001b[39m# Do not call functions when jit is used\u001b[39;00m\n\u001b[0;32m   1132\u001b[0m full_backward_hooks, non_full_backward_hooks \u001b[39m=\u001b[39m [], []\n",
            "File \u001b[1;32mc:\\Users\\AI_15\\AppData\\Local\\Programs\\Python\\Python38\\lib\\site-packages\\transformers\\models\\bert\\modeling_bert.py:423\u001b[0m, in \u001b[0;36mBertAttention.forward\u001b[1;34m(self, hidden_states, attention_mask, head_mask, encoder_hidden_states, encoder_attention_mask, past_key_value, output_attentions)\u001b[0m\n\u001b[0;32m    413\u001b[0m \u001b[39mdef\u001b[39;00m \u001b[39mforward\u001b[39m(\n\u001b[0;32m    414\u001b[0m     \u001b[39mself\u001b[39m,\n\u001b[0;32m    415\u001b[0m     hidden_states: torch\u001b[39m.\u001b[39mTensor,\n\u001b[1;32m   (...)\u001b[0m\n\u001b[0;32m    421\u001b[0m     output_attentions: Optional[\u001b[39mbool\u001b[39m] \u001b[39m=\u001b[39m \u001b[39mFalse\u001b[39;00m,\n\u001b[0;32m    422\u001b[0m ) \u001b[39m-\u001b[39m\u001b[39m>\u001b[39m Tuple[torch\u001b[39m.\u001b[39mTensor]:\n\u001b[1;32m--> 423\u001b[0m     self_outputs \u001b[39m=\u001b[39m \u001b[39mself\u001b[39;49m\u001b[39m.\u001b[39;49mself(\n\u001b[0;32m    424\u001b[0m         hidden_states,\n\u001b[0;32m    425\u001b[0m         attention_mask,\n\u001b[0;32m    426\u001b[0m         head_mask,\n\u001b[0;32m    427\u001b[0m         encoder_hidden_states,\n\u001b[0;32m    428\u001b[0m         encoder_attention_mask,\n\u001b[0;32m    429\u001b[0m         past_key_value,\n\u001b[0;32m    430\u001b[0m         output_attentions,\n\u001b[0;32m    431\u001b[0m     )\n\u001b[0;32m    432\u001b[0m     attention_output \u001b[39m=\u001b[39m \u001b[39mself\u001b[39m\u001b[39m.\u001b[39moutput(self_outputs[\u001b[39m0\u001b[39m], hidden_states)\n\u001b[0;32m    433\u001b[0m     outputs \u001b[39m=\u001b[39m (attention_output,) \u001b[39m+\u001b[39m self_outputs[\u001b[39m1\u001b[39m:]  \u001b[39m# add attentions if we output them\u001b[39;00m\n",
            "File \u001b[1;32mc:\\Users\\AI_15\\AppData\\Local\\Programs\\Python\\Python38\\lib\\site-packages\\torch\\nn\\modules\\module.py:1130\u001b[0m, in \u001b[0;36mModule._call_impl\u001b[1;34m(self, *input, **kwargs)\u001b[0m\n\u001b[0;32m   1126\u001b[0m \u001b[39m# If we don't have any hooks, we want to skip the rest of the logic in\u001b[39;00m\n\u001b[0;32m   1127\u001b[0m \u001b[39m# this function, and just call forward.\u001b[39;00m\n\u001b[0;32m   1128\u001b[0m \u001b[39mif\u001b[39;00m \u001b[39mnot\u001b[39;00m (\u001b[39mself\u001b[39m\u001b[39m.\u001b[39m_backward_hooks \u001b[39mor\u001b[39;00m \u001b[39mself\u001b[39m\u001b[39m.\u001b[39m_forward_hooks \u001b[39mor\u001b[39;00m \u001b[39mself\u001b[39m\u001b[39m.\u001b[39m_forward_pre_hooks \u001b[39mor\u001b[39;00m _global_backward_hooks\n\u001b[0;32m   1129\u001b[0m         \u001b[39mor\u001b[39;00m _global_forward_hooks \u001b[39mor\u001b[39;00m _global_forward_pre_hooks):\n\u001b[1;32m-> 1130\u001b[0m     \u001b[39mreturn\u001b[39;00m forward_call(\u001b[39m*\u001b[39;49m\u001b[39minput\u001b[39;49m, \u001b[39m*\u001b[39;49m\u001b[39m*\u001b[39;49mkwargs)\n\u001b[0;32m   1131\u001b[0m \u001b[39m# Do not call functions when jit is used\u001b[39;00m\n\u001b[0;32m   1132\u001b[0m full_backward_hooks, non_full_backward_hooks \u001b[39m=\u001b[39m [], []\n",
            "File \u001b[1;32mc:\\Users\\AI_15\\AppData\\Local\\Programs\\Python\\Python38\\lib\\site-packages\\transformers\\models\\bert\\modeling_bert.py:355\u001b[0m, in \u001b[0;36mBertSelfAttention.forward\u001b[1;34m(self, hidden_states, attention_mask, head_mask, encoder_hidden_states, encoder_attention_mask, past_key_value, output_attentions)\u001b[0m\n\u001b[0;32m    351\u001b[0m attention_probs \u001b[39m=\u001b[39m nn\u001b[39m.\u001b[39mfunctional\u001b[39m.\u001b[39msoftmax(attention_scores, dim\u001b[39m=\u001b[39m\u001b[39m-\u001b[39m\u001b[39m1\u001b[39m)\n\u001b[0;32m    353\u001b[0m \u001b[39m# This is actually dropping out entire tokens to attend to, which might\u001b[39;00m\n\u001b[0;32m    354\u001b[0m \u001b[39m# seem a bit unusual, but is taken from the original Transformer paper.\u001b[39;00m\n\u001b[1;32m--> 355\u001b[0m attention_probs \u001b[39m=\u001b[39m \u001b[39mself\u001b[39;49m\u001b[39m.\u001b[39;49mdropout(attention_probs)\n\u001b[0;32m    357\u001b[0m \u001b[39m# Mask heads if we want to\u001b[39;00m\n\u001b[0;32m    358\u001b[0m \u001b[39mif\u001b[39;00m head_mask \u001b[39mis\u001b[39;00m \u001b[39mnot\u001b[39;00m \u001b[39mNone\u001b[39;00m:\n",
            "File \u001b[1;32mc:\\Users\\AI_15\\AppData\\Local\\Programs\\Python\\Python38\\lib\\site-packages\\torch\\nn\\modules\\module.py:1130\u001b[0m, in \u001b[0;36mModule._call_impl\u001b[1;34m(self, *input, **kwargs)\u001b[0m\n\u001b[0;32m   1126\u001b[0m \u001b[39m# If we don't have any hooks, we want to skip the rest of the logic in\u001b[39;00m\n\u001b[0;32m   1127\u001b[0m \u001b[39m# this function, and just call forward.\u001b[39;00m\n\u001b[0;32m   1128\u001b[0m \u001b[39mif\u001b[39;00m \u001b[39mnot\u001b[39;00m (\u001b[39mself\u001b[39m\u001b[39m.\u001b[39m_backward_hooks \u001b[39mor\u001b[39;00m \u001b[39mself\u001b[39m\u001b[39m.\u001b[39m_forward_hooks \u001b[39mor\u001b[39;00m \u001b[39mself\u001b[39m\u001b[39m.\u001b[39m_forward_pre_hooks \u001b[39mor\u001b[39;00m _global_backward_hooks\n\u001b[0;32m   1129\u001b[0m         \u001b[39mor\u001b[39;00m _global_forward_hooks \u001b[39mor\u001b[39;00m _global_forward_pre_hooks):\n\u001b[1;32m-> 1130\u001b[0m     \u001b[39mreturn\u001b[39;00m forward_call(\u001b[39m*\u001b[39;49m\u001b[39minput\u001b[39;49m, \u001b[39m*\u001b[39;49m\u001b[39m*\u001b[39;49mkwargs)\n\u001b[0;32m   1131\u001b[0m \u001b[39m# Do not call functions when jit is used\u001b[39;00m\n\u001b[0;32m   1132\u001b[0m full_backward_hooks, non_full_backward_hooks \u001b[39m=\u001b[39m [], []\n",
            "File \u001b[1;32mc:\\Users\\AI_15\\AppData\\Local\\Programs\\Python\\Python38\\lib\\site-packages\\torch\\nn\\modules\\dropout.py:58\u001b[0m, in \u001b[0;36mDropout.forward\u001b[1;34m(self, input)\u001b[0m\n\u001b[0;32m     57\u001b[0m \u001b[39mdef\u001b[39;00m \u001b[39mforward\u001b[39m(\u001b[39mself\u001b[39m, \u001b[39minput\u001b[39m: Tensor) \u001b[39m-\u001b[39m\u001b[39m>\u001b[39m Tensor:\n\u001b[1;32m---> 58\u001b[0m     \u001b[39mreturn\u001b[39;00m F\u001b[39m.\u001b[39;49mdropout(\u001b[39minput\u001b[39;49m, \u001b[39mself\u001b[39;49m\u001b[39m.\u001b[39;49mp, \u001b[39mself\u001b[39;49m\u001b[39m.\u001b[39;49mtraining, \u001b[39mself\u001b[39;49m\u001b[39m.\u001b[39;49minplace)\n",
            "File \u001b[1;32mc:\\Users\\AI_15\\AppData\\Local\\Programs\\Python\\Python38\\lib\\site-packages\\torch\\nn\\functional.py:1252\u001b[0m, in \u001b[0;36mdropout\u001b[1;34m(input, p, training, inplace)\u001b[0m\n\u001b[0;32m   1250\u001b[0m \u001b[39mif\u001b[39;00m p \u001b[39m<\u001b[39m \u001b[39m0.0\u001b[39m \u001b[39mor\u001b[39;00m p \u001b[39m>\u001b[39m \u001b[39m1.0\u001b[39m:\n\u001b[0;32m   1251\u001b[0m     \u001b[39mraise\u001b[39;00m \u001b[39mValueError\u001b[39;00m(\u001b[39m\"\u001b[39m\u001b[39mdropout probability has to be between 0 and 1, \u001b[39m\u001b[39m\"\u001b[39m \u001b[39m\"\u001b[39m\u001b[39mbut got \u001b[39m\u001b[39m{}\u001b[39;00m\u001b[39m\"\u001b[39m\u001b[39m.\u001b[39mformat(p))\n\u001b[1;32m-> 1252\u001b[0m \u001b[39mreturn\u001b[39;00m _VF\u001b[39m.\u001b[39mdropout_(\u001b[39minput\u001b[39m, p, training) \u001b[39mif\u001b[39;00m inplace \u001b[39melse\u001b[39;00m _VF\u001b[39m.\u001b[39;49mdropout(\u001b[39minput\u001b[39;49m, p, training)\n",
            "\u001b[1;31mRuntimeError\u001b[0m: CUDA out of memory. Tried to allocate 90.00 MiB (GPU 0; 8.00 GiB total capacity; 6.15 GiB already allocated; 37.60 MiB free; 6.40 GiB reserved in total by PyTorch) If reserved memory is >> allocated memory try setting max_split_size_mb to avoid fragmentation.  See documentation for Memory Management and PYTORCH_CUDA_ALLOC_CONF"
          ]
        }
      ],
      "source": [
        "train(bert_classifier1, optimizer1, scheduler1, orig_train_dataloader, orig_val_dataloader, epochs=2, evaluation=True, ckpt_name='classifier1')"
      ]
    },
    {
      "cell_type": "code",
      "execution_count": 74,
      "metadata": {
        "colab": {
          "base_uri": "https://localhost:8080/"
        },
        "id": "PPx04EjkkiNZ",
        "outputId": "05ae1a63-8360-4807-9f99-49dbbded12ba"
      },
      "outputs": [
        {
          "name": "stdout",
          "output_type": "stream",
          "text": [
            "Fri Jul 29 12:19:01 2022       \n",
            "+-----------------------------------------------------------------------------+\n",
            "| NVIDIA-SMI 451.67       Driver Version: 451.67       CUDA Version: 11.0     |\n",
            "|-------------------------------+----------------------+----------------------+\n",
            "| GPU  Name            TCC/WDDM | Bus-Id        Disp.A | Volatile Uncorr. ECC |\n",
            "| Fan  Temp  Perf  Pwr:Usage/Cap|         Memory-Usage | GPU-Util  Compute M. |\n",
            "|===============================+======================+======================|\n",
            "|   0  GeForce RTX 207... WDDM  | 00000000:01:00.0  On |                  N/A |\n",
            "| N/A   52C    P0    27W /  N/A |   7993MiB /  8192MiB |      2%      Default |\n",
            "+-------------------------------+----------------------+----------------------+\n",
            "                                                                               \n",
            "+-----------------------------------------------------------------------------+\n",
            "| Processes:                                                                  |\n",
            "|  GPU   GI   CI        PID   Type   Process name                  GPU Memory |\n",
            "|        ID   ID                                                   Usage      |\n",
            "|=============================================================================|\n",
            "|    0   N/A  N/A      1128    C+G   ...lPanel\\SystemSettings.exe    N/A      |\n",
            "|    0   N/A  N/A      1552    C+G   Insufficient Permissions        N/A      |\n",
            "|    0   N/A  N/A      3152    C+G   ...ice\\Office16\\POWERPNT.EXE    N/A      |\n",
            "|    0   N/A  N/A      3784    C+G   C:\\Windows\\explorer.exe         N/A      |\n",
            "|    0   N/A  N/A      4340    C+G   ...5n1h2txyewy\\SearchApp.exe    N/A      |\n",
            "|    0   N/A  N/A      6044    C+G   ...artMenuExperienceHost.exe    N/A      |\n",
            "|    0   N/A  N/A      6496    C+G   ...y\\ShellExperienceHost.exe    N/A      |\n",
            "|    0   N/A  N/A      6648    C+G   ...cw5n1h2txyewy\\LockApp.exe    N/A      |\n",
            "|    0   N/A  N/A      9972    C+G   ...ekyb3d8bbwe\\YourPhone.exe    N/A      |\n",
            "|    0   N/A  N/A     11272    C+G   ...2txyewy\\TextInputHost.exe    N/A      |\n",
            "|    0   N/A  N/A     12772    C+G   ...ekyb3d8bbwe\\HxOutlook.exe    N/A      |\n",
            "|    0   N/A  N/A     14020    C+G   ...icrosoft VS Code\\Code.exe    N/A      |\n",
            "|    0   N/A  N/A     14048    C+G   ...kyb3d8bbwe\\Calculator.exe    N/A      |\n",
            "|    0   N/A  N/A     15600    C+G   ...ice\\Office16\\POWERPNT.EXE    N/A      |\n",
            "|    0   N/A  N/A     17284    C+G   ...5n1h2txyewy\\SearchApp.exe    N/A      |\n",
            "|    0   N/A  N/A     17300    C+G   ...ge\\Application\\msedge.exe    N/A      |\n",
            "|    0   N/A  N/A     21376    C+G   ...kyb3d8bbwe\\HxAccounts.exe    N/A      |\n",
            "|    0   N/A  N/A     27460      C   ...ython\\Python38\\python.exe    N/A      |\n",
            "+-----------------------------------------------------------------------------+\n"
          ]
        }
      ],
      "source": [
        "!nvidia-smi"
      ]
    },
    {
      "cell_type": "code",
      "execution_count": 75,
      "metadata": {
        "colab": {
          "base_uri": "https://localhost:8080/"
        },
        "id": "CSPLwjYlaLds",
        "outputId": "a2ec3c07-6ba8-4844-d763-2f52ab38404d"
      },
      "outputs": [
        {
          "name": "stdout",
          "output_type": "stream",
          "text": [
            "Fri Jul 29 12:19:15 2022       \n",
            "+-----------------------------------------------------------------------------+\n",
            "| NVIDIA-SMI 451.67       Driver Version: 451.67       CUDA Version: 11.0     |\n",
            "|-------------------------------+----------------------+----------------------+\n",
            "| GPU  Name            TCC/WDDM | Bus-Id        Disp.A | Volatile Uncorr. ECC |\n",
            "| Fan  Temp  Perf  Pwr:Usage/Cap|         Memory-Usage | GPU-Util  Compute M. |\n",
            "|===============================+======================+======================|\n",
            "|   0  GeForce RTX 207... WDDM  | 00000000:01:00.0  On |                  N/A |\n",
            "| N/A   52C    P0    27W /  N/A |   2217MiB /  8192MiB |      1%      Default |\n",
            "+-------------------------------+----------------------+----------------------+\n",
            "                                                                               \n",
            "+-----------------------------------------------------------------------------+\n",
            "| Processes:                                                                  |\n",
            "|  GPU   GI   CI        PID   Type   Process name                  GPU Memory |\n",
            "|        ID   ID                                                   Usage      |\n",
            "|=============================================================================|\n",
            "|    0   N/A  N/A      1128    C+G   ...lPanel\\SystemSettings.exe    N/A      |\n",
            "|    0   N/A  N/A      1552    C+G   Insufficient Permissions        N/A      |\n",
            "|    0   N/A  N/A      3152    C+G   ...ice\\Office16\\POWERPNT.EXE    N/A      |\n",
            "|    0   N/A  N/A      3784    C+G   C:\\Windows\\explorer.exe         N/A      |\n",
            "|    0   N/A  N/A      4340    C+G   ...5n1h2txyewy\\SearchApp.exe    N/A      |\n",
            "|    0   N/A  N/A      6044    C+G   ...artMenuExperienceHost.exe    N/A      |\n",
            "|    0   N/A  N/A      6496    C+G   ...y\\ShellExperienceHost.exe    N/A      |\n",
            "|    0   N/A  N/A      6648    C+G   ...cw5n1h2txyewy\\LockApp.exe    N/A      |\n",
            "|    0   N/A  N/A      9972    C+G   ...ekyb3d8bbwe\\YourPhone.exe    N/A      |\n",
            "|    0   N/A  N/A     11272    C+G   ...2txyewy\\TextInputHost.exe    N/A      |\n",
            "|    0   N/A  N/A     12772    C+G   ...ekyb3d8bbwe\\HxOutlook.exe    N/A      |\n",
            "|    0   N/A  N/A     14020    C+G   ...icrosoft VS Code\\Code.exe    N/A      |\n",
            "|    0   N/A  N/A     14048    C+G   ...kyb3d8bbwe\\Calculator.exe    N/A      |\n",
            "|    0   N/A  N/A     15600    C+G   ...ice\\Office16\\POWERPNT.EXE    N/A      |\n",
            "|    0   N/A  N/A     17284    C+G   ...5n1h2txyewy\\SearchApp.exe    N/A      |\n",
            "|    0   N/A  N/A     17300    C+G   ...ge\\Application\\msedge.exe    N/A      |\n",
            "|    0   N/A  N/A     21376    C+G   ...kyb3d8bbwe\\HxAccounts.exe    N/A      |\n",
            "|    0   N/A  N/A     27460      C   ...ython\\Python38\\python.exe    N/A      |\n",
            "+-----------------------------------------------------------------------------+\n"
          ]
        }
      ],
      "source": [
        "import gc\n",
        "gc.collect()\n",
        "torch.cuda.empty_cache()\n",
        "!nvidia-smi"
      ]
    },
    {
      "cell_type": "code",
      "execution_count": null,
      "metadata": {
        "colab": {
          "base_uri": "https://localhost:8080/"
        },
        "id": "KZkMPXW1F3Xg",
        "outputId": "bb66e901-a43a-41d2-87b0-07afa1771907"
      },
      "outputs": [
        {
          "ename": "",
          "evalue": "",
          "output_type": "error",
          "traceback": [
            "\u001b[1;31m'Python 3.7.13 ('samsung_ai')'(으)로 셀을 실행하려면 ipykernel 패키지가 필요합니다.\n",
            "다음 명령어를 실행하여 Python 환경에 'ipykernel'을(를) 설치합니다. \r\n",
            " 명령: 'conda install -n samsung_ai ipykernel --update-deps --force-reinstall'"
          ]
        }
      ],
      "source": [
        "test_loss, test_accuracy = evaluate(bert_classifier1, orig_test_dataloader, ckpt_name='classifier1')\n",
        "print(test_accuracy)"
      ]
    },
    {
      "cell_type": "code",
      "execution_count": null,
      "metadata": {
        "colab": {
          "base_uri": "https://localhost:8080/"
        },
        "id": "6UPNy9qdnvYl",
        "outputId": "e7ee6e5e-49f2-41de-8e99-b377a87356bd"
      },
      "outputs": [
        {
          "ename": "",
          "evalue": "",
          "output_type": "error",
          "traceback": [
            "\u001b[1;31m'Python 3.7.13 ('samsung_ai')'(으)로 셀을 실행하려면 ipykernel 패키지가 필요합니다.\n",
            "다음 명령어를 실행하여 Python 환경에 'ipykernel'을(를) 설치합니다. \r\n",
            " 명령: 'conda install -n samsung_ai ipykernel --update-deps --force-reinstall'"
          ]
        }
      ],
      "source": [
        "val_loss, val_accuracy = evaluate(bert_classifier1, orig_val_dataloader, ckpt_name='classifier1')\n",
        "print(val_accuracy)"
      ]
    },
    {
      "cell_type": "code",
      "execution_count": null,
      "metadata": {
        "colab": {
          "base_uri": "https://localhost:8080/"
        },
        "id": "XNirnGXLaXgD",
        "outputId": "1c7f93b7-67ae-4bae-d350-cf39349da8cd"
      },
      "outputs": [
        {
          "ename": "",
          "evalue": "",
          "output_type": "error",
          "traceback": [
            "\u001b[1;31m'Python 3.7.13 ('samsung_ai')'(으)로 셀을 실행하려면 ipykernel 패키지가 필요합니다.\n",
            "다음 명령어를 실행하여 Python 환경에 'ipykernel'을(를) 설치합니다. \r\n",
            " 명령: 'conda install -n samsung_ai ipykernel --update-deps --force-reinstall'"
          ]
        }
      ],
      "source": [
        "# Test accuracy is not too bad either: We've trained a decent classifier! :)\n",
        "print('Val', round(val_accuracy,3))\n",
        "print('Test', round(test_accuracy,3))"
      ]
    },
    {
      "cell_type": "markdown",
      "metadata": {
        "id": "Vq2ZAriON1E6"
      },
      "source": [
        "## Counterfactual Data Augmentation"
      ]
    },
    {
      "cell_type": "markdown",
      "metadata": {
        "id": "e5EqvsSRO2YV"
      },
      "source": [
        "The dataset from [Learning the Difference that Makes a Difference with Counterfactually-Augmented Data](https://github.com/acmi-lab/counterfactually-augmented-data) provides counterfactually augmented data:\n",
        "\n",
        "Given documents and their initial labels, the authors tasked humans to:\n",
        "1.   Revise each document to accord with a counterfactual target label, subject to producing revisions that, \n",
        "2.   Result in internally consistent documents\n",
        "3.   Avoids any gratuitous changes to facts that are semantically unrelated to the applicability of the label\n"
      ]
    },
    {
      "cell_type": "code",
      "execution_count": null,
      "metadata": {
        "colab": {
          "base_uri": "https://localhost:8080/",
          "height": 206
        },
        "id": "XrVhSwayN5Kf",
        "outputId": "27ce9dbb-e5cf-4076-8c3f-60467c882768"
      },
      "outputs": [
        {
          "ename": "",
          "evalue": "",
          "output_type": "error",
          "traceback": [
            "\u001b[1;31m'Python 3.7.13 ('samsung_ai')'(으)로 셀을 실행하려면 ipykernel 패키지가 필요합니다.\n",
            "다음 명령어를 실행하여 Python 환경에 'ipykernel'을(를) 설치합니다. \r\n",
            " 명령: 'conda install -n samsung_ai ipykernel --update-deps --force-reinstall'"
          ]
        }
      ],
      "source": [
        "paired_train = pd.read_csv('/content/counterfactually-augmented-data/sentiment/combined/paired/train_paired.tsv', sep='\\t', header=0)\n",
        "paired_train.head()"
      ]
    },
    {
      "cell_type": "code",
      "execution_count": null,
      "metadata": {
        "colab": {
          "base_uri": "https://localhost:8080/"
        },
        "id": "dErJQMuFyjfO",
        "outputId": "4d926f4a-e846-4a0e-8495-7fa5065e772d"
      },
      "outputs": [
        {
          "ename": "",
          "evalue": "",
          "output_type": "error",
          "traceback": [
            "\u001b[1;31m'Python 3.7.13 ('samsung_ai')'(으)로 셀을 실행하려면 ipykernel 패키지가 필요합니다.\n",
            "다음 명령어를 실행하여 Python 환경에 'ipykernel'을(를) 설치합니다. \r\n",
            " 명령: 'conda install -n samsung_ai ipykernel --update-deps --force-reinstall'"
          ]
        }
      ],
      "source": [
        "# Now we'll use the counterfactually augmented data to train our model\n",
        "combined_train = pd.read_csv('/content/counterfactually-augmented-data/sentiment/combined/train.tsv', sep='\\t', header=0)\n",
        "combined_val = pd.read_csv('/content/counterfactually-augmented-data/sentiment/combined/dev.tsv', sep='\\t', header=0)\n",
        "\n",
        "combined_train.info()\n",
        "\n",
        "# We'll add the same amount of training data as before:\n",
        "#overlap_combined_train = pd.concat([combined_train, extra_train])\n",
        "#nonoverlap_combined_train = overlap_combined_train.drop_duplicates(keep=False)\n",
        "#to_add_combined = nonoverlap_combined_train.sample(len(combined_train))\n",
        "#combined_train = pd.concat([combined_train, to_add_combined])\n",
        "\n",
        "# We'll add the same amount of training data as before:\n",
        "combined_train = pd.concat([combined_train, to_add])\n",
        "combined_train.drop_duplicates(inplace=True)\n",
        "\n",
        "# Sample half\n",
        "#combined_train = combined_train.sample(frac=0.5)\n",
        "\n",
        "combined_train_dataset = IMDBDataset(combined_train)\n",
        "combined_val_dataset = IMDBDataset(combined_val)\n",
        "\n",
        "# We'll create a Dataloader for each split of the data. \n",
        "combined_train_dataloader = DataLoader(\n",
        "        combined_train_dataset, shuffle=True, collate_fn=collate_batch, batch_size=BATCH_SIZE\n",
        "    )\n",
        "combined_val_dataloader = DataLoader(\n",
        "        combined_val_dataset, shuffle=False, collate_fn=collate_batch, batch_size=BATCH_SIZE\n",
        "    )\n",
        "\n"
      ]
    },
    {
      "cell_type": "code",
      "execution_count": null,
      "metadata": {
        "colab": {
          "base_uri": "https://localhost:8080/"
        },
        "id": "0NERbudMW7o6",
        "outputId": "f78637b6-7b8f-4acd-c12e-4095f47e135f"
      },
      "outputs": [
        {
          "ename": "",
          "evalue": "",
          "output_type": "error",
          "traceback": [
            "\u001b[1;31m'Python 3.7.13 ('samsung_ai')'(으)로 셀을 실행하려면 ipykernel 패키지가 필요합니다.\n",
            "다음 명령어를 실행하여 Python 환경에 'ipykernel'을(를) 설치합니다. \r\n",
            " 명령: 'conda install -n samsung_ai ipykernel --update-deps --force-reinstall'"
          ]
        }
      ],
      "source": [
        "combined_train.info()"
      ]
    },
    {
      "cell_type": "code",
      "execution_count": null,
      "metadata": {
        "colab": {
          "base_uri": "https://localhost:8080/"
        },
        "id": "siM00UJz5EXO",
        "outputId": "03299255-bdf0-42a5-ea13-6dd724dcbe9b"
      },
      "outputs": [
        {
          "ename": "",
          "evalue": "",
          "output_type": "error",
          "traceback": [
            "\u001b[1;31m'Python 3.7.13 ('samsung_ai')'(으)로 셀을 실행하려면 ipykernel 패키지가 필요합니다.\n",
            "다음 명령어를 실행하여 Python 환경에 'ipykernel'을(를) 설치합니다. \r\n",
            " 명령: 'conda install -n samsung_ai ipykernel --update-deps --force-reinstall'"
          ]
        }
      ],
      "source": [
        "# Train on orig + cf data\n",
        "bert_classifier2, optimizer2, scheduler2 = initialize_model(epochs=2, dataloader=combined_train_dataloader, freeze_bert=False)\n",
        "train(bert_classifier2, optimizer2, scheduler2, combined_train_dataloader, combined_val_dataloader, epochs=2, evaluation=True, ckpt_name='classifier2')"
      ]
    },
    {
      "cell_type": "code",
      "execution_count": null,
      "metadata": {
        "colab": {
          "base_uri": "https://localhost:8080/"
        },
        "id": "mobqXBQYoapw",
        "outputId": "3c585b95-7850-4c4f-f763-21e54cf28a34"
      },
      "outputs": [
        {
          "ename": "",
          "evalue": "",
          "output_type": "error",
          "traceback": [
            "\u001b[1;31m'Python 3.7.13 ('samsung_ai')'(으)로 셀을 실행하려면 ipykernel 패키지가 필요합니다.\n",
            "다음 명령어를 실행하여 Python 환경에 'ipykernel'을(를) 설치합니다. \r\n",
            " 명령: 'conda install -n samsung_ai ipykernel --update-deps --force-reinstall'"
          ]
        }
      ],
      "source": [
        "test_loss, test_accuracy = evaluate(bert_classifier2, orig_test_dataloader, ckpt_name='classifier2')\n",
        "val_loss, val_accuracy = evaluate(bert_classifier2, orig_val_dataloader, ckpt_name='classifier2')\n",
        "# Test accuracy is not too bad either: We've trained a decent classifier! :)\n",
        "print('Val', round(val_accuracy,3))\n",
        "print('Test', round(test_accuracy,3))"
      ]
    },
    {
      "cell_type": "markdown",
      "metadata": {
        "id": "U3HZb3NWFtFf"
      },
      "source": [
        "## Evaluation on Out-of-domain Data\n",
        "\n",
        "So how good is our model on predicting sentiment on various types of **out-of-domain** data?"
      ]
    },
    {
      "cell_type": "code",
      "execution_count": 77,
      "metadata": {
        "id": "5L4epj7vFsM9"
      },
      "outputs": [
        {
          "ename": "FileNotFoundError",
          "evalue": "[Errno 2] No such file or directory: '/content/counterfactually-augmented-data/sentiment/new/test.tsv'",
          "output_type": "error",
          "traceback": [
            "\u001b[1;31m---------------------------------------------------------------------------\u001b[0m",
            "\u001b[1;31mFileNotFoundError\u001b[0m                         Traceback (most recent call last)",
            "\u001b[1;32mc:\\Users\\AI_15\\momo\\python_prj\\2022_AI_Expert\\NLP_bert\\[7_29_22]_BERT_counterfactual.ipynb 셀 119\u001b[0m in \u001b[0;36m<cell line: 3>\u001b[1;34m()\u001b[0m\n\u001b[0;32m      <a href='vscode-notebook-cell:/c%3A/Users/AI_15/momo/python_prj/2022_AI_Expert/NLP_bert/%5B7_29_22%5D_BERT_counterfactual.ipynb#ch0000118?line=0'>1</a>\u001b[0m \u001b[39m# We will test our classifiers on the counterfactually augmented test set\u001b[39;00m\n\u001b[1;32m----> <a href='vscode-notebook-cell:/c%3A/Users/AI_15/momo/python_prj/2022_AI_Expert/NLP_bert/%5B7_29_22%5D_BERT_counterfactual.ipynb#ch0000118?line=2'>3</a>\u001b[0m cf_test \u001b[39m=\u001b[39m pd\u001b[39m.\u001b[39;49mread_csv(\u001b[39m'\u001b[39;49m\u001b[39m/content/counterfactually-augmented-data/sentiment/new/test.tsv\u001b[39;49m\u001b[39m'\u001b[39;49m, sep\u001b[39m=\u001b[39;49m\u001b[39m'\u001b[39;49m\u001b[39m\\t\u001b[39;49;00m\u001b[39m'\u001b[39;49m, header\u001b[39m=\u001b[39;49m\u001b[39m0\u001b[39;49m)\n\u001b[0;32m      <a href='vscode-notebook-cell:/c%3A/Users/AI_15/momo/python_prj/2022_AI_Expert/NLP_bert/%5B7_29_22%5D_BERT_counterfactual.ipynb#ch0000118?line=3'>4</a>\u001b[0m \u001b[39m#cf_test = pd.read_csv('/content/counterfactually-augmented-data/sentiment/combined/test.tsv', sep='\\t', header=0)\u001b[39;00m\n\u001b[0;32m      <a href='vscode-notebook-cell:/c%3A/Users/AI_15/momo/python_prj/2022_AI_Expert/NLP_bert/%5B7_29_22%5D_BERT_counterfactual.ipynb#ch0000118?line=4'>5</a>\u001b[0m \n\u001b[0;32m      <a href='vscode-notebook-cell:/c%3A/Users/AI_15/momo/python_prj/2022_AI_Expert/NLP_bert/%5B7_29_22%5D_BERT_counterfactual.ipynb#ch0000118?line=5'>6</a>\u001b[0m \u001b[39m# We'll create a Dataset for each split of the data:\u001b[39;00m\n\u001b[0;32m      <a href='vscode-notebook-cell:/c%3A/Users/AI_15/momo/python_prj/2022_AI_Expert/NLP_bert/%5B7_29_22%5D_BERT_counterfactual.ipynb#ch0000118?line=6'>7</a>\u001b[0m cf_test_dataset \u001b[39m=\u001b[39m IMDBDataset(cf_test)\n",
            "File \u001b[1;32mc:\\Users\\AI_15\\AppData\\Local\\Programs\\Python\\Python38\\lib\\site-packages\\pandas\\util\\_decorators.py:311\u001b[0m, in \u001b[0;36mdeprecate_nonkeyword_arguments.<locals>.decorate.<locals>.wrapper\u001b[1;34m(*args, **kwargs)\u001b[0m\n\u001b[0;32m    305\u001b[0m \u001b[39mif\u001b[39;00m \u001b[39mlen\u001b[39m(args) \u001b[39m>\u001b[39m num_allow_args:\n\u001b[0;32m    306\u001b[0m     warnings\u001b[39m.\u001b[39mwarn(\n\u001b[0;32m    307\u001b[0m         msg\u001b[39m.\u001b[39mformat(arguments\u001b[39m=\u001b[39marguments),\n\u001b[0;32m    308\u001b[0m         \u001b[39mFutureWarning\u001b[39;00m,\n\u001b[0;32m    309\u001b[0m         stacklevel\u001b[39m=\u001b[39mstacklevel,\n\u001b[0;32m    310\u001b[0m     )\n\u001b[1;32m--> 311\u001b[0m \u001b[39mreturn\u001b[39;00m func(\u001b[39m*\u001b[39;49margs, \u001b[39m*\u001b[39;49m\u001b[39m*\u001b[39;49mkwargs)\n",
            "File \u001b[1;32mc:\\Users\\AI_15\\AppData\\Local\\Programs\\Python\\Python38\\lib\\site-packages\\pandas\\io\\parsers\\readers.py:680\u001b[0m, in \u001b[0;36mread_csv\u001b[1;34m(filepath_or_buffer, sep, delimiter, header, names, index_col, usecols, squeeze, prefix, mangle_dupe_cols, dtype, engine, converters, true_values, false_values, skipinitialspace, skiprows, skipfooter, nrows, na_values, keep_default_na, na_filter, verbose, skip_blank_lines, parse_dates, infer_datetime_format, keep_date_col, date_parser, dayfirst, cache_dates, iterator, chunksize, compression, thousands, decimal, lineterminator, quotechar, quoting, doublequote, escapechar, comment, encoding, encoding_errors, dialect, error_bad_lines, warn_bad_lines, on_bad_lines, delim_whitespace, low_memory, memory_map, float_precision, storage_options)\u001b[0m\n\u001b[0;32m    665\u001b[0m kwds_defaults \u001b[39m=\u001b[39m _refine_defaults_read(\n\u001b[0;32m    666\u001b[0m     dialect,\n\u001b[0;32m    667\u001b[0m     delimiter,\n\u001b[1;32m   (...)\u001b[0m\n\u001b[0;32m    676\u001b[0m     defaults\u001b[39m=\u001b[39m{\u001b[39m\"\u001b[39m\u001b[39mdelimiter\u001b[39m\u001b[39m\"\u001b[39m: \u001b[39m\"\u001b[39m\u001b[39m,\u001b[39m\u001b[39m\"\u001b[39m},\n\u001b[0;32m    677\u001b[0m )\n\u001b[0;32m    678\u001b[0m kwds\u001b[39m.\u001b[39mupdate(kwds_defaults)\n\u001b[1;32m--> 680\u001b[0m \u001b[39mreturn\u001b[39;00m _read(filepath_or_buffer, kwds)\n",
            "File \u001b[1;32mc:\\Users\\AI_15\\AppData\\Local\\Programs\\Python\\Python38\\lib\\site-packages\\pandas\\io\\parsers\\readers.py:575\u001b[0m, in \u001b[0;36m_read\u001b[1;34m(filepath_or_buffer, kwds)\u001b[0m\n\u001b[0;32m    572\u001b[0m _validate_names(kwds\u001b[39m.\u001b[39mget(\u001b[39m\"\u001b[39m\u001b[39mnames\u001b[39m\u001b[39m\"\u001b[39m, \u001b[39mNone\u001b[39;00m))\n\u001b[0;32m    574\u001b[0m \u001b[39m# Create the parser.\u001b[39;00m\n\u001b[1;32m--> 575\u001b[0m parser \u001b[39m=\u001b[39m TextFileReader(filepath_or_buffer, \u001b[39m*\u001b[39;49m\u001b[39m*\u001b[39;49mkwds)\n\u001b[0;32m    577\u001b[0m \u001b[39mif\u001b[39;00m chunksize \u001b[39mor\u001b[39;00m iterator:\n\u001b[0;32m    578\u001b[0m     \u001b[39mreturn\u001b[39;00m parser\n",
            "File \u001b[1;32mc:\\Users\\AI_15\\AppData\\Local\\Programs\\Python\\Python38\\lib\\site-packages\\pandas\\io\\parsers\\readers.py:934\u001b[0m, in \u001b[0;36mTextFileReader.__init__\u001b[1;34m(self, f, engine, **kwds)\u001b[0m\n\u001b[0;32m    931\u001b[0m     \u001b[39mself\u001b[39m\u001b[39m.\u001b[39moptions[\u001b[39m\"\u001b[39m\u001b[39mhas_index_names\u001b[39m\u001b[39m\"\u001b[39m] \u001b[39m=\u001b[39m kwds[\u001b[39m\"\u001b[39m\u001b[39mhas_index_names\u001b[39m\u001b[39m\"\u001b[39m]\n\u001b[0;32m    933\u001b[0m \u001b[39mself\u001b[39m\u001b[39m.\u001b[39mhandles: IOHandles \u001b[39m|\u001b[39m \u001b[39mNone\u001b[39;00m \u001b[39m=\u001b[39m \u001b[39mNone\u001b[39;00m\n\u001b[1;32m--> 934\u001b[0m \u001b[39mself\u001b[39m\u001b[39m.\u001b[39m_engine \u001b[39m=\u001b[39m \u001b[39mself\u001b[39;49m\u001b[39m.\u001b[39;49m_make_engine(f, \u001b[39mself\u001b[39;49m\u001b[39m.\u001b[39;49mengine)\n",
            "File \u001b[1;32mc:\\Users\\AI_15\\AppData\\Local\\Programs\\Python\\Python38\\lib\\site-packages\\pandas\\io\\parsers\\readers.py:1218\u001b[0m, in \u001b[0;36mTextFileReader._make_engine\u001b[1;34m(self, f, engine)\u001b[0m\n\u001b[0;32m   1214\u001b[0m     mode \u001b[39m=\u001b[39m \u001b[39m\"\u001b[39m\u001b[39mrb\u001b[39m\u001b[39m\"\u001b[39m\n\u001b[0;32m   1215\u001b[0m \u001b[39m# error: No overload variant of \"get_handle\" matches argument types\u001b[39;00m\n\u001b[0;32m   1216\u001b[0m \u001b[39m# \"Union[str, PathLike[str], ReadCsvBuffer[bytes], ReadCsvBuffer[str]]\"\u001b[39;00m\n\u001b[0;32m   1217\u001b[0m \u001b[39m# , \"str\", \"bool\", \"Any\", \"Any\", \"Any\", \"Any\", \"Any\"\u001b[39;00m\n\u001b[1;32m-> 1218\u001b[0m \u001b[39mself\u001b[39m\u001b[39m.\u001b[39mhandles \u001b[39m=\u001b[39m get_handle(  \u001b[39m# type: ignore[call-overload]\u001b[39;49;00m\n\u001b[0;32m   1219\u001b[0m     f,\n\u001b[0;32m   1220\u001b[0m     mode,\n\u001b[0;32m   1221\u001b[0m     encoding\u001b[39m=\u001b[39;49m\u001b[39mself\u001b[39;49m\u001b[39m.\u001b[39;49moptions\u001b[39m.\u001b[39;49mget(\u001b[39m\"\u001b[39;49m\u001b[39mencoding\u001b[39;49m\u001b[39m\"\u001b[39;49m, \u001b[39mNone\u001b[39;49;00m),\n\u001b[0;32m   1222\u001b[0m     compression\u001b[39m=\u001b[39;49m\u001b[39mself\u001b[39;49m\u001b[39m.\u001b[39;49moptions\u001b[39m.\u001b[39;49mget(\u001b[39m\"\u001b[39;49m\u001b[39mcompression\u001b[39;49m\u001b[39m\"\u001b[39;49m, \u001b[39mNone\u001b[39;49;00m),\n\u001b[0;32m   1223\u001b[0m     memory_map\u001b[39m=\u001b[39;49m\u001b[39mself\u001b[39;49m\u001b[39m.\u001b[39;49moptions\u001b[39m.\u001b[39;49mget(\u001b[39m\"\u001b[39;49m\u001b[39mmemory_map\u001b[39;49m\u001b[39m\"\u001b[39;49m, \u001b[39mFalse\u001b[39;49;00m),\n\u001b[0;32m   1224\u001b[0m     is_text\u001b[39m=\u001b[39;49mis_text,\n\u001b[0;32m   1225\u001b[0m     errors\u001b[39m=\u001b[39;49m\u001b[39mself\u001b[39;49m\u001b[39m.\u001b[39;49moptions\u001b[39m.\u001b[39;49mget(\u001b[39m\"\u001b[39;49m\u001b[39mencoding_errors\u001b[39;49m\u001b[39m\"\u001b[39;49m, \u001b[39m\"\u001b[39;49m\u001b[39mstrict\u001b[39;49m\u001b[39m\"\u001b[39;49m),\n\u001b[0;32m   1226\u001b[0m     storage_options\u001b[39m=\u001b[39;49m\u001b[39mself\u001b[39;49m\u001b[39m.\u001b[39;49moptions\u001b[39m.\u001b[39;49mget(\u001b[39m\"\u001b[39;49m\u001b[39mstorage_options\u001b[39;49m\u001b[39m\"\u001b[39;49m, \u001b[39mNone\u001b[39;49;00m),\n\u001b[0;32m   1227\u001b[0m )\n\u001b[0;32m   1228\u001b[0m \u001b[39massert\u001b[39;00m \u001b[39mself\u001b[39m\u001b[39m.\u001b[39mhandles \u001b[39mis\u001b[39;00m \u001b[39mnot\u001b[39;00m \u001b[39mNone\u001b[39;00m\n\u001b[0;32m   1229\u001b[0m f \u001b[39m=\u001b[39m \u001b[39mself\u001b[39m\u001b[39m.\u001b[39mhandles\u001b[39m.\u001b[39mhandle\n",
            "File \u001b[1;32mc:\\Users\\AI_15\\AppData\\Local\\Programs\\Python\\Python38\\lib\\site-packages\\pandas\\io\\common.py:786\u001b[0m, in \u001b[0;36mget_handle\u001b[1;34m(path_or_buf, mode, encoding, compression, memory_map, is_text, errors, storage_options)\u001b[0m\n\u001b[0;32m    781\u001b[0m \u001b[39melif\u001b[39;00m \u001b[39misinstance\u001b[39m(handle, \u001b[39mstr\u001b[39m):\n\u001b[0;32m    782\u001b[0m     \u001b[39m# Check whether the filename is to be opened in binary mode.\u001b[39;00m\n\u001b[0;32m    783\u001b[0m     \u001b[39m# Binary mode does not support 'encoding' and 'newline'.\u001b[39;00m\n\u001b[0;32m    784\u001b[0m     \u001b[39mif\u001b[39;00m ioargs\u001b[39m.\u001b[39mencoding \u001b[39mand\u001b[39;00m \u001b[39m\"\u001b[39m\u001b[39mb\u001b[39m\u001b[39m\"\u001b[39m \u001b[39mnot\u001b[39;00m \u001b[39min\u001b[39;00m ioargs\u001b[39m.\u001b[39mmode:\n\u001b[0;32m    785\u001b[0m         \u001b[39m# Encoding\u001b[39;00m\n\u001b[1;32m--> 786\u001b[0m         handle \u001b[39m=\u001b[39m \u001b[39mopen\u001b[39;49m(\n\u001b[0;32m    787\u001b[0m             handle,\n\u001b[0;32m    788\u001b[0m             ioargs\u001b[39m.\u001b[39;49mmode,\n\u001b[0;32m    789\u001b[0m             encoding\u001b[39m=\u001b[39;49mioargs\u001b[39m.\u001b[39;49mencoding,\n\u001b[0;32m    790\u001b[0m             errors\u001b[39m=\u001b[39;49merrors,\n\u001b[0;32m    791\u001b[0m             newline\u001b[39m=\u001b[39;49m\u001b[39m\"\u001b[39;49m\u001b[39m\"\u001b[39;49m,\n\u001b[0;32m    792\u001b[0m         )\n\u001b[0;32m    793\u001b[0m     \u001b[39melse\u001b[39;00m:\n\u001b[0;32m    794\u001b[0m         \u001b[39m# Binary mode\u001b[39;00m\n\u001b[0;32m    795\u001b[0m         handle \u001b[39m=\u001b[39m \u001b[39mopen\u001b[39m(handle, ioargs\u001b[39m.\u001b[39mmode)\n",
            "\u001b[1;31mFileNotFoundError\u001b[0m: [Errno 2] No such file or directory: '/content/counterfactually-augmented-data/sentiment/new/test.tsv'"
          ]
        }
      ],
      "source": [
        "# We will test our classifiers on the counterfactually augmented test set\n",
        "\n",
        "cf_test = pd.read_csv('/content/counterfactually-augmented-data/sentiment/new/test.tsv', sep='\\t', header=0)\n",
        "#cf_test = pd.read_csv('/content/counterfactually-augmented-data/sentiment/combined/test.tsv', sep='\\t', header=0)\n",
        "\n",
        "# We'll create a Dataset for each split of the data:\n",
        "cf_test_dataset = IMDBDataset(cf_test)\n",
        "\n",
        "# We'll create a Dataloader for each split of the data. \n",
        "cf_test_dataloader = DataLoader(\n",
        "        cf_test_dataset, shuffle=False, collate_fn=collate_batch, batch_size=BATCH_SIZE\n",
        "    )\n",
        "\n",
        "cf_val = pd.read_csv('/content/counterfactually-augmented-data/sentiment/new/dev.tsv', sep='\\t', header=0)\n",
        "#cf_test = pd.read_csv('/content/counterfactually-augmented-data/sentiment/combined/test.tsv', sep='\\t', header=0)\n",
        "\n",
        "# We'll create a Dataset for each split of the data:\n",
        "cf_val_dataset = IMDBDataset(cf_val)\n",
        "\n",
        "# We'll create a Dataloader for each split of the data. \n",
        "cf_val_dataloader = DataLoader(\n",
        "        cf_val_dataset, shuffle=False, collate_fn=collate_batch, batch_size=BATCH_SIZE\n",
        "    )\n"
      ]
    },
    {
      "cell_type": "code",
      "execution_count": null,
      "metadata": {
        "colab": {
          "base_uri": "https://localhost:8080/"
        },
        "id": "JwrHBQFDTZvm",
        "outputId": "9aa2b9c6-1fa4-45b0-eb46-bf5f23b294f5"
      },
      "outputs": [
        {
          "ename": "",
          "evalue": "",
          "output_type": "error",
          "traceback": [
            "\u001b[1;31m'Python 3.7.13 ('samsung_ai')'(으)로 셀을 실행하려면 ipykernel 패키지가 필요합니다.\n",
            "다음 명령어를 실행하여 Python 환경에 'ipykernel'을(를) 설치합니다. \r\n",
            " 명령: 'conda install -n samsung_ai ipykernel --update-deps --force-reinstall'"
          ]
        }
      ],
      "source": [
        "# We will also test on an out-of-domain dataset, SST2 Movie Reviews from GLUE\n",
        "\n",
        "# First we should convert the data to the format we've been using:\n",
        "def convert_sst2():\n",
        "\n",
        "  converted = pd.DataFrame(columns=[\"Sentiment\",\"Text\"])\n",
        "\n",
        "  for item in tqdm.tqdm(sst2_dataset['validation'], desc='Converting SST2 validation data'):\n",
        "    #print(item)\n",
        "    if item['label'] == 1:\n",
        "      label = 'Positive'\n",
        "    elif item['label'] == 0:\n",
        "      label = 'Negative'\n",
        "    converted.loc[len(converted)] = [label, item['sentence']]\n",
        "    #1\n",
        "  return converted\n",
        "\n",
        "sst2_val = convert_sst2()\n",
        "# We'll create a Dataset for each split of the data:\n",
        "sst2_val_dataset = IMDBDataset(sst2_val)\n",
        "\n",
        "# We'll create a Dataloader for each split of the data. \n",
        "sst2_val_dataloader = DataLoader(\n",
        "        sst2_val_dataset, shuffle=False, collate_fn=collate_batch, batch_size=BATCH_SIZE\n",
        "    )\n"
      ]
    },
    {
      "cell_type": "code",
      "execution_count": null,
      "metadata": {
        "colab": {
          "base_uri": "https://localhost:8080/"
        },
        "id": "4fd8y0gwl776",
        "outputId": "01ffd050-fbab-49dc-bd39-298124d68798"
      },
      "outputs": [
        {
          "ename": "",
          "evalue": "",
          "output_type": "error",
          "traceback": [
            "\u001b[1;31m'Python 3.7.13 ('samsung_ai')'(으)로 셀을 실행하려면 ipykernel 패키지가 필요합니다.\n",
            "다음 명령어를 실행하여 Python 환경에 'ipykernel'을(를) 설치합니다. \r\n",
            " 명령: 'conda install -n samsung_ai ipykernel --update-deps --force-reinstall'"
          ]
        }
      ],
      "source": [
        "# Let's see some samples from SST2\n",
        "for ii in range(5):\n",
        "  print(sst2_val_dataset[ii])"
      ]
    },
    {
      "cell_type": "code",
      "execution_count": null,
      "metadata": {
        "colab": {
          "base_uri": "https://localhost:8080/"
        },
        "id": "c5ZViRjYoq4Q",
        "outputId": "8020612d-727c-4314-b98d-2675b07e38bd"
      },
      "outputs": [
        {
          "ename": "",
          "evalue": "",
          "output_type": "error",
          "traceback": [
            "\u001b[1;31m'Python 3.7.13 ('samsung_ai')'(으)로 셀을 실행하려면 ipykernel 패키지가 필요합니다.\n",
            "다음 명령어를 실행하여 Python 환경에 'ipykernel'을(를) 설치합니다. \r\n",
            " 명령: 'conda install -n samsung_ai ipykernel --update-deps --force-reinstall'"
          ]
        }
      ],
      "source": [
        "# What do samples from IMDB look like?\n",
        "sample_ids = random.sample(range(len(orig_test_dataset)), 5)\n",
        "for ii in sample_ids:\n",
        "  print(orig_test_dataset[ii])"
      ]
    },
    {
      "cell_type": "code",
      "execution_count": null,
      "metadata": {
        "colab": {
          "base_uri": "https://localhost:8080/"
        },
        "id": "coU-2xaxTcGr",
        "outputId": "98ad3e0b-9435-4dc3-c5ea-2278237d5c2a"
      },
      "outputs": [
        {
          "ename": "",
          "evalue": "",
          "output_type": "error",
          "traceback": [
            "\u001b[1;31m'Python 3.7.13 ('samsung_ai')'(으)로 셀을 실행하려면 ipykernel 패키지가 필요합니다.\n",
            "다음 명령어를 실행하여 Python 환경에 'ipykernel'을(를) 설치합니다. \r\n",
            " 명령: 'conda install -n samsung_ai ipykernel --update-deps --force-reinstall'"
          ]
        }
      ],
      "source": [
        "# Let's compare the two classifiers\n",
        "\n",
        "for dataset_name, evaluation_dataloader in [('IMDB Original', orig_test_dataloader), ('IMDB Counterfactual', cf_test_dataloader), ('GLUE SST2 Movie Reviews', sst2_val_dataloader)]:\n",
        "  _, c1_acc = evaluate(bert_classifier1, evaluation_dataloader, ckpt_name='classifier1')\n",
        "  _, c2_acc = evaluate(bert_classifier2, evaluation_dataloader, ckpt_name='classifier2')\n",
        "  print(f\"\\n{dataset_name} accuracy - Classifier 1: {round(c1_acc,3)}, Classifier 2: {round(c2_acc,3)}\\n\")\n"
      ]
    },
    {
      "cell_type": "code",
      "execution_count": null,
      "metadata": {
        "id": "aOOMOP_UJVJG"
      },
      "outputs": [
        {
          "ename": "",
          "evalue": "",
          "output_type": "error",
          "traceback": [
            "\u001b[1;31m'Python 3.7.13 ('samsung_ai')'(으)로 셀을 실행하려면 ipykernel 패키지가 필요합니다.\n",
            "다음 명령어를 실행하여 Python 환경에 'ipykernel'을(를) 설치합니다. \r\n",
            " 명령: 'conda install -n samsung_ai ipykernel --update-deps --force-reinstall'"
          ]
        }
      ],
      "source": [
        "# We can also load our pretrained ckpts\n",
        "from google.colab import drive\n",
        "drive.mount('/content/drive')\n",
        "#drive_url=\"https://drive.google.com/drive/folders/15DtQTuOHeG-pwGsQ1PFUgiTg2Hj7CcQ9?usp=sharing\"\n",
        "!ls /content/drive/MyDrive/jul23_tutorial/\n",
        "\n",
        "!rm \"./classifier1_best_model_state.bin\"\n",
        "!rm \"./classifier2_best_model_state.bin\"\n",
        "!cp \"/content/drive/MyDrive/jul23_tutorial/classifier1_best_model_state.bin\" \"./\"\n",
        "!cp \"/content/drive/MyDrive/jul23_tutorial/classifier2_best_model_state.bin\" \"./\""
      ]
    },
    {
      "cell_type": "code",
      "execution_count": 78,
      "metadata": {
        "id": "kBbP_G3WNEIS"
      },
      "outputs": [
        {
          "ename": "NameError",
          "evalue": "name 'cf_test_dataloader' is not defined",
          "output_type": "error",
          "traceback": [
            "\u001b[1;31m---------------------------------------------------------------------------\u001b[0m",
            "\u001b[1;31mNameError\u001b[0m                                 Traceback (most recent call last)",
            "\u001b[1;32mc:\\Users\\AI_15\\momo\\python_prj\\2022_AI_Expert\\NLP_bert\\[7_29_22]_BERT_counterfactual.ipynb 셀 125\u001b[0m in \u001b[0;36m<cell line: 3>\u001b[1;34m()\u001b[0m\n\u001b[0;32m      <a href='vscode-notebook-cell:/c%3A/Users/AI_15/momo/python_prj/2022_AI_Expert/NLP_bert/%5B7_29_22%5D_BERT_counterfactual.ipynb#ch0000124?line=0'>1</a>\u001b[0m \u001b[39m# Let's compare the two classifiers\u001b[39;00m\n\u001b[1;32m----> <a href='vscode-notebook-cell:/c%3A/Users/AI_15/momo/python_prj/2022_AI_Expert/NLP_bert/%5B7_29_22%5D_BERT_counterfactual.ipynb#ch0000124?line=2'>3</a>\u001b[0m \u001b[39mfor\u001b[39;00m dataset_name, evaluation_dataloader \u001b[39min\u001b[39;00m [(\u001b[39m'\u001b[39m\u001b[39mIMDB Original\u001b[39m\u001b[39m'\u001b[39m, orig_test_dataloader), (\u001b[39m'\u001b[39m\u001b[39mIMDB Counterfactual\u001b[39m\u001b[39m'\u001b[39m, cf_test_dataloader), (\u001b[39m'\u001b[39m\u001b[39mGLUE SST2 Movie Reviews\u001b[39m\u001b[39m'\u001b[39m, sst2_val_dataloader)]:\n\u001b[0;32m      <a href='vscode-notebook-cell:/c%3A/Users/AI_15/momo/python_prj/2022_AI_Expert/NLP_bert/%5B7_29_22%5D_BERT_counterfactual.ipynb#ch0000124?line=3'>4</a>\u001b[0m   _, c1_acc \u001b[39m=\u001b[39m evaluate(bert_classifier1, evaluation_dataloader, ckpt_name\u001b[39m=\u001b[39m\u001b[39m'\u001b[39m\u001b[39mclassifier1\u001b[39m\u001b[39m'\u001b[39m)\n\u001b[0;32m      <a href='vscode-notebook-cell:/c%3A/Users/AI_15/momo/python_prj/2022_AI_Expert/NLP_bert/%5B7_29_22%5D_BERT_counterfactual.ipynb#ch0000124?line=4'>5</a>\u001b[0m   _, c2_acc \u001b[39m=\u001b[39m evaluate(bert_classifier2, evaluation_dataloader, ckpt_name\u001b[39m=\u001b[39m\u001b[39m'\u001b[39m\u001b[39mclassifier2\u001b[39m\u001b[39m'\u001b[39m)\n",
            "\u001b[1;31mNameError\u001b[0m: name 'cf_test_dataloader' is not defined"
          ]
        }
      ],
      "source": [
        "# Let's compare the two classifiers\n",
        "\n",
        "for dataset_name, evaluation_dataloader in [('IMDB Original', orig_test_dataloader), ('IMDB Counterfactual', cf_test_dataloader), ('GLUE SST2 Movie Reviews', sst2_val_dataloader)]:\n",
        "  _, c1_acc = evaluate(bert_classifier1, evaluation_dataloader, ckpt_name='classifier1')\n",
        "  _, c2_acc = evaluate(bert_classifier2, evaluation_dataloader, ckpt_name='classifier2')\n",
        "  print(f\"{dataset_name} accuracy - Classifier1: {c1_acc}, Classifier2: {c2_acc}\")\n"
      ]
    },
    {
      "cell_type": "markdown",
      "metadata": {
        "id": "mdQ7-ylCj8Gd"
      },
      "source": [
        "Of the two classifiers, Classifier 2 (the one trained with counterfactually augmented data) seems to perform better on out-of-domain data!"
      ]
    },
    {
      "cell_type": "markdown",
      "metadata": {
        "id": "lR1Eq5fvEwGn"
      },
      "source": [
        "## Predictions on Raw Text\n",
        "\n",
        "Let's use our models to classify the examples from before:"
      ]
    },
    {
      "cell_type": "code",
      "execution_count": null,
      "metadata": {
        "id": "uOBSueFyF5Fs"
      },
      "outputs": [
        {
          "ename": "",
          "evalue": "",
          "output_type": "error",
          "traceback": [
            "\u001b[1;31m'Python 3.7.13 ('samsung_ai')'(으)로 셀을 실행하려면 ipykernel 패키지가 필요합니다.\n",
            "다음 명령어를 실행하여 Python 환경에 'ipykernel'을(를) 설치합니다. \r\n",
            " 명령: 'conda install -n samsung_ai ipykernel --update-deps --force-reinstall'"
          ]
        }
      ],
      "source": [
        "def predict(model, val_dataloader, ckpt_name=None):\n",
        "    \"\"\"Use a trained model to classify the sentiment of a text.\n",
        "    \"\"\"\n",
        "    # Put the model into the evaluation mode. The dropout layers are disabled during\n",
        "    # the test time.\n",
        "    if not ckpt_name is None:\n",
        "      model.load_state_dict(torch.load(f\"{ckpt_name}_best_model_state.bin\"))\n",
        "      print(f\"Loaded weights from {ckpt_name}_best_model_state.bin\")\n",
        "    model.eval()\n",
        "\n",
        "    # Tracking variables\n",
        "    val_accuracy = []\n",
        "    val_loss = []\n",
        "\n",
        "    # For each batch in our validation set...\n",
        "    for batch in val_dataloader:\n",
        "        # Load batch to GPU\n",
        "        #b_input_ids, b_attn_mask, b_labels = tuple(t.to(device) for t in batch)\n",
        "        b_input_ids = batch['input_ids'].to(device)\n",
        "        b_attn_mask = batch['attention_mask'].to(device)\n",
        "        b_labels = batch['targets'].to(device)\n",
        "\n",
        "        # Compute logits\n",
        "        with torch.no_grad():\n",
        "            logits = model(b_input_ids, b_attn_mask)\n",
        "\n",
        "        # Compute loss\n",
        "        loss = loss_fn(logits, b_labels)\n",
        "        val_loss.append(loss.item())\n",
        "\n",
        "        # Get the predictions\n",
        "        preds = torch.argmax(logits, dim=1).flatten()\n",
        "\n",
        "        # Calculate the accuracy rate\n",
        "        accuracy = (preds == b_labels).cpu().numpy().mean() * 100\n",
        "        val_accuracy.append(accuracy)\n",
        "\n",
        "    # Compute the average accuracy and loss over the validation set.\n",
        "    val_loss = np.mean(val_loss)\n",
        "    val_accuracy = np.mean(val_accuracy)\n",
        "\n",
        "    return val_loss, val_accuracy"
      ]
    },
    {
      "cell_type": "code",
      "execution_count": null,
      "metadata": {
        "id": "ANDe78oEGNXb"
      },
      "outputs": [
        {
          "ename": "",
          "evalue": "",
          "output_type": "error",
          "traceback": [
            "\u001b[1;31m'Python 3.7.13 ('samsung_ai')'(으)로 셀을 실행하려면 ipykernel 패키지가 필요합니다.\n",
            "다음 명령어를 실행하여 Python 환경에 'ipykernel'을(를) 설치합니다. \r\n",
            " 명령: 'conda install -n samsung_ai ipykernel --update-deps --force-reinstall'"
          ]
        }
      ],
      "source": [
        "# We'll tokenize the text directly\n",
        "\n",
        "def tokenization_encode(text):\n",
        "\n",
        "  encoded = tokenizer.encode_plus(\n",
        "    text,\n",
        "    max_length=MAX_LEN,\n",
        "    add_special_tokens=True,\n",
        "    return_token_type_ids=False,\n",
        "    pad_to_max_length=True,\n",
        "    return_attention_mask=True,\n",
        "    return_tensors='pt',\n",
        "  )\n",
        "\n",
        "  return encoded"
      ]
    },
    {
      "cell_type": "code",
      "execution_count": null,
      "metadata": {
        "id": "SI7q1_-sGOJZ"
      },
      "outputs": [
        {
          "ename": "",
          "evalue": "",
          "output_type": "error",
          "traceback": [
            "\u001b[1;31m'Python 3.7.13 ('samsung_ai')'(으)로 셀을 실행하려면 ipykernel 패키지가 필요합니다.\n",
            "다음 명령어를 실행하여 Python 환경에 'ipykernel'을(를) 설치합니다. \r\n",
            " 명령: 'conda install -n samsung_ai ipykernel --update-deps --force-reinstall'"
          ]
        }
      ],
      "source": [
        "# Let's define the inference function\n",
        "\n",
        "def inference(ckpt_name, model, text):\n",
        "\n",
        "  model.load_state_dict(torch.load(f\"{ckpt_name}_best_model_state.bin\"))\n",
        "  print(f\"Loaded weights from {ckpt_name}_best_model_state.bin\")\n",
        "  model.eval()\n",
        "\n",
        "  encoded = tokenization_encode(text)\n",
        "\n",
        "  input_ids = encoded['input_ids'].to(device)\n",
        "  attention_mask = encoded['attention_mask'].to(device)\n",
        "\n",
        "  with torch.no_grad():\n",
        "    logits = model(input_ids, attention_mask)\n",
        "\n",
        "  # Get the prediction\n",
        "  pred = torch.argmax(logits, dim=1).flatten()\n",
        "\n",
        "  #_, prediction = torch.max(output, dim=1)\n",
        "\n",
        "  if pred.cpu().item() == 0:\n",
        "    pred = 'Negative'\n",
        "  elif pred.cpu().item() == 1:\n",
        "    pred = 'Positive'\n",
        "\n",
        "  return pred"
      ]
    },
    {
      "cell_type": "code",
      "execution_count": null,
      "metadata": {
        "colab": {
          "base_uri": "https://localhost:8080/"
        },
        "id": "zHdPZr60-0c_",
        "outputId": "f58b243e-0fb8-4f55-c36f-ead6ac427896"
      },
      "outputs": [
        {
          "ename": "",
          "evalue": "",
          "output_type": "error",
          "traceback": [
            "\u001b[1;31m'Python 3.7.13 ('samsung_ai')'(으)로 셀을 실행하려면 ipykernel 패키지가 필요합니다.\n",
            "다음 명령어를 실행하여 Python 환경에 'ipykernel'을(를) 설치합니다. \r\n",
            " 명령: 'conda install -n samsung_ai ipykernel --update-deps --force-reinstall'"
          ]
        }
      ],
      "source": [
        "example_text1 = \"Nolan paints an inky portrait of a city falling apart, and in a movie rife with two-faced masquerading freaks, the Joker is merely the least conflicted of the bunch. Ledger's work is improbably droll, impossibly creepy, meticulously detailed. See for yourself.\"\n",
        "example_text2 = \"My favorite pits Bale's Batman and his \\\"Bat-Pod,\\\" the world's deadliest, most awesome motorcycle, against Ledger's Joker in an 18-wheeler. The setting is Chicago's LaSalle Street canyon, and what I love about the scene -- aside from its eerie, 3 a.m. vibe -- is Nolan's reliance on good old-fashioned stunt work.\"\n",
        "example_text3 = \"This movie is just so flat and claustrophobic... in those moments when a little flair is called for it feels incongruous - whenever Anne Hathaway would smirk off one of her half-hearted one-liners I felt as if I'd switched channels for a second. It's too bad because Hathaway wasn't bad and fit Selina into the Nolan world better than she might've, but any stabs at lightness here just had no place.\"\n",
        "example_text4 = \"As befits the saga's engagement with the economics of Gotham City, a great deal of topical material floats about here, insufficiently digested.\"\n",
        "example_text5 = \"Nolan has become hooked on the grandiose, at times even the biblical. For anyone who admired the witty playfulness of his early films, it's a dark night indeed.\"\n",
        "\n",
        "for text in [example_text1, example_text2, example_text3, example_text4, example_text5]:\n",
        "  c1_pred = inference('classifier1', bert_classifier1, text)\n",
        "  c2_pred = inference('classifier2', bert_classifier2, text)\n",
        "  print(f'\\n## Review text ##\\n{text}')\n",
        "  print(f'\\nClassifier 1 Prediction : {c1_pred}')\n",
        "  print(f'Classifier 2 Prediction : {c2_pred}')"
      ]
    },
    {
      "cell_type": "code",
      "execution_count": null,
      "metadata": {
        "id": "-W-QYpGvsVZD"
      },
      "outputs": [
        {
          "ename": "",
          "evalue": "",
          "output_type": "error",
          "traceback": [
            "\u001b[1;31m'Python 3.7.13 ('samsung_ai')'(으)로 셀을 실행하려면 ipykernel 패키지가 필요합니다.\n",
            "다음 명령어를 실행하여 Python 환경에 'ipykernel'을(를) 설치합니다. \r\n",
            " 명령: 'conda install -n samsung_ai ipykernel --update-deps --force-reinstall'"
          ]
        }
      ],
      "source": [
        "import gc\n",
        "gc.collect()\n",
        "torch.cuda.empty_cache()\n",
        "!nvidia-smi"
      ]
    },
    {
      "cell_type": "code",
      "execution_count": null,
      "metadata": {
        "colab": {
          "base_uri": "https://localhost:8080/",
          "height": 267,
          "referenced_widgets": [
            "d5811c974c33480eb37b4ea40c6d7734",
            "b0b10c6e2f594359ab0d33ed19efe887",
            "7d5edbb3af8d455fa55935c500da2fd2",
            "36ce09974eeb4888a544d0b068f64d1d",
            "71fc9d87b924494dba83251ddf471ca0",
            "d123f3fa564c4ac8aec08b39246cdbac",
            "15bee5f3bdae4c12be3ddca1661aaa46",
            "7936c9094d1b46a4a7b0d4fdd72c7472",
            "4c8a04d3a6ae4dfa97fb78ef3b3b3e7c",
            "3728b2feb91f4ed0bc9186d5ce5cbaea",
            "ad3ba4773d704a1d91f71c783e73a68a",
            "56b7e9f7ef214b6cadb0c8f63b799d04",
            "34f8ba542e6c43c0931f04fdd730733d",
            "c5bafee7e7284e9ab9d03c2af60b2ca1",
            "e3ebf928eb29456daf79959415e959d0",
            "96ddd8f7560a4cd7acd63703a3de0536",
            "9b4d9082e9eb4d648977a0723ba0e318",
            "2475ecbd86ca47ef95389845b82510eb",
            "f007fce1611e4fd6aa5feec62bf52a72",
            "41a6a7a9f48e454f814b8a39bb1856b3",
            "1d2446c79ca045e88a2b44378fbc7a47",
            "3db8b9b22f314442b2229c5fbf5a213f",
            "dc14eebeab5d410fbdc7d5a9aa59e6b7",
            "ba2dca5fa737470982de7bc62cd33632",
            "0708f6b18a954e2bb1927ad44f2b81fd",
            "e3ef7c7d57304a75935cc5e9521b621e",
            "473f6f4787d34bdaad8db531eed114d0",
            "f66a4351ebba48af8ee04a7c50dbc430",
            "c3c8af9864974e8caa77af76003e554f",
            "74b6b163ca654d94a68c4b1b96a25a02",
            "22d9f557e19d4e75a659428904c4f7b6",
            "65a2b2dc476c494a9ffd33e7caf6acc3",
            "ada4b754de2a4ca7b011d4bb1624380c",
            "0a14286a4c8f443599150ad252511721",
            "e6a9e5256ef543a9bafd1f8cd9336f09",
            "73514ead48f54c6987b04598e0d051b2",
            "14a000fd1fdb48debd833c44f19a126a",
            "b6803367fde9488cbbda33ac50e779d8",
            "fb0d301822514797ab3a4e4671087c08",
            "71913544fdc44ebca8025569135542f4"
          ]
        },
        "id": "lfbKt7IFruZc",
        "outputId": "7ebef3cf-99fa-4d53-fde6-b586c13b28e2"
      },
      "outputs": [
        {
          "ename": "",
          "evalue": "",
          "output_type": "error",
          "traceback": [
            "\u001b[1;31m'Python 3.7.13 ('samsung_ai')'(으)로 셀을 실행하려면 ipykernel 패키지가 필요합니다.\n",
            "다음 명령어를 실행하여 Python 환경에 'ipykernel'을(를) 설치합니다. \r\n",
            " 명령: 'conda install -n samsung_ai ipykernel --update-deps --force-reinstall'"
          ]
        }
      ],
      "source": [
        "# Let's try using another pre-trained model from Huggingface\n",
        "from transformers import pipeline\n",
        "model_path = \"cardiffnlp/twitter-roberta-base-sentiment\"\n",
        "sentiment_task = pipeline(\"sentiment-analysis\", model=model_path, tokenizer=model_path)"
      ]
    },
    {
      "cell_type": "code",
      "execution_count": null,
      "metadata": {
        "colab": {
          "base_uri": "https://localhost:8080/"
        },
        "id": "41bGWBiptF8S",
        "outputId": "7084ac38-1496-4ad3-eb0e-58e29613534d"
      },
      "outputs": [
        {
          "ename": "",
          "evalue": "",
          "output_type": "error",
          "traceback": [
            "\u001b[1;31m'Python 3.7.13 ('samsung_ai')'(으)로 셀을 실행하려면 ipykernel 패키지가 필요합니다.\n",
            "다음 명령어를 실행하여 Python 환경에 'ipykernel'을(를) 설치합니다. \r\n",
            " 명령: 'conda install -n samsung_ai ipykernel --update-deps --force-reinstall'"
          ]
        }
      ],
      "source": [
        "# Labels: 0 -> Negative; 1 -> Neutral; 2 -> Positive\n",
        "for text in [example_text1, example_text2, example_text3, example_text4, example_text5]:\n",
        "  res = sentiment_task(text)[0]\n",
        "  if res['label'] == 'LABEL_0':\n",
        "    label = 'Negative'\n",
        "  elif res['label'] == 'LABEL_1':\n",
        "    label = 'Neutral'\n",
        "  elif res['label'] == 'LABEL_2':\n",
        "    label = 'Positive'\n",
        "  print(f\"Text: {text[:200]}\")\n",
        "  print(f\"Label: {label}, Score: {round(res['score'],3)}\\n\")"
      ]
    },
    {
      "cell_type": "code",
      "execution_count": null,
      "metadata": {
        "id": "evSRqG1xu5V1"
      },
      "outputs": [
        {
          "ename": "",
          "evalue": "",
          "output_type": "error",
          "traceback": [
            "\u001b[1;31m'Python 3.7.13 ('samsung_ai')'(으)로 셀을 실행하려면 ipykernel 패키지가 필요합니다.\n",
            "다음 명령어를 실행하여 Python 환경에 'ipykernel'을(를) 설치합니다. \r\n",
            " 명령: 'conda install -n samsung_ai ipykernel --update-deps --force-reinstall'"
          ]
        }
      ],
      "source": [
        "# https://huggingface.co/bigscience/T0pp"
      ]
    },
    {
      "cell_type": "markdown",
      "metadata": {
        "id": "PVhwzq7bpPRl"
      },
      "source": [
        "## Summary\n",
        "\n",
        "Nice job! You learned how to use BERT for sentiment analysis. You built a custom classifier using the Hugging Face library and trained it on our app reviews dataset!\n",
        "\n",
        "- [Read the tutorial](https://www.curiousily.com/posts/sentiment-analysis-with-bert-and-hugging-face-using-pytorch-and-python/)\n",
        "- [Run the notebook in your browser (Google Colab)](https://colab.research.google.com/drive/1PHv-IRLPCtv7oTcIGbsgZHqrB5LPvB7S)\n",
        "- [Read the `Getting Things Done with Pytorch` book](https://github.com/curiousily/Getting-Things-Done-with-Pytorch)\n",
        "\n",
        "You learned how to:\n",
        "\n",
        "- Intuitively understand what BERT is\n",
        "- Preprocess text data for BERT and build PyTorch Dataset (tokenization, attention masks, and padding)\n",
        "- Use Transfer Learning to build Sentiment Classifier using the Transformers library by Hugging Face\n",
        "- Evaluate the model on test data\n",
        "- Predict sentiment on raw text\n",
        "\n",
        "Next, we'll learn how to deploy our trained model behind a REST API and build a simple web app to access it."
      ]
    },
    {
      "cell_type": "markdown",
      "metadata": {
        "id": "Wf39tauBa2V2"
      },
      "source": [
        "## References\n",
        "\n",
        "- [BERT: Pre-training of Deep Bidirectional Transformers for Language Understanding](https://arxiv.org/abs/1810.04805)\n",
        "- [L11 Language Models - Alec Radford (OpenAI)](https://www.youtube.com/watch?v=BnpB3GrpsfM)\n",
        "- [The Illustrated BERT, ELMo, and co.](https://jalammar.github.io/illustrated-bert/)\n",
        "- [BERT Fine-Tuning Tutorial with PyTorch](https://mccormickml.com/2019/07/22/BERT-fine-tuning/)\n",
        "- [How to Fine-Tune BERT for Text Classification?](https://arxiv.org/pdf/1905.05583.pdf)\n",
        "- [Huggingface Transformers](https://huggingface.co/transformers/)\n",
        "- [BERT Explained: State of the art language model for NLP](https://towardsdatascience.com/bert-explained-state-of-the-art-language-model-for-nlp-f8b21a9b6270)"
      ]
    },
    {
      "cell_type": "code",
      "execution_count": null,
      "metadata": {
        "id": "xGThhmCYEAYe"
      },
      "outputs": [
        {
          "ename": "",
          "evalue": "",
          "output_type": "error",
          "traceback": [
            "\u001b[1;31m'Python 3.7.13 ('samsung_ai')'(으)로 셀을 실행하려면 ipykernel 패키지가 필요합니다.\n",
            "다음 명령어를 실행하여 Python 환경에 'ipykernel'을(를) 설치합니다. \r\n",
            " 명령: 'conda install -n samsung_ai ipykernel --update-deps --force-reinstall'"
          ]
        }
      ],
      "source": []
    }
  ],
  "metadata": {
    "accelerator": "GPU",
    "colab": {
      "collapsed_sections": [
        "wmj22-TcZMef",
        "9aHyGuTFgyPO"
      ],
      "machine_shape": "hm",
      "name": "[7/29/22] BERT counterfactual.ipynb",
      "provenance": []
    },
    "gpuClass": "standard",
    "kernelspec": {
      "display_name": "Python 3.8.10 64-bit",
      "language": "python",
      "name": "python3"
    },
    "language_info": {
      "codemirror_mode": {
        "name": "ipython",
        "version": 3
      },
      "file_extension": ".py",
      "mimetype": "text/x-python",
      "name": "python",
      "nbconvert_exporter": "python",
      "pygments_lexer": "ipython3",
      "version": "3.8.10"
    },
    "vscode": {
      "interpreter": {
        "hash": "bf789d3fe2e48003609d2b27099c8c5750f1d9c6ed54a4f20100144dcd5707b9"
      }
    },
    "widgets": {
      "application/vnd.jupyter.widget-state+json": {
        "01e6e2c0275f4491b3fe7b7e817d2adb": {
          "model_module": "@jupyter-widgets/controls",
          "model_module_version": "1.5.0",
          "model_name": "HTMLModel",
          "state": {
            "_dom_classes": [],
            "_model_module": "@jupyter-widgets/controls",
            "_model_module_version": "1.5.0",
            "_model_name": "HTMLModel",
            "_view_count": null,
            "_view_module": "@jupyter-widgets/controls",
            "_view_module_version": "1.5.0",
            "_view_name": "HTMLView",
            "description": "",
            "description_tooltip": null,
            "layout": "IPY_MODEL_bd2093374ea64711af5c1732445ea2d1",
            "placeholder": "​",
            "style": "IPY_MODEL_78f249b059514a0189bbbc5fb42a6266",
            "value": " 570/570 [00:00&lt;00:00, 6.16kB/s]"
          }
        },
        "051c066b708d4ae29abc0cb0c841d363": {
          "model_module": "@jupyter-widgets/base",
          "model_module_version": "1.2.0",
          "model_name": "LayoutModel",
          "state": {
            "_model_module": "@jupyter-widgets/base",
            "_model_module_version": "1.2.0",
            "_model_name": "LayoutModel",
            "_view_count": null,
            "_view_module": "@jupyter-widgets/base",
            "_view_module_version": "1.2.0",
            "_view_name": "LayoutView",
            "align_content": null,
            "align_items": null,
            "align_self": null,
            "border": null,
            "bottom": null,
            "display": null,
            "flex": null,
            "flex_flow": null,
            "grid_area": null,
            "grid_auto_columns": null,
            "grid_auto_flow": null,
            "grid_auto_rows": null,
            "grid_column": null,
            "grid_gap": null,
            "grid_row": null,
            "grid_template_areas": null,
            "grid_template_columns": null,
            "grid_template_rows": null,
            "height": null,
            "justify_content": null,
            "justify_items": null,
            "left": null,
            "margin": null,
            "max_height": null,
            "max_width": null,
            "min_height": null,
            "min_width": null,
            "object_fit": null,
            "object_position": null,
            "order": null,
            "overflow": null,
            "overflow_x": null,
            "overflow_y": null,
            "padding": null,
            "right": null,
            "top": null,
            "visibility": null,
            "width": null
          }
        },
        "0708f6b18a954e2bb1927ad44f2b81fd": {
          "model_module": "@jupyter-widgets/controls",
          "model_module_version": "1.5.0",
          "model_name": "HBoxModel",
          "state": {
            "_dom_classes": [],
            "_model_module": "@jupyter-widgets/controls",
            "_model_module_version": "1.5.0",
            "_model_name": "HBoxModel",
            "_view_count": null,
            "_view_module": "@jupyter-widgets/controls",
            "_view_module_version": "1.5.0",
            "_view_name": "HBoxView",
            "box_style": "",
            "children": [
              "IPY_MODEL_e3ef7c7d57304a75935cc5e9521b621e",
              "IPY_MODEL_473f6f4787d34bdaad8db531eed114d0"
            ],
            "layout": "IPY_MODEL_f66a4351ebba48af8ee04a7c50dbc430"
          }
        },
        "08175c8150e74893a9283db42fb66181": {
          "model_module": "@jupyter-widgets/controls",
          "model_module_version": "1.5.0",
          "model_name": "HTMLModel",
          "state": {
            "_dom_classes": [],
            "_model_module": "@jupyter-widgets/controls",
            "_model_module_version": "1.5.0",
            "_model_name": "HTMLModel",
            "_view_count": null,
            "_view_module": "@jupyter-widgets/controls",
            "_view_module_version": "1.5.0",
            "_view_name": "HTMLView",
            "description": "",
            "description_tooltip": null,
            "layout": "IPY_MODEL_c962c9879c4a49e7b845a4f86bbddb56",
            "placeholder": "​",
            "style": "IPY_MODEL_c8689be449614ec2a0eff7bbf1f4a2b2",
            "value": " 3/3 [00:12&lt;00:00,  4.17s/it]"
          }
        },
        "0a14286a4c8f443599150ad252511721": {
          "model_module": "@jupyter-widgets/controls",
          "model_module_version": "1.5.0",
          "model_name": "FloatProgressModel",
          "state": {
            "_dom_classes": [],
            "_model_module": "@jupyter-widgets/controls",
            "_model_module_version": "1.5.0",
            "_model_name": "FloatProgressModel",
            "_view_count": null,
            "_view_module": "@jupyter-widgets/controls",
            "_view_module_version": "1.5.0",
            "_view_name": "ProgressView",
            "bar_style": "success",
            "description": "Downloading special_tokens_map.json: 100%",
            "description_tooltip": null,
            "layout": "IPY_MODEL_14a000fd1fdb48debd833c44f19a126a",
            "max": 150,
            "min": 0,
            "orientation": "horizontal",
            "style": "IPY_MODEL_b6803367fde9488cbbda33ac50e779d8",
            "value": 150
          }
        },
        "0d1dc52bb4774b1aa794063da72ef24d": {
          "model_module": "@jupyter-widgets/controls",
          "model_module_version": "1.5.0",
          "model_name": "FloatProgressModel",
          "state": {
            "_dom_classes": [],
            "_model_module": "@jupyter-widgets/controls",
            "_model_module_version": "1.5.0",
            "_model_name": "FloatProgressModel",
            "_view_count": null,
            "_view_module": "@jupyter-widgets/controls",
            "_view_module_version": "1.5.0",
            "_view_name": "ProgressView",
            "bar_style": "",
            "description": "Generating train split: 100%",
            "description_tooltip": null,
            "layout": "IPY_MODEL_2df4c941cd3f44d78e3d5e2ce268d995",
            "max": 67349,
            "min": 0,
            "orientation": "horizontal",
            "style": "IPY_MODEL_76c5e0a1386a42fbbb13ef2266d5e098",
            "value": 67349
          }
        },
        "103cd81c3cc54b0dbf7e4c49831a7a42": {
          "model_module": "@jupyter-widgets/controls",
          "model_module_version": "1.5.0",
          "model_name": "DescriptionStyleModel",
          "state": {
            "_model_module": "@jupyter-widgets/controls",
            "_model_module_version": "1.5.0",
            "_model_name": "DescriptionStyleModel",
            "_view_count": null,
            "_view_module": "@jupyter-widgets/base",
            "_view_module_version": "1.2.0",
            "_view_name": "StyleView",
            "description_width": ""
          }
        },
        "1378c40b641a4101a02221ef67486414": {
          "model_module": "@jupyter-widgets/base",
          "model_module_version": "1.2.0",
          "model_name": "LayoutModel",
          "state": {
            "_model_module": "@jupyter-widgets/base",
            "_model_module_version": "1.2.0",
            "_model_name": "LayoutModel",
            "_view_count": null,
            "_view_module": "@jupyter-widgets/base",
            "_view_module_version": "1.2.0",
            "_view_name": "LayoutView",
            "align_content": null,
            "align_items": null,
            "align_self": null,
            "border": null,
            "bottom": null,
            "display": null,
            "flex": null,
            "flex_flow": null,
            "grid_area": null,
            "grid_auto_columns": null,
            "grid_auto_flow": null,
            "grid_auto_rows": null,
            "grid_column": null,
            "grid_gap": null,
            "grid_row": null,
            "grid_template_areas": null,
            "grid_template_columns": null,
            "grid_template_rows": null,
            "height": null,
            "justify_content": null,
            "justify_items": null,
            "left": null,
            "margin": null,
            "max_height": null,
            "max_width": null,
            "min_height": null,
            "min_width": null,
            "object_fit": null,
            "object_position": null,
            "order": null,
            "overflow": null,
            "overflow_x": null,
            "overflow_y": null,
            "padding": null,
            "right": null,
            "top": null,
            "visibility": null,
            "width": null
          }
        },
        "14a000fd1fdb48debd833c44f19a126a": {
          "model_module": "@jupyter-widgets/base",
          "model_module_version": "1.2.0",
          "model_name": "LayoutModel",
          "state": {
            "_model_module": "@jupyter-widgets/base",
            "_model_module_version": "1.2.0",
            "_model_name": "LayoutModel",
            "_view_count": null,
            "_view_module": "@jupyter-widgets/base",
            "_view_module_version": "1.2.0",
            "_view_name": "LayoutView",
            "align_content": null,
            "align_items": null,
            "align_self": null,
            "border": null,
            "bottom": null,
            "display": null,
            "flex": null,
            "flex_flow": null,
            "grid_area": null,
            "grid_auto_columns": null,
            "grid_auto_flow": null,
            "grid_auto_rows": null,
            "grid_column": null,
            "grid_gap": null,
            "grid_row": null,
            "grid_template_areas": null,
            "grid_template_columns": null,
            "grid_template_rows": null,
            "height": null,
            "justify_content": null,
            "justify_items": null,
            "left": null,
            "margin": null,
            "max_height": null,
            "max_width": null,
            "min_height": null,
            "min_width": null,
            "object_fit": null,
            "object_position": null,
            "order": null,
            "overflow": null,
            "overflow_x": null,
            "overflow_y": null,
            "padding": null,
            "right": null,
            "top": null,
            "visibility": null,
            "width": null
          }
        },
        "15bee5f3bdae4c12be3ddca1661aaa46": {
          "model_module": "@jupyter-widgets/base",
          "model_module_version": "1.2.0",
          "model_name": "LayoutModel",
          "state": {
            "_model_module": "@jupyter-widgets/base",
            "_model_module_version": "1.2.0",
            "_model_name": "LayoutModel",
            "_view_count": null,
            "_view_module": "@jupyter-widgets/base",
            "_view_module_version": "1.2.0",
            "_view_name": "LayoutView",
            "align_content": null,
            "align_items": null,
            "align_self": null,
            "border": null,
            "bottom": null,
            "display": null,
            "flex": null,
            "flex_flow": null,
            "grid_area": null,
            "grid_auto_columns": null,
            "grid_auto_flow": null,
            "grid_auto_rows": null,
            "grid_column": null,
            "grid_gap": null,
            "grid_row": null,
            "grid_template_areas": null,
            "grid_template_columns": null,
            "grid_template_rows": null,
            "height": null,
            "justify_content": null,
            "justify_items": null,
            "left": null,
            "margin": null,
            "max_height": null,
            "max_width": null,
            "min_height": null,
            "min_width": null,
            "object_fit": null,
            "object_position": null,
            "order": null,
            "overflow": null,
            "overflow_x": null,
            "overflow_y": null,
            "padding": null,
            "right": null,
            "top": null,
            "visibility": null,
            "width": null
          }
        },
        "1c96b4c5340541d3a75c3bfe332efed3": {
          "model_module": "@jupyter-widgets/base",
          "model_module_version": "1.2.0",
          "model_name": "LayoutModel",
          "state": {
            "_model_module": "@jupyter-widgets/base",
            "_model_module_version": "1.2.0",
            "_model_name": "LayoutModel",
            "_view_count": null,
            "_view_module": "@jupyter-widgets/base",
            "_view_module_version": "1.2.0",
            "_view_name": "LayoutView",
            "align_content": null,
            "align_items": null,
            "align_self": null,
            "border": null,
            "bottom": null,
            "display": null,
            "flex": null,
            "flex_flow": null,
            "grid_area": null,
            "grid_auto_columns": null,
            "grid_auto_flow": null,
            "grid_auto_rows": null,
            "grid_column": null,
            "grid_gap": null,
            "grid_row": null,
            "grid_template_areas": null,
            "grid_template_columns": null,
            "grid_template_rows": null,
            "height": null,
            "justify_content": null,
            "justify_items": null,
            "left": null,
            "margin": null,
            "max_height": null,
            "max_width": null,
            "min_height": null,
            "min_width": null,
            "object_fit": null,
            "object_position": null,
            "order": null,
            "overflow": null,
            "overflow_x": null,
            "overflow_y": null,
            "padding": null,
            "right": null,
            "top": null,
            "visibility": null,
            "width": null
          }
        },
        "1d2446c79ca045e88a2b44378fbc7a47": {
          "model_module": "@jupyter-widgets/base",
          "model_module_version": "1.2.0",
          "model_name": "LayoutModel",
          "state": {
            "_model_module": "@jupyter-widgets/base",
            "_model_module_version": "1.2.0",
            "_model_name": "LayoutModel",
            "_view_count": null,
            "_view_module": "@jupyter-widgets/base",
            "_view_module_version": "1.2.0",
            "_view_name": "LayoutView",
            "align_content": null,
            "align_items": null,
            "align_self": null,
            "border": null,
            "bottom": null,
            "display": null,
            "flex": null,
            "flex_flow": null,
            "grid_area": null,
            "grid_auto_columns": null,
            "grid_auto_flow": null,
            "grid_auto_rows": null,
            "grid_column": null,
            "grid_gap": null,
            "grid_row": null,
            "grid_template_areas": null,
            "grid_template_columns": null,
            "grid_template_rows": null,
            "height": null,
            "justify_content": null,
            "justify_items": null,
            "left": null,
            "margin": null,
            "max_height": null,
            "max_width": null,
            "min_height": null,
            "min_width": null,
            "object_fit": null,
            "object_position": null,
            "order": null,
            "overflow": null,
            "overflow_x": null,
            "overflow_y": null,
            "padding": null,
            "right": null,
            "top": null,
            "visibility": null,
            "width": null
          }
        },
        "22989eda9dd44116b50240f5c72a48b0": {
          "model_module": "@jupyter-widgets/controls",
          "model_module_version": "1.5.0",
          "model_name": "FloatProgressModel",
          "state": {
            "_dom_classes": [],
            "_model_module": "@jupyter-widgets/controls",
            "_model_module_version": "1.5.0",
            "_model_name": "FloatProgressModel",
            "_view_count": null,
            "_view_module": "@jupyter-widgets/controls",
            "_view_module_version": "1.5.0",
            "_view_name": "ProgressView",
            "bar_style": "success",
            "description": "Downloading builder script: ",
            "description_tooltip": null,
            "layout": "IPY_MODEL_051c066b708d4ae29abc0cb0c841d363",
            "max": 7777,
            "min": 0,
            "orientation": "horizontal",
            "style": "IPY_MODEL_ef9fe4b4c9f149b0be2be70c8178a7ce",
            "value": 7777
          }
        },
        "22d9f557e19d4e75a659428904c4f7b6": {
          "model_module": "@jupyter-widgets/base",
          "model_module_version": "1.2.0",
          "model_name": "LayoutModel",
          "state": {
            "_model_module": "@jupyter-widgets/base",
            "_model_module_version": "1.2.0",
            "_model_name": "LayoutModel",
            "_view_count": null,
            "_view_module": "@jupyter-widgets/base",
            "_view_module_version": "1.2.0",
            "_view_name": "LayoutView",
            "align_content": null,
            "align_items": null,
            "align_self": null,
            "border": null,
            "bottom": null,
            "display": null,
            "flex": null,
            "flex_flow": null,
            "grid_area": null,
            "grid_auto_columns": null,
            "grid_auto_flow": null,
            "grid_auto_rows": null,
            "grid_column": null,
            "grid_gap": null,
            "grid_row": null,
            "grid_template_areas": null,
            "grid_template_columns": null,
            "grid_template_rows": null,
            "height": null,
            "justify_content": null,
            "justify_items": null,
            "left": null,
            "margin": null,
            "max_height": null,
            "max_width": null,
            "min_height": null,
            "min_width": null,
            "object_fit": null,
            "object_position": null,
            "order": null,
            "overflow": null,
            "overflow_x": null,
            "overflow_y": null,
            "padding": null,
            "right": null,
            "top": null,
            "visibility": null,
            "width": null
          }
        },
        "2475ecbd86ca47ef95389845b82510eb": {
          "model_module": "@jupyter-widgets/controls",
          "model_module_version": "1.5.0",
          "model_name": "FloatProgressModel",
          "state": {
            "_dom_classes": [],
            "_model_module": "@jupyter-widgets/controls",
            "_model_module_version": "1.5.0",
            "_model_name": "FloatProgressModel",
            "_view_count": null,
            "_view_module": "@jupyter-widgets/controls",
            "_view_module_version": "1.5.0",
            "_view_name": "ProgressView",
            "bar_style": "success",
            "description": "Downloading vocab.json: 100%",
            "description_tooltip": null,
            "layout": "IPY_MODEL_1d2446c79ca045e88a2b44378fbc7a47",
            "max": 898822,
            "min": 0,
            "orientation": "horizontal",
            "style": "IPY_MODEL_3db8b9b22f314442b2229c5fbf5a213f",
            "value": 898822
          }
        },
        "26995e1d5a004bc2a569886eee4ed119": {
          "model_module": "@jupyter-widgets/controls",
          "model_module_version": "1.5.0",
          "model_name": "HTMLModel",
          "state": {
            "_dom_classes": [],
            "_model_module": "@jupyter-widgets/controls",
            "_model_module_version": "1.5.0",
            "_model_name": "HTMLModel",
            "_view_count": null,
            "_view_module": "@jupyter-widgets/controls",
            "_view_module_version": "1.5.0",
            "_view_name": "HTMLView",
            "description": "",
            "description_tooltip": null,
            "layout": "IPY_MODEL_ae6c43ab3ccc448987bbdb89c9dc820d",
            "placeholder": "​",
            "style": "IPY_MODEL_2d03d1a8528d433fbcc0553ca6d24b0e",
            "value": " 28.0/28.0 [00:00&lt;00:00, 226B/s]"
          }
        },
        "2a84ee7f879040f39b39ef09457ce77e": {
          "model_module": "@jupyter-widgets/base",
          "model_module_version": "1.2.0",
          "model_name": "LayoutModel",
          "state": {
            "_model_module": "@jupyter-widgets/base",
            "_model_module_version": "1.2.0",
            "_model_name": "LayoutModel",
            "_view_count": null,
            "_view_module": "@jupyter-widgets/base",
            "_view_module_version": "1.2.0",
            "_view_name": "LayoutView",
            "align_content": null,
            "align_items": null,
            "align_self": null,
            "border": null,
            "bottom": null,
            "display": null,
            "flex": null,
            "flex_flow": null,
            "grid_area": null,
            "grid_auto_columns": null,
            "grid_auto_flow": null,
            "grid_auto_rows": null,
            "grid_column": null,
            "grid_gap": null,
            "grid_row": null,
            "grid_template_areas": null,
            "grid_template_columns": null,
            "grid_template_rows": null,
            "height": null,
            "justify_content": null,
            "justify_items": null,
            "left": null,
            "margin": null,
            "max_height": null,
            "max_width": null,
            "min_height": null,
            "min_width": null,
            "object_fit": null,
            "object_position": null,
            "order": null,
            "overflow": null,
            "overflow_x": null,
            "overflow_y": null,
            "padding": null,
            "right": null,
            "top": null,
            "visibility": null,
            "width": null
          }
        },
        "2d03d1a8528d433fbcc0553ca6d24b0e": {
          "model_module": "@jupyter-widgets/controls",
          "model_module_version": "1.5.0",
          "model_name": "DescriptionStyleModel",
          "state": {
            "_model_module": "@jupyter-widgets/controls",
            "_model_module_version": "1.5.0",
            "_model_name": "DescriptionStyleModel",
            "_view_count": null,
            "_view_module": "@jupyter-widgets/base",
            "_view_module_version": "1.2.0",
            "_view_name": "StyleView",
            "description_width": ""
          }
        },
        "2df4c941cd3f44d78e3d5e2ce268d995": {
          "model_module": "@jupyter-widgets/base",
          "model_module_version": "1.2.0",
          "model_name": "LayoutModel",
          "state": {
            "_model_module": "@jupyter-widgets/base",
            "_model_module_version": "1.2.0",
            "_model_name": "LayoutModel",
            "_view_count": null,
            "_view_module": "@jupyter-widgets/base",
            "_view_module_version": "1.2.0",
            "_view_name": "LayoutView",
            "align_content": null,
            "align_items": null,
            "align_self": null,
            "border": null,
            "bottom": null,
            "display": null,
            "flex": null,
            "flex_flow": null,
            "grid_area": null,
            "grid_auto_columns": null,
            "grid_auto_flow": null,
            "grid_auto_rows": null,
            "grid_column": null,
            "grid_gap": null,
            "grid_row": null,
            "grid_template_areas": null,
            "grid_template_columns": null,
            "grid_template_rows": null,
            "height": null,
            "justify_content": null,
            "justify_items": null,
            "left": null,
            "margin": null,
            "max_height": null,
            "max_width": null,
            "min_height": null,
            "min_width": null,
            "object_fit": null,
            "object_position": null,
            "order": null,
            "overflow": null,
            "overflow_x": null,
            "overflow_y": null,
            "padding": null,
            "right": null,
            "top": null,
            "visibility": null,
            "width": null
          }
        },
        "3052215e9465463d8fc9787538cf5531": {
          "model_module": "@jupyter-widgets/controls",
          "model_module_version": "1.5.0",
          "model_name": "HBoxModel",
          "state": {
            "_dom_classes": [],
            "_model_module": "@jupyter-widgets/controls",
            "_model_module_version": "1.5.0",
            "_model_name": "HBoxModel",
            "_view_count": null,
            "_view_module": "@jupyter-widgets/controls",
            "_view_module_version": "1.5.0",
            "_view_name": "HBoxView",
            "box_style": "",
            "children": [
              "IPY_MODEL_0d1dc52bb4774b1aa794063da72ef24d",
              "IPY_MODEL_e8ec990751ec496daf1976f0af7306bd"
            ],
            "layout": "IPY_MODEL_b914b49bc985426896b523d401b16709"
          }
        },
        "308025a2ec48458fa3355e2d16353b54": {
          "model_module": "@jupyter-widgets/controls",
          "model_module_version": "1.5.0",
          "model_name": "FloatProgressModel",
          "state": {
            "_dom_classes": [],
            "_model_module": "@jupyter-widgets/controls",
            "_model_module_version": "1.5.0",
            "_model_name": "FloatProgressModel",
            "_view_count": null,
            "_view_module": "@jupyter-widgets/controls",
            "_view_module_version": "1.5.0",
            "_view_name": "ProgressView",
            "bar_style": "success",
            "description": "Downloading tokenizer_config.json: 100%",
            "description_tooltip": null,
            "layout": "IPY_MODEL_eebba6e960fe4c1181305417535ee60b",
            "max": 28,
            "min": 0,
            "orientation": "horizontal",
            "style": "IPY_MODEL_796c88b922e94397be1a4bece656945d",
            "value": 28
          }
        },
        "31a387eb977143e09ddd658a06f6ebad": {
          "model_module": "@jupyter-widgets/controls",
          "model_module_version": "1.5.0",
          "model_name": "HBoxModel",
          "state": {
            "_dom_classes": [],
            "_model_module": "@jupyter-widgets/controls",
            "_model_module_version": "1.5.0",
            "_model_name": "HBoxModel",
            "_view_count": null,
            "_view_module": "@jupyter-widgets/controls",
            "_view_module_version": "1.5.0",
            "_view_name": "HBoxView",
            "box_style": "",
            "children": [
              "IPY_MODEL_c8ba6ab1793f4a3abafb08ea429b200f",
              "IPY_MODEL_f4b476664ecc4a42bae2bcdb7909cc23"
            ],
            "layout": "IPY_MODEL_caa7ad5aa13c4301b06aa99828a7b648"
          }
        },
        "33aabb277f774ea0a6c831186765cc5d": {
          "model_module": "@jupyter-widgets/controls",
          "model_module_version": "1.5.0",
          "model_name": "DescriptionStyleModel",
          "state": {
            "_model_module": "@jupyter-widgets/controls",
            "_model_module_version": "1.5.0",
            "_model_name": "DescriptionStyleModel",
            "_view_count": null,
            "_view_module": "@jupyter-widgets/base",
            "_view_module_version": "1.2.0",
            "_view_name": "StyleView",
            "description_width": ""
          }
        },
        "344017b963084861b4f291011ee92107": {
          "model_module": "@jupyter-widgets/controls",
          "model_module_version": "1.5.0",
          "model_name": "HBoxModel",
          "state": {
            "_dom_classes": [],
            "_model_module": "@jupyter-widgets/controls",
            "_model_module_version": "1.5.0",
            "_model_name": "HBoxModel",
            "_view_count": null,
            "_view_module": "@jupyter-widgets/controls",
            "_view_module_version": "1.5.0",
            "_view_name": "HBoxView",
            "box_style": "",
            "children": [
              "IPY_MODEL_ab48be1e486a46a585f124cbaee61c7c",
              "IPY_MODEL_946407313f084e5983d89195745fe24c"
            ],
            "layout": "IPY_MODEL_b5166720cd5d40c5854fabd3bab1a80e"
          }
        },
        "34f8ba542e6c43c0931f04fdd730733d": {
          "model_module": "@jupyter-widgets/base",
          "model_module_version": "1.2.0",
          "model_name": "LayoutModel",
          "state": {
            "_model_module": "@jupyter-widgets/base",
            "_model_module_version": "1.2.0",
            "_model_name": "LayoutModel",
            "_view_count": null,
            "_view_module": "@jupyter-widgets/base",
            "_view_module_version": "1.2.0",
            "_view_name": "LayoutView",
            "align_content": null,
            "align_items": null,
            "align_self": null,
            "border": null,
            "bottom": null,
            "display": null,
            "flex": null,
            "flex_flow": null,
            "grid_area": null,
            "grid_auto_columns": null,
            "grid_auto_flow": null,
            "grid_auto_rows": null,
            "grid_column": null,
            "grid_gap": null,
            "grid_row": null,
            "grid_template_areas": null,
            "grid_template_columns": null,
            "grid_template_rows": null,
            "height": null,
            "justify_content": null,
            "justify_items": null,
            "left": null,
            "margin": null,
            "max_height": null,
            "max_width": null,
            "min_height": null,
            "min_width": null,
            "object_fit": null,
            "object_position": null,
            "order": null,
            "overflow": null,
            "overflow_x": null,
            "overflow_y": null,
            "padding": null,
            "right": null,
            "top": null,
            "visibility": null,
            "width": null
          }
        },
        "36ce09974eeb4888a544d0b068f64d1d": {
          "model_module": "@jupyter-widgets/base",
          "model_module_version": "1.2.0",
          "model_name": "LayoutModel",
          "state": {
            "_model_module": "@jupyter-widgets/base",
            "_model_module_version": "1.2.0",
            "_model_name": "LayoutModel",
            "_view_count": null,
            "_view_module": "@jupyter-widgets/base",
            "_view_module_version": "1.2.0",
            "_view_name": "LayoutView",
            "align_content": null,
            "align_items": null,
            "align_self": null,
            "border": null,
            "bottom": null,
            "display": null,
            "flex": null,
            "flex_flow": null,
            "grid_area": null,
            "grid_auto_columns": null,
            "grid_auto_flow": null,
            "grid_auto_rows": null,
            "grid_column": null,
            "grid_gap": null,
            "grid_row": null,
            "grid_template_areas": null,
            "grid_template_columns": null,
            "grid_template_rows": null,
            "height": null,
            "justify_content": null,
            "justify_items": null,
            "left": null,
            "margin": null,
            "max_height": null,
            "max_width": null,
            "min_height": null,
            "min_width": null,
            "object_fit": null,
            "object_position": null,
            "order": null,
            "overflow": null,
            "overflow_x": null,
            "overflow_y": null,
            "padding": null,
            "right": null,
            "top": null,
            "visibility": null,
            "width": null
          }
        },
        "3728b2feb91f4ed0bc9186d5ce5cbaea": {
          "model_module": "@jupyter-widgets/controls",
          "model_module_version": "1.5.0",
          "model_name": "FloatProgressModel",
          "state": {
            "_dom_classes": [],
            "_model_module": "@jupyter-widgets/controls",
            "_model_module_version": "1.5.0",
            "_model_name": "FloatProgressModel",
            "_view_count": null,
            "_view_module": "@jupyter-widgets/controls",
            "_view_module_version": "1.5.0",
            "_view_name": "ProgressView",
            "bar_style": "success",
            "description": "Downloading pytorch_model.bin: 100%",
            "description_tooltip": null,
            "layout": "IPY_MODEL_34f8ba542e6c43c0931f04fdd730733d",
            "max": 498679497,
            "min": 0,
            "orientation": "horizontal",
            "style": "IPY_MODEL_c5bafee7e7284e9ab9d03c2af60b2ca1",
            "value": 498679497
          }
        },
        "3db8b9b22f314442b2229c5fbf5a213f": {
          "model_module": "@jupyter-widgets/controls",
          "model_module_version": "1.5.0",
          "model_name": "ProgressStyleModel",
          "state": {
            "_model_module": "@jupyter-widgets/controls",
            "_model_module_version": "1.5.0",
            "_model_name": "ProgressStyleModel",
            "_view_count": null,
            "_view_module": "@jupyter-widgets/base",
            "_view_module_version": "1.2.0",
            "_view_name": "StyleView",
            "bar_color": null,
            "description_width": "initial"
          }
        },
        "3de876aa96e74591a9c20deb61b35db2": {
          "model_module": "@jupyter-widgets/base",
          "model_module_version": "1.2.0",
          "model_name": "LayoutModel",
          "state": {
            "_model_module": "@jupyter-widgets/base",
            "_model_module_version": "1.2.0",
            "_model_name": "LayoutModel",
            "_view_count": null,
            "_view_module": "@jupyter-widgets/base",
            "_view_module_version": "1.2.0",
            "_view_name": "LayoutView",
            "align_content": null,
            "align_items": null,
            "align_self": null,
            "border": null,
            "bottom": null,
            "display": null,
            "flex": null,
            "flex_flow": null,
            "grid_area": null,
            "grid_auto_columns": null,
            "grid_auto_flow": null,
            "grid_auto_rows": null,
            "grid_column": null,
            "grid_gap": null,
            "grid_row": null,
            "grid_template_areas": null,
            "grid_template_columns": null,
            "grid_template_rows": null,
            "height": null,
            "justify_content": null,
            "justify_items": null,
            "left": null,
            "margin": null,
            "max_height": null,
            "max_width": null,
            "min_height": null,
            "min_width": null,
            "object_fit": null,
            "object_position": null,
            "order": null,
            "overflow": null,
            "overflow_x": null,
            "overflow_y": null,
            "padding": null,
            "right": null,
            "top": null,
            "visibility": null,
            "width": null
          }
        },
        "3e2ea59c09b54da1b7cd4a5c7b4a2fd7": {
          "model_module": "@jupyter-widgets/controls",
          "model_module_version": "1.5.0",
          "model_name": "HBoxModel",
          "state": {
            "_dom_classes": [],
            "_model_module": "@jupyter-widgets/controls",
            "_model_module_version": "1.5.0",
            "_model_name": "HBoxModel",
            "_view_count": null,
            "_view_module": "@jupyter-widgets/controls",
            "_view_module_version": "1.5.0",
            "_view_name": "HBoxView",
            "box_style": "",
            "children": [
              "IPY_MODEL_ae4dd923bc494dc99f1638f02eb539ec",
              "IPY_MODEL_fec3d4111fe04c67b1009f6684838cfc"
            ],
            "layout": "IPY_MODEL_4a39f405bd1d45b6a32ffc87e866f0ff"
          }
        },
        "41a6a7a9f48e454f814b8a39bb1856b3": {
          "model_module": "@jupyter-widgets/base",
          "model_module_version": "1.2.0",
          "model_name": "LayoutModel",
          "state": {
            "_model_module": "@jupyter-widgets/base",
            "_model_module_version": "1.2.0",
            "_model_name": "LayoutModel",
            "_view_count": null,
            "_view_module": "@jupyter-widgets/base",
            "_view_module_version": "1.2.0",
            "_view_name": "LayoutView",
            "align_content": null,
            "align_items": null,
            "align_self": null,
            "border": null,
            "bottom": null,
            "display": null,
            "flex": null,
            "flex_flow": null,
            "grid_area": null,
            "grid_auto_columns": null,
            "grid_auto_flow": null,
            "grid_auto_rows": null,
            "grid_column": null,
            "grid_gap": null,
            "grid_row": null,
            "grid_template_areas": null,
            "grid_template_columns": null,
            "grid_template_rows": null,
            "height": null,
            "justify_content": null,
            "justify_items": null,
            "left": null,
            "margin": null,
            "max_height": null,
            "max_width": null,
            "min_height": null,
            "min_width": null,
            "object_fit": null,
            "object_position": null,
            "order": null,
            "overflow": null,
            "overflow_x": null,
            "overflow_y": null,
            "padding": null,
            "right": null,
            "top": null,
            "visibility": null,
            "width": null
          }
        },
        "42978124ed3e4d489a980910f383e38d": {
          "model_module": "@jupyter-widgets/controls",
          "model_module_version": "1.5.0",
          "model_name": "ProgressStyleModel",
          "state": {
            "_model_module": "@jupyter-widgets/controls",
            "_model_module_version": "1.5.0",
            "_model_name": "ProgressStyleModel",
            "_view_count": null,
            "_view_module": "@jupyter-widgets/base",
            "_view_module_version": "1.2.0",
            "_view_name": "StyleView",
            "bar_color": null,
            "description_width": "initial"
          }
        },
        "470a05719f274ef79a74ff299d9398ba": {
          "model_module": "@jupyter-widgets/base",
          "model_module_version": "1.2.0",
          "model_name": "LayoutModel",
          "state": {
            "_model_module": "@jupyter-widgets/base",
            "_model_module_version": "1.2.0",
            "_model_name": "LayoutModel",
            "_view_count": null,
            "_view_module": "@jupyter-widgets/base",
            "_view_module_version": "1.2.0",
            "_view_name": "LayoutView",
            "align_content": null,
            "align_items": null,
            "align_self": null,
            "border": null,
            "bottom": null,
            "display": null,
            "flex": null,
            "flex_flow": null,
            "grid_area": null,
            "grid_auto_columns": null,
            "grid_auto_flow": null,
            "grid_auto_rows": null,
            "grid_column": null,
            "grid_gap": null,
            "grid_row": null,
            "grid_template_areas": null,
            "grid_template_columns": null,
            "grid_template_rows": null,
            "height": null,
            "justify_content": null,
            "justify_items": null,
            "left": null,
            "margin": null,
            "max_height": null,
            "max_width": null,
            "min_height": null,
            "min_width": null,
            "object_fit": null,
            "object_position": null,
            "order": null,
            "overflow": null,
            "overflow_x": null,
            "overflow_y": null,
            "padding": null,
            "right": null,
            "top": null,
            "visibility": null,
            "width": null
          }
        },
        "473f6f4787d34bdaad8db531eed114d0": {
          "model_module": "@jupyter-widgets/controls",
          "model_module_version": "1.5.0",
          "model_name": "HTMLModel",
          "state": {
            "_dom_classes": [],
            "_model_module": "@jupyter-widgets/controls",
            "_model_module_version": "1.5.0",
            "_model_name": "HTMLModel",
            "_view_count": null,
            "_view_module": "@jupyter-widgets/controls",
            "_view_module_version": "1.5.0",
            "_view_name": "HTMLView",
            "description": "",
            "description_tooltip": null,
            "layout": "IPY_MODEL_22d9f557e19d4e75a659428904c4f7b6",
            "placeholder": "​",
            "style": "IPY_MODEL_65a2b2dc476c494a9ffd33e7caf6acc3",
            "value": " 446k/446k [00:00&lt;00:00, 1.23MB/s]"
          }
        },
        "4952bf5ff29549b89df61dadec7f913f": {
          "model_module": "@jupyter-widgets/controls",
          "model_module_version": "1.5.0",
          "model_name": "DescriptionStyleModel",
          "state": {
            "_model_module": "@jupyter-widgets/controls",
            "_model_module_version": "1.5.0",
            "_model_name": "DescriptionStyleModel",
            "_view_count": null,
            "_view_module": "@jupyter-widgets/base",
            "_view_module_version": "1.2.0",
            "_view_name": "StyleView",
            "description_width": ""
          }
        },
        "4a39f405bd1d45b6a32ffc87e866f0ff": {
          "model_module": "@jupyter-widgets/base",
          "model_module_version": "1.2.0",
          "model_name": "LayoutModel",
          "state": {
            "_model_module": "@jupyter-widgets/base",
            "_model_module_version": "1.2.0",
            "_model_name": "LayoutModel",
            "_view_count": null,
            "_view_module": "@jupyter-widgets/base",
            "_view_module_version": "1.2.0",
            "_view_name": "LayoutView",
            "align_content": null,
            "align_items": null,
            "align_self": null,
            "border": null,
            "bottom": null,
            "display": null,
            "flex": null,
            "flex_flow": null,
            "grid_area": null,
            "grid_auto_columns": null,
            "grid_auto_flow": null,
            "grid_auto_rows": null,
            "grid_column": null,
            "grid_gap": null,
            "grid_row": null,
            "grid_template_areas": null,
            "grid_template_columns": null,
            "grid_template_rows": null,
            "height": null,
            "justify_content": null,
            "justify_items": null,
            "left": null,
            "margin": null,
            "max_height": null,
            "max_width": null,
            "min_height": null,
            "min_width": null,
            "object_fit": null,
            "object_position": null,
            "order": null,
            "overflow": null,
            "overflow_x": null,
            "overflow_y": null,
            "padding": null,
            "right": null,
            "top": null,
            "visibility": null,
            "width": null
          }
        },
        "4ba62d9d64514b7cba12a16021531767": {
          "model_module": "@jupyter-widgets/controls",
          "model_module_version": "1.5.0",
          "model_name": "FloatProgressModel",
          "state": {
            "_dom_classes": [],
            "_model_module": "@jupyter-widgets/controls",
            "_model_module_version": "1.5.0",
            "_model_name": "FloatProgressModel",
            "_view_count": null,
            "_view_module": "@jupyter-widgets/controls",
            "_view_module_version": "1.5.0",
            "_view_name": "ProgressView",
            "bar_style": "success",
            "description": "Downloading config.json: 100%",
            "description_tooltip": null,
            "layout": "IPY_MODEL_fc70416eaab744ebae1bc1afa20f44fa",
            "max": 570,
            "min": 0,
            "orientation": "horizontal",
            "style": "IPY_MODEL_c0b732785c934db8b3ed5c9843452cf2",
            "value": 570
          }
        },
        "4c8a04d3a6ae4dfa97fb78ef3b3b3e7c": {
          "model_module": "@jupyter-widgets/controls",
          "model_module_version": "1.5.0",
          "model_name": "HBoxModel",
          "state": {
            "_dom_classes": [],
            "_model_module": "@jupyter-widgets/controls",
            "_model_module_version": "1.5.0",
            "_model_name": "HBoxModel",
            "_view_count": null,
            "_view_module": "@jupyter-widgets/controls",
            "_view_module_version": "1.5.0",
            "_view_name": "HBoxView",
            "box_style": "",
            "children": [
              "IPY_MODEL_3728b2feb91f4ed0bc9186d5ce5cbaea",
              "IPY_MODEL_ad3ba4773d704a1d91f71c783e73a68a"
            ],
            "layout": "IPY_MODEL_56b7e9f7ef214b6cadb0c8f63b799d04"
          }
        },
        "4e80076f47ba40459c650e549fb5461e": {
          "model_module": "@jupyter-widgets/controls",
          "model_module_version": "1.5.0",
          "model_name": "HBoxModel",
          "state": {
            "_dom_classes": [],
            "_model_module": "@jupyter-widgets/controls",
            "_model_module_version": "1.5.0",
            "_model_name": "HBoxModel",
            "_view_count": null,
            "_view_module": "@jupyter-widgets/controls",
            "_view_module_version": "1.5.0",
            "_view_name": "HBoxView",
            "box_style": "",
            "children": [
              "IPY_MODEL_bb9e9b1591b749df825bd544d1103e17",
              "IPY_MODEL_08175c8150e74893a9283db42fb66181"
            ],
            "layout": "IPY_MODEL_c944580be68a4d27a31ccc99f32d1180"
          }
        },
        "56b7e9f7ef214b6cadb0c8f63b799d04": {
          "model_module": "@jupyter-widgets/base",
          "model_module_version": "1.2.0",
          "model_name": "LayoutModel",
          "state": {
            "_model_module": "@jupyter-widgets/base",
            "_model_module_version": "1.2.0",
            "_model_name": "LayoutModel",
            "_view_count": null,
            "_view_module": "@jupyter-widgets/base",
            "_view_module_version": "1.2.0",
            "_view_name": "LayoutView",
            "align_content": null,
            "align_items": null,
            "align_self": null,
            "border": null,
            "bottom": null,
            "display": null,
            "flex": null,
            "flex_flow": null,
            "grid_area": null,
            "grid_auto_columns": null,
            "grid_auto_flow": null,
            "grid_auto_rows": null,
            "grid_column": null,
            "grid_gap": null,
            "grid_row": null,
            "grid_template_areas": null,
            "grid_template_columns": null,
            "grid_template_rows": null,
            "height": null,
            "justify_content": null,
            "justify_items": null,
            "left": null,
            "margin": null,
            "max_height": null,
            "max_width": null,
            "min_height": null,
            "min_width": null,
            "object_fit": null,
            "object_position": null,
            "order": null,
            "overflow": null,
            "overflow_x": null,
            "overflow_y": null,
            "padding": null,
            "right": null,
            "top": null,
            "visibility": null,
            "width": null
          }
        },
        "58428a3f88d348af8cc999c2a869f7f6": {
          "model_module": "@jupyter-widgets/controls",
          "model_module_version": "1.5.0",
          "model_name": "DescriptionStyleModel",
          "state": {
            "_model_module": "@jupyter-widgets/controls",
            "_model_module_version": "1.5.0",
            "_model_name": "DescriptionStyleModel",
            "_view_count": null,
            "_view_module": "@jupyter-widgets/base",
            "_view_module_version": "1.2.0",
            "_view_name": "StyleView",
            "description_width": ""
          }
        },
        "58559cdef477422f8669cba80f295df6": {
          "model_module": "@jupyter-widgets/controls",
          "model_module_version": "1.5.0",
          "model_name": "HBoxModel",
          "state": {
            "_dom_classes": [],
            "_model_module": "@jupyter-widgets/controls",
            "_model_module_version": "1.5.0",
            "_model_name": "HBoxModel",
            "_view_count": null,
            "_view_module": "@jupyter-widgets/controls",
            "_view_module_version": "1.5.0",
            "_view_name": "HBoxView",
            "box_style": "",
            "children": [
              "IPY_MODEL_9c8c22c0ff7f42d695959da35398a218",
              "IPY_MODEL_72101a2cc6df4bff91809466e7510642"
            ],
            "layout": "IPY_MODEL_7cc51c70d93a42bbabfc6ecdb4ef2112"
          }
        },
        "5af8e8af36a3433fb6838f4af354215b": {
          "model_module": "@jupyter-widgets/controls",
          "model_module_version": "1.5.0",
          "model_name": "HTMLModel",
          "state": {
            "_dom_classes": [],
            "_model_module": "@jupyter-widgets/controls",
            "_model_module_version": "1.5.0",
            "_model_name": "HTMLModel",
            "_view_count": null,
            "_view_module": "@jupyter-widgets/controls",
            "_view_module_version": "1.5.0",
            "_view_name": "HTMLView",
            "description": "",
            "description_tooltip": null,
            "layout": "IPY_MODEL_657d9b7c95c044499ca6584959fdee9c",
            "placeholder": "​",
            "style": "IPY_MODEL_fad8ab97e20d4288a75421c291011deb",
            "value": " 226k/226k [00:00&lt;00:00, 759kB/s]"
          }
        },
        "62e453a6219c4a02822cef284ec12f99": {
          "model_module": "@jupyter-widgets/base",
          "model_module_version": "1.2.0",
          "model_name": "LayoutModel",
          "state": {
            "_model_module": "@jupyter-widgets/base",
            "_model_module_version": "1.2.0",
            "_model_name": "LayoutModel",
            "_view_count": null,
            "_view_module": "@jupyter-widgets/base",
            "_view_module_version": "1.2.0",
            "_view_name": "LayoutView",
            "align_content": null,
            "align_items": null,
            "align_self": null,
            "border": null,
            "bottom": null,
            "display": null,
            "flex": null,
            "flex_flow": null,
            "grid_area": null,
            "grid_auto_columns": null,
            "grid_auto_flow": null,
            "grid_auto_rows": null,
            "grid_column": null,
            "grid_gap": null,
            "grid_row": null,
            "grid_template_areas": null,
            "grid_template_columns": null,
            "grid_template_rows": null,
            "height": null,
            "justify_content": null,
            "justify_items": null,
            "left": null,
            "margin": null,
            "max_height": null,
            "max_width": null,
            "min_height": null,
            "min_width": null,
            "object_fit": null,
            "object_position": null,
            "order": null,
            "overflow": null,
            "overflow_x": null,
            "overflow_y": null,
            "padding": null,
            "right": null,
            "top": null,
            "visibility": null,
            "width": null
          }
        },
        "657d9b7c95c044499ca6584959fdee9c": {
          "model_module": "@jupyter-widgets/base",
          "model_module_version": "1.2.0",
          "model_name": "LayoutModel",
          "state": {
            "_model_module": "@jupyter-widgets/base",
            "_model_module_version": "1.2.0",
            "_model_name": "LayoutModel",
            "_view_count": null,
            "_view_module": "@jupyter-widgets/base",
            "_view_module_version": "1.2.0",
            "_view_name": "LayoutView",
            "align_content": null,
            "align_items": null,
            "align_self": null,
            "border": null,
            "bottom": null,
            "display": null,
            "flex": null,
            "flex_flow": null,
            "grid_area": null,
            "grid_auto_columns": null,
            "grid_auto_flow": null,
            "grid_auto_rows": null,
            "grid_column": null,
            "grid_gap": null,
            "grid_row": null,
            "grid_template_areas": null,
            "grid_template_columns": null,
            "grid_template_rows": null,
            "height": null,
            "justify_content": null,
            "justify_items": null,
            "left": null,
            "margin": null,
            "max_height": null,
            "max_width": null,
            "min_height": null,
            "min_width": null,
            "object_fit": null,
            "object_position": null,
            "order": null,
            "overflow": null,
            "overflow_x": null,
            "overflow_y": null,
            "padding": null,
            "right": null,
            "top": null,
            "visibility": null,
            "width": null
          }
        },
        "65a2b2dc476c494a9ffd33e7caf6acc3": {
          "model_module": "@jupyter-widgets/controls",
          "model_module_version": "1.5.0",
          "model_name": "DescriptionStyleModel",
          "state": {
            "_model_module": "@jupyter-widgets/controls",
            "_model_module_version": "1.5.0",
            "_model_name": "DescriptionStyleModel",
            "_view_count": null,
            "_view_module": "@jupyter-widgets/base",
            "_view_module_version": "1.2.0",
            "_view_name": "StyleView",
            "description_width": ""
          }
        },
        "68cd0bc7b7294167a5fd1b8510817ecd": {
          "model_module": "@jupyter-widgets/controls",
          "model_module_version": "1.5.0",
          "model_name": "HTMLModel",
          "state": {
            "_dom_classes": [],
            "_model_module": "@jupyter-widgets/controls",
            "_model_module_version": "1.5.0",
            "_model_name": "HTMLModel",
            "_view_count": null,
            "_view_module": "@jupyter-widgets/controls",
            "_view_module_version": "1.5.0",
            "_view_name": "HTMLView",
            "description": "",
            "description_tooltip": null,
            "layout": "IPY_MODEL_62e453a6219c4a02822cef284ec12f99",
            "placeholder": "​",
            "style": "IPY_MODEL_58428a3f88d348af8cc999c2a869f7f6",
            "value": " 28.8k/? [00:00&lt;00:00, 78.3kB/s]"
          }
        },
        "6b23b47bed164776b08e21c5cf01e8d3": {
          "model_module": "@jupyter-widgets/base",
          "model_module_version": "1.2.0",
          "model_name": "LayoutModel",
          "state": {
            "_model_module": "@jupyter-widgets/base",
            "_model_module_version": "1.2.0",
            "_model_name": "LayoutModel",
            "_view_count": null,
            "_view_module": "@jupyter-widgets/base",
            "_view_module_version": "1.2.0",
            "_view_name": "LayoutView",
            "align_content": null,
            "align_items": null,
            "align_self": null,
            "border": null,
            "bottom": null,
            "display": null,
            "flex": null,
            "flex_flow": null,
            "grid_area": null,
            "grid_auto_columns": null,
            "grid_auto_flow": null,
            "grid_auto_rows": null,
            "grid_column": null,
            "grid_gap": null,
            "grid_row": null,
            "grid_template_areas": null,
            "grid_template_columns": null,
            "grid_template_rows": null,
            "height": null,
            "justify_content": null,
            "justify_items": null,
            "left": null,
            "margin": null,
            "max_height": null,
            "max_width": null,
            "min_height": null,
            "min_width": null,
            "object_fit": null,
            "object_position": null,
            "order": null,
            "overflow": null,
            "overflow_x": null,
            "overflow_y": null,
            "padding": null,
            "right": null,
            "top": null,
            "visibility": null,
            "width": null
          }
        },
        "6c87f3ec078741e5964b8c65597de8e8": {
          "model_module": "@jupyter-widgets/base",
          "model_module_version": "1.2.0",
          "model_name": "LayoutModel",
          "state": {
            "_model_module": "@jupyter-widgets/base",
            "_model_module_version": "1.2.0",
            "_model_name": "LayoutModel",
            "_view_count": null,
            "_view_module": "@jupyter-widgets/base",
            "_view_module_version": "1.2.0",
            "_view_name": "LayoutView",
            "align_content": null,
            "align_items": null,
            "align_self": null,
            "border": null,
            "bottom": null,
            "display": null,
            "flex": null,
            "flex_flow": null,
            "grid_area": null,
            "grid_auto_columns": null,
            "grid_auto_flow": null,
            "grid_auto_rows": null,
            "grid_column": null,
            "grid_gap": null,
            "grid_row": null,
            "grid_template_areas": null,
            "grid_template_columns": null,
            "grid_template_rows": null,
            "height": null,
            "justify_content": null,
            "justify_items": null,
            "left": null,
            "margin": null,
            "max_height": null,
            "max_width": null,
            "min_height": null,
            "min_width": null,
            "object_fit": null,
            "object_position": null,
            "order": null,
            "overflow": null,
            "overflow_x": null,
            "overflow_y": null,
            "padding": null,
            "right": null,
            "top": null,
            "visibility": null,
            "width": null
          }
        },
        "6e5bb01333d242c9825c643b0c272513": {
          "model_module": "@jupyter-widgets/base",
          "model_module_version": "1.2.0",
          "model_name": "LayoutModel",
          "state": {
            "_model_module": "@jupyter-widgets/base",
            "_model_module_version": "1.2.0",
            "_model_name": "LayoutModel",
            "_view_count": null,
            "_view_module": "@jupyter-widgets/base",
            "_view_module_version": "1.2.0",
            "_view_name": "LayoutView",
            "align_content": null,
            "align_items": null,
            "align_self": null,
            "border": null,
            "bottom": null,
            "display": null,
            "flex": null,
            "flex_flow": null,
            "grid_area": null,
            "grid_auto_columns": null,
            "grid_auto_flow": null,
            "grid_auto_rows": null,
            "grid_column": null,
            "grid_gap": null,
            "grid_row": null,
            "grid_template_areas": null,
            "grid_template_columns": null,
            "grid_template_rows": null,
            "height": null,
            "justify_content": null,
            "justify_items": null,
            "left": null,
            "margin": null,
            "max_height": null,
            "max_width": null,
            "min_height": null,
            "min_width": null,
            "object_fit": null,
            "object_position": null,
            "order": null,
            "overflow": null,
            "overflow_x": null,
            "overflow_y": null,
            "padding": null,
            "right": null,
            "top": null,
            "visibility": null,
            "width": null
          }
        },
        "71913544fdc44ebca8025569135542f4": {
          "model_module": "@jupyter-widgets/controls",
          "model_module_version": "1.5.0",
          "model_name": "DescriptionStyleModel",
          "state": {
            "_model_module": "@jupyter-widgets/controls",
            "_model_module_version": "1.5.0",
            "_model_name": "DescriptionStyleModel",
            "_view_count": null,
            "_view_module": "@jupyter-widgets/base",
            "_view_module_version": "1.2.0",
            "_view_name": "StyleView",
            "description_width": ""
          }
        },
        "71fc9d87b924494dba83251ddf471ca0": {
          "model_module": "@jupyter-widgets/base",
          "model_module_version": "1.2.0",
          "model_name": "LayoutModel",
          "state": {
            "_model_module": "@jupyter-widgets/base",
            "_model_module_version": "1.2.0",
            "_model_name": "LayoutModel",
            "_view_count": null,
            "_view_module": "@jupyter-widgets/base",
            "_view_module_version": "1.2.0",
            "_view_name": "LayoutView",
            "align_content": null,
            "align_items": null,
            "align_self": null,
            "border": null,
            "bottom": null,
            "display": null,
            "flex": null,
            "flex_flow": null,
            "grid_area": null,
            "grid_auto_columns": null,
            "grid_auto_flow": null,
            "grid_auto_rows": null,
            "grid_column": null,
            "grid_gap": null,
            "grid_row": null,
            "grid_template_areas": null,
            "grid_template_columns": null,
            "grid_template_rows": null,
            "height": null,
            "justify_content": null,
            "justify_items": null,
            "left": null,
            "margin": null,
            "max_height": null,
            "max_width": null,
            "min_height": null,
            "min_width": null,
            "object_fit": null,
            "object_position": null,
            "order": null,
            "overflow": null,
            "overflow_x": null,
            "overflow_y": null,
            "padding": null,
            "right": null,
            "top": null,
            "visibility": null,
            "width": null
          }
        },
        "72101a2cc6df4bff91809466e7510642": {
          "model_module": "@jupyter-widgets/controls",
          "model_module_version": "1.5.0",
          "model_name": "HTMLModel",
          "state": {
            "_dom_classes": [],
            "_model_module": "@jupyter-widgets/controls",
            "_model_module_version": "1.5.0",
            "_model_name": "HTMLModel",
            "_view_count": null,
            "_view_module": "@jupyter-widgets/controls",
            "_view_module_version": "1.5.0",
            "_view_name": "HTMLView",
            "description": "",
            "description_tooltip": null,
            "layout": "IPY_MODEL_1378c40b641a4101a02221ef67486414",
            "placeholder": "​",
            "style": "IPY_MODEL_103cd81c3cc54b0dbf7e4c49831a7a42",
            "value": " 872/872 [00:00&lt;00:00, 4118.38 examples/s]"
          }
        },
        "72b3a899044e40b9a0ffabfc388259c4": {
          "model_module": "@jupyter-widgets/controls",
          "model_module_version": "1.5.0",
          "model_name": "FloatProgressModel",
          "state": {
            "_dom_classes": [],
            "_model_module": "@jupyter-widgets/controls",
            "_model_module_version": "1.5.0",
            "_model_name": "FloatProgressModel",
            "_view_count": null,
            "_view_module": "@jupyter-widgets/controls",
            "_view_module_version": "1.5.0",
            "_view_name": "ProgressView",
            "bar_style": "success",
            "description": "Downloading vocab.txt: 100%",
            "description_tooltip": null,
            "layout": "IPY_MODEL_8566641edf554c419bccddb1939ed927",
            "max": 231508,
            "min": 0,
            "orientation": "horizontal",
            "style": "IPY_MODEL_76700cf2d2e94dd490c85da8dc57fcfb",
            "value": 231508
          }
        },
        "73514ead48f54c6987b04598e0d051b2": {
          "model_module": "@jupyter-widgets/base",
          "model_module_version": "1.2.0",
          "model_name": "LayoutModel",
          "state": {
            "_model_module": "@jupyter-widgets/base",
            "_model_module_version": "1.2.0",
            "_model_name": "LayoutModel",
            "_view_count": null,
            "_view_module": "@jupyter-widgets/base",
            "_view_module_version": "1.2.0",
            "_view_name": "LayoutView",
            "align_content": null,
            "align_items": null,
            "align_self": null,
            "border": null,
            "bottom": null,
            "display": null,
            "flex": null,
            "flex_flow": null,
            "grid_area": null,
            "grid_auto_columns": null,
            "grid_auto_flow": null,
            "grid_auto_rows": null,
            "grid_column": null,
            "grid_gap": null,
            "grid_row": null,
            "grid_template_areas": null,
            "grid_template_columns": null,
            "grid_template_rows": null,
            "height": null,
            "justify_content": null,
            "justify_items": null,
            "left": null,
            "margin": null,
            "max_height": null,
            "max_width": null,
            "min_height": null,
            "min_width": null,
            "object_fit": null,
            "object_position": null,
            "order": null,
            "overflow": null,
            "overflow_x": null,
            "overflow_y": null,
            "padding": null,
            "right": null,
            "top": null,
            "visibility": null,
            "width": null
          }
        },
        "748265092952425c9d3dfe7d67bf7cc0": {
          "model_module": "@jupyter-widgets/controls",
          "model_module_version": "1.5.0",
          "model_name": "ProgressStyleModel",
          "state": {
            "_model_module": "@jupyter-widgets/controls",
            "_model_module_version": "1.5.0",
            "_model_name": "ProgressStyleModel",
            "_view_count": null,
            "_view_module": "@jupyter-widgets/base",
            "_view_module_version": "1.2.0",
            "_view_name": "StyleView",
            "bar_color": null,
            "description_width": "initial"
          }
        },
        "74b6b163ca654d94a68c4b1b96a25a02": {
          "model_module": "@jupyter-widgets/controls",
          "model_module_version": "1.5.0",
          "model_name": "ProgressStyleModel",
          "state": {
            "_model_module": "@jupyter-widgets/controls",
            "_model_module_version": "1.5.0",
            "_model_name": "ProgressStyleModel",
            "_view_count": null,
            "_view_module": "@jupyter-widgets/base",
            "_view_module_version": "1.2.0",
            "_view_name": "StyleView",
            "bar_color": null,
            "description_width": "initial"
          }
        },
        "76420769c7d34f7ba7fa721f3739ebf3": {
          "model_module": "@jupyter-widgets/base",
          "model_module_version": "1.2.0",
          "model_name": "LayoutModel",
          "state": {
            "_model_module": "@jupyter-widgets/base",
            "_model_module_version": "1.2.0",
            "_model_name": "LayoutModel",
            "_view_count": null,
            "_view_module": "@jupyter-widgets/base",
            "_view_module_version": "1.2.0",
            "_view_name": "LayoutView",
            "align_content": null,
            "align_items": null,
            "align_self": null,
            "border": null,
            "bottom": null,
            "display": null,
            "flex": null,
            "flex_flow": null,
            "grid_area": null,
            "grid_auto_columns": null,
            "grid_auto_flow": null,
            "grid_auto_rows": null,
            "grid_column": null,
            "grid_gap": null,
            "grid_row": null,
            "grid_template_areas": null,
            "grid_template_columns": null,
            "grid_template_rows": null,
            "height": null,
            "justify_content": null,
            "justify_items": null,
            "left": null,
            "margin": null,
            "max_height": null,
            "max_width": null,
            "min_height": null,
            "min_width": null,
            "object_fit": null,
            "object_position": null,
            "order": null,
            "overflow": null,
            "overflow_x": null,
            "overflow_y": null,
            "padding": null,
            "right": null,
            "top": null,
            "visibility": null,
            "width": null
          }
        },
        "76700cf2d2e94dd490c85da8dc57fcfb": {
          "model_module": "@jupyter-widgets/controls",
          "model_module_version": "1.5.0",
          "model_name": "ProgressStyleModel",
          "state": {
            "_model_module": "@jupyter-widgets/controls",
            "_model_module_version": "1.5.0",
            "_model_name": "ProgressStyleModel",
            "_view_count": null,
            "_view_module": "@jupyter-widgets/base",
            "_view_module_version": "1.2.0",
            "_view_name": "StyleView",
            "bar_color": null,
            "description_width": "initial"
          }
        },
        "76c5e0a1386a42fbbb13ef2266d5e098": {
          "model_module": "@jupyter-widgets/controls",
          "model_module_version": "1.5.0",
          "model_name": "ProgressStyleModel",
          "state": {
            "_model_module": "@jupyter-widgets/controls",
            "_model_module_version": "1.5.0",
            "_model_name": "ProgressStyleModel",
            "_view_count": null,
            "_view_module": "@jupyter-widgets/base",
            "_view_module_version": "1.2.0",
            "_view_name": "StyleView",
            "bar_color": null,
            "description_width": "initial"
          }
        },
        "78f249b059514a0189bbbc5fb42a6266": {
          "model_module": "@jupyter-widgets/controls",
          "model_module_version": "1.5.0",
          "model_name": "DescriptionStyleModel",
          "state": {
            "_model_module": "@jupyter-widgets/controls",
            "_model_module_version": "1.5.0",
            "_model_name": "DescriptionStyleModel",
            "_view_count": null,
            "_view_module": "@jupyter-widgets/base",
            "_view_module_version": "1.2.0",
            "_view_name": "StyleView",
            "description_width": ""
          }
        },
        "7936c9094d1b46a4a7b0d4fdd72c7472": {
          "model_module": "@jupyter-widgets/controls",
          "model_module_version": "1.5.0",
          "model_name": "DescriptionStyleModel",
          "state": {
            "_model_module": "@jupyter-widgets/controls",
            "_model_module_version": "1.5.0",
            "_model_name": "DescriptionStyleModel",
            "_view_count": null,
            "_view_module": "@jupyter-widgets/base",
            "_view_module_version": "1.2.0",
            "_view_name": "StyleView",
            "description_width": ""
          }
        },
        "796c88b922e94397be1a4bece656945d": {
          "model_module": "@jupyter-widgets/controls",
          "model_module_version": "1.5.0",
          "model_name": "ProgressStyleModel",
          "state": {
            "_model_module": "@jupyter-widgets/controls",
            "_model_module_version": "1.5.0",
            "_model_name": "ProgressStyleModel",
            "_view_count": null,
            "_view_module": "@jupyter-widgets/base",
            "_view_module_version": "1.2.0",
            "_view_name": "StyleView",
            "bar_color": null,
            "description_width": "initial"
          }
        },
        "7cc51c70d93a42bbabfc6ecdb4ef2112": {
          "model_module": "@jupyter-widgets/base",
          "model_module_version": "1.2.0",
          "model_name": "LayoutModel",
          "state": {
            "_model_module": "@jupyter-widgets/base",
            "_model_module_version": "1.2.0",
            "_model_name": "LayoutModel",
            "_view_count": null,
            "_view_module": "@jupyter-widgets/base",
            "_view_module_version": "1.2.0",
            "_view_name": "LayoutView",
            "align_content": null,
            "align_items": null,
            "align_self": null,
            "border": null,
            "bottom": null,
            "display": null,
            "flex": null,
            "flex_flow": null,
            "grid_area": null,
            "grid_auto_columns": null,
            "grid_auto_flow": null,
            "grid_auto_rows": null,
            "grid_column": null,
            "grid_gap": null,
            "grid_row": null,
            "grid_template_areas": null,
            "grid_template_columns": null,
            "grid_template_rows": null,
            "height": null,
            "justify_content": null,
            "justify_items": null,
            "left": null,
            "margin": null,
            "max_height": null,
            "max_width": null,
            "min_height": null,
            "min_width": null,
            "object_fit": null,
            "object_position": null,
            "order": null,
            "overflow": null,
            "overflow_x": null,
            "overflow_y": null,
            "padding": null,
            "right": null,
            "top": null,
            "visibility": null,
            "width": null
          }
        },
        "7d5edbb3af8d455fa55935c500da2fd2": {
          "model_module": "@jupyter-widgets/controls",
          "model_module_version": "1.5.0",
          "model_name": "HTMLModel",
          "state": {
            "_dom_classes": [],
            "_model_module": "@jupyter-widgets/controls",
            "_model_module_version": "1.5.0",
            "_model_name": "HTMLModel",
            "_view_count": null,
            "_view_module": "@jupyter-widgets/controls",
            "_view_module_version": "1.5.0",
            "_view_name": "HTMLView",
            "description": "",
            "description_tooltip": null,
            "layout": "IPY_MODEL_15bee5f3bdae4c12be3ddca1661aaa46",
            "placeholder": "​",
            "style": "IPY_MODEL_7936c9094d1b46a4a7b0d4fdd72c7472",
            "value": " 747/747 [00:21&lt;00:00, 35.1B/s]"
          }
        },
        "845ee507c7d44fba94985ad42cf339d7": {
          "model_module": "@jupyter-widgets/base",
          "model_module_version": "1.2.0",
          "model_name": "LayoutModel",
          "state": {
            "_model_module": "@jupyter-widgets/base",
            "_model_module_version": "1.2.0",
            "_model_name": "LayoutModel",
            "_view_count": null,
            "_view_module": "@jupyter-widgets/base",
            "_view_module_version": "1.2.0",
            "_view_name": "LayoutView",
            "align_content": null,
            "align_items": null,
            "align_self": null,
            "border": null,
            "bottom": null,
            "display": null,
            "flex": null,
            "flex_flow": null,
            "grid_area": null,
            "grid_auto_columns": null,
            "grid_auto_flow": null,
            "grid_auto_rows": null,
            "grid_column": null,
            "grid_gap": null,
            "grid_row": null,
            "grid_template_areas": null,
            "grid_template_columns": null,
            "grid_template_rows": null,
            "height": null,
            "justify_content": null,
            "justify_items": null,
            "left": null,
            "margin": null,
            "max_height": null,
            "max_width": null,
            "min_height": null,
            "min_width": null,
            "object_fit": null,
            "object_position": null,
            "order": null,
            "overflow": null,
            "overflow_x": null,
            "overflow_y": null,
            "padding": null,
            "right": null,
            "top": null,
            "visibility": null,
            "width": null
          }
        },
        "8566641edf554c419bccddb1939ed927": {
          "model_module": "@jupyter-widgets/base",
          "model_module_version": "1.2.0",
          "model_name": "LayoutModel",
          "state": {
            "_model_module": "@jupyter-widgets/base",
            "_model_module_version": "1.2.0",
            "_model_name": "LayoutModel",
            "_view_count": null,
            "_view_module": "@jupyter-widgets/base",
            "_view_module_version": "1.2.0",
            "_view_name": "LayoutView",
            "align_content": null,
            "align_items": null,
            "align_self": null,
            "border": null,
            "bottom": null,
            "display": null,
            "flex": null,
            "flex_flow": null,
            "grid_area": null,
            "grid_auto_columns": null,
            "grid_auto_flow": null,
            "grid_auto_rows": null,
            "grid_column": null,
            "grid_gap": null,
            "grid_row": null,
            "grid_template_areas": null,
            "grid_template_columns": null,
            "grid_template_rows": null,
            "height": null,
            "justify_content": null,
            "justify_items": null,
            "left": null,
            "margin": null,
            "max_height": null,
            "max_width": null,
            "min_height": null,
            "min_width": null,
            "object_fit": null,
            "object_position": null,
            "order": null,
            "overflow": null,
            "overflow_x": null,
            "overflow_y": null,
            "padding": null,
            "right": null,
            "top": null,
            "visibility": null,
            "width": null
          }
        },
        "8741c865ff5c469f9604e262e2ba9e7f": {
          "model_module": "@jupyter-widgets/controls",
          "model_module_version": "1.5.0",
          "model_name": "FloatProgressModel",
          "state": {
            "_dom_classes": [],
            "_model_module": "@jupyter-widgets/controls",
            "_model_module_version": "1.5.0",
            "_model_name": "FloatProgressModel",
            "_view_count": null,
            "_view_module": "@jupyter-widgets/controls",
            "_view_module_version": "1.5.0",
            "_view_name": "ProgressView",
            "bar_style": "success",
            "description": "Downloading data: 100%",
            "description_tooltip": null,
            "layout": "IPY_MODEL_bb6d4d6816f24b77b11b94b020e51790",
            "max": 7439277,
            "min": 0,
            "orientation": "horizontal",
            "style": "IPY_MODEL_ea76f53abd0d484695c181b1ec399337",
            "value": 7439277
          }
        },
        "8a2886820ba1479a82c3ced266e93207": {
          "model_module": "@jupyter-widgets/controls",
          "model_module_version": "1.5.0",
          "model_name": "HBoxModel",
          "state": {
            "_dom_classes": [],
            "_model_module": "@jupyter-widgets/controls",
            "_model_module_version": "1.5.0",
            "_model_name": "HBoxModel",
            "_view_count": null,
            "_view_module": "@jupyter-widgets/controls",
            "_view_module_version": "1.5.0",
            "_view_name": "HBoxView",
            "box_style": "",
            "children": [
              "IPY_MODEL_22989eda9dd44116b50240f5c72a48b0",
              "IPY_MODEL_68cd0bc7b7294167a5fd1b8510817ecd"
            ],
            "layout": "IPY_MODEL_b622d1087b6140a3b525cbe6de2bd745"
          }
        },
        "8f396667780346c2a4ff617566c3ef05": {
          "model_module": "@jupyter-widgets/controls",
          "model_module_version": "1.5.0",
          "model_name": "HBoxModel",
          "state": {
            "_dom_classes": [],
            "_model_module": "@jupyter-widgets/controls",
            "_model_module_version": "1.5.0",
            "_model_name": "HBoxModel",
            "_view_count": null,
            "_view_module": "@jupyter-widgets/controls",
            "_view_module_version": "1.5.0",
            "_view_name": "HBoxView",
            "box_style": "",
            "children": [
              "IPY_MODEL_72b3a899044e40b9a0ffabfc388259c4",
              "IPY_MODEL_5af8e8af36a3433fb6838f4af354215b"
            ],
            "layout": "IPY_MODEL_9872fc660db5415695b495867711b2c7"
          }
        },
        "946407313f084e5983d89195745fe24c": {
          "model_module": "@jupyter-widgets/controls",
          "model_module_version": "1.5.0",
          "model_name": "HTMLModel",
          "state": {
            "_dom_classes": [],
            "_model_module": "@jupyter-widgets/controls",
            "_model_module_version": "1.5.0",
            "_model_name": "HTMLModel",
            "_view_count": null,
            "_view_module": "@jupyter-widgets/controls",
            "_view_module_version": "1.5.0",
            "_view_name": "HTMLView",
            "description": "",
            "description_tooltip": null,
            "layout": "IPY_MODEL_f071e197ebd6485d80805e238972aef3",
            "placeholder": "​",
            "style": "IPY_MODEL_33aabb277f774ea0a6c831186765cc5d",
            "value": " 420M/420M [00:07&lt;00:00, 58.1MB/s]"
          }
        },
        "96ddd8f7560a4cd7acd63703a3de0536": {
          "model_module": "@jupyter-widgets/controls",
          "model_module_version": "1.5.0",
          "model_name": "DescriptionStyleModel",
          "state": {
            "_model_module": "@jupyter-widgets/controls",
            "_model_module_version": "1.5.0",
            "_model_name": "DescriptionStyleModel",
            "_view_count": null,
            "_view_module": "@jupyter-widgets/base",
            "_view_module_version": "1.2.0",
            "_view_name": "StyleView",
            "description_width": ""
          }
        },
        "9872fc660db5415695b495867711b2c7": {
          "model_module": "@jupyter-widgets/base",
          "model_module_version": "1.2.0",
          "model_name": "LayoutModel",
          "state": {
            "_model_module": "@jupyter-widgets/base",
            "_model_module_version": "1.2.0",
            "_model_name": "LayoutModel",
            "_view_count": null,
            "_view_module": "@jupyter-widgets/base",
            "_view_module_version": "1.2.0",
            "_view_name": "LayoutView",
            "align_content": null,
            "align_items": null,
            "align_self": null,
            "border": null,
            "bottom": null,
            "display": null,
            "flex": null,
            "flex_flow": null,
            "grid_area": null,
            "grid_auto_columns": null,
            "grid_auto_flow": null,
            "grid_auto_rows": null,
            "grid_column": null,
            "grid_gap": null,
            "grid_row": null,
            "grid_template_areas": null,
            "grid_template_columns": null,
            "grid_template_rows": null,
            "height": null,
            "justify_content": null,
            "justify_items": null,
            "left": null,
            "margin": null,
            "max_height": null,
            "max_width": null,
            "min_height": null,
            "min_width": null,
            "object_fit": null,
            "object_position": null,
            "order": null,
            "overflow": null,
            "overflow_x": null,
            "overflow_y": null,
            "padding": null,
            "right": null,
            "top": null,
            "visibility": null,
            "width": null
          }
        },
        "9b4d9082e9eb4d648977a0723ba0e318": {
          "model_module": "@jupyter-widgets/controls",
          "model_module_version": "1.5.0",
          "model_name": "HBoxModel",
          "state": {
            "_dom_classes": [],
            "_model_module": "@jupyter-widgets/controls",
            "_model_module_version": "1.5.0",
            "_model_name": "HBoxModel",
            "_view_count": null,
            "_view_module": "@jupyter-widgets/controls",
            "_view_module_version": "1.5.0",
            "_view_name": "HBoxView",
            "box_style": "",
            "children": [
              "IPY_MODEL_2475ecbd86ca47ef95389845b82510eb",
              "IPY_MODEL_f007fce1611e4fd6aa5feec62bf52a72"
            ],
            "layout": "IPY_MODEL_41a6a7a9f48e454f814b8a39bb1856b3"
          }
        },
        "9c8c22c0ff7f42d695959da35398a218": {
          "model_module": "@jupyter-widgets/controls",
          "model_module_version": "1.5.0",
          "model_name": "FloatProgressModel",
          "state": {
            "_dom_classes": [],
            "_model_module": "@jupyter-widgets/controls",
            "_model_module_version": "1.5.0",
            "_model_name": "FloatProgressModel",
            "_view_count": null,
            "_view_module": "@jupyter-widgets/controls",
            "_view_module_version": "1.5.0",
            "_view_name": "ProgressView",
            "bar_style": "",
            "description": "Generating validation split: 100%",
            "description_tooltip": null,
            "layout": "IPY_MODEL_ffb589a937dc4d968e23c6d10e48515f",
            "max": 872,
            "min": 0,
            "orientation": "horizontal",
            "style": "IPY_MODEL_d3caa184d3d04ef68439a85cd1340e99",
            "value": 872
          }
        },
        "a11cccd0760d480e97b68d4c36a19e61": {
          "model_module": "@jupyter-widgets/base",
          "model_module_version": "1.2.0",
          "model_name": "LayoutModel",
          "state": {
            "_model_module": "@jupyter-widgets/base",
            "_model_module_version": "1.2.0",
            "_model_name": "LayoutModel",
            "_view_count": null,
            "_view_module": "@jupyter-widgets/base",
            "_view_module_version": "1.2.0",
            "_view_name": "LayoutView",
            "align_content": null,
            "align_items": null,
            "align_self": null,
            "border": null,
            "bottom": null,
            "display": null,
            "flex": null,
            "flex_flow": null,
            "grid_area": null,
            "grid_auto_columns": null,
            "grid_auto_flow": null,
            "grid_auto_rows": null,
            "grid_column": null,
            "grid_gap": null,
            "grid_row": null,
            "grid_template_areas": null,
            "grid_template_columns": null,
            "grid_template_rows": null,
            "height": null,
            "justify_content": null,
            "justify_items": null,
            "left": null,
            "margin": null,
            "max_height": null,
            "max_width": null,
            "min_height": null,
            "min_width": null,
            "object_fit": null,
            "object_position": null,
            "order": null,
            "overflow": null,
            "overflow_x": null,
            "overflow_y": null,
            "padding": null,
            "right": null,
            "top": null,
            "visibility": null,
            "width": null
          }
        },
        "a29d0843057e407993d04f1bac48cf77": {
          "model_module": "@jupyter-widgets/controls",
          "model_module_version": "1.5.0",
          "model_name": "DescriptionStyleModel",
          "state": {
            "_model_module": "@jupyter-widgets/controls",
            "_model_module_version": "1.5.0",
            "_model_name": "DescriptionStyleModel",
            "_view_count": null,
            "_view_module": "@jupyter-widgets/base",
            "_view_module_version": "1.2.0",
            "_view_name": "StyleView",
            "description_width": ""
          }
        },
        "a34484ef4c3d4d25a16cd75d3eedba52": {
          "model_module": "@jupyter-widgets/controls",
          "model_module_version": "1.5.0",
          "model_name": "ProgressStyleModel",
          "state": {
            "_model_module": "@jupyter-widgets/controls",
            "_model_module_version": "1.5.0",
            "_model_name": "ProgressStyleModel",
            "_view_count": null,
            "_view_module": "@jupyter-widgets/base",
            "_view_module_version": "1.2.0",
            "_view_name": "StyleView",
            "bar_color": null,
            "description_width": "initial"
          }
        },
        "a816ce0b98844e16b2c1ee96d405f60b": {
          "model_module": "@jupyter-widgets/controls",
          "model_module_version": "1.5.0",
          "model_name": "HBoxModel",
          "state": {
            "_dom_classes": [],
            "_model_module": "@jupyter-widgets/controls",
            "_model_module_version": "1.5.0",
            "_model_name": "HBoxModel",
            "_view_count": null,
            "_view_module": "@jupyter-widgets/controls",
            "_view_module_version": "1.5.0",
            "_view_name": "HBoxView",
            "box_style": "",
            "children": [
              "IPY_MODEL_8741c865ff5c469f9604e262e2ba9e7f",
              "IPY_MODEL_b053fe1c58594d2f9c6c419ba9afd760"
            ],
            "layout": "IPY_MODEL_1c96b4c5340541d3a75c3bfe332efed3"
          }
        },
        "ab00046aa03a491c80013e524d4154d5": {
          "model_module": "@jupyter-widgets/controls",
          "model_module_version": "1.5.0",
          "model_name": "HBoxModel",
          "state": {
            "_dom_classes": [],
            "_model_module": "@jupyter-widgets/controls",
            "_model_module_version": "1.5.0",
            "_model_name": "HBoxModel",
            "_view_count": null,
            "_view_module": "@jupyter-widgets/controls",
            "_view_module_version": "1.5.0",
            "_view_name": "HBoxView",
            "box_style": "",
            "children": [
              "IPY_MODEL_4ba62d9d64514b7cba12a16021531767",
              "IPY_MODEL_01e6e2c0275f4491b3fe7b7e817d2adb"
            ],
            "layout": "IPY_MODEL_2a84ee7f879040f39b39ef09457ce77e"
          }
        },
        "ab48be1e486a46a585f124cbaee61c7c": {
          "model_module": "@jupyter-widgets/controls",
          "model_module_version": "1.5.0",
          "model_name": "FloatProgressModel",
          "state": {
            "_dom_classes": [],
            "_model_module": "@jupyter-widgets/controls",
            "_model_module_version": "1.5.0",
            "_model_name": "FloatProgressModel",
            "_view_count": null,
            "_view_module": "@jupyter-widgets/controls",
            "_view_module_version": "1.5.0",
            "_view_name": "ProgressView",
            "bar_style": "success",
            "description": "Downloading pytorch_model.bin: 100%",
            "description_tooltip": null,
            "layout": "IPY_MODEL_6b23b47bed164776b08e21c5cf01e8d3",
            "max": 440473133,
            "min": 0,
            "orientation": "horizontal",
            "style": "IPY_MODEL_a34484ef4c3d4d25a16cd75d3eedba52",
            "value": 440473133
          }
        },
        "ad3ba4773d704a1d91f71c783e73a68a": {
          "model_module": "@jupyter-widgets/controls",
          "model_module_version": "1.5.0",
          "model_name": "HTMLModel",
          "state": {
            "_dom_classes": [],
            "_model_module": "@jupyter-widgets/controls",
            "_model_module_version": "1.5.0",
            "_model_name": "HTMLModel",
            "_view_count": null,
            "_view_module": "@jupyter-widgets/controls",
            "_view_module_version": "1.5.0",
            "_view_name": "HTMLView",
            "description": "",
            "description_tooltip": null,
            "layout": "IPY_MODEL_e3ebf928eb29456daf79959415e959d0",
            "placeholder": "​",
            "style": "IPY_MODEL_96ddd8f7560a4cd7acd63703a3de0536",
            "value": " 476M/476M [00:20&lt;00:00, 24.8MB/s]"
          }
        },
        "ada4b754de2a4ca7b011d4bb1624380c": {
          "model_module": "@jupyter-widgets/controls",
          "model_module_version": "1.5.0",
          "model_name": "HBoxModel",
          "state": {
            "_dom_classes": [],
            "_model_module": "@jupyter-widgets/controls",
            "_model_module_version": "1.5.0",
            "_model_name": "HBoxModel",
            "_view_count": null,
            "_view_module": "@jupyter-widgets/controls",
            "_view_module_version": "1.5.0",
            "_view_name": "HBoxView",
            "box_style": "",
            "children": [
              "IPY_MODEL_0a14286a4c8f443599150ad252511721",
              "IPY_MODEL_e6a9e5256ef543a9bafd1f8cd9336f09"
            ],
            "layout": "IPY_MODEL_73514ead48f54c6987b04598e0d051b2"
          }
        },
        "ae4dd923bc494dc99f1638f02eb539ec": {
          "model_module": "@jupyter-widgets/controls",
          "model_module_version": "1.5.0",
          "model_name": "FloatProgressModel",
          "state": {
            "_dom_classes": [],
            "_model_module": "@jupyter-widgets/controls",
            "_model_module_version": "1.5.0",
            "_model_name": "FloatProgressModel",
            "_view_count": null,
            "_view_module": "@jupyter-widgets/controls",
            "_view_module_version": "1.5.0",
            "_view_name": "ProgressView",
            "bar_style": "",
            "description": "Generating test split: 100%",
            "description_tooltip": null,
            "layout": "IPY_MODEL_470a05719f274ef79a74ff299d9398ba",
            "max": 1821,
            "min": 0,
            "orientation": "horizontal",
            "style": "IPY_MODEL_42978124ed3e4d489a980910f383e38d",
            "value": 1821
          }
        },
        "ae6c43ab3ccc448987bbdb89c9dc820d": {
          "model_module": "@jupyter-widgets/base",
          "model_module_version": "1.2.0",
          "model_name": "LayoutModel",
          "state": {
            "_model_module": "@jupyter-widgets/base",
            "_model_module_version": "1.2.0",
            "_model_name": "LayoutModel",
            "_view_count": null,
            "_view_module": "@jupyter-widgets/base",
            "_view_module_version": "1.2.0",
            "_view_name": "LayoutView",
            "align_content": null,
            "align_items": null,
            "align_self": null,
            "border": null,
            "bottom": null,
            "display": null,
            "flex": null,
            "flex_flow": null,
            "grid_area": null,
            "grid_auto_columns": null,
            "grid_auto_flow": null,
            "grid_auto_rows": null,
            "grid_column": null,
            "grid_gap": null,
            "grid_row": null,
            "grid_template_areas": null,
            "grid_template_columns": null,
            "grid_template_rows": null,
            "height": null,
            "justify_content": null,
            "justify_items": null,
            "left": null,
            "margin": null,
            "max_height": null,
            "max_width": null,
            "min_height": null,
            "min_width": null,
            "object_fit": null,
            "object_position": null,
            "order": null,
            "overflow": null,
            "overflow_x": null,
            "overflow_y": null,
            "padding": null,
            "right": null,
            "top": null,
            "visibility": null,
            "width": null
          }
        },
        "b053fe1c58594d2f9c6c419ba9afd760": {
          "model_module": "@jupyter-widgets/controls",
          "model_module_version": "1.5.0",
          "model_name": "HTMLModel",
          "state": {
            "_dom_classes": [],
            "_model_module": "@jupyter-widgets/controls",
            "_model_module_version": "1.5.0",
            "_model_name": "HTMLModel",
            "_view_count": null,
            "_view_module": "@jupyter-widgets/controls",
            "_view_module_version": "1.5.0",
            "_view_name": "HTMLView",
            "description": "",
            "description_tooltip": null,
            "layout": "IPY_MODEL_845ee507c7d44fba94985ad42cf339d7",
            "placeholder": "​",
            "style": "IPY_MODEL_a29d0843057e407993d04f1bac48cf77",
            "value": " 7.44M/7.44M [00:01&lt;00:00, 4.85MB/s]"
          }
        },
        "b0b10c6e2f594359ab0d33ed19efe887": {
          "model_module": "@jupyter-widgets/controls",
          "model_module_version": "1.5.0",
          "model_name": "FloatProgressModel",
          "state": {
            "_dom_classes": [],
            "_model_module": "@jupyter-widgets/controls",
            "_model_module_version": "1.5.0",
            "_model_name": "FloatProgressModel",
            "_view_count": null,
            "_view_module": "@jupyter-widgets/controls",
            "_view_module_version": "1.5.0",
            "_view_name": "ProgressView",
            "bar_style": "success",
            "description": "Downloading config.json: 100%",
            "description_tooltip": null,
            "layout": "IPY_MODEL_71fc9d87b924494dba83251ddf471ca0",
            "max": 747,
            "min": 0,
            "orientation": "horizontal",
            "style": "IPY_MODEL_d123f3fa564c4ac8aec08b39246cdbac",
            "value": 747
          }
        },
        "b5166720cd5d40c5854fabd3bab1a80e": {
          "model_module": "@jupyter-widgets/base",
          "model_module_version": "1.2.0",
          "model_name": "LayoutModel",
          "state": {
            "_model_module": "@jupyter-widgets/base",
            "_model_module_version": "1.2.0",
            "_model_name": "LayoutModel",
            "_view_count": null,
            "_view_module": "@jupyter-widgets/base",
            "_view_module_version": "1.2.0",
            "_view_name": "LayoutView",
            "align_content": null,
            "align_items": null,
            "align_self": null,
            "border": null,
            "bottom": null,
            "display": null,
            "flex": null,
            "flex_flow": null,
            "grid_area": null,
            "grid_auto_columns": null,
            "grid_auto_flow": null,
            "grid_auto_rows": null,
            "grid_column": null,
            "grid_gap": null,
            "grid_row": null,
            "grid_template_areas": null,
            "grid_template_columns": null,
            "grid_template_rows": null,
            "height": null,
            "justify_content": null,
            "justify_items": null,
            "left": null,
            "margin": null,
            "max_height": null,
            "max_width": null,
            "min_height": null,
            "min_width": null,
            "object_fit": null,
            "object_position": null,
            "order": null,
            "overflow": null,
            "overflow_x": null,
            "overflow_y": null,
            "padding": null,
            "right": null,
            "top": null,
            "visibility": null,
            "width": null
          }
        },
        "b622d1087b6140a3b525cbe6de2bd745": {
          "model_module": "@jupyter-widgets/base",
          "model_module_version": "1.2.0",
          "model_name": "LayoutModel",
          "state": {
            "_model_module": "@jupyter-widgets/base",
            "_model_module_version": "1.2.0",
            "_model_name": "LayoutModel",
            "_view_count": null,
            "_view_module": "@jupyter-widgets/base",
            "_view_module_version": "1.2.0",
            "_view_name": "LayoutView",
            "align_content": null,
            "align_items": null,
            "align_self": null,
            "border": null,
            "bottom": null,
            "display": null,
            "flex": null,
            "flex_flow": null,
            "grid_area": null,
            "grid_auto_columns": null,
            "grid_auto_flow": null,
            "grid_auto_rows": null,
            "grid_column": null,
            "grid_gap": null,
            "grid_row": null,
            "grid_template_areas": null,
            "grid_template_columns": null,
            "grid_template_rows": null,
            "height": null,
            "justify_content": null,
            "justify_items": null,
            "left": null,
            "margin": null,
            "max_height": null,
            "max_width": null,
            "min_height": null,
            "min_width": null,
            "object_fit": null,
            "object_position": null,
            "order": null,
            "overflow": null,
            "overflow_x": null,
            "overflow_y": null,
            "padding": null,
            "right": null,
            "top": null,
            "visibility": null,
            "width": null
          }
        },
        "b6803367fde9488cbbda33ac50e779d8": {
          "model_module": "@jupyter-widgets/controls",
          "model_module_version": "1.5.0",
          "model_name": "ProgressStyleModel",
          "state": {
            "_model_module": "@jupyter-widgets/controls",
            "_model_module_version": "1.5.0",
            "_model_name": "ProgressStyleModel",
            "_view_count": null,
            "_view_module": "@jupyter-widgets/base",
            "_view_module_version": "1.2.0",
            "_view_name": "StyleView",
            "bar_color": null,
            "description_width": "initial"
          }
        },
        "b80ebdc98efb4242b81bc022caf4bd75": {
          "model_module": "@jupyter-widgets/controls",
          "model_module_version": "1.5.0",
          "model_name": "DescriptionStyleModel",
          "state": {
            "_model_module": "@jupyter-widgets/controls",
            "_model_module_version": "1.5.0",
            "_model_name": "DescriptionStyleModel",
            "_view_count": null,
            "_view_module": "@jupyter-widgets/base",
            "_view_module_version": "1.2.0",
            "_view_name": "StyleView",
            "description_width": ""
          }
        },
        "b914b49bc985426896b523d401b16709": {
          "model_module": "@jupyter-widgets/base",
          "model_module_version": "1.2.0",
          "model_name": "LayoutModel",
          "state": {
            "_model_module": "@jupyter-widgets/base",
            "_model_module_version": "1.2.0",
            "_model_name": "LayoutModel",
            "_view_count": null,
            "_view_module": "@jupyter-widgets/base",
            "_view_module_version": "1.2.0",
            "_view_name": "LayoutView",
            "align_content": null,
            "align_items": null,
            "align_self": null,
            "border": null,
            "bottom": null,
            "display": null,
            "flex": null,
            "flex_flow": null,
            "grid_area": null,
            "grid_auto_columns": null,
            "grid_auto_flow": null,
            "grid_auto_rows": null,
            "grid_column": null,
            "grid_gap": null,
            "grid_row": null,
            "grid_template_areas": null,
            "grid_template_columns": null,
            "grid_template_rows": null,
            "height": null,
            "justify_content": null,
            "justify_items": null,
            "left": null,
            "margin": null,
            "max_height": null,
            "max_width": null,
            "min_height": null,
            "min_width": null,
            "object_fit": null,
            "object_position": null,
            "order": null,
            "overflow": null,
            "overflow_x": null,
            "overflow_y": null,
            "padding": null,
            "right": null,
            "top": null,
            "visibility": null,
            "width": null
          }
        },
        "ba2dca5fa737470982de7bc62cd33632": {
          "model_module": "@jupyter-widgets/controls",
          "model_module_version": "1.5.0",
          "model_name": "DescriptionStyleModel",
          "state": {
            "_model_module": "@jupyter-widgets/controls",
            "_model_module_version": "1.5.0",
            "_model_name": "DescriptionStyleModel",
            "_view_count": null,
            "_view_module": "@jupyter-widgets/base",
            "_view_module_version": "1.2.0",
            "_view_name": "StyleView",
            "description_width": ""
          }
        },
        "bb6d4d6816f24b77b11b94b020e51790": {
          "model_module": "@jupyter-widgets/base",
          "model_module_version": "1.2.0",
          "model_name": "LayoutModel",
          "state": {
            "_model_module": "@jupyter-widgets/base",
            "_model_module_version": "1.2.0",
            "_model_name": "LayoutModel",
            "_view_count": null,
            "_view_module": "@jupyter-widgets/base",
            "_view_module_version": "1.2.0",
            "_view_name": "LayoutView",
            "align_content": null,
            "align_items": null,
            "align_self": null,
            "border": null,
            "bottom": null,
            "display": null,
            "flex": null,
            "flex_flow": null,
            "grid_area": null,
            "grid_auto_columns": null,
            "grid_auto_flow": null,
            "grid_auto_rows": null,
            "grid_column": null,
            "grid_gap": null,
            "grid_row": null,
            "grid_template_areas": null,
            "grid_template_columns": null,
            "grid_template_rows": null,
            "height": null,
            "justify_content": null,
            "justify_items": null,
            "left": null,
            "margin": null,
            "max_height": null,
            "max_width": null,
            "min_height": null,
            "min_width": null,
            "object_fit": null,
            "object_position": null,
            "order": null,
            "overflow": null,
            "overflow_x": null,
            "overflow_y": null,
            "padding": null,
            "right": null,
            "top": null,
            "visibility": null,
            "width": null
          }
        },
        "bb9e9b1591b749df825bd544d1103e17": {
          "model_module": "@jupyter-widgets/controls",
          "model_module_version": "1.5.0",
          "model_name": "FloatProgressModel",
          "state": {
            "_dom_classes": [],
            "_model_module": "@jupyter-widgets/controls",
            "_model_module_version": "1.5.0",
            "_model_name": "FloatProgressModel",
            "_view_count": null,
            "_view_module": "@jupyter-widgets/controls",
            "_view_module_version": "1.5.0",
            "_view_name": "ProgressView",
            "bar_style": "success",
            "description": "100%",
            "description_tooltip": null,
            "layout": "IPY_MODEL_6c87f3ec078741e5964b8c65597de8e8",
            "max": 3,
            "min": 0,
            "orientation": "horizontal",
            "style": "IPY_MODEL_e2b576d377bf41418f6c95d5ded76933",
            "value": 3
          }
        },
        "bd1c5c79161d4c01abf0d9d8d44826af": {
          "model_module": "@jupyter-widgets/base",
          "model_module_version": "1.2.0",
          "model_name": "LayoutModel",
          "state": {
            "_model_module": "@jupyter-widgets/base",
            "_model_module_version": "1.2.0",
            "_model_name": "LayoutModel",
            "_view_count": null,
            "_view_module": "@jupyter-widgets/base",
            "_view_module_version": "1.2.0",
            "_view_name": "LayoutView",
            "align_content": null,
            "align_items": null,
            "align_self": null,
            "border": null,
            "bottom": null,
            "display": null,
            "flex": null,
            "flex_flow": null,
            "grid_area": null,
            "grid_auto_columns": null,
            "grid_auto_flow": null,
            "grid_auto_rows": null,
            "grid_column": null,
            "grid_gap": null,
            "grid_row": null,
            "grid_template_areas": null,
            "grid_template_columns": null,
            "grid_template_rows": null,
            "height": null,
            "justify_content": null,
            "justify_items": null,
            "left": null,
            "margin": null,
            "max_height": null,
            "max_width": null,
            "min_height": null,
            "min_width": null,
            "object_fit": null,
            "object_position": null,
            "order": null,
            "overflow": null,
            "overflow_x": null,
            "overflow_y": null,
            "padding": null,
            "right": null,
            "top": null,
            "visibility": null,
            "width": null
          }
        },
        "bd2093374ea64711af5c1732445ea2d1": {
          "model_module": "@jupyter-widgets/base",
          "model_module_version": "1.2.0",
          "model_name": "LayoutModel",
          "state": {
            "_model_module": "@jupyter-widgets/base",
            "_model_module_version": "1.2.0",
            "_model_name": "LayoutModel",
            "_view_count": null,
            "_view_module": "@jupyter-widgets/base",
            "_view_module_version": "1.2.0",
            "_view_name": "LayoutView",
            "align_content": null,
            "align_items": null,
            "align_self": null,
            "border": null,
            "bottom": null,
            "display": null,
            "flex": null,
            "flex_flow": null,
            "grid_area": null,
            "grid_auto_columns": null,
            "grid_auto_flow": null,
            "grid_auto_rows": null,
            "grid_column": null,
            "grid_gap": null,
            "grid_row": null,
            "grid_template_areas": null,
            "grid_template_columns": null,
            "grid_template_rows": null,
            "height": null,
            "justify_content": null,
            "justify_items": null,
            "left": null,
            "margin": null,
            "max_height": null,
            "max_width": null,
            "min_height": null,
            "min_width": null,
            "object_fit": null,
            "object_position": null,
            "order": null,
            "overflow": null,
            "overflow_x": null,
            "overflow_y": null,
            "padding": null,
            "right": null,
            "top": null,
            "visibility": null,
            "width": null
          }
        },
        "c0b732785c934db8b3ed5c9843452cf2": {
          "model_module": "@jupyter-widgets/controls",
          "model_module_version": "1.5.0",
          "model_name": "ProgressStyleModel",
          "state": {
            "_model_module": "@jupyter-widgets/controls",
            "_model_module_version": "1.5.0",
            "_model_name": "ProgressStyleModel",
            "_view_count": null,
            "_view_module": "@jupyter-widgets/base",
            "_view_module_version": "1.2.0",
            "_view_name": "StyleView",
            "bar_color": null,
            "description_width": "initial"
          }
        },
        "c3c8af9864974e8caa77af76003e554f": {
          "model_module": "@jupyter-widgets/base",
          "model_module_version": "1.2.0",
          "model_name": "LayoutModel",
          "state": {
            "_model_module": "@jupyter-widgets/base",
            "_model_module_version": "1.2.0",
            "_model_name": "LayoutModel",
            "_view_count": null,
            "_view_module": "@jupyter-widgets/base",
            "_view_module_version": "1.2.0",
            "_view_name": "LayoutView",
            "align_content": null,
            "align_items": null,
            "align_self": null,
            "border": null,
            "bottom": null,
            "display": null,
            "flex": null,
            "flex_flow": null,
            "grid_area": null,
            "grid_auto_columns": null,
            "grid_auto_flow": null,
            "grid_auto_rows": null,
            "grid_column": null,
            "grid_gap": null,
            "grid_row": null,
            "grid_template_areas": null,
            "grid_template_columns": null,
            "grid_template_rows": null,
            "height": null,
            "justify_content": null,
            "justify_items": null,
            "left": null,
            "margin": null,
            "max_height": null,
            "max_width": null,
            "min_height": null,
            "min_width": null,
            "object_fit": null,
            "object_position": null,
            "order": null,
            "overflow": null,
            "overflow_x": null,
            "overflow_y": null,
            "padding": null,
            "right": null,
            "top": null,
            "visibility": null,
            "width": null
          }
        },
        "c5bafee7e7284e9ab9d03c2af60b2ca1": {
          "model_module": "@jupyter-widgets/controls",
          "model_module_version": "1.5.0",
          "model_name": "ProgressStyleModel",
          "state": {
            "_model_module": "@jupyter-widgets/controls",
            "_model_module_version": "1.5.0",
            "_model_name": "ProgressStyleModel",
            "_view_count": null,
            "_view_module": "@jupyter-widgets/base",
            "_view_module_version": "1.2.0",
            "_view_name": "StyleView",
            "bar_color": null,
            "description_width": "initial"
          }
        },
        "c8689be449614ec2a0eff7bbf1f4a2b2": {
          "model_module": "@jupyter-widgets/controls",
          "model_module_version": "1.5.0",
          "model_name": "DescriptionStyleModel",
          "state": {
            "_model_module": "@jupyter-widgets/controls",
            "_model_module_version": "1.5.0",
            "_model_name": "DescriptionStyleModel",
            "_view_count": null,
            "_view_module": "@jupyter-widgets/base",
            "_view_module_version": "1.2.0",
            "_view_name": "StyleView",
            "description_width": ""
          }
        },
        "c8ba6ab1793f4a3abafb08ea429b200f": {
          "model_module": "@jupyter-widgets/controls",
          "model_module_version": "1.5.0",
          "model_name": "FloatProgressModel",
          "state": {
            "_dom_classes": [],
            "_model_module": "@jupyter-widgets/controls",
            "_model_module_version": "1.5.0",
            "_model_name": "FloatProgressModel",
            "_view_count": null,
            "_view_module": "@jupyter-widgets/controls",
            "_view_module_version": "1.5.0",
            "_view_name": "ProgressView",
            "bar_style": "success",
            "description": "Downloading metadata: ",
            "description_tooltip": null,
            "layout": "IPY_MODEL_bd1c5c79161d4c01abf0d9d8d44826af",
            "max": 4473,
            "min": 0,
            "orientation": "horizontal",
            "style": "IPY_MODEL_748265092952425c9d3dfe7d67bf7cc0",
            "value": 4473
          }
        },
        "c944580be68a4d27a31ccc99f32d1180": {
          "model_module": "@jupyter-widgets/base",
          "model_module_version": "1.2.0",
          "model_name": "LayoutModel",
          "state": {
            "_model_module": "@jupyter-widgets/base",
            "_model_module_version": "1.2.0",
            "_model_name": "LayoutModel",
            "_view_count": null,
            "_view_module": "@jupyter-widgets/base",
            "_view_module_version": "1.2.0",
            "_view_name": "LayoutView",
            "align_content": null,
            "align_items": null,
            "align_self": null,
            "border": null,
            "bottom": null,
            "display": null,
            "flex": null,
            "flex_flow": null,
            "grid_area": null,
            "grid_auto_columns": null,
            "grid_auto_flow": null,
            "grid_auto_rows": null,
            "grid_column": null,
            "grid_gap": null,
            "grid_row": null,
            "grid_template_areas": null,
            "grid_template_columns": null,
            "grid_template_rows": null,
            "height": null,
            "justify_content": null,
            "justify_items": null,
            "left": null,
            "margin": null,
            "max_height": null,
            "max_width": null,
            "min_height": null,
            "min_width": null,
            "object_fit": null,
            "object_position": null,
            "order": null,
            "overflow": null,
            "overflow_x": null,
            "overflow_y": null,
            "padding": null,
            "right": null,
            "top": null,
            "visibility": null,
            "width": null
          }
        },
        "c962c9879c4a49e7b845a4f86bbddb56": {
          "model_module": "@jupyter-widgets/base",
          "model_module_version": "1.2.0",
          "model_name": "LayoutModel",
          "state": {
            "_model_module": "@jupyter-widgets/base",
            "_model_module_version": "1.2.0",
            "_model_name": "LayoutModel",
            "_view_count": null,
            "_view_module": "@jupyter-widgets/base",
            "_view_module_version": "1.2.0",
            "_view_name": "LayoutView",
            "align_content": null,
            "align_items": null,
            "align_self": null,
            "border": null,
            "bottom": null,
            "display": null,
            "flex": null,
            "flex_flow": null,
            "grid_area": null,
            "grid_auto_columns": null,
            "grid_auto_flow": null,
            "grid_auto_rows": null,
            "grid_column": null,
            "grid_gap": null,
            "grid_row": null,
            "grid_template_areas": null,
            "grid_template_columns": null,
            "grid_template_rows": null,
            "height": null,
            "justify_content": null,
            "justify_items": null,
            "left": null,
            "margin": null,
            "max_height": null,
            "max_width": null,
            "min_height": null,
            "min_width": null,
            "object_fit": null,
            "object_position": null,
            "order": null,
            "overflow": null,
            "overflow_x": null,
            "overflow_y": null,
            "padding": null,
            "right": null,
            "top": null,
            "visibility": null,
            "width": null
          }
        },
        "caa7ad5aa13c4301b06aa99828a7b648": {
          "model_module": "@jupyter-widgets/base",
          "model_module_version": "1.2.0",
          "model_name": "LayoutModel",
          "state": {
            "_model_module": "@jupyter-widgets/base",
            "_model_module_version": "1.2.0",
            "_model_name": "LayoutModel",
            "_view_count": null,
            "_view_module": "@jupyter-widgets/base",
            "_view_module_version": "1.2.0",
            "_view_name": "LayoutView",
            "align_content": null,
            "align_items": null,
            "align_self": null,
            "border": null,
            "bottom": null,
            "display": null,
            "flex": null,
            "flex_flow": null,
            "grid_area": null,
            "grid_auto_columns": null,
            "grid_auto_flow": null,
            "grid_auto_rows": null,
            "grid_column": null,
            "grid_gap": null,
            "grid_row": null,
            "grid_template_areas": null,
            "grid_template_columns": null,
            "grid_template_rows": null,
            "height": null,
            "justify_content": null,
            "justify_items": null,
            "left": null,
            "margin": null,
            "max_height": null,
            "max_width": null,
            "min_height": null,
            "min_width": null,
            "object_fit": null,
            "object_position": null,
            "order": null,
            "overflow": null,
            "overflow_x": null,
            "overflow_y": null,
            "padding": null,
            "right": null,
            "top": null,
            "visibility": null,
            "width": null
          }
        },
        "d123f3fa564c4ac8aec08b39246cdbac": {
          "model_module": "@jupyter-widgets/controls",
          "model_module_version": "1.5.0",
          "model_name": "ProgressStyleModel",
          "state": {
            "_model_module": "@jupyter-widgets/controls",
            "_model_module_version": "1.5.0",
            "_model_name": "ProgressStyleModel",
            "_view_count": null,
            "_view_module": "@jupyter-widgets/base",
            "_view_module_version": "1.2.0",
            "_view_name": "StyleView",
            "bar_color": null,
            "description_width": "initial"
          }
        },
        "d3caa184d3d04ef68439a85cd1340e99": {
          "model_module": "@jupyter-widgets/controls",
          "model_module_version": "1.5.0",
          "model_name": "ProgressStyleModel",
          "state": {
            "_model_module": "@jupyter-widgets/controls",
            "_model_module_version": "1.5.0",
            "_model_name": "ProgressStyleModel",
            "_view_count": null,
            "_view_module": "@jupyter-widgets/base",
            "_view_module_version": "1.2.0",
            "_view_name": "StyleView",
            "bar_color": null,
            "description_width": "initial"
          }
        },
        "d5811c974c33480eb37b4ea40c6d7734": {
          "model_module": "@jupyter-widgets/controls",
          "model_module_version": "1.5.0",
          "model_name": "HBoxModel",
          "state": {
            "_dom_classes": [],
            "_model_module": "@jupyter-widgets/controls",
            "_model_module_version": "1.5.0",
            "_model_name": "HBoxModel",
            "_view_count": null,
            "_view_module": "@jupyter-widgets/controls",
            "_view_module_version": "1.5.0",
            "_view_name": "HBoxView",
            "box_style": "",
            "children": [
              "IPY_MODEL_b0b10c6e2f594359ab0d33ed19efe887",
              "IPY_MODEL_7d5edbb3af8d455fa55935c500da2fd2"
            ],
            "layout": "IPY_MODEL_36ce09974eeb4888a544d0b068f64d1d"
          }
        },
        "dc06c50ea27b456691bdd0d1f11ae226": {
          "model_module": "@jupyter-widgets/controls",
          "model_module_version": "1.5.0",
          "model_name": "HBoxModel",
          "state": {
            "_dom_classes": [],
            "_model_module": "@jupyter-widgets/controls",
            "_model_module_version": "1.5.0",
            "_model_name": "HBoxModel",
            "_view_count": null,
            "_view_module": "@jupyter-widgets/controls",
            "_view_module_version": "1.5.0",
            "_view_name": "HBoxView",
            "box_style": "",
            "children": [
              "IPY_MODEL_308025a2ec48458fa3355e2d16353b54",
              "IPY_MODEL_26995e1d5a004bc2a569886eee4ed119"
            ],
            "layout": "IPY_MODEL_6e5bb01333d242c9825c643b0c272513"
          }
        },
        "dc14eebeab5d410fbdc7d5a9aa59e6b7": {
          "model_module": "@jupyter-widgets/base",
          "model_module_version": "1.2.0",
          "model_name": "LayoutModel",
          "state": {
            "_model_module": "@jupyter-widgets/base",
            "_model_module_version": "1.2.0",
            "_model_name": "LayoutModel",
            "_view_count": null,
            "_view_module": "@jupyter-widgets/base",
            "_view_module_version": "1.2.0",
            "_view_name": "LayoutView",
            "align_content": null,
            "align_items": null,
            "align_self": null,
            "border": null,
            "bottom": null,
            "display": null,
            "flex": null,
            "flex_flow": null,
            "grid_area": null,
            "grid_auto_columns": null,
            "grid_auto_flow": null,
            "grid_auto_rows": null,
            "grid_column": null,
            "grid_gap": null,
            "grid_row": null,
            "grid_template_areas": null,
            "grid_template_columns": null,
            "grid_template_rows": null,
            "height": null,
            "justify_content": null,
            "justify_items": null,
            "left": null,
            "margin": null,
            "max_height": null,
            "max_width": null,
            "min_height": null,
            "min_width": null,
            "object_fit": null,
            "object_position": null,
            "order": null,
            "overflow": null,
            "overflow_x": null,
            "overflow_y": null,
            "padding": null,
            "right": null,
            "top": null,
            "visibility": null,
            "width": null
          }
        },
        "e2b576d377bf41418f6c95d5ded76933": {
          "model_module": "@jupyter-widgets/controls",
          "model_module_version": "1.5.0",
          "model_name": "ProgressStyleModel",
          "state": {
            "_model_module": "@jupyter-widgets/controls",
            "_model_module_version": "1.5.0",
            "_model_name": "ProgressStyleModel",
            "_view_count": null,
            "_view_module": "@jupyter-widgets/base",
            "_view_module_version": "1.2.0",
            "_view_name": "StyleView",
            "bar_color": null,
            "description_width": "initial"
          }
        },
        "e3ebf928eb29456daf79959415e959d0": {
          "model_module": "@jupyter-widgets/base",
          "model_module_version": "1.2.0",
          "model_name": "LayoutModel",
          "state": {
            "_model_module": "@jupyter-widgets/base",
            "_model_module_version": "1.2.0",
            "_model_name": "LayoutModel",
            "_view_count": null,
            "_view_module": "@jupyter-widgets/base",
            "_view_module_version": "1.2.0",
            "_view_name": "LayoutView",
            "align_content": null,
            "align_items": null,
            "align_self": null,
            "border": null,
            "bottom": null,
            "display": null,
            "flex": null,
            "flex_flow": null,
            "grid_area": null,
            "grid_auto_columns": null,
            "grid_auto_flow": null,
            "grid_auto_rows": null,
            "grid_column": null,
            "grid_gap": null,
            "grid_row": null,
            "grid_template_areas": null,
            "grid_template_columns": null,
            "grid_template_rows": null,
            "height": null,
            "justify_content": null,
            "justify_items": null,
            "left": null,
            "margin": null,
            "max_height": null,
            "max_width": null,
            "min_height": null,
            "min_width": null,
            "object_fit": null,
            "object_position": null,
            "order": null,
            "overflow": null,
            "overflow_x": null,
            "overflow_y": null,
            "padding": null,
            "right": null,
            "top": null,
            "visibility": null,
            "width": null
          }
        },
        "e3ef7c7d57304a75935cc5e9521b621e": {
          "model_module": "@jupyter-widgets/controls",
          "model_module_version": "1.5.0",
          "model_name": "FloatProgressModel",
          "state": {
            "_dom_classes": [],
            "_model_module": "@jupyter-widgets/controls",
            "_model_module_version": "1.5.0",
            "_model_name": "FloatProgressModel",
            "_view_count": null,
            "_view_module": "@jupyter-widgets/controls",
            "_view_module_version": "1.5.0",
            "_view_name": "ProgressView",
            "bar_style": "success",
            "description": "Downloading merges.txt: 100%",
            "description_tooltip": null,
            "layout": "IPY_MODEL_c3c8af9864974e8caa77af76003e554f",
            "max": 456318,
            "min": 0,
            "orientation": "horizontal",
            "style": "IPY_MODEL_74b6b163ca654d94a68c4b1b96a25a02",
            "value": 456318
          }
        },
        "e6a9e5256ef543a9bafd1f8cd9336f09": {
          "model_module": "@jupyter-widgets/controls",
          "model_module_version": "1.5.0",
          "model_name": "HTMLModel",
          "state": {
            "_dom_classes": [],
            "_model_module": "@jupyter-widgets/controls",
            "_model_module_version": "1.5.0",
            "_model_name": "HTMLModel",
            "_view_count": null,
            "_view_module": "@jupyter-widgets/controls",
            "_view_module_version": "1.5.0",
            "_view_name": "HTMLView",
            "description": "",
            "description_tooltip": null,
            "layout": "IPY_MODEL_fb0d301822514797ab3a4e4671087c08",
            "placeholder": "​",
            "style": "IPY_MODEL_71913544fdc44ebca8025569135542f4",
            "value": " 150/150 [00:00&lt;00:00, 1.07kB/s]"
          }
        },
        "e8ec990751ec496daf1976f0af7306bd": {
          "model_module": "@jupyter-widgets/controls",
          "model_module_version": "1.5.0",
          "model_name": "HTMLModel",
          "state": {
            "_dom_classes": [],
            "_model_module": "@jupyter-widgets/controls",
            "_model_module_version": "1.5.0",
            "_model_name": "HTMLModel",
            "_view_count": null,
            "_view_module": "@jupyter-widgets/controls",
            "_view_module_version": "1.5.0",
            "_view_name": "HTMLView",
            "description": "",
            "description_tooltip": null,
            "layout": "IPY_MODEL_a11cccd0760d480e97b68d4c36a19e61",
            "placeholder": "​",
            "style": "IPY_MODEL_4952bf5ff29549b89df61dadec7f913f",
            "value": " 67349/67349 [00:08&lt;00:00, 11309.57 examples/s]"
          }
        },
        "ea76f53abd0d484695c181b1ec399337": {
          "model_module": "@jupyter-widgets/controls",
          "model_module_version": "1.5.0",
          "model_name": "ProgressStyleModel",
          "state": {
            "_model_module": "@jupyter-widgets/controls",
            "_model_module_version": "1.5.0",
            "_model_name": "ProgressStyleModel",
            "_view_count": null,
            "_view_module": "@jupyter-widgets/base",
            "_view_module_version": "1.2.0",
            "_view_name": "StyleView",
            "bar_color": null,
            "description_width": "initial"
          }
        },
        "eb5ec9c963dd4c21ba8c27906fbadced": {
          "model_module": "@jupyter-widgets/controls",
          "model_module_version": "1.5.0",
          "model_name": "DescriptionStyleModel",
          "state": {
            "_model_module": "@jupyter-widgets/controls",
            "_model_module_version": "1.5.0",
            "_model_name": "DescriptionStyleModel",
            "_view_count": null,
            "_view_module": "@jupyter-widgets/base",
            "_view_module_version": "1.2.0",
            "_view_name": "StyleView",
            "description_width": ""
          }
        },
        "eebba6e960fe4c1181305417535ee60b": {
          "model_module": "@jupyter-widgets/base",
          "model_module_version": "1.2.0",
          "model_name": "LayoutModel",
          "state": {
            "_model_module": "@jupyter-widgets/base",
            "_model_module_version": "1.2.0",
            "_model_name": "LayoutModel",
            "_view_count": null,
            "_view_module": "@jupyter-widgets/base",
            "_view_module_version": "1.2.0",
            "_view_name": "LayoutView",
            "align_content": null,
            "align_items": null,
            "align_self": null,
            "border": null,
            "bottom": null,
            "display": null,
            "flex": null,
            "flex_flow": null,
            "grid_area": null,
            "grid_auto_columns": null,
            "grid_auto_flow": null,
            "grid_auto_rows": null,
            "grid_column": null,
            "grid_gap": null,
            "grid_row": null,
            "grid_template_areas": null,
            "grid_template_columns": null,
            "grid_template_rows": null,
            "height": null,
            "justify_content": null,
            "justify_items": null,
            "left": null,
            "margin": null,
            "max_height": null,
            "max_width": null,
            "min_height": null,
            "min_width": null,
            "object_fit": null,
            "object_position": null,
            "order": null,
            "overflow": null,
            "overflow_x": null,
            "overflow_y": null,
            "padding": null,
            "right": null,
            "top": null,
            "visibility": null,
            "width": null
          }
        },
        "ef9fe4b4c9f149b0be2be70c8178a7ce": {
          "model_module": "@jupyter-widgets/controls",
          "model_module_version": "1.5.0",
          "model_name": "ProgressStyleModel",
          "state": {
            "_model_module": "@jupyter-widgets/controls",
            "_model_module_version": "1.5.0",
            "_model_name": "ProgressStyleModel",
            "_view_count": null,
            "_view_module": "@jupyter-widgets/base",
            "_view_module_version": "1.2.0",
            "_view_name": "StyleView",
            "bar_color": null,
            "description_width": "initial"
          }
        },
        "f007fce1611e4fd6aa5feec62bf52a72": {
          "model_module": "@jupyter-widgets/controls",
          "model_module_version": "1.5.0",
          "model_name": "HTMLModel",
          "state": {
            "_dom_classes": [],
            "_model_module": "@jupyter-widgets/controls",
            "_model_module_version": "1.5.0",
            "_model_name": "HTMLModel",
            "_view_count": null,
            "_view_module": "@jupyter-widgets/controls",
            "_view_module_version": "1.5.0",
            "_view_name": "HTMLView",
            "description": "",
            "description_tooltip": null,
            "layout": "IPY_MODEL_dc14eebeab5d410fbdc7d5a9aa59e6b7",
            "placeholder": "​",
            "style": "IPY_MODEL_ba2dca5fa737470982de7bc62cd33632",
            "value": " 878k/878k [00:00&lt;00:00, 5.70MB/s]"
          }
        },
        "f071e197ebd6485d80805e238972aef3": {
          "model_module": "@jupyter-widgets/base",
          "model_module_version": "1.2.0",
          "model_name": "LayoutModel",
          "state": {
            "_model_module": "@jupyter-widgets/base",
            "_model_module_version": "1.2.0",
            "_model_name": "LayoutModel",
            "_view_count": null,
            "_view_module": "@jupyter-widgets/base",
            "_view_module_version": "1.2.0",
            "_view_name": "LayoutView",
            "align_content": null,
            "align_items": null,
            "align_self": null,
            "border": null,
            "bottom": null,
            "display": null,
            "flex": null,
            "flex_flow": null,
            "grid_area": null,
            "grid_auto_columns": null,
            "grid_auto_flow": null,
            "grid_auto_rows": null,
            "grid_column": null,
            "grid_gap": null,
            "grid_row": null,
            "grid_template_areas": null,
            "grid_template_columns": null,
            "grid_template_rows": null,
            "height": null,
            "justify_content": null,
            "justify_items": null,
            "left": null,
            "margin": null,
            "max_height": null,
            "max_width": null,
            "min_height": null,
            "min_width": null,
            "object_fit": null,
            "object_position": null,
            "order": null,
            "overflow": null,
            "overflow_x": null,
            "overflow_y": null,
            "padding": null,
            "right": null,
            "top": null,
            "visibility": null,
            "width": null
          }
        },
        "f4b476664ecc4a42bae2bcdb7909cc23": {
          "model_module": "@jupyter-widgets/controls",
          "model_module_version": "1.5.0",
          "model_name": "HTMLModel",
          "state": {
            "_dom_classes": [],
            "_model_module": "@jupyter-widgets/controls",
            "_model_module_version": "1.5.0",
            "_model_name": "HTMLModel",
            "_view_count": null,
            "_view_module": "@jupyter-widgets/controls",
            "_view_module_version": "1.5.0",
            "_view_name": "HTMLView",
            "description": "",
            "description_tooltip": null,
            "layout": "IPY_MODEL_3de876aa96e74591a9c20deb61b35db2",
            "placeholder": "​",
            "style": "IPY_MODEL_b80ebdc98efb4242b81bc022caf4bd75",
            "value": " 28.7k/? [00:00&lt;00:00, 153kB/s]"
          }
        },
        "f66a4351ebba48af8ee04a7c50dbc430": {
          "model_module": "@jupyter-widgets/base",
          "model_module_version": "1.2.0",
          "model_name": "LayoutModel",
          "state": {
            "_model_module": "@jupyter-widgets/base",
            "_model_module_version": "1.2.0",
            "_model_name": "LayoutModel",
            "_view_count": null,
            "_view_module": "@jupyter-widgets/base",
            "_view_module_version": "1.2.0",
            "_view_name": "LayoutView",
            "align_content": null,
            "align_items": null,
            "align_self": null,
            "border": null,
            "bottom": null,
            "display": null,
            "flex": null,
            "flex_flow": null,
            "grid_area": null,
            "grid_auto_columns": null,
            "grid_auto_flow": null,
            "grid_auto_rows": null,
            "grid_column": null,
            "grid_gap": null,
            "grid_row": null,
            "grid_template_areas": null,
            "grid_template_columns": null,
            "grid_template_rows": null,
            "height": null,
            "justify_content": null,
            "justify_items": null,
            "left": null,
            "margin": null,
            "max_height": null,
            "max_width": null,
            "min_height": null,
            "min_width": null,
            "object_fit": null,
            "object_position": null,
            "order": null,
            "overflow": null,
            "overflow_x": null,
            "overflow_y": null,
            "padding": null,
            "right": null,
            "top": null,
            "visibility": null,
            "width": null
          }
        },
        "fad8ab97e20d4288a75421c291011deb": {
          "model_module": "@jupyter-widgets/controls",
          "model_module_version": "1.5.0",
          "model_name": "DescriptionStyleModel",
          "state": {
            "_model_module": "@jupyter-widgets/controls",
            "_model_module_version": "1.5.0",
            "_model_name": "DescriptionStyleModel",
            "_view_count": null,
            "_view_module": "@jupyter-widgets/base",
            "_view_module_version": "1.2.0",
            "_view_name": "StyleView",
            "description_width": ""
          }
        },
        "fb0d301822514797ab3a4e4671087c08": {
          "model_module": "@jupyter-widgets/base",
          "model_module_version": "1.2.0",
          "model_name": "LayoutModel",
          "state": {
            "_model_module": "@jupyter-widgets/base",
            "_model_module_version": "1.2.0",
            "_model_name": "LayoutModel",
            "_view_count": null,
            "_view_module": "@jupyter-widgets/base",
            "_view_module_version": "1.2.0",
            "_view_name": "LayoutView",
            "align_content": null,
            "align_items": null,
            "align_self": null,
            "border": null,
            "bottom": null,
            "display": null,
            "flex": null,
            "flex_flow": null,
            "grid_area": null,
            "grid_auto_columns": null,
            "grid_auto_flow": null,
            "grid_auto_rows": null,
            "grid_column": null,
            "grid_gap": null,
            "grid_row": null,
            "grid_template_areas": null,
            "grid_template_columns": null,
            "grid_template_rows": null,
            "height": null,
            "justify_content": null,
            "justify_items": null,
            "left": null,
            "margin": null,
            "max_height": null,
            "max_width": null,
            "min_height": null,
            "min_width": null,
            "object_fit": null,
            "object_position": null,
            "order": null,
            "overflow": null,
            "overflow_x": null,
            "overflow_y": null,
            "padding": null,
            "right": null,
            "top": null,
            "visibility": null,
            "width": null
          }
        },
        "fc70416eaab744ebae1bc1afa20f44fa": {
          "model_module": "@jupyter-widgets/base",
          "model_module_version": "1.2.0",
          "model_name": "LayoutModel",
          "state": {
            "_model_module": "@jupyter-widgets/base",
            "_model_module_version": "1.2.0",
            "_model_name": "LayoutModel",
            "_view_count": null,
            "_view_module": "@jupyter-widgets/base",
            "_view_module_version": "1.2.0",
            "_view_name": "LayoutView",
            "align_content": null,
            "align_items": null,
            "align_self": null,
            "border": null,
            "bottom": null,
            "display": null,
            "flex": null,
            "flex_flow": null,
            "grid_area": null,
            "grid_auto_columns": null,
            "grid_auto_flow": null,
            "grid_auto_rows": null,
            "grid_column": null,
            "grid_gap": null,
            "grid_row": null,
            "grid_template_areas": null,
            "grid_template_columns": null,
            "grid_template_rows": null,
            "height": null,
            "justify_content": null,
            "justify_items": null,
            "left": null,
            "margin": null,
            "max_height": null,
            "max_width": null,
            "min_height": null,
            "min_width": null,
            "object_fit": null,
            "object_position": null,
            "order": null,
            "overflow": null,
            "overflow_x": null,
            "overflow_y": null,
            "padding": null,
            "right": null,
            "top": null,
            "visibility": null,
            "width": null
          }
        },
        "fec3d4111fe04c67b1009f6684838cfc": {
          "model_module": "@jupyter-widgets/controls",
          "model_module_version": "1.5.0",
          "model_name": "HTMLModel",
          "state": {
            "_dom_classes": [],
            "_model_module": "@jupyter-widgets/controls",
            "_model_module_version": "1.5.0",
            "_model_name": "HTMLModel",
            "_view_count": null,
            "_view_module": "@jupyter-widgets/controls",
            "_view_module_version": "1.5.0",
            "_view_name": "HTMLView",
            "description": "",
            "description_tooltip": null,
            "layout": "IPY_MODEL_76420769c7d34f7ba7fa721f3739ebf3",
            "placeholder": "​",
            "style": "IPY_MODEL_eb5ec9c963dd4c21ba8c27906fbadced",
            "value": " 1821/1821 [00:00&lt;00:00, 6346.98 examples/s]"
          }
        },
        "ffb589a937dc4d968e23c6d10e48515f": {
          "model_module": "@jupyter-widgets/base",
          "model_module_version": "1.2.0",
          "model_name": "LayoutModel",
          "state": {
            "_model_module": "@jupyter-widgets/base",
            "_model_module_version": "1.2.0",
            "_model_name": "LayoutModel",
            "_view_count": null,
            "_view_module": "@jupyter-widgets/base",
            "_view_module_version": "1.2.0",
            "_view_name": "LayoutView",
            "align_content": null,
            "align_items": null,
            "align_self": null,
            "border": null,
            "bottom": null,
            "display": null,
            "flex": null,
            "flex_flow": null,
            "grid_area": null,
            "grid_auto_columns": null,
            "grid_auto_flow": null,
            "grid_auto_rows": null,
            "grid_column": null,
            "grid_gap": null,
            "grid_row": null,
            "grid_template_areas": null,
            "grid_template_columns": null,
            "grid_template_rows": null,
            "height": null,
            "justify_content": null,
            "justify_items": null,
            "left": null,
            "margin": null,
            "max_height": null,
            "max_width": null,
            "min_height": null,
            "min_width": null,
            "object_fit": null,
            "object_position": null,
            "order": null,
            "overflow": null,
            "overflow_x": null,
            "overflow_y": null,
            "padding": null,
            "right": null,
            "top": null,
            "visibility": null,
            "width": null
          }
        }
      }
    }
  },
  "nbformat": 4,
  "nbformat_minor": 0
}
