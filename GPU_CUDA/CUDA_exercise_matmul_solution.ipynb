{
  "nbformat": 4,
  "nbformat_minor": 0,
  "metadata": {
    "colab": {
      "name": "CUDA_exercise_matmul_solution.ipynb",
      "provenance": [],
      "collapsed_sections": []
    },
    "kernelspec": {
      "name": "python3",
      "display_name": "Python 3"
    },
    "language_info": {
      "name": "python"
    },
    "accelerator": "GPU",
    "gpuClass": "standard"
  },
  "cells": [
    {
      "cell_type": "code",
      "source": [
        "!nvidia-smi"
      ],
      "metadata": {
        "id": "yAjbWOJ0bZZp",
        "colab": {
          "base_uri": "https://localhost:8080/"
        },
        "outputId": "d7a365c4-e4a1-4f12-d202-235520484d84"
      },
      "execution_count": null,
      "outputs": [
        {
          "output_type": "stream",
          "name": "stdout",
          "text": [
            "Thu Aug 11 02:05:40 2022       \n",
            "+-----------------------------------------------------------------------------+\n",
            "| NVIDIA-SMI 460.32.03    Driver Version: 460.32.03    CUDA Version: 11.2     |\n",
            "|-------------------------------+----------------------+----------------------+\n",
            "| GPU  Name        Persistence-M| Bus-Id        Disp.A | Volatile Uncorr. ECC |\n",
            "| Fan  Temp  Perf  Pwr:Usage/Cap|         Memory-Usage | GPU-Util  Compute M. |\n",
            "|                               |                      |               MIG M. |\n",
            "|===============================+======================+======================|\n",
            "|   0  Tesla T4            Off  | 00000000:00:04.0 Off |                    0 |\n",
            "| N/A   35C    P8     9W /  70W |      0MiB / 15109MiB |      0%      Default |\n",
            "|                               |                      |                  N/A |\n",
            "+-------------------------------+----------------------+----------------------+\n",
            "                                                                               \n",
            "+-----------------------------------------------------------------------------+\n",
            "| Processes:                                                                  |\n",
            "|  GPU   GI   CI        PID   Type   Process name                  GPU Memory |\n",
            "|        ID   ID                                                   Usage      |\n",
            "|=============================================================================|\n",
            "|  No running processes found                                                 |\n",
            "+-----------------------------------------------------------------------------+\n"
          ]
        }
      ]
    },
    {
      "cell_type": "code",
      "execution_count": null,
      "metadata": {
        "id": "pcOkv9VYyhp4",
        "colab": {
          "base_uri": "https://localhost:8080/"
        },
        "outputId": "ef6bf32a-5c9b-4af8-bcaa-aa55bbfa5135"
      },
      "outputs": [
        {
          "output_type": "stream",
          "name": "stdout",
          "text": [
            "nvcc: NVIDIA (R) Cuda compiler driver\n",
            "Copyright (c) 2005-2020 NVIDIA Corporation\n",
            "Built on Mon_Oct_12_20:09:46_PDT_2020\n",
            "Cuda compilation tools, release 11.1, V11.1.105\n",
            "Build cuda_11.1.TC455_06.29190527_0\n"
          ]
        }
      ],
      "source": [
        "!nvcc --version"
      ]
    },
    {
      "cell_type": "code",
      "source": [
        "!pip install git+https://github.com/andreinechaev/nvcc4jupyter.git"
      ],
      "metadata": {
        "id": "V_1NVhJmbKyx",
        "colab": {
          "base_uri": "https://localhost:8080/"
        },
        "outputId": "d8d1d563-09c8-4d82-c706-5f423210a853"
      },
      "execution_count": null,
      "outputs": [
        {
          "output_type": "stream",
          "name": "stdout",
          "text": [
            "Looking in indexes: https://pypi.org/simple, https://us-python.pkg.dev/colab-wheels/public/simple/\n",
            "Collecting git+https://github.com/andreinechaev/nvcc4jupyter.git\n",
            "  Cloning https://github.com/andreinechaev/nvcc4jupyter.git to /tmp/pip-req-build-g0wj1dg1\n",
            "  Running command git clone -q https://github.com/andreinechaev/nvcc4jupyter.git /tmp/pip-req-build-g0wj1dg1\n"
          ]
        }
      ]
    },
    {
      "cell_type": "code",
      "source": [
        "%load_ext nvcc_plugin"
      ],
      "metadata": {
        "id": "RsQJgSTqy7ss",
        "colab": {
          "base_uri": "https://localhost:8080/"
        },
        "outputId": "b51d81cc-362e-40df-9e05-93232dc3905d"
      },
      "execution_count": null,
      "outputs": [
        {
          "output_type": "stream",
          "name": "stdout",
          "text": [
            "The nvcc_plugin extension is already loaded. To reload it, use:\n",
            "  %reload_ext nvcc_plugin\n"
          ]
        }
      ]
    },
    {
      "cell_type": "code",
      "source": [
        "%%cu\n",
        "#include <iostream>\n",
        "    int\n",
        "    main()\n",
        "{\n",
        "    std::cout << \"Welcome To GeeksforGeeks\\n\";\n",
        "    return 0;\n",
        "}"
      ],
      "metadata": {
        "id": "tVJCq52t1ov1",
        "colab": {
          "base_uri": "https://localhost:8080/"
        },
        "outputId": "2939fde4-4673-470f-ac0e-90ae3013c424"
      },
      "execution_count": null,
      "outputs": [
        {
          "output_type": "stream",
          "name": "stdout",
          "text": [
            "Welcome To GeeksforGeeks\n",
            "\n"
          ]
        }
      ]
    },
    {
      "cell_type": "code",
      "source": [
        "%%cu\n",
        "#include <stdio.h>\n",
        "#include <stdlib.h>\n",
        "#include <assert.h>\n",
        "\n",
        "#define BLOCK_SIZE 16\n",
        "\n",
        "/*************************************************\n",
        "Function name: gpu_matrix_mult\n",
        "\n",
        "Parameters:\n",
        "            &a GPU device pointer to a m X n matrix (A)\n",
        "            &b GPU device pointer to a n X k matrix (B)\n",
        "            &c GPU device output pointer to a m X k matrix (C)\n",
        "\n",
        "Note:\n",
        "      grid and block should be configured as:\n",
        "            dim3 dimGrid((k + BLOCKSIZE - 1) / BLOCK_SIZE, (m + BLOCK_SIZE - 1) / BLOCK_SIZE);\n",
        "            dim3 dimBlock(BLOCK_SIZE, BLOCK_SIZE);\n",
        "*************************************************/\n",
        "\n",
        "__global__ void gpu_matrix_mult(int *a, int *b, int *c, int m, int n, int k)\n",
        "{\n",
        "    /*\n",
        "    Part 1. Write GPU kernel code here for executing matrix multiplication\n",
        "    Hint: Column index is calculated as, blockIdx.x * blockDim.x + threadIdx.x;\n",
        "    */\n",
        "\n",
        "    // Calculate row and column positions for this thread\n",
        "    int row = blockIdx.y * blockDim.y + threadIdx.y;\n",
        "    int col = blockIdx.x * blockDim.x + threadIdx.x;\n",
        "    int sum;\n",
        "\n",
        "    if (col < k && row < m)\n",
        "    {\n",
        "        // For each element in C, matrix multiply A and B\n",
        "      sum = 0;\n",
        "      for(int i = 0; i < n; i++)\n",
        "      {\n",
        "          sum += a[row*n + i]*b[i*k + col];\n",
        "      }\n",
        "      c[row*k + col] = sum;\n",
        "    }\n",
        "}\n",
        "\n",
        "/*************************************************\n",
        "Function name: gpu_tiled_matrix_mult\n",
        "\n",
        "Parameters:\n",
        "            &a GPU device pointer to a n X n matrix (A)\n",
        "            &b GPU device pointer to a n X n matrix (B)\n",
        "            &c GPU device output pointer to a n X n matrix (C)\n",
        "\n",
        "Note:\n",
        "      grid and block should be configured as:\n",
        "            dim3 dimGrid((k + BLOCKSIZE - 1) / BLOCK_SIZE, (m + BLOCK_SIZE - 1) / BLOCK_SIZE);\n",
        "            dim3 dimBlock(BLOCK_SIZE, BLOCK_SIZE);\n",
        "*************************************************/\n",
        "\n",
        "__global__ void gpu_tiled_matrix_mult(int *d_a, int *d_b, int *d_result, int n)\n",
        "{\n",
        "    \n",
        "    //Part 2. Write GPU kernel code for executing tiled matrix multiplication\n",
        "    //Hint: Need __syncthreads() for the correct results\n",
        "    \n",
        "    int k = 32;\n",
        "    int tile_A = blockIdx.y * blockDim.y;\n",
        "    int tile_B = blockIdx.x * blockDim.x;\n",
        "    int row = tile_A + threadIdx.y;\n",
        "    int col = tile_B + threadIdx.x;\n",
        "    __shared__ int aTile[32][32];\n",
        "    __shared__ int bTile[32][32];\n",
        "    aTile[threadIdx.y][threadIdx.x] = d_a[row * k + threadIdx.x];\n",
        "    bTile[threadIdx.y][threadIdx.x] = d_b[threadIdx.y * n + col];\n",
        "    __syncthreads();\n",
        "    int tile_element_sum = 0;\n",
        "    for (int i =0; i < k; i++) {\n",
        "      tile_element_sum += aTile[threadIdx.y][i] * bTile[i][threadIdx.x];\n",
        "   }\n",
        "   d_result[row * n + col] = tile_element_sum;\n",
        "\n",
        "    //Part 2 ends here\n",
        "    \n",
        "\n",
        "\n",
        "}\n",
        "\n",
        "/*************************************************\n",
        "Function name: cpu_matrix_mult\n",
        "\n",
        "Parameters:\n",
        "            &a CPU host pointer to a n X n matrix (A)\n",
        "            &b CPU host pointer to a n X n matrix (B)\n",
        "            &c CPU host output pointer to a n X n matrix (C)\n",
        "*************************************************/\n",
        "\n",
        "__host__ void cpu_matrix_mult(int *h_a, int *h_b, int *h_result, int m, int n, int k) {\n",
        "    for (int i = 0; i < m; ++i)\n",
        "    {\n",
        "        for (int j = 0; j < k; ++j)\n",
        "        {\n",
        "            int tmp = 0.0;\n",
        "            for (int h = 0; h < n; ++h)\n",
        "            {\n",
        "                tmp += h_a[i * n + h] * h_b[h * k + j];\n",
        "            }\n",
        "            h_result[i * k + j] = tmp;\n",
        "        }\n",
        "    }\n",
        "}\n",
        "\n",
        "/*************************************************\n",
        "Function name: main\n",
        "\n",
        "Test and Compare\n",
        "*************************************************/\n",
        "\n",
        "int main(int argc, char const *argv[])\n",
        "{\n",
        "    int m, n, k;\n",
        "    srand(time(0));\n",
        "    \n",
        "    //Set the size of matrices\n",
        "    m = 256;\n",
        "    n = 256;\n",
        "    k = 256;\n",
        "    \n",
        "    //Part 3-1. Allocate memory in host DRAM, h_cc is used to store the CPU result\n",
        "\n",
        "    int *h_a, *h_b, *h_c, *h_cc;\n",
        "    cudaMallocHost((void **) &h_a, sizeof(int) * m * n);\n",
        "    cudaMallocHost((void **) &h_b, sizeof(int) * n * k);\n",
        "    cudaMallocHost((void **) &h_c, sizeof(int) * m * k);\n",
        "    cudaMallocHost((void **) &h_cc, sizeof(int) * m * k);\n",
        "\n",
        "    //Part 3-1 ends here\n",
        "    \n",
        "    int i, j;\n",
        "    // Random initialize matrix A\n",
        "    for (i = 0; i < m; ++i) {\n",
        "        for (j = 0; j < n; ++j) {\n",
        "            h_a[i * n + j] = rand() % 1024;\n",
        "        }\n",
        "    }\n",
        "\n",
        "    // Random initialize matrix B\n",
        "    for (i = 0; i < n; ++i) {\n",
        "        for (j = 0; j < k; ++j) {\n",
        "            h_b[i * k + j] = rand() % 1024;\n",
        "        }\n",
        "    }\n",
        "\n",
        "    float gpu_elapsed_time_ms, cpu_elapsed_time_ms;\n",
        "\n",
        "    // Events to measure the execution time\n",
        "    cudaEvent_t start, stop;\n",
        "    cudaEventCreate(&start);\n",
        "    cudaEventCreate(&stop);\n",
        "\n",
        "    // Start to measure the execution time of GPU version\n",
        "    cudaEventRecord(start, 0);\n",
        "\n",
        "    \n",
        "    //Part 3-2. Allocate memory space on the device (GPU) & Copy matrix A and B from host to device memory\n",
        "    \n",
        "    int *d_a, *d_b, *d_c;\n",
        "    cudaMalloc((void **) &d_a, sizeof(int) * m * n);\n",
        "    cudaMalloc((void **) &d_b, sizeof(int) * n * k);\n",
        "    cudaMalloc((void **) &d_c, sizeof(int) * m * k);\n",
        "\n",
        "    cudaMemcpy(d_a, h_a, sizeof(int) * m * n, cudaMemcpyHostToDevice);\n",
        "    cudaMemcpy(d_b, h_b, sizeof(int) * n * k, cudaMemcpyHostToDevice);\n",
        " \n",
        "    //Part 3-2 ends here\n",
        "    \n",
        "\n",
        "    unsigned int grid_rows = (m + BLOCK_SIZE - 1) / BLOCK_SIZE;\n",
        "    unsigned int grid_cols = (k + BLOCK_SIZE - 1) / BLOCK_SIZE;\n",
        "    dim3 dimGrid(grid_cols, grid_rows);\n",
        "    dim3 dimBlock(BLOCK_SIZE, BLOCK_SIZE);\n",
        "\n",
        "    \n",
        "    //Part 3-3. Launch GPU kernel & Transfer results from the device to host\n",
        "    //Note:   For the tiled multiplication with square matrices (i.e., m = n = k), launch gpu_tiled_matrix_mult. Otherwise, launch regular matrix multiplication kernel\n",
        "    \n",
        "\n",
        "    //Launch the normal matrix multplication kernel\n",
        "    gpu_matrix_mult<<<dimGrid, dimBlock>>>(d_a, d_b, d_c, m, n, k);\n",
        "\n",
        "    //Launch the square matrix multiplication kernel\n",
        "    //gpu_tiled_matrix_mult<<<dimGrid, dimBlock>>>(d_a, d_b, d_c, m);\n",
        "    \n",
        "    // Transfer the results from device to host\n",
        "    \n",
        "\n",
        "    cudaMemcpy(h_c, d_c, sizeof(int) * m * k, cudaMemcpyDeviceToHost);\n",
        "    \n",
        "\n",
        "    //Part 3-3 ends here\n",
        "    \n",
        "\n",
        "    cudaDeviceSynchronize();\n",
        "    \n",
        "    // Time counting terminate\n",
        "    cudaEventRecord(stop, 0);\n",
        "    cudaEventSynchronize(stop);\n",
        "\n",
        "    // GPU computing time elapse\n",
        "    cudaEventElapsedTime(&gpu_elapsed_time_ms, start, stop);\n",
        "    printf(\"\\n\\nGPU execution time on matrix multiplication of %dx%d . %dx%d: %f ms.\\n\\n\", m, n, n, k, gpu_elapsed_time_ms);\n",
        "\n",
        "    // CPU version\n",
        "    cudaEventRecord(start, 0);\n",
        "\n",
        "    cpu_matrix_mult(h_a, h_b, h_cc, m, n, k);\n",
        "\n",
        "    cudaEventRecord(stop, 0);\n",
        "    cudaEventSynchronize(stop);\n",
        "    cudaEventElapsedTime(&cpu_elapsed_time_ms, start, stop);\n",
        "    printf(\"CPU execution time on matrix multiplication of %dx%d . %dx%d: %f ms.\\n\\n\", m, n, n, k, cpu_elapsed_time_ms);\n",
        "\n",
        "    // Validate the results computed by GPU\n",
        "    int all_ok = 1;\n",
        "    for (int i = 0; i < m; ++i) {\n",
        "        for (int j = 0; j < k; ++j) {\n",
        "            // Uncomment below to see the actual results on both CPU and GPU\n",
        "            // printf(\"CPU result [%d][%d]:%d == GPU result [%d][%d]:%d, \", i, j, h_cc[i * k + j], i, j, h_c[i * k + j]);\n",
        "            if (h_cc[i * k + j] != h_c[i * k + j]) {\n",
        "                all_ok = 0;\n",
        "            }\n",
        "        }\n",
        "        // printf(\"\\n\");\n",
        "    }\n",
        "\n",
        "    // Compute the speedup\n",
        "    if (all_ok) {\n",
        "        printf(\"All results are correct !!!, speedup = %f\\n\", cpu_elapsed_time_ms / gpu_elapsed_time_ms);\n",
        "    }\n",
        "    else {\n",
        "        printf(\"Incorrect results\\n\");\n",
        "    }\n",
        "\n",
        "    //Part 3-4. Free the device and host memory\n",
        "    cudaFree(d_a);\n",
        "    cudaFree(d_b);\n",
        "    cudaFree(d_c);\n",
        "    cudaFreeHost(h_a);\n",
        "    cudaFreeHost(h_b);\n",
        "    cudaFreeHost(h_c);\n",
        "    cudaFreeHost(h_cc);\n",
        " \n",
        " \n",
        "\n",
        "    //Part 3-4 ends here\n",
        "    \n",
        "\n",
        "    return 0;\n",
        "}"
      ],
      "metadata": {
        "id": "Z7g7PnHjB585",
        "colab": {
          "base_uri": "https://localhost:8080/"
        },
        "outputId": "b7e28814-088a-474c-86e8-d88cf00c1ca6"
      },
      "execution_count": null,
      "outputs": [
        {
          "output_type": "stream",
          "name": "stdout",
          "text": [
            "\n",
            "\n",
            "GPU execution time on matrix multiplication of 256x256 . 256x256: 0.545952 ms.\n",
            "\n",
            "CPU execution time on matrix multiplication of 256x256 . 256x256: 88.256035 ms.\n",
            "\n",
            "All results are correct !!!, speedup = 161.655289\n",
            "\n"
          ]
        }
      ]
    }
  ]
}