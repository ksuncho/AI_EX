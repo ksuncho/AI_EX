{
  "nbformat": 4,
  "nbformat_minor": 0,
  "metadata": {
    "colab": {
      "name": "CUDA_exercise_conv_solution.ipynb",
      "provenance": [],
      "collapsed_sections": []
    },
    "kernelspec": {
      "name": "python3",
      "display_name": "Python 3"
    },
    "language_info": {
      "name": "python"
    },
    "accelerator": "GPU",
    "gpuClass": "standard"
  },
  "cells": [
    {
      "cell_type": "code",
      "source": [
        "!nvidia-smi"
      ],
      "metadata": {
        "id": "yAjbWOJ0bZZp",
        "colab": {
          "base_uri": "https://localhost:8080/"
        },
        "outputId": "d7a365c4-e4a1-4f12-d202-235520484d84"
      },
      "execution_count": null,
      "outputs": [
        {
          "output_type": "stream",
          "name": "stdout",
          "text": [
            "Thu Aug 11 02:05:40 2022       \n",
            "+-----------------------------------------------------------------------------+\n",
            "| NVIDIA-SMI 460.32.03    Driver Version: 460.32.03    CUDA Version: 11.2     |\n",
            "|-------------------------------+----------------------+----------------------+\n",
            "| GPU  Name        Persistence-M| Bus-Id        Disp.A | Volatile Uncorr. ECC |\n",
            "| Fan  Temp  Perf  Pwr:Usage/Cap|         Memory-Usage | GPU-Util  Compute M. |\n",
            "|                               |                      |               MIG M. |\n",
            "|===============================+======================+======================|\n",
            "|   0  Tesla T4            Off  | 00000000:00:04.0 Off |                    0 |\n",
            "| N/A   35C    P8     9W /  70W |      0MiB / 15109MiB |      0%      Default |\n",
            "|                               |                      |                  N/A |\n",
            "+-------------------------------+----------------------+----------------------+\n",
            "                                                                               \n",
            "+-----------------------------------------------------------------------------+\n",
            "| Processes:                                                                  |\n",
            "|  GPU   GI   CI        PID   Type   Process name                  GPU Memory |\n",
            "|        ID   ID                                                   Usage      |\n",
            "|=============================================================================|\n",
            "|  No running processes found                                                 |\n",
            "+-----------------------------------------------------------------------------+\n"
          ]
        }
      ]
    },
    {
      "cell_type": "code",
      "execution_count": null,
      "metadata": {
        "id": "pcOkv9VYyhp4",
        "colab": {
          "base_uri": "https://localhost:8080/"
        },
        "outputId": "ef6bf32a-5c9b-4af8-bcaa-aa55bbfa5135"
      },
      "outputs": [
        {
          "output_type": "stream",
          "name": "stdout",
          "text": [
            "nvcc: NVIDIA (R) Cuda compiler driver\n",
            "Copyright (c) 2005-2020 NVIDIA Corporation\n",
            "Built on Mon_Oct_12_20:09:46_PDT_2020\n",
            "Cuda compilation tools, release 11.1, V11.1.105\n",
            "Build cuda_11.1.TC455_06.29190527_0\n"
          ]
        }
      ],
      "source": [
        "!nvcc --version"
      ]
    },
    {
      "cell_type": "code",
      "source": [
        "!pip install git+https://github.com/andreinechaev/nvcc4jupyter.git"
      ],
      "metadata": {
        "id": "V_1NVhJmbKyx",
        "colab": {
          "base_uri": "https://localhost:8080/"
        },
        "outputId": "d8d1d563-09c8-4d82-c706-5f423210a853"
      },
      "execution_count": null,
      "outputs": [
        {
          "output_type": "stream",
          "name": "stdout",
          "text": [
            "Looking in indexes: https://pypi.org/simple, https://us-python.pkg.dev/colab-wheels/public/simple/\n",
            "Collecting git+https://github.com/andreinechaev/nvcc4jupyter.git\n",
            "  Cloning https://github.com/andreinechaev/nvcc4jupyter.git to /tmp/pip-req-build-g0wj1dg1\n",
            "  Running command git clone -q https://github.com/andreinechaev/nvcc4jupyter.git /tmp/pip-req-build-g0wj1dg1\n"
          ]
        }
      ]
    },
    {
      "cell_type": "code",
      "source": [
        "%load_ext nvcc_plugin"
      ],
      "metadata": {
        "id": "RsQJgSTqy7ss",
        "colab": {
          "base_uri": "https://localhost:8080/"
        },
        "outputId": "b51d81cc-362e-40df-9e05-93232dc3905d"
      },
      "execution_count": null,
      "outputs": [
        {
          "output_type": "stream",
          "name": "stdout",
          "text": [
            "The nvcc_plugin extension is already loaded. To reload it, use:\n",
            "  %reload_ext nvcc_plugin\n"
          ]
        }
      ]
    },
    {
      "cell_type": "code",
      "source": [
        "%%cu\n",
        "#include <iostream>\n",
        "    int\n",
        "    main()\n",
        "{\n",
        "    std::cout << \"Welcome To GeeksforGeeks\\n\";\n",
        "    return 0;\n",
        "}"
      ],
      "metadata": {
        "id": "tVJCq52t1ov1",
        "colab": {
          "base_uri": "https://localhost:8080/"
        },
        "outputId": "2939fde4-4673-470f-ac0e-90ae3013c424"
      },
      "execution_count": null,
      "outputs": [
        {
          "output_type": "stream",
          "name": "stdout",
          "text": [
            "Welcome To GeeksforGeeks\n",
            "\n"
          ]
        }
      ]
    },
    {
      "cell_type": "code",
      "source": [
        "%%cu\n",
        "#include \"cuda_runtime.h\"\n",
        "#include \"device_launch_parameters.h\"\n",
        "\n",
        "#include <stdio.h>\n",
        "#include <cstdlib>\n",
        "#include <time.h>\n",
        "#include <iostream>\n",
        "#include <string>\n",
        "#include <math.h>\n",
        "#include <assert.h>\n",
        "\n",
        "#define BLOCK_SIZE 16\n",
        "\n",
        "using namespace std;\n",
        "\n",
        "\n",
        "__global__ void Convolution(float* A, float* B, float* C, int numARows, int numACols, int numBRows, int numBCols, int numCRows, int numCCols)\n",
        "{\n",
        "    int row = blockIdx.x * blockDim.x + threadIdx.x;\n",
        "    int col = blockIdx.y * blockDim.y + threadIdx.y;\n",
        "    float sum;\n",
        "   \n",
        "    //A * B = C\n",
        "    if(row<numCRows&&col<numCCols){\n",
        "        sum =0;\n",
        "        for(size_t i=0;i<numBCols ;i++){\n",
        "            \n",
        "            for(size_t j=0;j<numBRows;j++){\n",
        "                sum+=A[row*numACols+i*numACols+col+j]*B[i*numBCols+j];\n",
        "            }\n",
        "    \n",
        "        }\n",
        "        C[row*numCCols+col]=sum;\n",
        "    \n",
        "    }    \n",
        "\n",
        "}\n",
        "\n",
        "__host__ void cpu_Convolution(float *A, float *B, float *C, int asize, int bsize){\n",
        "\n",
        "\tint csize=asize-bsize+1;\n",
        "\tint sum;\n",
        "\tfor(int i=0;i<csize;i++){\n",
        "\t\t\n",
        "\t\tfor (int j=0;j<csize;j++){\n",
        "\t\t\tsum=0;\n",
        "\t\t\tfor(int k=0;k<bsize;k++){\n",
        "\t\t\t\t\n",
        "\t\t\t\tfor(int l=0;l<bsize;l++){\n",
        "\t\t\t\t\tsum+=A[i*asize+k*asize+j+l]*B[k*bsize+l];\n",
        "\n",
        "\t\t\t\t}\n",
        "\t\t\t\t\n",
        "\t\t\t}\n",
        "\t\t\tC[i*csize+j]=sum;\n",
        "\t\t}\n",
        "\n",
        "\n",
        "\n",
        "\t}\n",
        "\t\n",
        "\n",
        "\n",
        "\n",
        "\n",
        "}\n",
        "\n",
        "void randomInit(float* data, int size)\n",
        "{\n",
        "\tfor (int i = 0; i < size; ++i)\n",
        "\t\tdata[i] = rand() %10;\n",
        "}\n",
        "\n",
        "int main()\n",
        "{\n",
        "\tsrand(time(0));\n",
        "\tint a, b,c;\n",
        "\tcudaEvent_t start_G, stop_G;\n",
        "\tfloat gpu_miliseconds, cpu_miliseconds;\n",
        "\tcudaEventCreate(&start_G);\n",
        "\tcudaEventCreate(&stop_G);\n",
        "\ta=5; \t//size of the feature map \n",
        "\tb=3;\t//size of the filter\n",
        "\tc=a-b+1;\t//size of the output matrix\n",
        "\tunsigned int size_A = a * a;\n",
        "\tunsigned int mem_size_A = sizeof(float) * size_A;\n",
        "\tfloat* h_A = (float*)malloc(mem_size_A);\n",
        "\n",
        "\tunsigned int size_B = b * b;\n",
        "\tunsigned int mem_size_B = sizeof(float) * size_B;\n",
        "\tfloat* h_B = (float*)malloc(mem_size_B);\n",
        "\n",
        "\tunsigned int size_C = c * c;\n",
        "\tunsigned int mem_size_C = sizeof(float) * size_C;\n",
        "\tfloat* h_C = (float*)malloc(mem_size_C);\n",
        "\tfloat* h_C_cpu = (float*)malloc(mem_size_C);\n",
        "\trandomInit(h_A, size_A);\n",
        "\tfor (int i = 0; i < size_B; ++i)\n",
        "    {\n",
        "        h_B[i] = rand() %4;\n",
        "    }\n",
        "\n",
        "\tfloat* d_A;\n",
        "\tfloat* d_B;\n",
        "\tfloat* d_C;\n",
        "    //for (int i = 0; i < size_A; ++i)\n",
        "    //{\n",
        "    //    h_A[i] = i;\n",
        "    //}\n",
        "    \n",
        "\tcudaMalloc((void**)&d_A, mem_size_A);\n",
        "\tcudaMalloc((void**)&d_B, mem_size_B);\n",
        "\tcudaMalloc((void**)&d_C, mem_size_C);\n",
        "\n",
        "\tcudaMemcpy(d_A, h_A, mem_size_A, cudaMemcpyHostToDevice);\n",
        "\tcudaMemcpy(d_B, h_B, mem_size_B, cudaMemcpyHostToDevice);\n",
        "\t\n",
        "\tunsigned int grid_rows= (c+BLOCK_SIZE-1) / BLOCK_SIZE;\n",
        "\tunsigned int grid_cols= (c+BLOCK_SIZE-1) / BLOCK_SIZE;\n",
        "\t\n",
        "\tdim3 dimGrid(grid_cols,grid_rows);\t\n",
        "\tdim3 dimBlock(BLOCK_SIZE,BLOCK_SIZE);\n",
        "\t\n",
        "\tcudaEventRecord(start_G,0);\n",
        "\tConvolution << < dimGrid, dimBlock >> >(d_A, d_B, d_C, a, a, b, b, c, c);\n",
        "\n",
        "\n",
        "\n",
        "\t\n",
        "\tcudaDeviceSynchronize();\n",
        "\n",
        "\t\n",
        "\n",
        "\tcudaEventRecord(stop_G,0);\n",
        "\n",
        "\tcudaEventSynchronize(stop_G);\n",
        "\n",
        "\tcudaMemcpy(h_C, d_C, mem_size_C, cudaMemcpyDeviceToHost);\n",
        "\n",
        "\t\n",
        "\tcudaEventElapsedTime(&gpu_miliseconds, start_G, stop_G);\n",
        "\n",
        "\tprintf(\"\\nTime took to compute matrix A(%d x %d) with filter B(%d x %x) on GPU is %f ms  \\n \\n\", a, a,b,b, gpu_miliseconds);\n",
        "    printf(\"matrix A\\n\");\n",
        "\tfor (int i = 0;i < a;i++)\n",
        "\t{\n",
        "\t\tfor (int j = 0;j < a;j++)\n",
        "\t\t{\n",
        "\t\t\tprintf(\"%f\\t\", h_A[i*a + j]);\n",
        "\t\t}\n",
        "\t\tprintf(\"\\n\");\n",
        "\t}printf(\"\\n\");\n",
        "    printf(\"matrix B\\n\");\n",
        "    for (int i = 0;i < b;i++)\n",
        "\t{\n",
        "\t\tfor (int j = 0;j < b;j++)\n",
        "\t\t{\n",
        "\t\t\tprintf(\"%f\\t\", h_B[i*b + j]);\n",
        "\t\t}\n",
        "\t\tprintf(\"\\n\");\n",
        "\t}printf(\"\\n\");\n",
        "    printf(\"matrix C\\n\");\n",
        "\tfor (int i = 0;i < c;i++)\n",
        "\t{\n",
        "\t\tfor (int j = 0;j < c;j++)\n",
        "\t\t{\n",
        "\t\t\tprintf(\"%f\\t\", h_C[i*c + j]);\n",
        "\t\t}\n",
        "\t\tprintf(\"\\n\");\n",
        "\t}\n",
        "\tcudaEventRecord(start_G, 0);\n",
        "\tcpu_Convolution(h_A, h_B, h_C_cpu, a,b);\n",
        "\tcudaEventRecord(stop_G,0);\n",
        "\tcudaEventSynchronize(stop_G);\n",
        "\tcudaEventElapsedTime(&cpu_miliseconds, start_G, stop_G);\n",
        "\tprintf(\"\\nTime took to compute matrix A(%d x %d) with filter B(%d x %x) on CPU is %f ms  \\n \\n\", a, a,b,b, cpu_miliseconds);\n",
        "    \n",
        "\tfor (int i = 0;i < c;i++)\n",
        "\t{\n",
        "\t\tfor (int j = 0;j < c;j++)\n",
        "\t\t{\n",
        "\t\t\tprintf(\"%f\\t\", h_C_cpu[i*c + j]);\n",
        "\t\t}\n",
        "\t\tprintf(\"\\n\");\n",
        "\t}\n",
        "\n",
        "\tfree(h_A);\n",
        "\tfree(h_B);\n",
        "\tfree(h_C);\n",
        "\tfree(h_C_cpu);\n",
        "\tcudaFree(d_A);\n",
        "\tcudaFree(d_B);\n",
        "\tcudaFree(d_C);\n",
        "\n",
        "\treturn EXIT_SUCCESS;\n",
        "}\n"
      ],
      "metadata": {
        "id": "_4803E113Ak1",
        "colab": {
          "base_uri": "https://localhost:8080/"
        },
        "outputId": "3b885fd2-69f8-4042-f08a-98eaac60d276"
      },
      "execution_count": null,
      "outputs": [
        {
          "output_type": "stream",
          "name": "stdout",
          "text": [
            "\n",
            "Time took to compute matrix A(5 x 5) with filter B(3 x 3) on GPU is 0.028608 ms  \n",
            " \n",
            "matrix A\n",
            "4.000000\t1.000000\t2.000000\t0.000000\t0.000000\t\n",
            "7.000000\t2.000000\t7.000000\t3.000000\t3.000000\t\n",
            "3.000000\t6.000000\t3.000000\t0.000000\t0.000000\t\n",
            "6.000000\t1.000000\t4.000000\t1.000000\t6.000000\t\n",
            "3.000000\t0.000000\t9.000000\t5.000000\t3.000000\t\n",
            "\n",
            "matrix B\n",
            "3.000000\t0.000000\t2.000000\t\n",
            "1.000000\t0.000000\t2.000000\t\n",
            "1.000000\t1.000000\t0.000000\t\n",
            "\n",
            "matrix C\n",
            "46.000000\t20.000000\t22.000000\t\n",
            "51.000000\t23.000000\t35.000000\t\n",
            "32.000000\t30.000000\t39.000000\t\n",
            "\n",
            "Time took to compute matrix A(5 x 5) with filter B(3 x 3) on CPU is 0.002400 ms  \n",
            " \n",
            "46.000000\t20.000000\t22.000000\t\n",
            "51.000000\t23.000000\t35.000000\t\n",
            "32.000000\t30.000000\t39.000000\t\n",
            "\n"
          ]
        }
      ]
    }
  ]
}